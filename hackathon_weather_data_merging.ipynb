{
 "cells": [
  {
   "cell_type": "code",
   "execution_count": 37,
   "metadata": {
    "collapsed": true
   },
   "outputs": [],
   "source": [
    "import pandas as pd\n",
    "import numpy as np\n",
    "import requests\n",
    "import plotly.express as px"
   ]
  },
  {
   "cell_type": "code",
   "execution_count": 46,
   "outputs": [],
   "source": [
    "URL = 'https://archive-api.open-meteo.com/v1/archive'\n",
    "\n",
    "def get_weather_data(latitude, longitude, start_date, end_date):\n",
    "    params = {'latitude':latitude,\n",
    "                  'longitude':longitude,\n",
    "                  'start_date':start_date,\n",
    "                  'end_date':end_date,\n",
    "                  'hourly':'temperature_2m,relativehumidity_2m,dewpoint_2m,apparent_temperature,pressure_msl,surface_pressure,precipitation,rain,snowfall,weathercode,cloudcover,cloudcover_low,cloudcover_mid,cloudcover_high,shortwave_radiation,direct_radiation,diffuse_radiation,direct_normal_irradiance,windspeed_10m,windspeed_100m,winddirection_10m,winddirection_100m,windgusts_10m,et0_fao_evapotranspiration,vapor_pressure_deficit,soil_temperature_0_to_7cm,soil_temperature_7_to_28cm,soil_temperature_28_to_100cm,soil_temperature_100_to_255cm,soil_moisture_0_to_7cm,soil_moisture_7_to_28cm,soil_moisture_28_to_100cm,soil_moisture_100_to_255cm'.split(',')\n",
    "                  }\n",
    "    res = requests.get(URL,params=params)\n",
    "    return res"
   ],
   "metadata": {
    "collapsed": false
   }
  },
  {
   "cell_type": "code",
   "execution_count": 47,
   "outputs": [],
   "source": [
    "res = get_weather_data(latitude=46.4381578,longitude=30.7242417,start_date='2022-01-24',end_date='2022-01-24')"
   ],
   "metadata": {
    "collapsed": false
   }
  },
  {
   "cell_type": "code",
   "execution_count": 50,
   "outputs": [],
   "source": [
    "import json\n",
    "\n",
    "json_object = json.loads(res.text)\n",
    "json_formatted_str = json.dumps(json_object, indent=2)\n"
   ],
   "metadata": {
    "collapsed": false
   }
  },
  {
   "cell_type": "code",
   "execution_count": 54,
   "outputs": [
    {
     "data": {
      "text/plain": "                               latitude  longitude  generationtime_ms  \\\ntime                           46.40001  30.699997          531.81994   \ntemperature_2m                 46.40001  30.699997          531.81994   \nrelativehumidity_2m            46.40001  30.699997          531.81994   \ndewpoint_2m                    46.40001  30.699997          531.81994   \napparent_temperature           46.40001  30.699997          531.81994   \npressure_msl                   46.40001  30.699997          531.81994   \nsurface_pressure               46.40001  30.699997          531.81994   \nprecipitation                  46.40001  30.699997          531.81994   \nrain                           46.40001  30.699997          531.81994   \nsnowfall                       46.40001  30.699997          531.81994   \nweathercode                    46.40001  30.699997          531.81994   \ncloudcover                     46.40001  30.699997          531.81994   \ncloudcover_low                 46.40001  30.699997          531.81994   \ncloudcover_mid                 46.40001  30.699997          531.81994   \ncloudcover_high                46.40001  30.699997          531.81994   \nshortwave_radiation            46.40001  30.699997          531.81994   \ndirect_radiation               46.40001  30.699997          531.81994   \ndiffuse_radiation              46.40001  30.699997          531.81994   \ndirect_normal_irradiance       46.40001  30.699997          531.81994   \nwindspeed_10m                  46.40001  30.699997          531.81994   \nwindspeed_100m                 46.40001  30.699997          531.81994   \nwinddirection_10m              46.40001  30.699997          531.81994   \nwinddirection_100m             46.40001  30.699997          531.81994   \nwindgusts_10m                  46.40001  30.699997          531.81994   \net0_fao_evapotranspiration     46.40001  30.699997          531.81994   \nvapor_pressure_deficit         46.40001  30.699997          531.81994   \nsoil_temperature_0_to_7cm      46.40001  30.699997          531.81994   \nsoil_temperature_7_to_28cm     46.40001  30.699997          531.81994   \nsoil_temperature_28_to_100cm   46.40001  30.699997          531.81994   \nsoil_temperature_100_to_255cm  46.40001  30.699997          531.81994   \nsoil_moisture_0_to_7cm         46.40001  30.699997          531.81994   \nsoil_moisture_7_to_28cm        46.40001  30.699997          531.81994   \nsoil_moisture_28_to_100cm      46.40001  30.699997          531.81994   \nsoil_moisture_100_to_255cm     46.40001  30.699997          531.81994   \n\n                               utc_offset_seconds timezone  \\\ntime                                            0      GMT   \ntemperature_2m                                  0      GMT   \nrelativehumidity_2m                             0      GMT   \ndewpoint_2m                                     0      GMT   \napparent_temperature                            0      GMT   \npressure_msl                                    0      GMT   \nsurface_pressure                                0      GMT   \nprecipitation                                   0      GMT   \nrain                                            0      GMT   \nsnowfall                                        0      GMT   \nweathercode                                     0      GMT   \ncloudcover                                      0      GMT   \ncloudcover_low                                  0      GMT   \ncloudcover_mid                                  0      GMT   \ncloudcover_high                                 0      GMT   \nshortwave_radiation                             0      GMT   \ndirect_radiation                                0      GMT   \ndiffuse_radiation                               0      GMT   \ndirect_normal_irradiance                        0      GMT   \nwindspeed_10m                                   0      GMT   \nwindspeed_100m                                  0      GMT   \nwinddirection_10m                               0      GMT   \nwinddirection_100m                              0      GMT   \nwindgusts_10m                                   0      GMT   \net0_fao_evapotranspiration                      0      GMT   \nvapor_pressure_deficit                          0      GMT   \nsoil_temperature_0_to_7cm                       0      GMT   \nsoil_temperature_7_to_28cm                      0      GMT   \nsoil_temperature_28_to_100cm                    0      GMT   \nsoil_temperature_100_to_255cm                   0      GMT   \nsoil_moisture_0_to_7cm                          0      GMT   \nsoil_moisture_7_to_28cm                         0      GMT   \nsoil_moisture_28_to_100cm                       0      GMT   \nsoil_moisture_100_to_255cm                      0      GMT   \n\n                              timezone_abbreviation  elevation hourly_units  \\\ntime                                            GMT       51.0      iso8601   \ntemperature_2m                                  GMT       51.0           °C   \nrelativehumidity_2m                             GMT       51.0            %   \ndewpoint_2m                                     GMT       51.0           °C   \napparent_temperature                            GMT       51.0           °C   \npressure_msl                                    GMT       51.0          hPa   \nsurface_pressure                                GMT       51.0          hPa   \nprecipitation                                   GMT       51.0           mm   \nrain                                            GMT       51.0           mm   \nsnowfall                                        GMT       51.0           cm   \nweathercode                                     GMT       51.0     wmo code   \ncloudcover                                      GMT       51.0            %   \ncloudcover_low                                  GMT       51.0            %   \ncloudcover_mid                                  GMT       51.0            %   \ncloudcover_high                                 GMT       51.0            %   \nshortwave_radiation                             GMT       51.0         W/m²   \ndirect_radiation                                GMT       51.0         W/m²   \ndiffuse_radiation                               GMT       51.0         W/m²   \ndirect_normal_irradiance                        GMT       51.0         W/m²   \nwindspeed_10m                                   GMT       51.0         km/h   \nwindspeed_100m                                  GMT       51.0         km/h   \nwinddirection_10m                               GMT       51.0            °   \nwinddirection_100m                              GMT       51.0            °   \nwindgusts_10m                                   GMT       51.0         km/h   \net0_fao_evapotranspiration                      GMT       51.0           mm   \nvapor_pressure_deficit                          GMT       51.0          kPa   \nsoil_temperature_0_to_7cm                       GMT       51.0           °C   \nsoil_temperature_7_to_28cm                      GMT       51.0           °C   \nsoil_temperature_28_to_100cm                    GMT       51.0           °C   \nsoil_temperature_100_to_255cm                   GMT       51.0           °C   \nsoil_moisture_0_to_7cm                          GMT       51.0        m³/m³   \nsoil_moisture_7_to_28cm                         GMT       51.0        m³/m³   \nsoil_moisture_28_to_100cm                       GMT       51.0        m³/m³   \nsoil_moisture_100_to_255cm                      GMT       51.0        m³/m³   \n\n                                                                          hourly  \ntime                           [2022-01-24T00:00, 2022-01-24T01:00, 2022-01-2...  \ntemperature_2m                 [-3.5, -3.5, -3.5, -3.5, -3.7, -4.0, -3.9, -3....  \nrelativehumidity_2m            [77, 76, 74, 73, 72, 71, 69, 66, 63, 60, 61, 6...  \ndewpoint_2m                    [-7.0, -7.2, -7.6, -7.7, -8.0, -8.4, -8.7, -8....  \napparent_temperature           [-9.8, -9.9, -10.5, -10.6, -11.1, -11.5, -11.4...  \npressure_msl                   [1025.6, 1025.6, 1025.5, 1025.8, 1026.1, 1026....  \nsurface_pressure               [1021.8, 1021.8, 1021.7, 1022.0, 1022.3, 1022....  \nprecipitation                  [0.0, 0.0, 0.0, 0.0, 0.0, 0.0, 0.0, 0.1, 0.1, ...  \nrain                           [0.0, 0.0, 0.0, 0.0, 0.0, 0.0, 0.0, 0.0, 0.0, ...  \nsnowfall                       [0.0, 0.0, 0.0, 0.0, 0.0, 0.0, 0.0, 0.07, 0.07...  \nweathercode                    [3, 3, 3, 3, 3, 3, 3, 71, 71, 71, 71, 71, 71, ...  \ncloudcover                     [98, 100, 91, 95, 96, 100, 100, 100, 100, 100,...  \ncloudcover_low                 [77, 67, 36, 6, 7, 14, 17, 42, 69, 99, 71, 100...  \ncloudcover_mid                 [48, 92, 98, 99, 100, 100, 99, 100, 100, 100, ...  \ncloudcover_high                [0, 2, 0, 99, 100, 100, 98, 100, 91, 89, 100, ...  \nshortwave_radiation            [0.0, 0.0, 0.0, 0.0, 0.0, 0.0, 6.0, 38.0, 109....  \ndirect_radiation               [0.0, 0.0, 0.0, 0.0, 0.0, 0.0, 2.0, 0.0, 3.0, ...  \ndiffuse_radiation              [0.0, 0.0, 0.0, 0.0, 0.0, 0.0, 4.0, 38.0, 106....  \ndirect_normal_irradiance       [0.0, 0.0, 0.0, 0.0, 0.0, 0.0, 0.0, 42.1, 2.8,...  \nwindspeed_10m                  [23.8, 24.1, 25.7, 26.2, 26.6, 25.7, 26.0, 26....  \nwindspeed_100m                 [36.2, 36.7, 38.5, 40.1, 40.6, 39.0, 38.2, 37....  \nwinddirection_10m              [87, 92, 95, 98, 99, 96, 93, 97, 94, 99, 96, 1...  \nwinddirection_100m             [84, 89, 92, 95, 97, 95, 92, 96, 93, 98, 96, 1...  \nwindgusts_10m                  [39.2, 39.2, 39.2, 40.3, 40.3, 40.3, 41.8, 43....  \net0_fao_evapotranspiration     [0.01, 0.01, 0.01, 0.01, 0.01, 0.01, 0.02, 0.0...  \nvapor_pressure_deficit         [0.11, 0.12, 0.13, 0.13, 0.13, 0.13, 0.14, 0.1...  \nsoil_temperature_0_to_7cm      [-0.6, -0.6, -0.7, -0.7, -0.7, -0.8, -0.8, -0....  \nsoil_temperature_7_to_28cm     [0.7, 0.7, 0.7, 0.7, 0.7, 0.6, 0.6, 0.6, 0.6, ...  \nsoil_temperature_28_to_100cm   [3.6, 3.6, 3.6, 3.6, 3.6, 3.5, 3.5, 3.5, 3.5, ...  \nsoil_temperature_100_to_255cm  [9.8, 9.8, 9.8, 9.8, 9.8, 9.8, 9.8, 9.8, 9.8, ...  \nsoil_moisture_0_to_7cm         [0.297, 0.297, 0.297, 0.297, 0.297, 0.297, 0.2...  \nsoil_moisture_7_to_28cm        [0.306, 0.305, 0.305, 0.305, 0.305, 0.305, 0.3...  \nsoil_moisture_28_to_100cm      [0.262, 0.262, 0.262, 0.262, 0.262, 0.262, 0.2...  \nsoil_moisture_100_to_255cm     [0.21, 0.21, 0.21, 0.21, 0.21, 0.21, 0.21, 0.2...  ",
      "text/html": "<div>\n<style scoped>\n    .dataframe tbody tr th:only-of-type {\n        vertical-align: middle;\n    }\n\n    .dataframe tbody tr th {\n        vertical-align: top;\n    }\n\n    .dataframe thead th {\n        text-align: right;\n    }\n</style>\n<table border=\"1\" class=\"dataframe\">\n  <thead>\n    <tr style=\"text-align: right;\">\n      <th></th>\n      <th>latitude</th>\n      <th>longitude</th>\n      <th>generationtime_ms</th>\n      <th>utc_offset_seconds</th>\n      <th>timezone</th>\n      <th>timezone_abbreviation</th>\n      <th>elevation</th>\n      <th>hourly_units</th>\n      <th>hourly</th>\n    </tr>\n  </thead>\n  <tbody>\n    <tr>\n      <th>time</th>\n      <td>46.40001</td>\n      <td>30.699997</td>\n      <td>531.81994</td>\n      <td>0</td>\n      <td>GMT</td>\n      <td>GMT</td>\n      <td>51.0</td>\n      <td>iso8601</td>\n      <td>[2022-01-24T00:00, 2022-01-24T01:00, 2022-01-2...</td>\n    </tr>\n    <tr>\n      <th>temperature_2m</th>\n      <td>46.40001</td>\n      <td>30.699997</td>\n      <td>531.81994</td>\n      <td>0</td>\n      <td>GMT</td>\n      <td>GMT</td>\n      <td>51.0</td>\n      <td>°C</td>\n      <td>[-3.5, -3.5, -3.5, -3.5, -3.7, -4.0, -3.9, -3....</td>\n    </tr>\n    <tr>\n      <th>relativehumidity_2m</th>\n      <td>46.40001</td>\n      <td>30.699997</td>\n      <td>531.81994</td>\n      <td>0</td>\n      <td>GMT</td>\n      <td>GMT</td>\n      <td>51.0</td>\n      <td>%</td>\n      <td>[77, 76, 74, 73, 72, 71, 69, 66, 63, 60, 61, 6...</td>\n    </tr>\n    <tr>\n      <th>dewpoint_2m</th>\n      <td>46.40001</td>\n      <td>30.699997</td>\n      <td>531.81994</td>\n      <td>0</td>\n      <td>GMT</td>\n      <td>GMT</td>\n      <td>51.0</td>\n      <td>°C</td>\n      <td>[-7.0, -7.2, -7.6, -7.7, -8.0, -8.4, -8.7, -8....</td>\n    </tr>\n    <tr>\n      <th>apparent_temperature</th>\n      <td>46.40001</td>\n      <td>30.699997</td>\n      <td>531.81994</td>\n      <td>0</td>\n      <td>GMT</td>\n      <td>GMT</td>\n      <td>51.0</td>\n      <td>°C</td>\n      <td>[-9.8, -9.9, -10.5, -10.6, -11.1, -11.5, -11.4...</td>\n    </tr>\n    <tr>\n      <th>pressure_msl</th>\n      <td>46.40001</td>\n      <td>30.699997</td>\n      <td>531.81994</td>\n      <td>0</td>\n      <td>GMT</td>\n      <td>GMT</td>\n      <td>51.0</td>\n      <td>hPa</td>\n      <td>[1025.6, 1025.6, 1025.5, 1025.8, 1026.1, 1026....</td>\n    </tr>\n    <tr>\n      <th>surface_pressure</th>\n      <td>46.40001</td>\n      <td>30.699997</td>\n      <td>531.81994</td>\n      <td>0</td>\n      <td>GMT</td>\n      <td>GMT</td>\n      <td>51.0</td>\n      <td>hPa</td>\n      <td>[1021.8, 1021.8, 1021.7, 1022.0, 1022.3, 1022....</td>\n    </tr>\n    <tr>\n      <th>precipitation</th>\n      <td>46.40001</td>\n      <td>30.699997</td>\n      <td>531.81994</td>\n      <td>0</td>\n      <td>GMT</td>\n      <td>GMT</td>\n      <td>51.0</td>\n      <td>mm</td>\n      <td>[0.0, 0.0, 0.0, 0.0, 0.0, 0.0, 0.0, 0.1, 0.1, ...</td>\n    </tr>\n    <tr>\n      <th>rain</th>\n      <td>46.40001</td>\n      <td>30.699997</td>\n      <td>531.81994</td>\n      <td>0</td>\n      <td>GMT</td>\n      <td>GMT</td>\n      <td>51.0</td>\n      <td>mm</td>\n      <td>[0.0, 0.0, 0.0, 0.0, 0.0, 0.0, 0.0, 0.0, 0.0, ...</td>\n    </tr>\n    <tr>\n      <th>snowfall</th>\n      <td>46.40001</td>\n      <td>30.699997</td>\n      <td>531.81994</td>\n      <td>0</td>\n      <td>GMT</td>\n      <td>GMT</td>\n      <td>51.0</td>\n      <td>cm</td>\n      <td>[0.0, 0.0, 0.0, 0.0, 0.0, 0.0, 0.0, 0.07, 0.07...</td>\n    </tr>\n    <tr>\n      <th>weathercode</th>\n      <td>46.40001</td>\n      <td>30.699997</td>\n      <td>531.81994</td>\n      <td>0</td>\n      <td>GMT</td>\n      <td>GMT</td>\n      <td>51.0</td>\n      <td>wmo code</td>\n      <td>[3, 3, 3, 3, 3, 3, 3, 71, 71, 71, 71, 71, 71, ...</td>\n    </tr>\n    <tr>\n      <th>cloudcover</th>\n      <td>46.40001</td>\n      <td>30.699997</td>\n      <td>531.81994</td>\n      <td>0</td>\n      <td>GMT</td>\n      <td>GMT</td>\n      <td>51.0</td>\n      <td>%</td>\n      <td>[98, 100, 91, 95, 96, 100, 100, 100, 100, 100,...</td>\n    </tr>\n    <tr>\n      <th>cloudcover_low</th>\n      <td>46.40001</td>\n      <td>30.699997</td>\n      <td>531.81994</td>\n      <td>0</td>\n      <td>GMT</td>\n      <td>GMT</td>\n      <td>51.0</td>\n      <td>%</td>\n      <td>[77, 67, 36, 6, 7, 14, 17, 42, 69, 99, 71, 100...</td>\n    </tr>\n    <tr>\n      <th>cloudcover_mid</th>\n      <td>46.40001</td>\n      <td>30.699997</td>\n      <td>531.81994</td>\n      <td>0</td>\n      <td>GMT</td>\n      <td>GMT</td>\n      <td>51.0</td>\n      <td>%</td>\n      <td>[48, 92, 98, 99, 100, 100, 99, 100, 100, 100, ...</td>\n    </tr>\n    <tr>\n      <th>cloudcover_high</th>\n      <td>46.40001</td>\n      <td>30.699997</td>\n      <td>531.81994</td>\n      <td>0</td>\n      <td>GMT</td>\n      <td>GMT</td>\n      <td>51.0</td>\n      <td>%</td>\n      <td>[0, 2, 0, 99, 100, 100, 98, 100, 91, 89, 100, ...</td>\n    </tr>\n    <tr>\n      <th>shortwave_radiation</th>\n      <td>46.40001</td>\n      <td>30.699997</td>\n      <td>531.81994</td>\n      <td>0</td>\n      <td>GMT</td>\n      <td>GMT</td>\n      <td>51.0</td>\n      <td>W/m²</td>\n      <td>[0.0, 0.0, 0.0, 0.0, 0.0, 0.0, 6.0, 38.0, 109....</td>\n    </tr>\n    <tr>\n      <th>direct_radiation</th>\n      <td>46.40001</td>\n      <td>30.699997</td>\n      <td>531.81994</td>\n      <td>0</td>\n      <td>GMT</td>\n      <td>GMT</td>\n      <td>51.0</td>\n      <td>W/m²</td>\n      <td>[0.0, 0.0, 0.0, 0.0, 0.0, 0.0, 2.0, 0.0, 3.0, ...</td>\n    </tr>\n    <tr>\n      <th>diffuse_radiation</th>\n      <td>46.40001</td>\n      <td>30.699997</td>\n      <td>531.81994</td>\n      <td>0</td>\n      <td>GMT</td>\n      <td>GMT</td>\n      <td>51.0</td>\n      <td>W/m²</td>\n      <td>[0.0, 0.0, 0.0, 0.0, 0.0, 0.0, 4.0, 38.0, 106....</td>\n    </tr>\n    <tr>\n      <th>direct_normal_irradiance</th>\n      <td>46.40001</td>\n      <td>30.699997</td>\n      <td>531.81994</td>\n      <td>0</td>\n      <td>GMT</td>\n      <td>GMT</td>\n      <td>51.0</td>\n      <td>W/m²</td>\n      <td>[0.0, 0.0, 0.0, 0.0, 0.0, 0.0, 0.0, 42.1, 2.8,...</td>\n    </tr>\n    <tr>\n      <th>windspeed_10m</th>\n      <td>46.40001</td>\n      <td>30.699997</td>\n      <td>531.81994</td>\n      <td>0</td>\n      <td>GMT</td>\n      <td>GMT</td>\n      <td>51.0</td>\n      <td>km/h</td>\n      <td>[23.8, 24.1, 25.7, 26.2, 26.6, 25.7, 26.0, 26....</td>\n    </tr>\n    <tr>\n      <th>windspeed_100m</th>\n      <td>46.40001</td>\n      <td>30.699997</td>\n      <td>531.81994</td>\n      <td>0</td>\n      <td>GMT</td>\n      <td>GMT</td>\n      <td>51.0</td>\n      <td>km/h</td>\n      <td>[36.2, 36.7, 38.5, 40.1, 40.6, 39.0, 38.2, 37....</td>\n    </tr>\n    <tr>\n      <th>winddirection_10m</th>\n      <td>46.40001</td>\n      <td>30.699997</td>\n      <td>531.81994</td>\n      <td>0</td>\n      <td>GMT</td>\n      <td>GMT</td>\n      <td>51.0</td>\n      <td>°</td>\n      <td>[87, 92, 95, 98, 99, 96, 93, 97, 94, 99, 96, 1...</td>\n    </tr>\n    <tr>\n      <th>winddirection_100m</th>\n      <td>46.40001</td>\n      <td>30.699997</td>\n      <td>531.81994</td>\n      <td>0</td>\n      <td>GMT</td>\n      <td>GMT</td>\n      <td>51.0</td>\n      <td>°</td>\n      <td>[84, 89, 92, 95, 97, 95, 92, 96, 93, 98, 96, 1...</td>\n    </tr>\n    <tr>\n      <th>windgusts_10m</th>\n      <td>46.40001</td>\n      <td>30.699997</td>\n      <td>531.81994</td>\n      <td>0</td>\n      <td>GMT</td>\n      <td>GMT</td>\n      <td>51.0</td>\n      <td>km/h</td>\n      <td>[39.2, 39.2, 39.2, 40.3, 40.3, 40.3, 41.8, 43....</td>\n    </tr>\n    <tr>\n      <th>et0_fao_evapotranspiration</th>\n      <td>46.40001</td>\n      <td>30.699997</td>\n      <td>531.81994</td>\n      <td>0</td>\n      <td>GMT</td>\n      <td>GMT</td>\n      <td>51.0</td>\n      <td>mm</td>\n      <td>[0.01, 0.01, 0.01, 0.01, 0.01, 0.01, 0.02, 0.0...</td>\n    </tr>\n    <tr>\n      <th>vapor_pressure_deficit</th>\n      <td>46.40001</td>\n      <td>30.699997</td>\n      <td>531.81994</td>\n      <td>0</td>\n      <td>GMT</td>\n      <td>GMT</td>\n      <td>51.0</td>\n      <td>kPa</td>\n      <td>[0.11, 0.12, 0.13, 0.13, 0.13, 0.13, 0.14, 0.1...</td>\n    </tr>\n    <tr>\n      <th>soil_temperature_0_to_7cm</th>\n      <td>46.40001</td>\n      <td>30.699997</td>\n      <td>531.81994</td>\n      <td>0</td>\n      <td>GMT</td>\n      <td>GMT</td>\n      <td>51.0</td>\n      <td>°C</td>\n      <td>[-0.6, -0.6, -0.7, -0.7, -0.7, -0.8, -0.8, -0....</td>\n    </tr>\n    <tr>\n      <th>soil_temperature_7_to_28cm</th>\n      <td>46.40001</td>\n      <td>30.699997</td>\n      <td>531.81994</td>\n      <td>0</td>\n      <td>GMT</td>\n      <td>GMT</td>\n      <td>51.0</td>\n      <td>°C</td>\n      <td>[0.7, 0.7, 0.7, 0.7, 0.7, 0.6, 0.6, 0.6, 0.6, ...</td>\n    </tr>\n    <tr>\n      <th>soil_temperature_28_to_100cm</th>\n      <td>46.40001</td>\n      <td>30.699997</td>\n      <td>531.81994</td>\n      <td>0</td>\n      <td>GMT</td>\n      <td>GMT</td>\n      <td>51.0</td>\n      <td>°C</td>\n      <td>[3.6, 3.6, 3.6, 3.6, 3.6, 3.5, 3.5, 3.5, 3.5, ...</td>\n    </tr>\n    <tr>\n      <th>soil_temperature_100_to_255cm</th>\n      <td>46.40001</td>\n      <td>30.699997</td>\n      <td>531.81994</td>\n      <td>0</td>\n      <td>GMT</td>\n      <td>GMT</td>\n      <td>51.0</td>\n      <td>°C</td>\n      <td>[9.8, 9.8, 9.8, 9.8, 9.8, 9.8, 9.8, 9.8, 9.8, ...</td>\n    </tr>\n    <tr>\n      <th>soil_moisture_0_to_7cm</th>\n      <td>46.40001</td>\n      <td>30.699997</td>\n      <td>531.81994</td>\n      <td>0</td>\n      <td>GMT</td>\n      <td>GMT</td>\n      <td>51.0</td>\n      <td>m³/m³</td>\n      <td>[0.297, 0.297, 0.297, 0.297, 0.297, 0.297, 0.2...</td>\n    </tr>\n    <tr>\n      <th>soil_moisture_7_to_28cm</th>\n      <td>46.40001</td>\n      <td>30.699997</td>\n      <td>531.81994</td>\n      <td>0</td>\n      <td>GMT</td>\n      <td>GMT</td>\n      <td>51.0</td>\n      <td>m³/m³</td>\n      <td>[0.306, 0.305, 0.305, 0.305, 0.305, 0.305, 0.3...</td>\n    </tr>\n    <tr>\n      <th>soil_moisture_28_to_100cm</th>\n      <td>46.40001</td>\n      <td>30.699997</td>\n      <td>531.81994</td>\n      <td>0</td>\n      <td>GMT</td>\n      <td>GMT</td>\n      <td>51.0</td>\n      <td>m³/m³</td>\n      <td>[0.262, 0.262, 0.262, 0.262, 0.262, 0.262, 0.2...</td>\n    </tr>\n    <tr>\n      <th>soil_moisture_100_to_255cm</th>\n      <td>46.40001</td>\n      <td>30.699997</td>\n      <td>531.81994</td>\n      <td>0</td>\n      <td>GMT</td>\n      <td>GMT</td>\n      <td>51.0</td>\n      <td>m³/m³</td>\n      <td>[0.21, 0.21, 0.21, 0.21, 0.21, 0.21, 0.21, 0.2...</td>\n    </tr>\n  </tbody>\n</table>\n</div>"
     },
     "execution_count": 54,
     "metadata": {},
     "output_type": "execute_result"
    }
   ],
   "source": [
    "pd.DataFrame.from_dict(json_object)"
   ],
   "metadata": {
    "collapsed": false
   }
  },
  {
   "cell_type": "code",
   "execution_count": 68,
   "outputs": [
    {
     "data": {
      "text/plain": "     Unnamed: 0                   Id  node_start  node_finish   distance  \\\n0        173285 -4773019581999572651    10980417   4768348185  31.771489   \n1        173286 -4773019581999572651    10980418   1570776947   3.673054   \n2        173287 -4773019581999572651    10980430   4768348188  15.550612   \n3        173288 -4773019581999572651    10980431   5125489557  50.034390   \n4        173289 -4773019581999572651    10980432   5213300015  13.453126   \n..          ...                  ...         ...          ...        ...   \n101      173386 -4773019581999572651  8047405750   1570776819  14.094747   \n102      173387 -4773019581999572651  8952401429   2133368070  11.411172   \n103      173388 -4773019581999572651  8952405781   1976889231  31.708492   \n104      173389 -4773019581999572651  8952407019   1901714249   4.528134   \n105      173390 -4773019581999572651  8952471888   8047405750   1.308628   \n\n     speed  node_start_lat  node_start_lon  node_finish_lat  node_finish_lon  \n0     30.0       46.468524       30.738275        46.468266        30.738097  \n1     24.0       46.469605       30.738516        46.469551        30.738576  \n2     27.0       46.469587       30.738802        46.477225        30.724000  \n3     29.0       46.471232       30.739016        46.470784        30.738957  \n4     30.0       46.472665       30.739248        46.472545        30.739226  \n..     ...             ...             ...              ...              ...  \n101   37.0       46.467779       30.737696        46.467674        30.737593  \n102   27.0       38.051872     -122.510810        46.472783        30.739266  \n103   17.0       47.488381       -3.107194        46.458315        30.729720  \n104   35.0       47.559999       -3.135353        46.475530        30.739691  \n105   39.0       41.643744      -85.275418        46.467779        30.737696  \n\n[106 rows x 10 columns]",
      "text/html": "<div>\n<style scoped>\n    .dataframe tbody tr th:only-of-type {\n        vertical-align: middle;\n    }\n\n    .dataframe tbody tr th {\n        vertical-align: top;\n    }\n\n    .dataframe thead th {\n        text-align: right;\n    }\n</style>\n<table border=\"1\" class=\"dataframe\">\n  <thead>\n    <tr style=\"text-align: right;\">\n      <th></th>\n      <th>Unnamed: 0</th>\n      <th>Id</th>\n      <th>node_start</th>\n      <th>node_finish</th>\n      <th>distance</th>\n      <th>speed</th>\n      <th>node_start_lat</th>\n      <th>node_start_lon</th>\n      <th>node_finish_lat</th>\n      <th>node_finish_lon</th>\n    </tr>\n  </thead>\n  <tbody>\n    <tr>\n      <th>0</th>\n      <td>173285</td>\n      <td>-4773019581999572651</td>\n      <td>10980417</td>\n      <td>4768348185</td>\n      <td>31.771489</td>\n      <td>30.0</td>\n      <td>46.468524</td>\n      <td>30.738275</td>\n      <td>46.468266</td>\n      <td>30.738097</td>\n    </tr>\n    <tr>\n      <th>1</th>\n      <td>173286</td>\n      <td>-4773019581999572651</td>\n      <td>10980418</td>\n      <td>1570776947</td>\n      <td>3.673054</td>\n      <td>24.0</td>\n      <td>46.469605</td>\n      <td>30.738516</td>\n      <td>46.469551</td>\n      <td>30.738576</td>\n    </tr>\n    <tr>\n      <th>2</th>\n      <td>173287</td>\n      <td>-4773019581999572651</td>\n      <td>10980430</td>\n      <td>4768348188</td>\n      <td>15.550612</td>\n      <td>27.0</td>\n      <td>46.469587</td>\n      <td>30.738802</td>\n      <td>46.477225</td>\n      <td>30.724000</td>\n    </tr>\n    <tr>\n      <th>3</th>\n      <td>173288</td>\n      <td>-4773019581999572651</td>\n      <td>10980431</td>\n      <td>5125489557</td>\n      <td>50.034390</td>\n      <td>29.0</td>\n      <td>46.471232</td>\n      <td>30.739016</td>\n      <td>46.470784</td>\n      <td>30.738957</td>\n    </tr>\n    <tr>\n      <th>4</th>\n      <td>173289</td>\n      <td>-4773019581999572651</td>\n      <td>10980432</td>\n      <td>5213300015</td>\n      <td>13.453126</td>\n      <td>30.0</td>\n      <td>46.472665</td>\n      <td>30.739248</td>\n      <td>46.472545</td>\n      <td>30.739226</td>\n    </tr>\n    <tr>\n      <th>...</th>\n      <td>...</td>\n      <td>...</td>\n      <td>...</td>\n      <td>...</td>\n      <td>...</td>\n      <td>...</td>\n      <td>...</td>\n      <td>...</td>\n      <td>...</td>\n      <td>...</td>\n    </tr>\n    <tr>\n      <th>101</th>\n      <td>173386</td>\n      <td>-4773019581999572651</td>\n      <td>8047405750</td>\n      <td>1570776819</td>\n      <td>14.094747</td>\n      <td>37.0</td>\n      <td>46.467779</td>\n      <td>30.737696</td>\n      <td>46.467674</td>\n      <td>30.737593</td>\n    </tr>\n    <tr>\n      <th>102</th>\n      <td>173387</td>\n      <td>-4773019581999572651</td>\n      <td>8952401429</td>\n      <td>2133368070</td>\n      <td>11.411172</td>\n      <td>27.0</td>\n      <td>38.051872</td>\n      <td>-122.510810</td>\n      <td>46.472783</td>\n      <td>30.739266</td>\n    </tr>\n    <tr>\n      <th>103</th>\n      <td>173388</td>\n      <td>-4773019581999572651</td>\n      <td>8952405781</td>\n      <td>1976889231</td>\n      <td>31.708492</td>\n      <td>17.0</td>\n      <td>47.488381</td>\n      <td>-3.107194</td>\n      <td>46.458315</td>\n      <td>30.729720</td>\n    </tr>\n    <tr>\n      <th>104</th>\n      <td>173389</td>\n      <td>-4773019581999572651</td>\n      <td>8952407019</td>\n      <td>1901714249</td>\n      <td>4.528134</td>\n      <td>35.0</td>\n      <td>47.559999</td>\n      <td>-3.135353</td>\n      <td>46.475530</td>\n      <td>30.739691</td>\n    </tr>\n    <tr>\n      <th>105</th>\n      <td>173390</td>\n      <td>-4773019581999572651</td>\n      <td>8952471888</td>\n      <td>8047405750</td>\n      <td>1.308628</td>\n      <td>39.0</td>\n      <td>41.643744</td>\n      <td>-85.275418</td>\n      <td>46.467779</td>\n      <td>30.737696</td>\n    </tr>\n  </tbody>\n</table>\n<p>106 rows × 10 columns</p>\n</div>"
     },
     "execution_count": 68,
     "metadata": {},
     "output_type": "execute_result"
    }
   ],
   "source": [
    "test_df"
   ],
   "metadata": {
    "collapsed": false
   }
  },
  {
   "cell_type": "code",
   "execution_count": 76,
   "outputs": [],
   "source": [
    "test_df = pd.read_csv('some_trajetory.csv')\n",
    "\n",
    "dots = []\n",
    "\n",
    "for row in test_df.iterrows():\n",
    "    dots.append((row[1]['node_start_lat'],row[1]['node_start_l']))\n",
    "    pass"
   ],
   "metadata": {
    "collapsed": false
   }
  },
  {
   "cell_type": "code",
   "execution_count": 64,
   "outputs": [
    {
     "ename": "KeyError",
     "evalue": "\"None of [Index(['node_start_lat', 'node_start_lon'], dtype='object')] are in the [columns]\"",
     "output_type": "error",
     "traceback": [
      "\u001B[1;31m---------------------------------------------------------------------------\u001B[0m",
      "\u001B[1;31mKeyError\u001B[0m                                  Traceback (most recent call last)",
      "Cell \u001B[1;32mIn[64], line 1\u001B[0m\n\u001B[1;32m----> 1\u001B[0m test_df_start \u001B[38;5;241m=\u001B[39m \u001B[43mtest_df\u001B[49m\u001B[43m[\u001B[49m\u001B[43m[\u001B[49m\u001B[38;5;124;43m'\u001B[39;49m\u001B[38;5;124;43mnode_start_lat\u001B[39;49m\u001B[38;5;124;43m'\u001B[39;49m\u001B[43m,\u001B[49m\u001B[38;5;124;43m'\u001B[39;49m\u001B[38;5;124;43mnode_start_lon\u001B[39;49m\u001B[38;5;124;43m'\u001B[39;49m\u001B[43m]\u001B[49m\u001B[43m]\u001B[49m\u001B[38;5;241m.\u001B[39mcopy()\n\u001B[0;32m      2\u001B[0m test_df_finish \u001B[38;5;241m=\u001B[39m test_df[[\u001B[38;5;124m'\u001B[39m\u001B[38;5;124mnode_finish_lat\u001B[39m\u001B[38;5;124m'\u001B[39m,\u001B[38;5;124m'\u001B[39m\u001B[38;5;124mnode_finish_lon\u001B[39m\u001B[38;5;124m'\u001B[39m]]\u001B[38;5;241m.\u001B[39mcopy()\n\u001B[0;32m      3\u001B[0m test_df_start\u001B[38;5;241m.\u001B[39mrename(columns\u001B[38;5;241m=\u001B[39m{\u001B[38;5;124m'\u001B[39m\u001B[38;5;124mnode_start_lat\u001B[39m\u001B[38;5;124m'\u001B[39m:\u001B[38;5;124m'\u001B[39m\u001B[38;5;124mlat\u001B[39m\u001B[38;5;124m'\u001B[39m,\u001B[38;5;124m'\u001B[39m\u001B[38;5;124mnode_start_lon\u001B[39m\u001B[38;5;124m'\u001B[39m:\u001B[38;5;124m'\u001B[39m\u001B[38;5;124mlon\u001B[39m\u001B[38;5;124m'\u001B[39m},inplace\u001B[38;5;241m=\u001B[39m\u001B[38;5;28;01mTrue\u001B[39;00m)\n",
      "File \u001B[1;32m~\\AppData\\Local\\Programs\\Python\\Python310\\lib\\site-packages\\pandas\\core\\frame.py:3813\u001B[0m, in \u001B[0;36mDataFrame.__getitem__\u001B[1;34m(self, key)\u001B[0m\n\u001B[0;32m   3811\u001B[0m     \u001B[38;5;28;01mif\u001B[39;00m is_iterator(key):\n\u001B[0;32m   3812\u001B[0m         key \u001B[38;5;241m=\u001B[39m \u001B[38;5;28mlist\u001B[39m(key)\n\u001B[1;32m-> 3813\u001B[0m     indexer \u001B[38;5;241m=\u001B[39m \u001B[38;5;28;43mself\u001B[39;49m\u001B[38;5;241;43m.\u001B[39;49m\u001B[43mcolumns\u001B[49m\u001B[38;5;241;43m.\u001B[39;49m\u001B[43m_get_indexer_strict\u001B[49m\u001B[43m(\u001B[49m\u001B[43mkey\u001B[49m\u001B[43m,\u001B[49m\u001B[43m \u001B[49m\u001B[38;5;124;43m\"\u001B[39;49m\u001B[38;5;124;43mcolumns\u001B[39;49m\u001B[38;5;124;43m\"\u001B[39;49m\u001B[43m)\u001B[49m[\u001B[38;5;241m1\u001B[39m]\n\u001B[0;32m   3815\u001B[0m \u001B[38;5;66;03m# take() does not accept boolean indexers\u001B[39;00m\n\u001B[0;32m   3816\u001B[0m \u001B[38;5;28;01mif\u001B[39;00m \u001B[38;5;28mgetattr\u001B[39m(indexer, \u001B[38;5;124m\"\u001B[39m\u001B[38;5;124mdtype\u001B[39m\u001B[38;5;124m\"\u001B[39m, \u001B[38;5;28;01mNone\u001B[39;00m) \u001B[38;5;241m==\u001B[39m \u001B[38;5;28mbool\u001B[39m:\n",
      "File \u001B[1;32m~\\AppData\\Local\\Programs\\Python\\Python310\\lib\\site-packages\\pandas\\core\\indexes\\base.py:6070\u001B[0m, in \u001B[0;36mIndex._get_indexer_strict\u001B[1;34m(self, key, axis_name)\u001B[0m\n\u001B[0;32m   6067\u001B[0m \u001B[38;5;28;01melse\u001B[39;00m:\n\u001B[0;32m   6068\u001B[0m     keyarr, indexer, new_indexer \u001B[38;5;241m=\u001B[39m \u001B[38;5;28mself\u001B[39m\u001B[38;5;241m.\u001B[39m_reindex_non_unique(keyarr)\n\u001B[1;32m-> 6070\u001B[0m \u001B[38;5;28;43mself\u001B[39;49m\u001B[38;5;241;43m.\u001B[39;49m\u001B[43m_raise_if_missing\u001B[49m\u001B[43m(\u001B[49m\u001B[43mkeyarr\u001B[49m\u001B[43m,\u001B[49m\u001B[43m \u001B[49m\u001B[43mindexer\u001B[49m\u001B[43m,\u001B[49m\u001B[43m \u001B[49m\u001B[43maxis_name\u001B[49m\u001B[43m)\u001B[49m\n\u001B[0;32m   6072\u001B[0m keyarr \u001B[38;5;241m=\u001B[39m \u001B[38;5;28mself\u001B[39m\u001B[38;5;241m.\u001B[39mtake(indexer)\n\u001B[0;32m   6073\u001B[0m \u001B[38;5;28;01mif\u001B[39;00m \u001B[38;5;28misinstance\u001B[39m(key, Index):\n\u001B[0;32m   6074\u001B[0m     \u001B[38;5;66;03m# GH 42790 - Preserve name from an Index\u001B[39;00m\n",
      "File \u001B[1;32m~\\AppData\\Local\\Programs\\Python\\Python310\\lib\\site-packages\\pandas\\core\\indexes\\base.py:6130\u001B[0m, in \u001B[0;36mIndex._raise_if_missing\u001B[1;34m(self, key, indexer, axis_name)\u001B[0m\n\u001B[0;32m   6128\u001B[0m     \u001B[38;5;28;01mif\u001B[39;00m use_interval_msg:\n\u001B[0;32m   6129\u001B[0m         key \u001B[38;5;241m=\u001B[39m \u001B[38;5;28mlist\u001B[39m(key)\n\u001B[1;32m-> 6130\u001B[0m     \u001B[38;5;28;01mraise\u001B[39;00m \u001B[38;5;167;01mKeyError\u001B[39;00m(\u001B[38;5;124mf\u001B[39m\u001B[38;5;124m\"\u001B[39m\u001B[38;5;124mNone of [\u001B[39m\u001B[38;5;132;01m{\u001B[39;00mkey\u001B[38;5;132;01m}\u001B[39;00m\u001B[38;5;124m] are in the [\u001B[39m\u001B[38;5;132;01m{\u001B[39;00maxis_name\u001B[38;5;132;01m}\u001B[39;00m\u001B[38;5;124m]\u001B[39m\u001B[38;5;124m\"\u001B[39m)\n\u001B[0;32m   6132\u001B[0m not_found \u001B[38;5;241m=\u001B[39m \u001B[38;5;28mlist\u001B[39m(ensure_index(key)[missing_mask\u001B[38;5;241m.\u001B[39mnonzero()[\u001B[38;5;241m0\u001B[39m]]\u001B[38;5;241m.\u001B[39munique())\n\u001B[0;32m   6133\u001B[0m \u001B[38;5;28;01mraise\u001B[39;00m \u001B[38;5;167;01mKeyError\u001B[39;00m(\u001B[38;5;124mf\u001B[39m\u001B[38;5;124m\"\u001B[39m\u001B[38;5;132;01m{\u001B[39;00mnot_found\u001B[38;5;132;01m}\u001B[39;00m\u001B[38;5;124m not in index\u001B[39m\u001B[38;5;124m\"\u001B[39m)\n",
      "\u001B[1;31mKeyError\u001B[0m: \"None of [Index(['node_start_lat', 'node_start_lon'], dtype='object')] are in the [columns]\""
     ]
    }
   ],
   "source": [
    "test_df_start = test_df[['node_start_lat','node_start_lon']].copy()\n",
    "test_df_finish = test_df[['node_finish_lat','node_finish_lon']].copy()\n",
    "test_df_start.rename(columns={'node_start_lat':'lat','node_start_lon':'lon'},inplace=True)\n",
    "test_df_finish.rename(columns={'node_finish_lat':'lat','node_finish_lon':'lon'},inplace=True)\n",
    "test_df = pd.concat([test_df_start,test_df_finish])\n"
   ],
   "metadata": {
    "collapsed": false
   }
  },
  {
   "cell_type": "code",
   "execution_count": 63,
   "outputs": [
    {
     "data": {
      "application/vnd.plotly.v1+json": {
       "data": [
        {
         "hovertemplate": "size=%{marker.size}<br>lat=%{lat}<br>lon=%{lon}<extra></extra>",
         "lat": [
          46.4685241,
          46.4696046,
          46.4695874,
          46.4712319,
          46.4726652,
          46.4741164,
          46.4826306,
          46.4810818,
          46.4585416,
          46.4795517,
          46.4767103,
          46.4781292,
          46.4825077,
          46.4678032,
          46.4827731,
          46.4605448,
          46.464574,
          46.4627922,
          46.4652614,
          46.4653313,
          46.4676739,
          46.4695514,
          46.4696025,
          46.479389,
          46.4587919,
          46.4589643,
          46.47553,
          46.458315,
          46.456764,
          46.4569137,
          46.45703,
          46.4739648,
          46.4727833,
          46.4713819,
          46.4754186,
          46.4666034,
          46.4646603,
          46.4565548,
          46.456835,
          46.4825536,
          46.4616684,
          46.4717759,
          46.482574,
          46.4826374,
          46.4828389,
          46.481461,
          46.4819155,
          46.4825449,
          46.4825514,
          46.4825761,
          46.4826007,
          46.4826778,
          46.4826977,
          46.482718,
          46.48322,
          46.4835193,
          46.4672725,
          46.4788416,
          46.4788292,
          46.4731488,
          46.4733683,
          46.4682663,
          46.4772249,
          46.4651614,
          46.4650986,
          46.4649526,
          46.4596082,
          46.4642618,
          46.463479,
          46.4633603,
          46.4637614,
          46.4652145,
          46.4695036,
          46.4631282,
          46.4618813,
          46.4618601,
          46.4617649,
          46.4720443,
          46.4707841,
          46.4806538,
          46.482563,
          46.4825312,
          46.4822323,
          46.472545,
          46.4701879,
          46.4762418,
          46.4784489,
          46.4670828,
          46.4586891,
          46.4603687,
          46.4610333,
          46.4678624,
          46.4697442,
          46.471519,
          46.466796,
          46.4673868,
          46.4564887,
          46.4591105,
          46.4592631,
          46.4825165,
          46.4826224,
          46.4677793,
          38.0518717,
          47.4883812,
          47.5599988,
          41.6437445,
          46.4682663,
          46.4695514,
          46.4772249,
          46.4707841,
          46.472545,
          46.4739648,
          46.482574,
          46.4806538,
          47.4883812,
          46.479389,
          46.4762418,
          46.4767103,
          46.4825536,
          41.6437445,
          46.482718,
          46.4603687,
          46.4642618,
          46.4618813,
          46.4652145,
          46.4652614,
          46.4673868,
          46.4695036,
          46.4696046,
          46.4788416,
          46.4586891,
          46.4587919,
          46.4754186,
          46.45703,
          46.4565548,
          46.456835,
          46.4569137,
          46.4733683,
          46.4726652,
          46.4712319,
          46.4747168,
          46.4653313,
          46.464574,
          46.4564887,
          46.456764,
          46.4822323,
          46.4610333,
          46.471519,
          46.4826224,
          46.4826306,
          46.4827731,
          46.4810818,
          46.481461,
          46.4825312,
          46.4825449,
          46.482563,
          46.4825761,
          46.4826374,
          46.4826778,
          46.4826977,
          46.4828389,
          46.48322,
          46.4670828,
          46.4788292,
          46.4784489,
          38.0518717,
          46.4731488,
          46.4678624,
          46.4696025,
          46.4650986,
          46.4649526,
          46.4646603,
          46.4592631,
          46.4637614,
          46.4633603,
          46.4631282,
          46.463479,
          46.4651614,
          46.4685241,
          46.4627922,
          46.4618601,
          46.4617649,
          46.4616684,
          46.4717759,
          46.4701879,
          46.4795517,
          46.4825514,
          46.4825165,
          46.4819155,
          46.4720443,
          46.4697442,
          47.5599988,
          46.4781292,
          46.466796,
          46.4585416,
          46.4596082,
          46.4605448,
          46.4678032,
          46.4695874,
          46.4713819,
          46.4666034,
          46.4672725,
          46.4563837,
          46.4589643,
          46.4591105,
          46.4825077,
          46.4826007,
          46.4676739,
          46.4727833,
          46.458315,
          46.47553,
          46.4677793
         ],
         "legendgroup": "",
         "lon": [
          30.7382746,
          30.7385158,
          30.7388018,
          30.7390156,
          30.7392481,
          30.7394724,
          30.7386463,
          30.7405321,
          30.7294143,
          30.7403127,
          30.7398734,
          30.7400928,
          30.7407467,
          30.7377191,
          30.7366525,
          30.731018,
          30.7347478,
          30.7331574,
          30.7353529,
          30.7354183,
          30.7375929,
          30.7385758,
          30.7385505,
          30.7402876,
          30.7295397,
          30.7296496,
          30.739691,
          30.7297201,
          30.7316818,
          30.7315085,
          30.7313571,
          30.739449,
          30.7392664,
          30.7390369,
          30.7396737,
          30.7366197,
          30.7348183,
          30.7321146,
          30.7316019,
          30.7407544,
          30.7321265,
          30.7390929,
          30.7386386,
          30.7385515,
          30.7366622,
          30.7405903,
          30.740661,
          30.7399965,
          30.7398766,
          30.7394251,
          30.739074,
          30.737986,
          30.7377068,
          30.7374086,
          30.7367184,
          30.7367625,
          30.7372092,
          30.7402029,
          30.740201,
          30.7393229,
          30.7393568,
          30.7380968,
          30.7240004,
          30.7352711,
          30.7352121,
          30.7350833,
          30.7301689,
          30.7344721,
          30.7337787,
          30.7336713,
          30.7340301,
          30.7353177,
          30.7384483,
          30.7334613,
          30.7323244,
          30.7320639,
          30.7322184,
          30.7391335,
          30.7389571,
          30.7404634,
          30.739665,
          30.7402726,
          30.7407068,
          30.7392259,
          30.7388747,
          30.739801,
          30.7401422,
          30.7370422,
          30.7294809,
          30.7308596,
          30.7314559,
          30.7377674,
          30.738821,
          30.7390564,
          30.7367895,
          30.7373184,
          30.7323324,
          30.7297362,
          30.7298541,
          30.7405707,
          30.7387605,
          30.7376958,
          -122.5108101,
          -3.1071943,
          -3.1353535,
          -85.275418,
          30.7380968,
          30.7385758,
          30.7240004,
          30.7389571,
          30.7392259,
          30.739449,
          30.7386386,
          30.7404634,
          -3.1071943,
          30.7402876,
          30.739801,
          30.7398734,
          30.7407544,
          -85.275418,
          30.7374086,
          30.7308596,
          30.7344721,
          30.7323244,
          30.7353177,
          30.7353529,
          30.7373184,
          30.7384483,
          30.7385158,
          30.7402029,
          30.7294809,
          30.7295397,
          30.7396737,
          30.7313571,
          30.7321146,
          30.7316019,
          30.7315085,
          30.7393568,
          30.7392481,
          30.7390156,
          30.7395653,
          30.7354183,
          30.7347478,
          30.7323324,
          30.7316818,
          30.7407068,
          30.7314559,
          30.7390564,
          30.7387605,
          30.7386463,
          30.7366525,
          30.7405321,
          30.7405903,
          30.7402726,
          30.7399965,
          30.739665,
          30.7394251,
          30.7385515,
          30.737986,
          30.7377068,
          30.7366622,
          30.7367184,
          30.7370422,
          30.740201,
          30.7401422,
          -122.5108101,
          30.7393229,
          30.7377674,
          30.7385505,
          30.7352121,
          30.7350833,
          30.7348183,
          30.7298541,
          30.7340301,
          30.7336713,
          30.7334613,
          30.7337787,
          30.7352711,
          30.7382746,
          30.7331574,
          30.7320639,
          30.7322184,
          30.7321265,
          30.7390929,
          30.7388747,
          30.7403127,
          30.7398766,
          30.7405707,
          30.740661,
          30.7391335,
          30.738821,
          -3.1353535,
          30.7400928,
          30.7367895,
          30.7294143,
          30.7301689,
          30.731018,
          30.7377191,
          30.7388018,
          30.7390369,
          30.7366197,
          30.7372092,
          30.7328079,
          30.7296496,
          30.7297362,
          30.7407467,
          30.739074,
          30.7375929,
          30.7392664,
          30.7297201,
          30.739691,
          30.7376958
         ],
         "marker": {
          "color": "#636efa",
          "size": [
           1,
           1,
           1,
           1,
           1,
           1,
           1,
           1,
           1,
           1,
           1,
           1,
           1,
           1,
           1,
           1,
           1,
           1,
           1,
           1,
           1,
           1,
           1,
           1,
           1,
           1,
           1,
           1,
           1,
           1,
           1,
           1,
           1,
           1,
           1,
           1,
           1,
           1,
           1,
           1,
           1,
           1,
           1,
           1,
           1,
           1,
           1,
           1,
           1,
           1,
           1,
           1,
           1,
           1,
           1,
           1,
           1,
           1,
           1,
           1,
           1,
           1,
           1,
           1,
           1,
           1,
           1,
           1,
           1,
           1,
           1,
           1,
           1,
           1,
           1,
           1,
           1,
           1,
           1,
           1,
           1,
           1,
           1,
           1,
           1,
           1,
           1,
           1,
           1,
           1,
           1,
           1,
           1,
           1,
           1,
           1,
           1,
           1,
           1,
           1,
           1,
           1,
           1,
           1,
           1,
           1,
           1,
           1,
           1,
           1,
           1,
           1,
           1,
           1,
           1,
           1,
           1,
           1,
           1,
           1,
           1,
           1,
           1,
           1,
           1,
           1,
           1,
           1,
           1,
           1,
           1,
           1,
           1,
           1,
           1,
           1,
           1,
           1,
           1,
           1,
           1,
           1,
           1,
           1,
           1,
           1,
           1,
           1,
           1,
           1,
           1,
           1,
           1,
           1,
           1,
           1,
           1,
           1,
           1,
           1,
           1,
           1,
           1,
           1,
           1,
           1,
           1,
           1,
           1,
           1,
           1,
           1,
           1,
           1,
           1,
           1,
           1,
           1,
           1,
           1,
           1,
           1,
           1,
           1,
           1,
           1,
           1,
           1,
           1,
           1,
           1,
           1,
           1,
           1,
           1,
           1,
           1,
           1,
           1,
           1,
           1,
           1,
           1,
           1,
           1,
           1,
           1,
           1,
           1,
           1,
           1,
           1
          ],
          "sizemode": "area",
          "sizeref": 0.0025
         },
         "mode": "markers",
         "name": "",
         "showlegend": false,
         "subplot": "mapbox",
         "type": "scattermapbox"
        }
       ],
       "layout": {
        "template": {
         "data": {
          "histogram2dcontour": [
           {
            "type": "histogram2dcontour",
            "colorbar": {
             "outlinewidth": 0,
             "ticks": ""
            },
            "colorscale": [
             [
              0.0,
              "#0d0887"
             ],
             [
              0.1111111111111111,
              "#46039f"
             ],
             [
              0.2222222222222222,
              "#7201a8"
             ],
             [
              0.3333333333333333,
              "#9c179e"
             ],
             [
              0.4444444444444444,
              "#bd3786"
             ],
             [
              0.5555555555555556,
              "#d8576b"
             ],
             [
              0.6666666666666666,
              "#ed7953"
             ],
             [
              0.7777777777777778,
              "#fb9f3a"
             ],
             [
              0.8888888888888888,
              "#fdca26"
             ],
             [
              1.0,
              "#f0f921"
             ]
            ]
           }
          ],
          "choropleth": [
           {
            "type": "choropleth",
            "colorbar": {
             "outlinewidth": 0,
             "ticks": ""
            }
           }
          ],
          "histogram2d": [
           {
            "type": "histogram2d",
            "colorbar": {
             "outlinewidth": 0,
             "ticks": ""
            },
            "colorscale": [
             [
              0.0,
              "#0d0887"
             ],
             [
              0.1111111111111111,
              "#46039f"
             ],
             [
              0.2222222222222222,
              "#7201a8"
             ],
             [
              0.3333333333333333,
              "#9c179e"
             ],
             [
              0.4444444444444444,
              "#bd3786"
             ],
             [
              0.5555555555555556,
              "#d8576b"
             ],
             [
              0.6666666666666666,
              "#ed7953"
             ],
             [
              0.7777777777777778,
              "#fb9f3a"
             ],
             [
              0.8888888888888888,
              "#fdca26"
             ],
             [
              1.0,
              "#f0f921"
             ]
            ]
           }
          ],
          "heatmap": [
           {
            "type": "heatmap",
            "colorbar": {
             "outlinewidth": 0,
             "ticks": ""
            },
            "colorscale": [
             [
              0.0,
              "#0d0887"
             ],
             [
              0.1111111111111111,
              "#46039f"
             ],
             [
              0.2222222222222222,
              "#7201a8"
             ],
             [
              0.3333333333333333,
              "#9c179e"
             ],
             [
              0.4444444444444444,
              "#bd3786"
             ],
             [
              0.5555555555555556,
              "#d8576b"
             ],
             [
              0.6666666666666666,
              "#ed7953"
             ],
             [
              0.7777777777777778,
              "#fb9f3a"
             ],
             [
              0.8888888888888888,
              "#fdca26"
             ],
             [
              1.0,
              "#f0f921"
             ]
            ]
           }
          ],
          "heatmapgl": [
           {
            "type": "heatmapgl",
            "colorbar": {
             "outlinewidth": 0,
             "ticks": ""
            },
            "colorscale": [
             [
              0.0,
              "#0d0887"
             ],
             [
              0.1111111111111111,
              "#46039f"
             ],
             [
              0.2222222222222222,
              "#7201a8"
             ],
             [
              0.3333333333333333,
              "#9c179e"
             ],
             [
              0.4444444444444444,
              "#bd3786"
             ],
             [
              0.5555555555555556,
              "#d8576b"
             ],
             [
              0.6666666666666666,
              "#ed7953"
             ],
             [
              0.7777777777777778,
              "#fb9f3a"
             ],
             [
              0.8888888888888888,
              "#fdca26"
             ],
             [
              1.0,
              "#f0f921"
             ]
            ]
           }
          ],
          "contourcarpet": [
           {
            "type": "contourcarpet",
            "colorbar": {
             "outlinewidth": 0,
             "ticks": ""
            }
           }
          ],
          "contour": [
           {
            "type": "contour",
            "colorbar": {
             "outlinewidth": 0,
             "ticks": ""
            },
            "colorscale": [
             [
              0.0,
              "#0d0887"
             ],
             [
              0.1111111111111111,
              "#46039f"
             ],
             [
              0.2222222222222222,
              "#7201a8"
             ],
             [
              0.3333333333333333,
              "#9c179e"
             ],
             [
              0.4444444444444444,
              "#bd3786"
             ],
             [
              0.5555555555555556,
              "#d8576b"
             ],
             [
              0.6666666666666666,
              "#ed7953"
             ],
             [
              0.7777777777777778,
              "#fb9f3a"
             ],
             [
              0.8888888888888888,
              "#fdca26"
             ],
             [
              1.0,
              "#f0f921"
             ]
            ]
           }
          ],
          "surface": [
           {
            "type": "surface",
            "colorbar": {
             "outlinewidth": 0,
             "ticks": ""
            },
            "colorscale": [
             [
              0.0,
              "#0d0887"
             ],
             [
              0.1111111111111111,
              "#46039f"
             ],
             [
              0.2222222222222222,
              "#7201a8"
             ],
             [
              0.3333333333333333,
              "#9c179e"
             ],
             [
              0.4444444444444444,
              "#bd3786"
             ],
             [
              0.5555555555555556,
              "#d8576b"
             ],
             [
              0.6666666666666666,
              "#ed7953"
             ],
             [
              0.7777777777777778,
              "#fb9f3a"
             ],
             [
              0.8888888888888888,
              "#fdca26"
             ],
             [
              1.0,
              "#f0f921"
             ]
            ]
           }
          ],
          "mesh3d": [
           {
            "type": "mesh3d",
            "colorbar": {
             "outlinewidth": 0,
             "ticks": ""
            }
           }
          ],
          "scatter": [
           {
            "fillpattern": {
             "fillmode": "overlay",
             "size": 10,
             "solidity": 0.2
            },
            "type": "scatter"
           }
          ],
          "parcoords": [
           {
            "type": "parcoords",
            "line": {
             "colorbar": {
              "outlinewidth": 0,
              "ticks": ""
             }
            }
           }
          ],
          "scatterpolargl": [
           {
            "type": "scatterpolargl",
            "marker": {
             "colorbar": {
              "outlinewidth": 0,
              "ticks": ""
             }
            }
           }
          ],
          "bar": [
           {
            "error_x": {
             "color": "#2a3f5f"
            },
            "error_y": {
             "color": "#2a3f5f"
            },
            "marker": {
             "line": {
              "color": "#E5ECF6",
              "width": 0.5
             },
             "pattern": {
              "fillmode": "overlay",
              "size": 10,
              "solidity": 0.2
             }
            },
            "type": "bar"
           }
          ],
          "scattergeo": [
           {
            "type": "scattergeo",
            "marker": {
             "colorbar": {
              "outlinewidth": 0,
              "ticks": ""
             }
            }
           }
          ],
          "scatterpolar": [
           {
            "type": "scatterpolar",
            "marker": {
             "colorbar": {
              "outlinewidth": 0,
              "ticks": ""
             }
            }
           }
          ],
          "histogram": [
           {
            "marker": {
             "pattern": {
              "fillmode": "overlay",
              "size": 10,
              "solidity": 0.2
             }
            },
            "type": "histogram"
           }
          ],
          "scattergl": [
           {
            "type": "scattergl",
            "marker": {
             "colorbar": {
              "outlinewidth": 0,
              "ticks": ""
             }
            }
           }
          ],
          "scatter3d": [
           {
            "type": "scatter3d",
            "line": {
             "colorbar": {
              "outlinewidth": 0,
              "ticks": ""
             }
            },
            "marker": {
             "colorbar": {
              "outlinewidth": 0,
              "ticks": ""
             }
            }
           }
          ],
          "scattermapbox": [
           {
            "type": "scattermapbox",
            "marker": {
             "colorbar": {
              "outlinewidth": 0,
              "ticks": ""
             }
            }
           }
          ],
          "scatterternary": [
           {
            "type": "scatterternary",
            "marker": {
             "colorbar": {
              "outlinewidth": 0,
              "ticks": ""
             }
            }
           }
          ],
          "scattercarpet": [
           {
            "type": "scattercarpet",
            "marker": {
             "colorbar": {
              "outlinewidth": 0,
              "ticks": ""
             }
            }
           }
          ],
          "carpet": [
           {
            "aaxis": {
             "endlinecolor": "#2a3f5f",
             "gridcolor": "white",
             "linecolor": "white",
             "minorgridcolor": "white",
             "startlinecolor": "#2a3f5f"
            },
            "baxis": {
             "endlinecolor": "#2a3f5f",
             "gridcolor": "white",
             "linecolor": "white",
             "minorgridcolor": "white",
             "startlinecolor": "#2a3f5f"
            },
            "type": "carpet"
           }
          ],
          "table": [
           {
            "cells": {
             "fill": {
              "color": "#EBF0F8"
             },
             "line": {
              "color": "white"
             }
            },
            "header": {
             "fill": {
              "color": "#C8D4E3"
             },
             "line": {
              "color": "white"
             }
            },
            "type": "table"
           }
          ],
          "barpolar": [
           {
            "marker": {
             "line": {
              "color": "#E5ECF6",
              "width": 0.5
             },
             "pattern": {
              "fillmode": "overlay",
              "size": 10,
              "solidity": 0.2
             }
            },
            "type": "barpolar"
           }
          ],
          "pie": [
           {
            "automargin": true,
            "type": "pie"
           }
          ]
         },
         "layout": {
          "autotypenumbers": "strict",
          "colorway": [
           "#636efa",
           "#EF553B",
           "#00cc96",
           "#ab63fa",
           "#FFA15A",
           "#19d3f3",
           "#FF6692",
           "#B6E880",
           "#FF97FF",
           "#FECB52"
          ],
          "font": {
           "color": "#2a3f5f"
          },
          "hovermode": "closest",
          "hoverlabel": {
           "align": "left"
          },
          "paper_bgcolor": "white",
          "plot_bgcolor": "#E5ECF6",
          "polar": {
           "bgcolor": "#E5ECF6",
           "angularaxis": {
            "gridcolor": "white",
            "linecolor": "white",
            "ticks": ""
           },
           "radialaxis": {
            "gridcolor": "white",
            "linecolor": "white",
            "ticks": ""
           }
          },
          "ternary": {
           "bgcolor": "#E5ECF6",
           "aaxis": {
            "gridcolor": "white",
            "linecolor": "white",
            "ticks": ""
           },
           "baxis": {
            "gridcolor": "white",
            "linecolor": "white",
            "ticks": ""
           },
           "caxis": {
            "gridcolor": "white",
            "linecolor": "white",
            "ticks": ""
           }
          },
          "coloraxis": {
           "colorbar": {
            "outlinewidth": 0,
            "ticks": ""
           }
          },
          "colorscale": {
           "sequential": [
            [
             0.0,
             "#0d0887"
            ],
            [
             0.1111111111111111,
             "#46039f"
            ],
            [
             0.2222222222222222,
             "#7201a8"
            ],
            [
             0.3333333333333333,
             "#9c179e"
            ],
            [
             0.4444444444444444,
             "#bd3786"
            ],
            [
             0.5555555555555556,
             "#d8576b"
            ],
            [
             0.6666666666666666,
             "#ed7953"
            ],
            [
             0.7777777777777778,
             "#fb9f3a"
            ],
            [
             0.8888888888888888,
             "#fdca26"
            ],
            [
             1.0,
             "#f0f921"
            ]
           ],
           "sequentialminus": [
            [
             0.0,
             "#0d0887"
            ],
            [
             0.1111111111111111,
             "#46039f"
            ],
            [
             0.2222222222222222,
             "#7201a8"
            ],
            [
             0.3333333333333333,
             "#9c179e"
            ],
            [
             0.4444444444444444,
             "#bd3786"
            ],
            [
             0.5555555555555556,
             "#d8576b"
            ],
            [
             0.6666666666666666,
             "#ed7953"
            ],
            [
             0.7777777777777778,
             "#fb9f3a"
            ],
            [
             0.8888888888888888,
             "#fdca26"
            ],
            [
             1.0,
             "#f0f921"
            ]
           ],
           "diverging": [
            [
             0,
             "#8e0152"
            ],
            [
             0.1,
             "#c51b7d"
            ],
            [
             0.2,
             "#de77ae"
            ],
            [
             0.3,
             "#f1b6da"
            ],
            [
             0.4,
             "#fde0ef"
            ],
            [
             0.5,
             "#f7f7f7"
            ],
            [
             0.6,
             "#e6f5d0"
            ],
            [
             0.7,
             "#b8e186"
            ],
            [
             0.8,
             "#7fbc41"
            ],
            [
             0.9,
             "#4d9221"
            ],
            [
             1,
             "#276419"
            ]
           ]
          },
          "xaxis": {
           "gridcolor": "white",
           "linecolor": "white",
           "ticks": "",
           "title": {
            "standoff": 15
           },
           "zerolinecolor": "white",
           "automargin": true,
           "zerolinewidth": 2
          },
          "yaxis": {
           "gridcolor": "white",
           "linecolor": "white",
           "ticks": "",
           "title": {
            "standoff": 15
           },
           "zerolinecolor": "white",
           "automargin": true,
           "zerolinewidth": 2
          },
          "scene": {
           "xaxis": {
            "backgroundcolor": "#E5ECF6",
            "gridcolor": "white",
            "linecolor": "white",
            "showbackground": true,
            "ticks": "",
            "zerolinecolor": "white",
            "gridwidth": 2
           },
           "yaxis": {
            "backgroundcolor": "#E5ECF6",
            "gridcolor": "white",
            "linecolor": "white",
            "showbackground": true,
            "ticks": "",
            "zerolinecolor": "white",
            "gridwidth": 2
           },
           "zaxis": {
            "backgroundcolor": "#E5ECF6",
            "gridcolor": "white",
            "linecolor": "white",
            "showbackground": true,
            "ticks": "",
            "zerolinecolor": "white",
            "gridwidth": 2
           }
          },
          "shapedefaults": {
           "line": {
            "color": "#2a3f5f"
           }
          },
          "annotationdefaults": {
           "arrowcolor": "#2a3f5f",
           "arrowhead": 0,
           "arrowwidth": 1
          },
          "geo": {
           "bgcolor": "white",
           "landcolor": "#E5ECF6",
           "subunitcolor": "white",
           "showland": true,
           "showlakes": true,
           "lakecolor": "white"
          },
          "title": {
           "x": 0.05
          },
          "mapbox": {
           "style": "light"
          }
         }
        },
        "mapbox": {
         "domain": {
          "x": [
           0.0,
           1.0
          ],
          "y": [
           0.0,
           1.0
          ]
         },
         "center": {
          "lat": 46.36566445377358,
          "lon": 27.557526109905663
         },
         "zoom": 8,
         "style": "open-street-map"
        },
        "legend": {
         "tracegroupgap": 0,
         "itemsizing": "constant"
        },
        "margin": {
         "t": 0,
         "r": 0,
         "l": 0,
         "b": 0
        },
        "height": 800,
        "width": 800
       },
       "config": {
        "plotlyServerURL": "https://plot.ly"
       }
      },
      "text/html": "<div>                            <div id=\"b2978053-a550-4c74-88a3-f4bc2a0e0f07\" class=\"plotly-graph-div\" style=\"height:800px; width:800px;\"></div>            <script type=\"text/javascript\">                require([\"plotly\"], function(Plotly) {                    window.PLOTLYENV=window.PLOTLYENV || {};                                    if (document.getElementById(\"b2978053-a550-4c74-88a3-f4bc2a0e0f07\")) {                    Plotly.newPlot(                        \"b2978053-a550-4c74-88a3-f4bc2a0e0f07\",                        [{\"hovertemplate\":\"size=%{marker.size}<br>lat=%{lat}<br>lon=%{lon}<extra></extra>\",\"lat\":[46.4685241,46.4696046,46.4695874,46.4712319,46.4726652,46.4741164,46.4826306,46.4810818,46.4585416,46.4795517,46.4767103,46.4781292,46.4825077,46.4678032,46.4827731,46.4605448,46.464574,46.4627922,46.4652614,46.4653313,46.4676739,46.4695514,46.4696025,46.479389,46.4587919,46.4589643,46.47553,46.458315,46.456764,46.4569137,46.45703,46.4739648,46.4727833,46.4713819,46.4754186,46.4666034,46.4646603,46.4565548,46.456835,46.4825536,46.4616684,46.4717759,46.482574,46.4826374,46.4828389,46.481461,46.4819155,46.4825449,46.4825514,46.4825761,46.4826007,46.4826778,46.4826977,46.482718,46.48322,46.4835193,46.4672725,46.4788416,46.4788292,46.4731488,46.4733683,46.4682663,46.4772249,46.4651614,46.4650986,46.4649526,46.4596082,46.4642618,46.463479,46.4633603,46.4637614,46.4652145,46.4695036,46.4631282,46.4618813,46.4618601,46.4617649,46.4720443,46.4707841,46.4806538,46.482563,46.4825312,46.4822323,46.472545,46.4701879,46.4762418,46.4784489,46.4670828,46.4586891,46.4603687,46.4610333,46.4678624,46.4697442,46.471519,46.466796,46.4673868,46.4564887,46.4591105,46.4592631,46.4825165,46.4826224,46.4677793,38.0518717,47.4883812,47.5599988,41.6437445,46.4682663,46.4695514,46.4772249,46.4707841,46.472545,46.4739648,46.482574,46.4806538,47.4883812,46.479389,46.4762418,46.4767103,46.4825536,41.6437445,46.482718,46.4603687,46.4642618,46.4618813,46.4652145,46.4652614,46.4673868,46.4695036,46.4696046,46.4788416,46.4586891,46.4587919,46.4754186,46.45703,46.4565548,46.456835,46.4569137,46.4733683,46.4726652,46.4712319,46.4747168,46.4653313,46.464574,46.4564887,46.456764,46.4822323,46.4610333,46.471519,46.4826224,46.4826306,46.4827731,46.4810818,46.481461,46.4825312,46.4825449,46.482563,46.4825761,46.4826374,46.4826778,46.4826977,46.4828389,46.48322,46.4670828,46.4788292,46.4784489,38.0518717,46.4731488,46.4678624,46.4696025,46.4650986,46.4649526,46.4646603,46.4592631,46.4637614,46.4633603,46.4631282,46.463479,46.4651614,46.4685241,46.4627922,46.4618601,46.4617649,46.4616684,46.4717759,46.4701879,46.4795517,46.4825514,46.4825165,46.4819155,46.4720443,46.4697442,47.5599988,46.4781292,46.466796,46.4585416,46.4596082,46.4605448,46.4678032,46.4695874,46.4713819,46.4666034,46.4672725,46.4563837,46.4589643,46.4591105,46.4825077,46.4826007,46.4676739,46.4727833,46.458315,46.47553,46.4677793],\"legendgroup\":\"\",\"lon\":[30.7382746,30.7385158,30.7388018,30.7390156,30.7392481,30.7394724,30.7386463,30.7405321,30.7294143,30.7403127,30.7398734,30.7400928,30.7407467,30.7377191,30.7366525,30.731018,30.7347478,30.7331574,30.7353529,30.7354183,30.7375929,30.7385758,30.7385505,30.7402876,30.7295397,30.7296496,30.739691,30.7297201,30.7316818,30.7315085,30.7313571,30.739449,30.7392664,30.7390369,30.7396737,30.7366197,30.7348183,30.7321146,30.7316019,30.7407544,30.7321265,30.7390929,30.7386386,30.7385515,30.7366622,30.7405903,30.740661,30.7399965,30.7398766,30.7394251,30.739074,30.737986,30.7377068,30.7374086,30.7367184,30.7367625,30.7372092,30.7402029,30.740201,30.7393229,30.7393568,30.7380968,30.7240004,30.7352711,30.7352121,30.7350833,30.7301689,30.7344721,30.7337787,30.7336713,30.7340301,30.7353177,30.7384483,30.7334613,30.7323244,30.7320639,30.7322184,30.7391335,30.7389571,30.7404634,30.739665,30.7402726,30.7407068,30.7392259,30.7388747,30.739801,30.7401422,30.7370422,30.7294809,30.7308596,30.7314559,30.7377674,30.738821,30.7390564,30.7367895,30.7373184,30.7323324,30.7297362,30.7298541,30.7405707,30.7387605,30.7376958,-122.5108101,-3.1071943,-3.1353535,-85.275418,30.7380968,30.7385758,30.7240004,30.7389571,30.7392259,30.739449,30.7386386,30.7404634,-3.1071943,30.7402876,30.739801,30.7398734,30.7407544,-85.275418,30.7374086,30.7308596,30.7344721,30.7323244,30.7353177,30.7353529,30.7373184,30.7384483,30.7385158,30.7402029,30.7294809,30.7295397,30.7396737,30.7313571,30.7321146,30.7316019,30.7315085,30.7393568,30.7392481,30.7390156,30.7395653,30.7354183,30.7347478,30.7323324,30.7316818,30.7407068,30.7314559,30.7390564,30.7387605,30.7386463,30.7366525,30.7405321,30.7405903,30.7402726,30.7399965,30.739665,30.7394251,30.7385515,30.737986,30.7377068,30.7366622,30.7367184,30.7370422,30.740201,30.7401422,-122.5108101,30.7393229,30.7377674,30.7385505,30.7352121,30.7350833,30.7348183,30.7298541,30.7340301,30.7336713,30.7334613,30.7337787,30.7352711,30.7382746,30.7331574,30.7320639,30.7322184,30.7321265,30.7390929,30.7388747,30.7403127,30.7398766,30.7405707,30.740661,30.7391335,30.738821,-3.1353535,30.7400928,30.7367895,30.7294143,30.7301689,30.731018,30.7377191,30.7388018,30.7390369,30.7366197,30.7372092,30.7328079,30.7296496,30.7297362,30.7407467,30.739074,30.7375929,30.7392664,30.7297201,30.739691,30.7376958],\"marker\":{\"color\":\"#636efa\",\"size\":[1,1,1,1,1,1,1,1,1,1,1,1,1,1,1,1,1,1,1,1,1,1,1,1,1,1,1,1,1,1,1,1,1,1,1,1,1,1,1,1,1,1,1,1,1,1,1,1,1,1,1,1,1,1,1,1,1,1,1,1,1,1,1,1,1,1,1,1,1,1,1,1,1,1,1,1,1,1,1,1,1,1,1,1,1,1,1,1,1,1,1,1,1,1,1,1,1,1,1,1,1,1,1,1,1,1,1,1,1,1,1,1,1,1,1,1,1,1,1,1,1,1,1,1,1,1,1,1,1,1,1,1,1,1,1,1,1,1,1,1,1,1,1,1,1,1,1,1,1,1,1,1,1,1,1,1,1,1,1,1,1,1,1,1,1,1,1,1,1,1,1,1,1,1,1,1,1,1,1,1,1,1,1,1,1,1,1,1,1,1,1,1,1,1,1,1,1,1,1,1,1,1,1,1,1,1,1,1,1,1,1,1],\"sizemode\":\"area\",\"sizeref\":0.0025},\"mode\":\"markers\",\"name\":\"\",\"showlegend\":false,\"subplot\":\"mapbox\",\"type\":\"scattermapbox\"}],                        {\"template\":{\"data\":{\"histogram2dcontour\":[{\"type\":\"histogram2dcontour\",\"colorbar\":{\"outlinewidth\":0,\"ticks\":\"\"},\"colorscale\":[[0.0,\"#0d0887\"],[0.1111111111111111,\"#46039f\"],[0.2222222222222222,\"#7201a8\"],[0.3333333333333333,\"#9c179e\"],[0.4444444444444444,\"#bd3786\"],[0.5555555555555556,\"#d8576b\"],[0.6666666666666666,\"#ed7953\"],[0.7777777777777778,\"#fb9f3a\"],[0.8888888888888888,\"#fdca26\"],[1.0,\"#f0f921\"]]}],\"choropleth\":[{\"type\":\"choropleth\",\"colorbar\":{\"outlinewidth\":0,\"ticks\":\"\"}}],\"histogram2d\":[{\"type\":\"histogram2d\",\"colorbar\":{\"outlinewidth\":0,\"ticks\":\"\"},\"colorscale\":[[0.0,\"#0d0887\"],[0.1111111111111111,\"#46039f\"],[0.2222222222222222,\"#7201a8\"],[0.3333333333333333,\"#9c179e\"],[0.4444444444444444,\"#bd3786\"],[0.5555555555555556,\"#d8576b\"],[0.6666666666666666,\"#ed7953\"],[0.7777777777777778,\"#fb9f3a\"],[0.8888888888888888,\"#fdca26\"],[1.0,\"#f0f921\"]]}],\"heatmap\":[{\"type\":\"heatmap\",\"colorbar\":{\"outlinewidth\":0,\"ticks\":\"\"},\"colorscale\":[[0.0,\"#0d0887\"],[0.1111111111111111,\"#46039f\"],[0.2222222222222222,\"#7201a8\"],[0.3333333333333333,\"#9c179e\"],[0.4444444444444444,\"#bd3786\"],[0.5555555555555556,\"#d8576b\"],[0.6666666666666666,\"#ed7953\"],[0.7777777777777778,\"#fb9f3a\"],[0.8888888888888888,\"#fdca26\"],[1.0,\"#f0f921\"]]}],\"heatmapgl\":[{\"type\":\"heatmapgl\",\"colorbar\":{\"outlinewidth\":0,\"ticks\":\"\"},\"colorscale\":[[0.0,\"#0d0887\"],[0.1111111111111111,\"#46039f\"],[0.2222222222222222,\"#7201a8\"],[0.3333333333333333,\"#9c179e\"],[0.4444444444444444,\"#bd3786\"],[0.5555555555555556,\"#d8576b\"],[0.6666666666666666,\"#ed7953\"],[0.7777777777777778,\"#fb9f3a\"],[0.8888888888888888,\"#fdca26\"],[1.0,\"#f0f921\"]]}],\"contourcarpet\":[{\"type\":\"contourcarpet\",\"colorbar\":{\"outlinewidth\":0,\"ticks\":\"\"}}],\"contour\":[{\"type\":\"contour\",\"colorbar\":{\"outlinewidth\":0,\"ticks\":\"\"},\"colorscale\":[[0.0,\"#0d0887\"],[0.1111111111111111,\"#46039f\"],[0.2222222222222222,\"#7201a8\"],[0.3333333333333333,\"#9c179e\"],[0.4444444444444444,\"#bd3786\"],[0.5555555555555556,\"#d8576b\"],[0.6666666666666666,\"#ed7953\"],[0.7777777777777778,\"#fb9f3a\"],[0.8888888888888888,\"#fdca26\"],[1.0,\"#f0f921\"]]}],\"surface\":[{\"type\":\"surface\",\"colorbar\":{\"outlinewidth\":0,\"ticks\":\"\"},\"colorscale\":[[0.0,\"#0d0887\"],[0.1111111111111111,\"#46039f\"],[0.2222222222222222,\"#7201a8\"],[0.3333333333333333,\"#9c179e\"],[0.4444444444444444,\"#bd3786\"],[0.5555555555555556,\"#d8576b\"],[0.6666666666666666,\"#ed7953\"],[0.7777777777777778,\"#fb9f3a\"],[0.8888888888888888,\"#fdca26\"],[1.0,\"#f0f921\"]]}],\"mesh3d\":[{\"type\":\"mesh3d\",\"colorbar\":{\"outlinewidth\":0,\"ticks\":\"\"}}],\"scatter\":[{\"fillpattern\":{\"fillmode\":\"overlay\",\"size\":10,\"solidity\":0.2},\"type\":\"scatter\"}],\"parcoords\":[{\"type\":\"parcoords\",\"line\":{\"colorbar\":{\"outlinewidth\":0,\"ticks\":\"\"}}}],\"scatterpolargl\":[{\"type\":\"scatterpolargl\",\"marker\":{\"colorbar\":{\"outlinewidth\":0,\"ticks\":\"\"}}}],\"bar\":[{\"error_x\":{\"color\":\"#2a3f5f\"},\"error_y\":{\"color\":\"#2a3f5f\"},\"marker\":{\"line\":{\"color\":\"#E5ECF6\",\"width\":0.5},\"pattern\":{\"fillmode\":\"overlay\",\"size\":10,\"solidity\":0.2}},\"type\":\"bar\"}],\"scattergeo\":[{\"type\":\"scattergeo\",\"marker\":{\"colorbar\":{\"outlinewidth\":0,\"ticks\":\"\"}}}],\"scatterpolar\":[{\"type\":\"scatterpolar\",\"marker\":{\"colorbar\":{\"outlinewidth\":0,\"ticks\":\"\"}}}],\"histogram\":[{\"marker\":{\"pattern\":{\"fillmode\":\"overlay\",\"size\":10,\"solidity\":0.2}},\"type\":\"histogram\"}],\"scattergl\":[{\"type\":\"scattergl\",\"marker\":{\"colorbar\":{\"outlinewidth\":0,\"ticks\":\"\"}}}],\"scatter3d\":[{\"type\":\"scatter3d\",\"line\":{\"colorbar\":{\"outlinewidth\":0,\"ticks\":\"\"}},\"marker\":{\"colorbar\":{\"outlinewidth\":0,\"ticks\":\"\"}}}],\"scattermapbox\":[{\"type\":\"scattermapbox\",\"marker\":{\"colorbar\":{\"outlinewidth\":0,\"ticks\":\"\"}}}],\"scatterternary\":[{\"type\":\"scatterternary\",\"marker\":{\"colorbar\":{\"outlinewidth\":0,\"ticks\":\"\"}}}],\"scattercarpet\":[{\"type\":\"scattercarpet\",\"marker\":{\"colorbar\":{\"outlinewidth\":0,\"ticks\":\"\"}}}],\"carpet\":[{\"aaxis\":{\"endlinecolor\":\"#2a3f5f\",\"gridcolor\":\"white\",\"linecolor\":\"white\",\"minorgridcolor\":\"white\",\"startlinecolor\":\"#2a3f5f\"},\"baxis\":{\"endlinecolor\":\"#2a3f5f\",\"gridcolor\":\"white\",\"linecolor\":\"white\",\"minorgridcolor\":\"white\",\"startlinecolor\":\"#2a3f5f\"},\"type\":\"carpet\"}],\"table\":[{\"cells\":{\"fill\":{\"color\":\"#EBF0F8\"},\"line\":{\"color\":\"white\"}},\"header\":{\"fill\":{\"color\":\"#C8D4E3\"},\"line\":{\"color\":\"white\"}},\"type\":\"table\"}],\"barpolar\":[{\"marker\":{\"line\":{\"color\":\"#E5ECF6\",\"width\":0.5},\"pattern\":{\"fillmode\":\"overlay\",\"size\":10,\"solidity\":0.2}},\"type\":\"barpolar\"}],\"pie\":[{\"automargin\":true,\"type\":\"pie\"}]},\"layout\":{\"autotypenumbers\":\"strict\",\"colorway\":[\"#636efa\",\"#EF553B\",\"#00cc96\",\"#ab63fa\",\"#FFA15A\",\"#19d3f3\",\"#FF6692\",\"#B6E880\",\"#FF97FF\",\"#FECB52\"],\"font\":{\"color\":\"#2a3f5f\"},\"hovermode\":\"closest\",\"hoverlabel\":{\"align\":\"left\"},\"paper_bgcolor\":\"white\",\"plot_bgcolor\":\"#E5ECF6\",\"polar\":{\"bgcolor\":\"#E5ECF6\",\"angularaxis\":{\"gridcolor\":\"white\",\"linecolor\":\"white\",\"ticks\":\"\"},\"radialaxis\":{\"gridcolor\":\"white\",\"linecolor\":\"white\",\"ticks\":\"\"}},\"ternary\":{\"bgcolor\":\"#E5ECF6\",\"aaxis\":{\"gridcolor\":\"white\",\"linecolor\":\"white\",\"ticks\":\"\"},\"baxis\":{\"gridcolor\":\"white\",\"linecolor\":\"white\",\"ticks\":\"\"},\"caxis\":{\"gridcolor\":\"white\",\"linecolor\":\"white\",\"ticks\":\"\"}},\"coloraxis\":{\"colorbar\":{\"outlinewidth\":0,\"ticks\":\"\"}},\"colorscale\":{\"sequential\":[[0.0,\"#0d0887\"],[0.1111111111111111,\"#46039f\"],[0.2222222222222222,\"#7201a8\"],[0.3333333333333333,\"#9c179e\"],[0.4444444444444444,\"#bd3786\"],[0.5555555555555556,\"#d8576b\"],[0.6666666666666666,\"#ed7953\"],[0.7777777777777778,\"#fb9f3a\"],[0.8888888888888888,\"#fdca26\"],[1.0,\"#f0f921\"]],\"sequentialminus\":[[0.0,\"#0d0887\"],[0.1111111111111111,\"#46039f\"],[0.2222222222222222,\"#7201a8\"],[0.3333333333333333,\"#9c179e\"],[0.4444444444444444,\"#bd3786\"],[0.5555555555555556,\"#d8576b\"],[0.6666666666666666,\"#ed7953\"],[0.7777777777777778,\"#fb9f3a\"],[0.8888888888888888,\"#fdca26\"],[1.0,\"#f0f921\"]],\"diverging\":[[0,\"#8e0152\"],[0.1,\"#c51b7d\"],[0.2,\"#de77ae\"],[0.3,\"#f1b6da\"],[0.4,\"#fde0ef\"],[0.5,\"#f7f7f7\"],[0.6,\"#e6f5d0\"],[0.7,\"#b8e186\"],[0.8,\"#7fbc41\"],[0.9,\"#4d9221\"],[1,\"#276419\"]]},\"xaxis\":{\"gridcolor\":\"white\",\"linecolor\":\"white\",\"ticks\":\"\",\"title\":{\"standoff\":15},\"zerolinecolor\":\"white\",\"automargin\":true,\"zerolinewidth\":2},\"yaxis\":{\"gridcolor\":\"white\",\"linecolor\":\"white\",\"ticks\":\"\",\"title\":{\"standoff\":15},\"zerolinecolor\":\"white\",\"automargin\":true,\"zerolinewidth\":2},\"scene\":{\"xaxis\":{\"backgroundcolor\":\"#E5ECF6\",\"gridcolor\":\"white\",\"linecolor\":\"white\",\"showbackground\":true,\"ticks\":\"\",\"zerolinecolor\":\"white\",\"gridwidth\":2},\"yaxis\":{\"backgroundcolor\":\"#E5ECF6\",\"gridcolor\":\"white\",\"linecolor\":\"white\",\"showbackground\":true,\"ticks\":\"\",\"zerolinecolor\":\"white\",\"gridwidth\":2},\"zaxis\":{\"backgroundcolor\":\"#E5ECF6\",\"gridcolor\":\"white\",\"linecolor\":\"white\",\"showbackground\":true,\"ticks\":\"\",\"zerolinecolor\":\"white\",\"gridwidth\":2}},\"shapedefaults\":{\"line\":{\"color\":\"#2a3f5f\"}},\"annotationdefaults\":{\"arrowcolor\":\"#2a3f5f\",\"arrowhead\":0,\"arrowwidth\":1},\"geo\":{\"bgcolor\":\"white\",\"landcolor\":\"#E5ECF6\",\"subunitcolor\":\"white\",\"showland\":true,\"showlakes\":true,\"lakecolor\":\"white\"},\"title\":{\"x\":0.05},\"mapbox\":{\"style\":\"light\"}}},\"mapbox\":{\"domain\":{\"x\":[0.0,1.0],\"y\":[0.0,1.0]},\"center\":{\"lat\":46.36566445377358,\"lon\":27.557526109905663},\"zoom\":8,\"style\":\"open-street-map\"},\"legend\":{\"tracegroupgap\":0,\"itemsizing\":\"constant\"},\"margin\":{\"t\":0,\"r\":0,\"l\":0,\"b\":0},\"height\":800,\"width\":800},                        {\"responsive\": true}                    ).then(function(){\n                            \nvar gd = document.getElementById('b2978053-a550-4c74-88a3-f4bc2a0e0f07');\nvar x = new MutationObserver(function (mutations, observer) {{\n        var display = window.getComputedStyle(gd).display;\n        if (!display || display === 'none') {{\n            console.log([gd, 'removed!']);\n            Plotly.purge(gd);\n            observer.disconnect();\n        }}\n}});\n\n// Listen for the removal of the full notebook cells\nvar notebookContainer = gd.closest('#notebook-container');\nif (notebookContainer) {{\n    x.observe(notebookContainer, {childList: true});\n}}\n\n// Listen for the clearing of the current output cell\nvar outputEl = gd.closest('.output');\nif (outputEl) {{\n    x.observe(outputEl, {childList: true});\n}}\n\n                        })                };                });            </script>        </div>"
     },
     "metadata": {},
     "output_type": "display_data"
    }
   ],
   "source": [
    "test_df['color'] = 'red'\n",
    "test_df['size']= 1\n",
    "\n",
    "\n",
    "fig = px.scatter_mapbox(test_df,\n",
    "                        lat=\"lat\",\n",
    "                        lon=\"lon\",\n",
    "                        size='size',\n",
    "                        zoom=8,\n",
    "                        height=800,\n",
    "                        width=800)\n",
    "\n",
    "fig.update_layout(mapbox_style=\"open-street-map\")\n",
    "fig.update_layout(margin={\"r\":0,\"t\":0,\"l\":0,\"b\":0})\n",
    "fig.show()"
   ],
   "metadata": {
    "collapsed": false
   }
  },
  {
   "cell_type": "code",
   "execution_count": 78,
   "outputs": [
    {
     "data": {
      "text/plain": "      Unnamed: 0                   Id         running_time  \\\n0              0 -4773019581999572651  2022-01-24 18:30:21   \n1              1 -7575630690398473489  2022-01-24 06:53:53   \n2              2 -6264582368520213833  2022-01-24 10:00:59   \n3              3  5964315354301636538  2022-01-24 14:28:05   \n4              4  1372379574816145639  2022-01-24 11:57:29   \n...          ...                  ...                  ...   \n4995        4995  7096714159023973792  2022-01-24 21:10:38   \n4996        4996 -3836026425968071806  2022-01-24 15:10:27   \n4997        4997  2926216435675216636  2022-01-24 13:57:04   \n4998        4998 -6677307480063489707  2022-01-24 08:46:13   \n4999        4999 -4845695090750648713  2022-01-24 14:57:46   \n\n           completed_time  route_distance_km  delta_time  is_afternoon  \\\n0     2022-01-24 18:44:43              3.740       862.0             0   \n1     2022-01-24 07:06:26              3.526       753.0             0   \n2     2022-01-24 10:15:58              5.071       899.0             0   \n3     2022-01-24 14:35:08              2.867       423.0             1   \n4     2022-01-24 12:06:29              3.751       540.0             0   \n...                   ...                ...         ...           ...   \n4995  2022-01-24 21:23:53              7.397       795.0             0   \n4996  2022-01-24 15:20:21              1.948       594.0             1   \n4997  2022-01-24 14:03:18              2.547       374.0             1   \n4998  2022-01-24 08:55:34              3.013       561.0             0   \n4999  2022-01-24 15:11:25              2.323       819.0             1   \n\n      is_evening  is_morning  is_night  morning_peak_time  evening_peak_time  \n0              1           0         0                  0                  1  \n1              0           1         0                  0                  0  \n2              0           1         0                  0                  0  \n3              0           0         0                  0                  0  \n4              0           1         0                  0                  0  \n...          ...         ...       ...                ...                ...  \n4995           0           0         1                  0                  0  \n4996           0           0         0                  0                  0  \n4997           0           0         0                  0                  0  \n4998           0           1         0                  1                  0  \n4999           0           0         0                  0                  0  \n\n[5000 rows x 12 columns]",
      "text/html": "<div>\n<style scoped>\n    .dataframe tbody tr th:only-of-type {\n        vertical-align: middle;\n    }\n\n    .dataframe tbody tr th {\n        vertical-align: top;\n    }\n\n    .dataframe thead th {\n        text-align: right;\n    }\n</style>\n<table border=\"1\" class=\"dataframe\">\n  <thead>\n    <tr style=\"text-align: right;\">\n      <th></th>\n      <th>Unnamed: 0</th>\n      <th>Id</th>\n      <th>running_time</th>\n      <th>completed_time</th>\n      <th>route_distance_km</th>\n      <th>delta_time</th>\n      <th>is_afternoon</th>\n      <th>is_evening</th>\n      <th>is_morning</th>\n      <th>is_night</th>\n      <th>morning_peak_time</th>\n      <th>evening_peak_time</th>\n    </tr>\n  </thead>\n  <tbody>\n    <tr>\n      <th>0</th>\n      <td>0</td>\n      <td>-4773019581999572651</td>\n      <td>2022-01-24 18:30:21</td>\n      <td>2022-01-24 18:44:43</td>\n      <td>3.740</td>\n      <td>862.0</td>\n      <td>0</td>\n      <td>1</td>\n      <td>0</td>\n      <td>0</td>\n      <td>0</td>\n      <td>1</td>\n    </tr>\n    <tr>\n      <th>1</th>\n      <td>1</td>\n      <td>-7575630690398473489</td>\n      <td>2022-01-24 06:53:53</td>\n      <td>2022-01-24 07:06:26</td>\n      <td>3.526</td>\n      <td>753.0</td>\n      <td>0</td>\n      <td>0</td>\n      <td>1</td>\n      <td>0</td>\n      <td>0</td>\n      <td>0</td>\n    </tr>\n    <tr>\n      <th>2</th>\n      <td>2</td>\n      <td>-6264582368520213833</td>\n      <td>2022-01-24 10:00:59</td>\n      <td>2022-01-24 10:15:58</td>\n      <td>5.071</td>\n      <td>899.0</td>\n      <td>0</td>\n      <td>0</td>\n      <td>1</td>\n      <td>0</td>\n      <td>0</td>\n      <td>0</td>\n    </tr>\n    <tr>\n      <th>3</th>\n      <td>3</td>\n      <td>5964315354301636538</td>\n      <td>2022-01-24 14:28:05</td>\n      <td>2022-01-24 14:35:08</td>\n      <td>2.867</td>\n      <td>423.0</td>\n      <td>1</td>\n      <td>0</td>\n      <td>0</td>\n      <td>0</td>\n      <td>0</td>\n      <td>0</td>\n    </tr>\n    <tr>\n      <th>4</th>\n      <td>4</td>\n      <td>1372379574816145639</td>\n      <td>2022-01-24 11:57:29</td>\n      <td>2022-01-24 12:06:29</td>\n      <td>3.751</td>\n      <td>540.0</td>\n      <td>0</td>\n      <td>0</td>\n      <td>1</td>\n      <td>0</td>\n      <td>0</td>\n      <td>0</td>\n    </tr>\n    <tr>\n      <th>...</th>\n      <td>...</td>\n      <td>...</td>\n      <td>...</td>\n      <td>...</td>\n      <td>...</td>\n      <td>...</td>\n      <td>...</td>\n      <td>...</td>\n      <td>...</td>\n      <td>...</td>\n      <td>...</td>\n      <td>...</td>\n    </tr>\n    <tr>\n      <th>4995</th>\n      <td>4995</td>\n      <td>7096714159023973792</td>\n      <td>2022-01-24 21:10:38</td>\n      <td>2022-01-24 21:23:53</td>\n      <td>7.397</td>\n      <td>795.0</td>\n      <td>0</td>\n      <td>0</td>\n      <td>0</td>\n      <td>1</td>\n      <td>0</td>\n      <td>0</td>\n    </tr>\n    <tr>\n      <th>4996</th>\n      <td>4996</td>\n      <td>-3836026425968071806</td>\n      <td>2022-01-24 15:10:27</td>\n      <td>2022-01-24 15:20:21</td>\n      <td>1.948</td>\n      <td>594.0</td>\n      <td>1</td>\n      <td>0</td>\n      <td>0</td>\n      <td>0</td>\n      <td>0</td>\n      <td>0</td>\n    </tr>\n    <tr>\n      <th>4997</th>\n      <td>4997</td>\n      <td>2926216435675216636</td>\n      <td>2022-01-24 13:57:04</td>\n      <td>2022-01-24 14:03:18</td>\n      <td>2.547</td>\n      <td>374.0</td>\n      <td>1</td>\n      <td>0</td>\n      <td>0</td>\n      <td>0</td>\n      <td>0</td>\n      <td>0</td>\n    </tr>\n    <tr>\n      <th>4998</th>\n      <td>4998</td>\n      <td>-6677307480063489707</td>\n      <td>2022-01-24 08:46:13</td>\n      <td>2022-01-24 08:55:34</td>\n      <td>3.013</td>\n      <td>561.0</td>\n      <td>0</td>\n      <td>0</td>\n      <td>1</td>\n      <td>0</td>\n      <td>1</td>\n      <td>0</td>\n    </tr>\n    <tr>\n      <th>4999</th>\n      <td>4999</td>\n      <td>-4845695090750648713</td>\n      <td>2022-01-24 14:57:46</td>\n      <td>2022-01-24 15:11:25</td>\n      <td>2.323</td>\n      <td>819.0</td>\n      <td>1</td>\n      <td>0</td>\n      <td>0</td>\n      <td>0</td>\n      <td>0</td>\n      <td>0</td>\n    </tr>\n  </tbody>\n</table>\n<p>5000 rows × 12 columns</p>\n</div>"
     },
     "execution_count": 78,
     "metadata": {},
     "output_type": "execute_result"
    }
   ],
   "source": [],
   "metadata": {
    "collapsed": false
   }
  },
  {
   "cell_type": "code",
   "execution_count": 79,
   "outputs": [
    {
     "data": {
      "text/plain": "                       Id         running_time       completed_time  \\\n0    -4773019581999572651  2022-01-24 18:30:21  2022-01-24 18:44:43   \n1    -7575630690398473489  2022-01-24 06:53:53  2022-01-24 07:06:26   \n2    -6264582368520213833  2022-01-24 10:00:59  2022-01-24 10:15:58   \n3     5964315354301636538  2022-01-24 14:28:05  2022-01-24 14:35:08   \n4     1372379574816145639  2022-01-24 11:57:29  2022-01-24 12:06:29   \n...                   ...                  ...                  ...   \n4995  7096714159023973792  2022-01-24 21:10:38  2022-01-24 21:23:53   \n4996 -3836026425968071806  2022-01-24 15:10:27  2022-01-24 15:20:21   \n4997  2926216435675216636  2022-01-24 13:57:04  2022-01-24 14:03:18   \n4998 -6677307480063489707  2022-01-24 08:46:13  2022-01-24 08:55:34   \n4999 -4845695090750648713  2022-01-24 14:57:46  2022-01-24 15:11:25   \n\n      route_distance_km  delta_time  is_afternoon  is_evening  is_morning  \\\n0                 3.740       862.0             0           1           0   \n1                 3.526       753.0             0           0           1   \n2                 5.071       899.0             0           0           1   \n3                 2.867       423.0             1           0           0   \n4                 3.751       540.0             0           0           1   \n...                 ...         ...           ...         ...         ...   \n4995              7.397       795.0             0           0           0   \n4996              1.948       594.0             1           0           0   \n4997              2.547       374.0             1           0           0   \n4998              3.013       561.0             0           0           1   \n4999              2.323       819.0             1           0           0   \n\n      is_night  morning_peak_time  evening_peak_time  temperature_2m (°C)  \\\n0            0                  0                  1                 -3.1   \n1            0                  0                  0                 -4.5   \n2            0                  0                  0                 -2.8   \n3            0                  0                  0                 -2.6   \n4            0                  0                  0                 -3.1   \n...        ...                ...                ...                  ...   \n4995         1                  0                  0                 -3.9   \n4996         0                  0                  0                 -2.4   \n4997         0                  0                  0                 -2.6   \n4998         0                  1                  0                 -4.3   \n4999         0                  0                  0                 -2.4   \n\n      relativehumidity_2m (%)  apparent_temperature (°C)  snowfall (cm)  \\\n0                          83                       -9.6           0.21   \n1                          80                      -11.3           0.00   \n2                          73                      -10.4           0.07   \n3                          74                       -9.6           0.14   \n4                          74                      -10.5           0.14   \n...                       ...                        ...            ...   \n4995                       87                      -10.2           0.14   \n4996                       73                       -9.3           0.14   \n4997                       74                       -9.6           0.14   \n4998                       78                      -11.2           0.00   \n4999                       73                       -9.3           0.14   \n\n      dewpoint_2m (°C)  cloudcover (%)  windspeed_10m (km/h)  \\\n0                 -5.6             100                  24.8   \n1                 -7.3             100                  25.7   \n2                 -7.0             100                  32.1   \n3                 -6.6             100                  27.7   \n4                 -7.1             100                  30.1   \n...                ...             ...                   ...   \n4995              -5.7             100                  23.6   \n4996              -6.5             100                  27.3   \n4997              -6.6             100                  27.7   \n4998              -7.6             100                  26.0   \n4999              -6.5             100                  27.3   \n\n      windgusts_10m (km/h)  \n0                     40.7  \n1                     40.3  \n2                     52.6  \n3                     52.2  \n4                     54.4  \n...                    ...  \n4995                  39.2  \n4996                  50.8  \n4997                  52.2  \n4998                  41.8  \n4999                  50.8  \n\n[5000 rows x 19 columns]",
      "text/html": "<div>\n<style scoped>\n    .dataframe tbody tr th:only-of-type {\n        vertical-align: middle;\n    }\n\n    .dataframe tbody tr th {\n        vertical-align: top;\n    }\n\n    .dataframe thead th {\n        text-align: right;\n    }\n</style>\n<table border=\"1\" class=\"dataframe\">\n  <thead>\n    <tr style=\"text-align: right;\">\n      <th></th>\n      <th>Id</th>\n      <th>running_time</th>\n      <th>completed_time</th>\n      <th>route_distance_km</th>\n      <th>delta_time</th>\n      <th>is_afternoon</th>\n      <th>is_evening</th>\n      <th>is_morning</th>\n      <th>is_night</th>\n      <th>morning_peak_time</th>\n      <th>evening_peak_time</th>\n      <th>temperature_2m (°C)</th>\n      <th>relativehumidity_2m (%)</th>\n      <th>apparent_temperature (°C)</th>\n      <th>snowfall (cm)</th>\n      <th>dewpoint_2m (°C)</th>\n      <th>cloudcover (%)</th>\n      <th>windspeed_10m (km/h)</th>\n      <th>windgusts_10m (km/h)</th>\n    </tr>\n  </thead>\n  <tbody>\n    <tr>\n      <th>0</th>\n      <td>-4773019581999572651</td>\n      <td>2022-01-24 18:30:21</td>\n      <td>2022-01-24 18:44:43</td>\n      <td>3.740</td>\n      <td>862.0</td>\n      <td>0</td>\n      <td>1</td>\n      <td>0</td>\n      <td>0</td>\n      <td>0</td>\n      <td>1</td>\n      <td>-3.1</td>\n      <td>83</td>\n      <td>-9.6</td>\n      <td>0.21</td>\n      <td>-5.6</td>\n      <td>100</td>\n      <td>24.8</td>\n      <td>40.7</td>\n    </tr>\n    <tr>\n      <th>1</th>\n      <td>-7575630690398473489</td>\n      <td>2022-01-24 06:53:53</td>\n      <td>2022-01-24 07:06:26</td>\n      <td>3.526</td>\n      <td>753.0</td>\n      <td>0</td>\n      <td>0</td>\n      <td>1</td>\n      <td>0</td>\n      <td>0</td>\n      <td>0</td>\n      <td>-4.5</td>\n      <td>80</td>\n      <td>-11.3</td>\n      <td>0.00</td>\n      <td>-7.3</td>\n      <td>100</td>\n      <td>25.7</td>\n      <td>40.3</td>\n    </tr>\n    <tr>\n      <th>2</th>\n      <td>-6264582368520213833</td>\n      <td>2022-01-24 10:00:59</td>\n      <td>2022-01-24 10:15:58</td>\n      <td>5.071</td>\n      <td>899.0</td>\n      <td>0</td>\n      <td>0</td>\n      <td>1</td>\n      <td>0</td>\n      <td>0</td>\n      <td>0</td>\n      <td>-2.8</td>\n      <td>73</td>\n      <td>-10.4</td>\n      <td>0.07</td>\n      <td>-7.0</td>\n      <td>100</td>\n      <td>32.1</td>\n      <td>52.6</td>\n    </tr>\n    <tr>\n      <th>3</th>\n      <td>5964315354301636538</td>\n      <td>2022-01-24 14:28:05</td>\n      <td>2022-01-24 14:35:08</td>\n      <td>2.867</td>\n      <td>423.0</td>\n      <td>1</td>\n      <td>0</td>\n      <td>0</td>\n      <td>0</td>\n      <td>0</td>\n      <td>0</td>\n      <td>-2.6</td>\n      <td>74</td>\n      <td>-9.6</td>\n      <td>0.14</td>\n      <td>-6.6</td>\n      <td>100</td>\n      <td>27.7</td>\n      <td>52.2</td>\n    </tr>\n    <tr>\n      <th>4</th>\n      <td>1372379574816145639</td>\n      <td>2022-01-24 11:57:29</td>\n      <td>2022-01-24 12:06:29</td>\n      <td>3.751</td>\n      <td>540.0</td>\n      <td>0</td>\n      <td>0</td>\n      <td>1</td>\n      <td>0</td>\n      <td>0</td>\n      <td>0</td>\n      <td>-3.1</td>\n      <td>74</td>\n      <td>-10.5</td>\n      <td>0.14</td>\n      <td>-7.1</td>\n      <td>100</td>\n      <td>30.1</td>\n      <td>54.4</td>\n    </tr>\n    <tr>\n      <th>...</th>\n      <td>...</td>\n      <td>...</td>\n      <td>...</td>\n      <td>...</td>\n      <td>...</td>\n      <td>...</td>\n      <td>...</td>\n      <td>...</td>\n      <td>...</td>\n      <td>...</td>\n      <td>...</td>\n      <td>...</td>\n      <td>...</td>\n      <td>...</td>\n      <td>...</td>\n      <td>...</td>\n      <td>...</td>\n      <td>...</td>\n      <td>...</td>\n    </tr>\n    <tr>\n      <th>4995</th>\n      <td>7096714159023973792</td>\n      <td>2022-01-24 21:10:38</td>\n      <td>2022-01-24 21:23:53</td>\n      <td>7.397</td>\n      <td>795.0</td>\n      <td>0</td>\n      <td>0</td>\n      <td>0</td>\n      <td>1</td>\n      <td>0</td>\n      <td>0</td>\n      <td>-3.9</td>\n      <td>87</td>\n      <td>-10.2</td>\n      <td>0.14</td>\n      <td>-5.7</td>\n      <td>100</td>\n      <td>23.6</td>\n      <td>39.2</td>\n    </tr>\n    <tr>\n      <th>4996</th>\n      <td>-3836026425968071806</td>\n      <td>2022-01-24 15:10:27</td>\n      <td>2022-01-24 15:20:21</td>\n      <td>1.948</td>\n      <td>594.0</td>\n      <td>1</td>\n      <td>0</td>\n      <td>0</td>\n      <td>0</td>\n      <td>0</td>\n      <td>0</td>\n      <td>-2.4</td>\n      <td>73</td>\n      <td>-9.3</td>\n      <td>0.14</td>\n      <td>-6.5</td>\n      <td>100</td>\n      <td>27.3</td>\n      <td>50.8</td>\n    </tr>\n    <tr>\n      <th>4997</th>\n      <td>2926216435675216636</td>\n      <td>2022-01-24 13:57:04</td>\n      <td>2022-01-24 14:03:18</td>\n      <td>2.547</td>\n      <td>374.0</td>\n      <td>1</td>\n      <td>0</td>\n      <td>0</td>\n      <td>0</td>\n      <td>0</td>\n      <td>0</td>\n      <td>-2.6</td>\n      <td>74</td>\n      <td>-9.6</td>\n      <td>0.14</td>\n      <td>-6.6</td>\n      <td>100</td>\n      <td>27.7</td>\n      <td>52.2</td>\n    </tr>\n    <tr>\n      <th>4998</th>\n      <td>-6677307480063489707</td>\n      <td>2022-01-24 08:46:13</td>\n      <td>2022-01-24 08:55:34</td>\n      <td>3.013</td>\n      <td>561.0</td>\n      <td>0</td>\n      <td>0</td>\n      <td>1</td>\n      <td>0</td>\n      <td>1</td>\n      <td>0</td>\n      <td>-4.3</td>\n      <td>78</td>\n      <td>-11.2</td>\n      <td>0.00</td>\n      <td>-7.6</td>\n      <td>100</td>\n      <td>26.0</td>\n      <td>41.8</td>\n    </tr>\n    <tr>\n      <th>4999</th>\n      <td>-4845695090750648713</td>\n      <td>2022-01-24 14:57:46</td>\n      <td>2022-01-24 15:11:25</td>\n      <td>2.323</td>\n      <td>819.0</td>\n      <td>1</td>\n      <td>0</td>\n      <td>0</td>\n      <td>0</td>\n      <td>0</td>\n      <td>0</td>\n      <td>-2.4</td>\n      <td>73</td>\n      <td>-9.3</td>\n      <td>0.14</td>\n      <td>-6.5</td>\n      <td>100</td>\n      <td>27.3</td>\n      <td>50.8</td>\n    </tr>\n  </tbody>\n</table>\n<p>5000 rows × 19 columns</p>\n</div>"
     },
     "execution_count": 79,
     "metadata": {},
     "output_type": "execute_result"
    }
   ],
   "source": [
    "pd.read_csv('merged_data (2).csv')"
   ],
   "metadata": {
    "collapsed": false
   }
  },
  {
   "cell_type": "code",
   "execution_count": null,
   "outputs": [],
   "source": [
    "import tiles3 as tc\n",
    "iht = tc.IHT(1024)\n",
    "num_tilings = 8\n",
    "num_tiles = 4\n",
    "angle_max = np.pi\n",
    "angle_min = -np.pi\n",
    "ang_vel_max = 2 * np.pi\n",
    "ang_vel_min = -2 * np.pi\n",
    "angle_scaled = (angle - angle_min) / (angle_max - angle_min) * self.num_tiles\n",
    "ang_vel_scaled = (ang_vel - ang_vel_min) / (ang_vel_max - ang_vel_min) * self.num_tiles"
   ],
   "metadata": {
    "collapsed": false
   }
  },
  {
   "cell_type": "code",
   "execution_count": 80,
   "outputs": [
    {
     "data": {
      "text/plain": "                       Id         running_time       completed_time  \\\n0    -4773019581999572651  2022-01-24 18:30:21  2022-01-24 18:44:43   \n1    -7575630690398473489  2022-01-24 06:53:53  2022-01-24 07:06:26   \n2    -6264582368520213833  2022-01-24 10:00:59  2022-01-24 10:15:58   \n3     5964315354301636538  2022-01-24 14:28:05  2022-01-24 14:35:08   \n4     1372379574816145639  2022-01-24 11:57:29  2022-01-24 12:06:29   \n...                   ...                  ...                  ...   \n4992  7096714159023973792  2022-01-24 21:10:38  2022-01-24 21:23:53   \n4993 -3836026425968071806  2022-01-24 15:10:27  2022-01-24 15:20:21   \n4994  2926216435675216636  2022-01-24 13:57:04  2022-01-24 14:03:18   \n4995 -6677307480063489707  2022-01-24 08:46:13  2022-01-24 08:55:34   \n4996 -4845695090750648713  2022-01-24 14:57:46  2022-01-24 15:11:25   \n\n      route_distance_km  delta_time  is_afternoon  is_evening  is_morning  \\\n0                 3.740       862.0             0           1           0   \n1                 3.526       753.0             0           0           1   \n2                 5.071       899.0             0           0           1   \n3                 2.867       423.0             1           0           0   \n4                 3.751       540.0             0           0           1   \n...                 ...         ...           ...         ...         ...   \n4992              7.397       795.0             0           0           0   \n4993              1.948       594.0             1           0           0   \n4994              2.547       374.0             1           0           0   \n4995              3.013       561.0             0           0           1   \n4996              2.323       819.0             1           0           0   \n\n      is_night  morning_peak_time  ...  windgusts_10m (km/h)  start_node_lat  \\\n0            0                  0  ...                  40.7       46.483519   \n1            0                  0  ...                  40.3       46.476633   \n2            0                  0  ...                  52.6       46.456845   \n3            0                  0  ...                  52.2       46.573485   \n4            0                  0  ...                  54.4       46.446568   \n...        ...                ...  ...                   ...             ...   \n4992         1                  0  ...                  39.2       46.468524   \n4993         0                  0  ...                  50.8       46.427398   \n4994         0                  0  ...                  52.2       46.477758   \n4995         0                  1  ...                  41.8       46.455458   \n4996         0                  0  ...                  50.8       46.468524   \n\n      start_node_lon  end_node_lat  end_node_lon  distance_haversine  \\\n0          30.736763     46.456384     30.732808            3.032502   \n1          30.744477     46.465393     30.713571            2.676555   \n2          30.733019     46.489681     30.745173            3.768017   \n3          30.803950     46.574277     30.780630            1.784713   \n4          30.706342     46.441818     30.676516            2.345483   \n...              ...           ...           ...                 ...   \n4992       30.738275     46.433738     30.698098            4.943186   \n4993       30.756188     46.427398     30.756188            0.000000   \n4994       30.717366     46.480012     30.692385            1.929130   \n4995       30.746578     46.472585     30.740297            1.964256   \n4996       30.738275     46.411638     30.723435            6.426821   \n\n      distance_dummy_manhattan   direction  central_lon  central_lat  \n0                     3.320124 -174.266836    30.734785    46.469952  \n1                     3.616424 -117.826157    30.729024    46.471013  \n2                     4.582291   14.296566    30.739096    46.473263  \n3                     1.870661  -87.161703    30.792290    46.573881  \n4                     2.813341 -103.003996    30.691429    46.444193  \n...                        ...         ...          ...          ...  \n4992                  6.944948 -141.474766    30.718186    46.451131  \n4993                  0.000000    0.000000    30.756188    46.427398  \n4994                  2.163442  -82.526282    30.704875    46.478885  \n4995                  2.385579  -14.174295    30.743437    46.464022  \n4996                  7.461950 -169.803427    30.730855    46.440081  \n\n[4997 rows x 28 columns]",
      "text/html": "<div>\n<style scoped>\n    .dataframe tbody tr th:only-of-type {\n        vertical-align: middle;\n    }\n\n    .dataframe tbody tr th {\n        vertical-align: top;\n    }\n\n    .dataframe thead th {\n        text-align: right;\n    }\n</style>\n<table border=\"1\" class=\"dataframe\">\n  <thead>\n    <tr style=\"text-align: right;\">\n      <th></th>\n      <th>Id</th>\n      <th>running_time</th>\n      <th>completed_time</th>\n      <th>route_distance_km</th>\n      <th>delta_time</th>\n      <th>is_afternoon</th>\n      <th>is_evening</th>\n      <th>is_morning</th>\n      <th>is_night</th>\n      <th>morning_peak_time</th>\n      <th>...</th>\n      <th>windgusts_10m (km/h)</th>\n      <th>start_node_lat</th>\n      <th>start_node_lon</th>\n      <th>end_node_lat</th>\n      <th>end_node_lon</th>\n      <th>distance_haversine</th>\n      <th>distance_dummy_manhattan</th>\n      <th>direction</th>\n      <th>central_lon</th>\n      <th>central_lat</th>\n    </tr>\n  </thead>\n  <tbody>\n    <tr>\n      <th>0</th>\n      <td>-4773019581999572651</td>\n      <td>2022-01-24 18:30:21</td>\n      <td>2022-01-24 18:44:43</td>\n      <td>3.740</td>\n      <td>862.0</td>\n      <td>0</td>\n      <td>1</td>\n      <td>0</td>\n      <td>0</td>\n      <td>0</td>\n      <td>...</td>\n      <td>40.7</td>\n      <td>46.483519</td>\n      <td>30.736763</td>\n      <td>46.456384</td>\n      <td>30.732808</td>\n      <td>3.032502</td>\n      <td>3.320124</td>\n      <td>-174.266836</td>\n      <td>30.734785</td>\n      <td>46.469952</td>\n    </tr>\n    <tr>\n      <th>1</th>\n      <td>-7575630690398473489</td>\n      <td>2022-01-24 06:53:53</td>\n      <td>2022-01-24 07:06:26</td>\n      <td>3.526</td>\n      <td>753.0</td>\n      <td>0</td>\n      <td>0</td>\n      <td>1</td>\n      <td>0</td>\n      <td>0</td>\n      <td>...</td>\n      <td>40.3</td>\n      <td>46.476633</td>\n      <td>30.744477</td>\n      <td>46.465393</td>\n      <td>30.713571</td>\n      <td>2.676555</td>\n      <td>3.616424</td>\n      <td>-117.826157</td>\n      <td>30.729024</td>\n      <td>46.471013</td>\n    </tr>\n    <tr>\n      <th>2</th>\n      <td>-6264582368520213833</td>\n      <td>2022-01-24 10:00:59</td>\n      <td>2022-01-24 10:15:58</td>\n      <td>5.071</td>\n      <td>899.0</td>\n      <td>0</td>\n      <td>0</td>\n      <td>1</td>\n      <td>0</td>\n      <td>0</td>\n      <td>...</td>\n      <td>52.6</td>\n      <td>46.456845</td>\n      <td>30.733019</td>\n      <td>46.489681</td>\n      <td>30.745173</td>\n      <td>3.768017</td>\n      <td>4.582291</td>\n      <td>14.296566</td>\n      <td>30.739096</td>\n      <td>46.473263</td>\n    </tr>\n    <tr>\n      <th>3</th>\n      <td>5964315354301636538</td>\n      <td>2022-01-24 14:28:05</td>\n      <td>2022-01-24 14:35:08</td>\n      <td>2.867</td>\n      <td>423.0</td>\n      <td>1</td>\n      <td>0</td>\n      <td>0</td>\n      <td>0</td>\n      <td>0</td>\n      <td>...</td>\n      <td>52.2</td>\n      <td>46.573485</td>\n      <td>30.803950</td>\n      <td>46.574277</td>\n      <td>30.780630</td>\n      <td>1.784713</td>\n      <td>1.870661</td>\n      <td>-87.161703</td>\n      <td>30.792290</td>\n      <td>46.573881</td>\n    </tr>\n    <tr>\n      <th>4</th>\n      <td>1372379574816145639</td>\n      <td>2022-01-24 11:57:29</td>\n      <td>2022-01-24 12:06:29</td>\n      <td>3.751</td>\n      <td>540.0</td>\n      <td>0</td>\n      <td>0</td>\n      <td>1</td>\n      <td>0</td>\n      <td>0</td>\n      <td>...</td>\n      <td>54.4</td>\n      <td>46.446568</td>\n      <td>30.706342</td>\n      <td>46.441818</td>\n      <td>30.676516</td>\n      <td>2.345483</td>\n      <td>2.813341</td>\n      <td>-103.003996</td>\n      <td>30.691429</td>\n      <td>46.444193</td>\n    </tr>\n    <tr>\n      <th>...</th>\n      <td>...</td>\n      <td>...</td>\n      <td>...</td>\n      <td>...</td>\n      <td>...</td>\n      <td>...</td>\n      <td>...</td>\n      <td>...</td>\n      <td>...</td>\n      <td>...</td>\n      <td>...</td>\n      <td>...</td>\n      <td>...</td>\n      <td>...</td>\n      <td>...</td>\n      <td>...</td>\n      <td>...</td>\n      <td>...</td>\n      <td>...</td>\n      <td>...</td>\n      <td>...</td>\n    </tr>\n    <tr>\n      <th>4992</th>\n      <td>7096714159023973792</td>\n      <td>2022-01-24 21:10:38</td>\n      <td>2022-01-24 21:23:53</td>\n      <td>7.397</td>\n      <td>795.0</td>\n      <td>0</td>\n      <td>0</td>\n      <td>0</td>\n      <td>1</td>\n      <td>0</td>\n      <td>...</td>\n      <td>39.2</td>\n      <td>46.468524</td>\n      <td>30.738275</td>\n      <td>46.433738</td>\n      <td>30.698098</td>\n      <td>4.943186</td>\n      <td>6.944948</td>\n      <td>-141.474766</td>\n      <td>30.718186</td>\n      <td>46.451131</td>\n    </tr>\n    <tr>\n      <th>4993</th>\n      <td>-3836026425968071806</td>\n      <td>2022-01-24 15:10:27</td>\n      <td>2022-01-24 15:20:21</td>\n      <td>1.948</td>\n      <td>594.0</td>\n      <td>1</td>\n      <td>0</td>\n      <td>0</td>\n      <td>0</td>\n      <td>0</td>\n      <td>...</td>\n      <td>50.8</td>\n      <td>46.427398</td>\n      <td>30.756188</td>\n      <td>46.427398</td>\n      <td>30.756188</td>\n      <td>0.000000</td>\n      <td>0.000000</td>\n      <td>0.000000</td>\n      <td>30.756188</td>\n      <td>46.427398</td>\n    </tr>\n    <tr>\n      <th>4994</th>\n      <td>2926216435675216636</td>\n      <td>2022-01-24 13:57:04</td>\n      <td>2022-01-24 14:03:18</td>\n      <td>2.547</td>\n      <td>374.0</td>\n      <td>1</td>\n      <td>0</td>\n      <td>0</td>\n      <td>0</td>\n      <td>0</td>\n      <td>...</td>\n      <td>52.2</td>\n      <td>46.477758</td>\n      <td>30.717366</td>\n      <td>46.480012</td>\n      <td>30.692385</td>\n      <td>1.929130</td>\n      <td>2.163442</td>\n      <td>-82.526282</td>\n      <td>30.704875</td>\n      <td>46.478885</td>\n    </tr>\n    <tr>\n      <th>4995</th>\n      <td>-6677307480063489707</td>\n      <td>2022-01-24 08:46:13</td>\n      <td>2022-01-24 08:55:34</td>\n      <td>3.013</td>\n      <td>561.0</td>\n      <td>0</td>\n      <td>0</td>\n      <td>1</td>\n      <td>0</td>\n      <td>1</td>\n      <td>...</td>\n      <td>41.8</td>\n      <td>46.455458</td>\n      <td>30.746578</td>\n      <td>46.472585</td>\n      <td>30.740297</td>\n      <td>1.964256</td>\n      <td>2.385579</td>\n      <td>-14.174295</td>\n      <td>30.743437</td>\n      <td>46.464022</td>\n    </tr>\n    <tr>\n      <th>4996</th>\n      <td>-4845695090750648713</td>\n      <td>2022-01-24 14:57:46</td>\n      <td>2022-01-24 15:11:25</td>\n      <td>2.323</td>\n      <td>819.0</td>\n      <td>1</td>\n      <td>0</td>\n      <td>0</td>\n      <td>0</td>\n      <td>0</td>\n      <td>...</td>\n      <td>50.8</td>\n      <td>46.468524</td>\n      <td>30.738275</td>\n      <td>46.411638</td>\n      <td>30.723435</td>\n      <td>6.426821</td>\n      <td>7.461950</td>\n      <td>-169.803427</td>\n      <td>30.730855</td>\n      <td>46.440081</td>\n    </tr>\n  </tbody>\n</table>\n<p>4997 rows × 28 columns</p>\n</div>"
     },
     "execution_count": 80,
     "metadata": {},
     "output_type": "execute_result"
    }
   ],
   "source": [
    "pd.read_csv('final_df.csv')"
   ],
   "metadata": {
    "collapsed": false
   }
  },
  {
   "cell_type": "code",
   "execution_count": 82,
   "outputs": [
    {
     "data": {
      "text/plain": "      Unnamed: 0                   Id         running_time  \\\n0              0 -4773019581999572651  2022-01-24 18:30:21   \n1              1 -7575630690398473489  2022-01-24 06:53:53   \n2              2 -6264582368520213833  2022-01-24 10:00:59   \n3              3  5964315354301636538  2022-01-24 14:28:05   \n4              4  1372379574816145639  2022-01-24 11:57:29   \n...          ...                  ...                  ...   \n4992        4992  7096714159023973792  2022-01-24 21:10:38   \n4993        4993 -3836026425968071806  2022-01-24 15:10:27   \n4994        4994  2926216435675216636  2022-01-24 13:57:04   \n4995        4995 -6677307480063489707  2022-01-24 08:46:13   \n4996        4996 -4845695090750648713  2022-01-24 14:57:46   \n\n           completed_time  route_distance_km  delta_time  is_afternoon  \\\n0     2022-01-24 18:44:43              3.740       862.0             0   \n1     2022-01-24 07:06:26              3.526       753.0             0   \n2     2022-01-24 10:15:58              5.071       899.0             0   \n3     2022-01-24 14:35:08              2.867       423.0             1   \n4     2022-01-24 12:06:29              3.751       540.0             0   \n...                   ...                ...         ...           ...   \n4992  2022-01-24 21:23:53              7.397       795.0             0   \n4993  2022-01-24 15:20:21              1.948       594.0             1   \n4994  2022-01-24 14:03:18              2.547       374.0             1   \n4995  2022-01-24 08:55:34              3.013       561.0             0   \n4996  2022-01-24 15:11:25              2.323       819.0             1   \n\n      is_evening  is_morning  is_night  ...  center_cluster_20  \\\n0              1           0         0  ...           0.000187   \n1              0           1         0  ...           0.000727   \n2              0           1         0  ...           0.002052   \n3              0           0         0  ...           0.000781   \n4              0           1         0  ...           0.001406   \n...          ...         ...       ...  ...                ...   \n4992           0           0         1  ...           0.004538   \n4993           0           0         0  ...           0.007000   \n4994           0           0         0  ...           0.025963   \n4995           0           1         0  ...           0.015495   \n4996           0           0         0  ...           0.012423   \n\n      center_cluster_21  center_cluster_22  center_cluster_23  \\\n0              0.000089           0.000352           0.000223   \n1              0.000474           0.001438           0.000926   \n2              0.001067           0.003604           0.002392   \n3              0.000653           0.000958           0.000814   \n4              0.002246           0.003671           0.002517   \n...                 ...                ...                ...   \n4992           0.001647           0.007249           0.004830   \n4993           0.001609           0.014114           0.007795   \n4994           0.006999           0.235189           0.079908   \n4995           0.003455           0.099460           0.028684   \n4996           0.001575           0.014788           0.009995   \n\n      center_cluster_24  center_cluster_25  center_cluster_26  \\\n0              0.000361           0.003389           0.001009   \n1              0.001176           0.006062           0.002630   \n2              0.003860           0.025585           0.009700   \n3              0.001092           0.001724           0.001445   \n4              0.001294           0.002202           0.001769   \n...                 ...                ...                ...   \n4992           0.010919           0.101814           0.035864   \n4993           0.021019           0.433506           0.214723   \n4994           0.018291           0.019626           0.020623   \n4995           0.019309           0.030735           0.031106   \n4996           0.129219           0.037633           0.201520   \n\n      center_cluster_27  center_cluster_28  center_cluster_29  \n0              0.965341           0.000146           0.000343  \n1              0.028300           0.000603           0.002082  \n2              0.232100           0.001619           0.003763  \n3              0.002135           0.000686           0.001092  \n4              0.002392           0.001492           0.896434  \n...                 ...                ...                ...  \n4992           0.103321           0.003310           0.005211  \n4993           0.037090           0.004636           0.005904  \n4994           0.014552           0.026120           0.036224  \n4995           0.018309           0.011790           0.017896  \n4996           0.013798           0.006763           0.004454  \n\n[4997 rows x 119 columns]",
      "text/html": "<div>\n<style scoped>\n    .dataframe tbody tr th:only-of-type {\n        vertical-align: middle;\n    }\n\n    .dataframe tbody tr th {\n        vertical-align: top;\n    }\n\n    .dataframe thead th {\n        text-align: right;\n    }\n</style>\n<table border=\"1\" class=\"dataframe\">\n  <thead>\n    <tr style=\"text-align: right;\">\n      <th></th>\n      <th>Unnamed: 0</th>\n      <th>Id</th>\n      <th>running_time</th>\n      <th>completed_time</th>\n      <th>route_distance_km</th>\n      <th>delta_time</th>\n      <th>is_afternoon</th>\n      <th>is_evening</th>\n      <th>is_morning</th>\n      <th>is_night</th>\n      <th>...</th>\n      <th>center_cluster_20</th>\n      <th>center_cluster_21</th>\n      <th>center_cluster_22</th>\n      <th>center_cluster_23</th>\n      <th>center_cluster_24</th>\n      <th>center_cluster_25</th>\n      <th>center_cluster_26</th>\n      <th>center_cluster_27</th>\n      <th>center_cluster_28</th>\n      <th>center_cluster_29</th>\n    </tr>\n  </thead>\n  <tbody>\n    <tr>\n      <th>0</th>\n      <td>0</td>\n      <td>-4773019581999572651</td>\n      <td>2022-01-24 18:30:21</td>\n      <td>2022-01-24 18:44:43</td>\n      <td>3.740</td>\n      <td>862.0</td>\n      <td>0</td>\n      <td>1</td>\n      <td>0</td>\n      <td>0</td>\n      <td>...</td>\n      <td>0.000187</td>\n      <td>0.000089</td>\n      <td>0.000352</td>\n      <td>0.000223</td>\n      <td>0.000361</td>\n      <td>0.003389</td>\n      <td>0.001009</td>\n      <td>0.965341</td>\n      <td>0.000146</td>\n      <td>0.000343</td>\n    </tr>\n    <tr>\n      <th>1</th>\n      <td>1</td>\n      <td>-7575630690398473489</td>\n      <td>2022-01-24 06:53:53</td>\n      <td>2022-01-24 07:06:26</td>\n      <td>3.526</td>\n      <td>753.0</td>\n      <td>0</td>\n      <td>0</td>\n      <td>1</td>\n      <td>0</td>\n      <td>...</td>\n      <td>0.000727</td>\n      <td>0.000474</td>\n      <td>0.001438</td>\n      <td>0.000926</td>\n      <td>0.001176</td>\n      <td>0.006062</td>\n      <td>0.002630</td>\n      <td>0.028300</td>\n      <td>0.000603</td>\n      <td>0.002082</td>\n    </tr>\n    <tr>\n      <th>2</th>\n      <td>2</td>\n      <td>-6264582368520213833</td>\n      <td>2022-01-24 10:00:59</td>\n      <td>2022-01-24 10:15:58</td>\n      <td>5.071</td>\n      <td>899.0</td>\n      <td>0</td>\n      <td>0</td>\n      <td>1</td>\n      <td>0</td>\n      <td>...</td>\n      <td>0.002052</td>\n      <td>0.001067</td>\n      <td>0.003604</td>\n      <td>0.002392</td>\n      <td>0.003860</td>\n      <td>0.025585</td>\n      <td>0.009700</td>\n      <td>0.232100</td>\n      <td>0.001619</td>\n      <td>0.003763</td>\n    </tr>\n    <tr>\n      <th>3</th>\n      <td>3</td>\n      <td>5964315354301636538</td>\n      <td>2022-01-24 14:28:05</td>\n      <td>2022-01-24 14:35:08</td>\n      <td>2.867</td>\n      <td>423.0</td>\n      <td>1</td>\n      <td>0</td>\n      <td>0</td>\n      <td>0</td>\n      <td>...</td>\n      <td>0.000781</td>\n      <td>0.000653</td>\n      <td>0.000958</td>\n      <td>0.000814</td>\n      <td>0.001092</td>\n      <td>0.001724</td>\n      <td>0.001445</td>\n      <td>0.002135</td>\n      <td>0.000686</td>\n      <td>0.001092</td>\n    </tr>\n    <tr>\n      <th>4</th>\n      <td>4</td>\n      <td>1372379574816145639</td>\n      <td>2022-01-24 11:57:29</td>\n      <td>2022-01-24 12:06:29</td>\n      <td>3.751</td>\n      <td>540.0</td>\n      <td>0</td>\n      <td>0</td>\n      <td>1</td>\n      <td>0</td>\n      <td>...</td>\n      <td>0.001406</td>\n      <td>0.002246</td>\n      <td>0.003671</td>\n      <td>0.002517</td>\n      <td>0.001294</td>\n      <td>0.002202</td>\n      <td>0.001769</td>\n      <td>0.002392</td>\n      <td>0.001492</td>\n      <td>0.896434</td>\n    </tr>\n    <tr>\n      <th>...</th>\n      <td>...</td>\n      <td>...</td>\n      <td>...</td>\n      <td>...</td>\n      <td>...</td>\n      <td>...</td>\n      <td>...</td>\n      <td>...</td>\n      <td>...</td>\n      <td>...</td>\n      <td>...</td>\n      <td>...</td>\n      <td>...</td>\n      <td>...</td>\n      <td>...</td>\n      <td>...</td>\n      <td>...</td>\n      <td>...</td>\n      <td>...</td>\n      <td>...</td>\n      <td>...</td>\n    </tr>\n    <tr>\n      <th>4992</th>\n      <td>4992</td>\n      <td>7096714159023973792</td>\n      <td>2022-01-24 21:10:38</td>\n      <td>2022-01-24 21:23:53</td>\n      <td>7.397</td>\n      <td>795.0</td>\n      <td>0</td>\n      <td>0</td>\n      <td>0</td>\n      <td>1</td>\n      <td>...</td>\n      <td>0.004538</td>\n      <td>0.001647</td>\n      <td>0.007249</td>\n      <td>0.004830</td>\n      <td>0.010919</td>\n      <td>0.101814</td>\n      <td>0.035864</td>\n      <td>0.103321</td>\n      <td>0.003310</td>\n      <td>0.005211</td>\n    </tr>\n    <tr>\n      <th>4993</th>\n      <td>4993</td>\n      <td>-3836026425968071806</td>\n      <td>2022-01-24 15:10:27</td>\n      <td>2022-01-24 15:20:21</td>\n      <td>1.948</td>\n      <td>594.0</td>\n      <td>1</td>\n      <td>0</td>\n      <td>0</td>\n      <td>0</td>\n      <td>...</td>\n      <td>0.007000</td>\n      <td>0.001609</td>\n      <td>0.014114</td>\n      <td>0.007795</td>\n      <td>0.021019</td>\n      <td>0.433506</td>\n      <td>0.214723</td>\n      <td>0.037090</td>\n      <td>0.004636</td>\n      <td>0.005904</td>\n    </tr>\n    <tr>\n      <th>4994</th>\n      <td>4994</td>\n      <td>2926216435675216636</td>\n      <td>2022-01-24 13:57:04</td>\n      <td>2022-01-24 14:03:18</td>\n      <td>2.547</td>\n      <td>374.0</td>\n      <td>1</td>\n      <td>0</td>\n      <td>0</td>\n      <td>0</td>\n      <td>...</td>\n      <td>0.025963</td>\n      <td>0.006999</td>\n      <td>0.235189</td>\n      <td>0.079908</td>\n      <td>0.018291</td>\n      <td>0.019626</td>\n      <td>0.020623</td>\n      <td>0.014552</td>\n      <td>0.026120</td>\n      <td>0.036224</td>\n    </tr>\n    <tr>\n      <th>4995</th>\n      <td>4995</td>\n      <td>-6677307480063489707</td>\n      <td>2022-01-24 08:46:13</td>\n      <td>2022-01-24 08:55:34</td>\n      <td>3.013</td>\n      <td>561.0</td>\n      <td>0</td>\n      <td>0</td>\n      <td>1</td>\n      <td>0</td>\n      <td>...</td>\n      <td>0.015495</td>\n      <td>0.003455</td>\n      <td>0.099460</td>\n      <td>0.028684</td>\n      <td>0.019309</td>\n      <td>0.030735</td>\n      <td>0.031106</td>\n      <td>0.018309</td>\n      <td>0.011790</td>\n      <td>0.017896</td>\n    </tr>\n    <tr>\n      <th>4996</th>\n      <td>4996</td>\n      <td>-4845695090750648713</td>\n      <td>2022-01-24 14:57:46</td>\n      <td>2022-01-24 15:11:25</td>\n      <td>2.323</td>\n      <td>819.0</td>\n      <td>1</td>\n      <td>0</td>\n      <td>0</td>\n      <td>0</td>\n      <td>...</td>\n      <td>0.012423</td>\n      <td>0.001575</td>\n      <td>0.014788</td>\n      <td>0.009995</td>\n      <td>0.129219</td>\n      <td>0.037633</td>\n      <td>0.201520</td>\n      <td>0.013798</td>\n      <td>0.006763</td>\n      <td>0.004454</td>\n    </tr>\n  </tbody>\n</table>\n<p>4997 rows × 119 columns</p>\n</div>"
     },
     "execution_count": 82,
     "metadata": {},
     "output_type": "execute_result"
    }
   ],
   "source": [
    "df_orders = pd.read_csv('final_df_start_center_finish.csv')\n",
    "df_nodes = "
   ],
   "metadata": {
    "collapsed": false
   }
  },
  {
   "cell_type": "code",
   "execution_count": 2,
   "outputs": [
    {
     "data": {
      "text/plain": "     Unnamed: 0                   Id         running_time  route_distance_km  \\\n0             0  4567450496676323264  2022-01-24 00:32:37              5.533   \n1             1 -1762687449608244695  2022-01-24 00:40:45              4.448   \n2             2   558209096572647780  2022-01-24 00:47:12              2.751   \n3             3  1091960336272216078  2022-01-24 01:03:47              4.435   \n4             4 -1321994599972009663  2022-01-24 01:07:56              2.394   \n..          ...                  ...                  ...                ...   \n995         995 -1019532991501300185  2022-01-24 23:40:08              2.665   \n996         996 -3501571252544462083  2022-01-24 23:45:45              2.353   \n997         997  8305010046033518305  2022-01-24 23:46:11              2.914   \n998         998  5747749188503396733  2022-01-24 23:40:42              9.019   \n999         999  8646925889615811725  2022-01-24 23:46:58              2.115   \n\n                                              sequence  \n0    [1750183122, 289702926, 5222301471, 10980648, ...  \n1    [4439629628, 4439629627, 5213015315, 443962962...  \n2    [4084898794, 4084897988, 5237897456, 443962966...  \n3    [8121066754, 8120946071, 5359799871, 316676003...  \n4    [4439629609, 4439629613, 4325099307, 10980544,...  \n..                                                 ...  \n995  [4775895232, 1313110355, 3127871124, 131311035...  \n996  [5213015320, 4439629610, 4439629599, 10980545,...  \n997  [4775833877, 4775833873, 1973798535, 197379856...  \n998  [3917560950, 1570776644, 277661601, 3285024103...  \n999  [8121581676, 8121581677, 4330055224, 433005522...  \n\n[1000 rows x 5 columns]",
      "text/html": "<div>\n<style scoped>\n    .dataframe tbody tr th:only-of-type {\n        vertical-align: middle;\n    }\n\n    .dataframe tbody tr th {\n        vertical-align: top;\n    }\n\n    .dataframe thead th {\n        text-align: right;\n    }\n</style>\n<table border=\"1\" class=\"dataframe\">\n  <thead>\n    <tr style=\"text-align: right;\">\n      <th></th>\n      <th>Unnamed: 0</th>\n      <th>Id</th>\n      <th>running_time</th>\n      <th>route_distance_km</th>\n      <th>sequence</th>\n    </tr>\n  </thead>\n  <tbody>\n    <tr>\n      <th>0</th>\n      <td>0</td>\n      <td>4567450496676323264</td>\n      <td>2022-01-24 00:32:37</td>\n      <td>5.533</td>\n      <td>[1750183122, 289702926, 5222301471, 10980648, ...</td>\n    </tr>\n    <tr>\n      <th>1</th>\n      <td>1</td>\n      <td>-1762687449608244695</td>\n      <td>2022-01-24 00:40:45</td>\n      <td>4.448</td>\n      <td>[4439629628, 4439629627, 5213015315, 443962962...</td>\n    </tr>\n    <tr>\n      <th>2</th>\n      <td>2</td>\n      <td>558209096572647780</td>\n      <td>2022-01-24 00:47:12</td>\n      <td>2.751</td>\n      <td>[4084898794, 4084897988, 5237897456, 443962966...</td>\n    </tr>\n    <tr>\n      <th>3</th>\n      <td>3</td>\n      <td>1091960336272216078</td>\n      <td>2022-01-24 01:03:47</td>\n      <td>4.435</td>\n      <td>[8121066754, 8120946071, 5359799871, 316676003...</td>\n    </tr>\n    <tr>\n      <th>4</th>\n      <td>4</td>\n      <td>-1321994599972009663</td>\n      <td>2022-01-24 01:07:56</td>\n      <td>2.394</td>\n      <td>[4439629609, 4439629613, 4325099307, 10980544,...</td>\n    </tr>\n    <tr>\n      <th>...</th>\n      <td>...</td>\n      <td>...</td>\n      <td>...</td>\n      <td>...</td>\n      <td>...</td>\n    </tr>\n    <tr>\n      <th>995</th>\n      <td>995</td>\n      <td>-1019532991501300185</td>\n      <td>2022-01-24 23:40:08</td>\n      <td>2.665</td>\n      <td>[4775895232, 1313110355, 3127871124, 131311035...</td>\n    </tr>\n    <tr>\n      <th>996</th>\n      <td>996</td>\n      <td>-3501571252544462083</td>\n      <td>2022-01-24 23:45:45</td>\n      <td>2.353</td>\n      <td>[5213015320, 4439629610, 4439629599, 10980545,...</td>\n    </tr>\n    <tr>\n      <th>997</th>\n      <td>997</td>\n      <td>8305010046033518305</td>\n      <td>2022-01-24 23:46:11</td>\n      <td>2.914</td>\n      <td>[4775833877, 4775833873, 1973798535, 197379856...</td>\n    </tr>\n    <tr>\n      <th>998</th>\n      <td>998</td>\n      <td>5747749188503396733</td>\n      <td>2022-01-24 23:40:42</td>\n      <td>9.019</td>\n      <td>[3917560950, 1570776644, 277661601, 3285024103...</td>\n    </tr>\n    <tr>\n      <th>999</th>\n      <td>999</td>\n      <td>8646925889615811725</td>\n      <td>2022-01-24 23:46:58</td>\n      <td>2.115</td>\n      <td>[8121581676, 8121581677, 4330055224, 433005522...</td>\n    </tr>\n  </tbody>\n</table>\n<p>1000 rows × 5 columns</p>\n</div>"
     },
     "execution_count": 2,
     "metadata": {},
     "output_type": "execute_result"
    }
   ],
   "source": [
    "import pandas as pd\n",
    "pd.read_csv('C:\\\\Users\\\\vladp\\\\Downloads\\\\Telegram Desktop\\\\test_with_sequencesv2.csv')"
   ],
   "metadata": {
    "collapsed": false
   }
  },
  {
   "cell_type": "code",
   "execution_count": 7,
   "outputs": [],
   "source": [
    "df_tested = pd.read_csv('test_data (2).csv')"
   ],
   "metadata": {
    "collapsed": false
   }
  },
  {
   "cell_type": "code",
   "execution_count": 4,
   "outputs": [],
   "source": [
    "df_tested_andr = pd.read_csv('test_with_clustering_start_center_finish.csv')"
   ],
   "metadata": {
    "collapsed": false
   }
  },
  {
   "cell_type": "code",
   "execution_count": 5,
   "outputs": [
    {
     "data": {
      "text/plain": "                      Id         running_time  route_distance_km  \\\n0    4567450496676323264  2022-01-24 00:32:37              5.533   \n1   -1762687449608244695  2022-01-24 00:40:45              4.448   \n2     558209096572647780  2022-01-24 00:47:12              2.751   \n3    1091960336272216078  2022-01-24 01:03:47              4.435   \n4   -1321994599972009663  2022-01-24 01:07:56              2.394   \n..                   ...                  ...                ...   \n995 -1019532991501300185  2022-01-24 23:40:08              2.665   \n996 -3501571252544462083  2022-01-24 23:45:45              2.353   \n997  8305010046033518305  2022-01-24 23:46:11              2.914   \n998  5747749188503396733  2022-01-24 23:40:42              9.019   \n999  8646925889615811725  2022-01-24 23:46:58              2.115   \n\n     start_cluster_0  start_cluster_1  start_cluster_2  start_cluster_3  \\\n0           0.399202         0.058459         0.003582         0.034524   \n1           0.659275         0.147918         0.001610         0.036152   \n2           0.328607         0.406109         0.002276         0.055138   \n3           0.000709         0.000482         0.000037         0.000625   \n4           0.584347         0.183294         0.001878         0.045698   \n..               ...              ...              ...              ...   \n995         0.004641         0.004908         0.044225         0.006961   \n996         0.881127         0.041060         0.000660         0.012573   \n997         0.003485         0.004313         0.005593         0.007037   \n998         0.040072         0.025728         0.015749         0.027246   \n999         0.000709         0.000482         0.000037         0.000625   \n\n     start_cluster_4  start_cluster_5  start_cluster_6  ...  \\\n0           0.002573         0.001302         0.007248  ...   \n1           0.001545         0.000602         0.003319  ...   \n2           0.002426         0.000916         0.004598  ...   \n3           0.000025         0.000008         0.000093  ...   \n4           0.001795         0.000679         0.003912  ...   \n..               ...              ...              ...  ...   \n995         0.003953         0.000596         0.088523  ...   \n996         0.000606         0.000250         0.001353  ...   \n997         0.004859         0.000358         0.014679  ...   \n998         0.004706         0.002509         0.031196  ...   \n999         0.000025         0.000008         0.000093  ...   \n\n     center_cluster_20  center_cluster_21  center_cluster_22  \\\n0             0.000865           0.000382           0.001347   \n1             0.001212           0.000718           0.002123   \n2             0.001609           0.001233           0.002842   \n3             0.003070           0.000226           0.002553   \n4             0.001446           0.000941           0.002707   \n..                 ...                ...                ...   \n995           0.015466           0.002965           0.116993   \n996           0.000789           0.000519           0.001444   \n997           0.002736           0.001547           0.010845   \n998           0.017365           0.001639           0.017846   \n999           0.001477           0.001262           0.001850   \n\n     center_cluster_23  center_cluster_24  center_cluster_25  \\\n0             0.000933           0.001827           0.010180   \n1             0.001434           0.002136           0.011217   \n2             0.001970           0.002523           0.009661   \n3             0.001932           0.949822           0.002699   \n4             0.001789           0.002392           0.012013   \n..                 ...                ...                ...   \n995           0.029280           0.018758           0.025398   \n996           0.000966           0.001307           0.006306   \n997           0.005275           0.002806           0.005356   \n998           0.012523           0.533364           0.026452   \n999           0.001555           0.002077           0.003430   \n\n     center_cluster_26  center_cluster_27  center_cluster_28  \\\n0             0.004638           0.020964           0.000658   \n1             0.004881           0.063476           0.000980   \n2             0.005014           0.030672           0.001362   \n3             0.007702           0.001258           0.001372   \n4             0.005306           0.062606           0.001194   \n..                 ...                ...                ...   \n995           0.027998           0.014674           0.011446   \n996           0.002857           0.030792           0.000652   \n997           0.004277           0.004859           0.002569   \n998           0.098013           0.011081           0.008527   \n999           0.002815           0.004377           0.001296   \n\n     center_cluster_29  \n0             0.001157  \n1             0.002522  \n2             0.004386  \n3             0.000594  \n4             0.003729  \n..                 ...  \n995           0.014332  \n996           0.001978  \n997           0.017427  \n998           0.004499  \n999           0.002170  \n\n[1000 rows x 93 columns]",
      "text/html": "<div>\n<style scoped>\n    .dataframe tbody tr th:only-of-type {\n        vertical-align: middle;\n    }\n\n    .dataframe tbody tr th {\n        vertical-align: top;\n    }\n\n    .dataframe thead th {\n        text-align: right;\n    }\n</style>\n<table border=\"1\" class=\"dataframe\">\n  <thead>\n    <tr style=\"text-align: right;\">\n      <th></th>\n      <th>Id</th>\n      <th>running_time</th>\n      <th>route_distance_km</th>\n      <th>start_cluster_0</th>\n      <th>start_cluster_1</th>\n      <th>start_cluster_2</th>\n      <th>start_cluster_3</th>\n      <th>start_cluster_4</th>\n      <th>start_cluster_5</th>\n      <th>start_cluster_6</th>\n      <th>...</th>\n      <th>center_cluster_20</th>\n      <th>center_cluster_21</th>\n      <th>center_cluster_22</th>\n      <th>center_cluster_23</th>\n      <th>center_cluster_24</th>\n      <th>center_cluster_25</th>\n      <th>center_cluster_26</th>\n      <th>center_cluster_27</th>\n      <th>center_cluster_28</th>\n      <th>center_cluster_29</th>\n    </tr>\n  </thead>\n  <tbody>\n    <tr>\n      <th>0</th>\n      <td>4567450496676323264</td>\n      <td>2022-01-24 00:32:37</td>\n      <td>5.533</td>\n      <td>0.399202</td>\n      <td>0.058459</td>\n      <td>0.003582</td>\n      <td>0.034524</td>\n      <td>0.002573</td>\n      <td>0.001302</td>\n      <td>0.007248</td>\n      <td>...</td>\n      <td>0.000865</td>\n      <td>0.000382</td>\n      <td>0.001347</td>\n      <td>0.000933</td>\n      <td>0.001827</td>\n      <td>0.010180</td>\n      <td>0.004638</td>\n      <td>0.020964</td>\n      <td>0.000658</td>\n      <td>0.001157</td>\n    </tr>\n    <tr>\n      <th>1</th>\n      <td>-1762687449608244695</td>\n      <td>2022-01-24 00:40:45</td>\n      <td>4.448</td>\n      <td>0.659275</td>\n      <td>0.147918</td>\n      <td>0.001610</td>\n      <td>0.036152</td>\n      <td>0.001545</td>\n      <td>0.000602</td>\n      <td>0.003319</td>\n      <td>...</td>\n      <td>0.001212</td>\n      <td>0.000718</td>\n      <td>0.002123</td>\n      <td>0.001434</td>\n      <td>0.002136</td>\n      <td>0.011217</td>\n      <td>0.004881</td>\n      <td>0.063476</td>\n      <td>0.000980</td>\n      <td>0.002522</td>\n    </tr>\n    <tr>\n      <th>2</th>\n      <td>558209096572647780</td>\n      <td>2022-01-24 00:47:12</td>\n      <td>2.751</td>\n      <td>0.328607</td>\n      <td>0.406109</td>\n      <td>0.002276</td>\n      <td>0.055138</td>\n      <td>0.002426</td>\n      <td>0.000916</td>\n      <td>0.004598</td>\n      <td>...</td>\n      <td>0.001609</td>\n      <td>0.001233</td>\n      <td>0.002842</td>\n      <td>0.001970</td>\n      <td>0.002523</td>\n      <td>0.009661</td>\n      <td>0.005014</td>\n      <td>0.030672</td>\n      <td>0.001362</td>\n      <td>0.004386</td>\n    </tr>\n    <tr>\n      <th>3</th>\n      <td>1091960336272216078</td>\n      <td>2022-01-24 01:03:47</td>\n      <td>4.435</td>\n      <td>0.000709</td>\n      <td>0.000482</td>\n      <td>0.000037</td>\n      <td>0.000625</td>\n      <td>0.000025</td>\n      <td>0.000008</td>\n      <td>0.000093</td>\n      <td>...</td>\n      <td>0.003070</td>\n      <td>0.000226</td>\n      <td>0.002553</td>\n      <td>0.001932</td>\n      <td>0.949822</td>\n      <td>0.002699</td>\n      <td>0.007702</td>\n      <td>0.001258</td>\n      <td>0.001372</td>\n      <td>0.000594</td>\n    </tr>\n    <tr>\n      <th>4</th>\n      <td>-1321994599972009663</td>\n      <td>2022-01-24 01:07:56</td>\n      <td>2.394</td>\n      <td>0.584347</td>\n      <td>0.183294</td>\n      <td>0.001878</td>\n      <td>0.045698</td>\n      <td>0.001795</td>\n      <td>0.000679</td>\n      <td>0.003912</td>\n      <td>...</td>\n      <td>0.001446</td>\n      <td>0.000941</td>\n      <td>0.002707</td>\n      <td>0.001789</td>\n      <td>0.002392</td>\n      <td>0.012013</td>\n      <td>0.005306</td>\n      <td>0.062606</td>\n      <td>0.001194</td>\n      <td>0.003729</td>\n    </tr>\n    <tr>\n      <th>...</th>\n      <td>...</td>\n      <td>...</td>\n      <td>...</td>\n      <td>...</td>\n      <td>...</td>\n      <td>...</td>\n      <td>...</td>\n      <td>...</td>\n      <td>...</td>\n      <td>...</td>\n      <td>...</td>\n      <td>...</td>\n      <td>...</td>\n      <td>...</td>\n      <td>...</td>\n      <td>...</td>\n      <td>...</td>\n      <td>...</td>\n      <td>...</td>\n      <td>...</td>\n      <td>...</td>\n    </tr>\n    <tr>\n      <th>995</th>\n      <td>-1019532991501300185</td>\n      <td>2022-01-24 23:40:08</td>\n      <td>2.665</td>\n      <td>0.004641</td>\n      <td>0.004908</td>\n      <td>0.044225</td>\n      <td>0.006961</td>\n      <td>0.003953</td>\n      <td>0.000596</td>\n      <td>0.088523</td>\n      <td>...</td>\n      <td>0.015466</td>\n      <td>0.002965</td>\n      <td>0.116993</td>\n      <td>0.029280</td>\n      <td>0.018758</td>\n      <td>0.025398</td>\n      <td>0.027998</td>\n      <td>0.014674</td>\n      <td>0.011446</td>\n      <td>0.014332</td>\n    </tr>\n    <tr>\n      <th>996</th>\n      <td>-3501571252544462083</td>\n      <td>2022-01-24 23:45:45</td>\n      <td>2.353</td>\n      <td>0.881127</td>\n      <td>0.041060</td>\n      <td>0.000660</td>\n      <td>0.012573</td>\n      <td>0.000606</td>\n      <td>0.000250</td>\n      <td>0.001353</td>\n      <td>...</td>\n      <td>0.000789</td>\n      <td>0.000519</td>\n      <td>0.001444</td>\n      <td>0.000966</td>\n      <td>0.001307</td>\n      <td>0.006306</td>\n      <td>0.002857</td>\n      <td>0.030792</td>\n      <td>0.000652</td>\n      <td>0.001978</td>\n    </tr>\n    <tr>\n      <th>997</th>\n      <td>8305010046033518305</td>\n      <td>2022-01-24 23:46:11</td>\n      <td>2.914</td>\n      <td>0.003485</td>\n      <td>0.004313</td>\n      <td>0.005593</td>\n      <td>0.007037</td>\n      <td>0.004859</td>\n      <td>0.000358</td>\n      <td>0.014679</td>\n      <td>...</td>\n      <td>0.002736</td>\n      <td>0.001547</td>\n      <td>0.010845</td>\n      <td>0.005275</td>\n      <td>0.002806</td>\n      <td>0.005356</td>\n      <td>0.004277</td>\n      <td>0.004859</td>\n      <td>0.002569</td>\n      <td>0.017427</td>\n    </tr>\n    <tr>\n      <th>998</th>\n      <td>5747749188503396733</td>\n      <td>2022-01-24 23:40:42</td>\n      <td>9.019</td>\n      <td>0.040072</td>\n      <td>0.025728</td>\n      <td>0.015749</td>\n      <td>0.027246</td>\n      <td>0.004706</td>\n      <td>0.002509</td>\n      <td>0.031196</td>\n      <td>...</td>\n      <td>0.017365</td>\n      <td>0.001639</td>\n      <td>0.017846</td>\n      <td>0.012523</td>\n      <td>0.533364</td>\n      <td>0.026452</td>\n      <td>0.098013</td>\n      <td>0.011081</td>\n      <td>0.008527</td>\n      <td>0.004499</td>\n    </tr>\n    <tr>\n      <th>999</th>\n      <td>8646925889615811725</td>\n      <td>2022-01-24 23:46:58</td>\n      <td>2.115</td>\n      <td>0.000709</td>\n      <td>0.000482</td>\n      <td>0.000037</td>\n      <td>0.000625</td>\n      <td>0.000025</td>\n      <td>0.000008</td>\n      <td>0.000093</td>\n      <td>...</td>\n      <td>0.001477</td>\n      <td>0.001262</td>\n      <td>0.001850</td>\n      <td>0.001555</td>\n      <td>0.002077</td>\n      <td>0.003430</td>\n      <td>0.002815</td>\n      <td>0.004377</td>\n      <td>0.001296</td>\n      <td>0.002170</td>\n    </tr>\n  </tbody>\n</table>\n<p>1000 rows × 93 columns</p>\n</div>"
     },
     "execution_count": 5,
     "metadata": {},
     "output_type": "execute_result"
    }
   ],
   "source": [
    "df_tested_andr"
   ],
   "metadata": {
    "collapsed": false
   }
  },
  {
   "cell_type": "code",
   "execution_count": 10,
   "outputs": [],
   "source": [
    "set_andr = set(df_tested_andr.columns)\n",
    "set_illia = set(df_tested.columns)\n",
    "\n",
    "to_add = set_illia - set_andr\n",
    "to_add.add('Id')"
   ],
   "metadata": {
    "collapsed": false
   }
  },
  {
   "cell_type": "code",
   "execution_count": 17,
   "outputs": [],
   "source": [
    "df_liza = pd.merge(df_tested_andr,df_tested[list(to_add)],on='Id')\n",
    "df_liza.to_csv('LIZAFINAL.csv')\n"
   ],
   "metadata": {
    "collapsed": false
   }
  },
  {
   "cell_type": "code",
   "execution_count": 18,
   "outputs": [
    {
     "data": {
      "text/plain": "                      Id         running_time  route_distance_km  \\\n0    4567450496676323264  2022-01-24 00:32:37              5.533   \n1   -1762687449608244695  2022-01-24 00:40:45              4.448   \n2     558209096572647780  2022-01-24 00:47:12              2.751   \n3    1091960336272216078  2022-01-24 01:03:47              4.435   \n4   -1321994599972009663  2022-01-24 01:07:56              2.394   \n..                   ...                  ...                ...   \n995 -1019532991501300185  2022-01-24 23:40:08              2.665   \n996 -3501571252544462083  2022-01-24 23:45:45              2.353   \n997  8305010046033518305  2022-01-24 23:46:11              2.914   \n998  5747749188503396733  2022-01-24 23:40:42              9.019   \n999  8646925889615811725  2022-01-24 23:46:58              2.115   \n\n     start_cluster_0  start_cluster_1  start_cluster_2  start_cluster_3  \\\n0           0.399202         0.058459         0.003582         0.034524   \n1           0.659275         0.147918         0.001610         0.036152   \n2           0.328607         0.406109         0.002276         0.055138   \n3           0.000709         0.000482         0.000037         0.000625   \n4           0.584347         0.183294         0.001878         0.045698   \n..               ...              ...              ...              ...   \n995         0.004641         0.004908         0.044225         0.006961   \n996         0.881127         0.041060         0.000660         0.012573   \n997         0.003485         0.004313         0.005593         0.007037   \n998         0.040072         0.025728         0.015749         0.027246   \n999         0.000709         0.000482         0.000037         0.000625   \n\n     start_cluster_4  start_cluster_5  start_cluster_6  ...  is_evening  \\\n0           0.002573         0.001302         0.007248  ...           0   \n1           0.001545         0.000602         0.003319  ...           0   \n2           0.002426         0.000916         0.004598  ...           0   \n3           0.000025         0.000008         0.000093  ...           0   \n4           0.001795         0.000679         0.003912  ...           0   \n..               ...              ...              ...  ...         ...   \n995         0.003953         0.000596         0.088523  ...           0   \n996         0.000606         0.000250         0.001353  ...           0   \n997         0.004859         0.000358         0.014679  ...           0   \n998         0.004706         0.002509         0.031196  ...           0   \n999         0.000025         0.000008         0.000093  ...           0   \n\n     dewpoint_2m (°C)  snowfall (cm)  is_morning  morning_peak_time  is_night  \\\n0                -5.3           0.00           0                  0         1   \n1                -5.3           0.00           0                  0         1   \n2                -5.3           0.00           0                  0         1   \n3                -5.3           0.00           0                  0         1   \n4                -5.3           0.00           0                  0         1   \n..                ...            ...         ...                ...       ...   \n995              -6.0           0.21           0                  0         1   \n996              -6.0           0.21           0                  0         1   \n997              -6.0           0.21           0                  0         1   \n998              -6.0           0.21           0                  0         1   \n999              -6.0           0.21           0                  0         1   \n\n     apparent_temperature (°C)  windgusts_10m (km/h)  evening_peak_time  \\\n0                        -10.2                  37.1                  0   \n1                        -10.2                  37.1                  0   \n2                        -10.2                  37.1                  0   \n3                         -9.8                  38.5                  0   \n4                         -9.8                  38.5                  0   \n..                         ...                   ...                ...   \n995                      -10.5                  38.2                  0   \n996                      -10.5                  38.2                  0   \n997                      -10.5                  38.2                  0   \n998                      -10.5                  38.2                  0   \n999                      -10.5                  38.2                  0   \n\n     temperature_2m (°C)  \n0                   -3.7  \n1                   -3.7  \n2                   -3.7  \n3                   -3.3  \n4                   -3.3  \n..                   ...  \n995                 -4.3  \n996                 -4.3  \n997                 -4.3  \n998                 -4.3  \n999                 -4.3  \n\n[1000 rows x 107 columns]",
      "text/html": "<div>\n<style scoped>\n    .dataframe tbody tr th:only-of-type {\n        vertical-align: middle;\n    }\n\n    .dataframe tbody tr th {\n        vertical-align: top;\n    }\n\n    .dataframe thead th {\n        text-align: right;\n    }\n</style>\n<table border=\"1\" class=\"dataframe\">\n  <thead>\n    <tr style=\"text-align: right;\">\n      <th></th>\n      <th>Id</th>\n      <th>running_time</th>\n      <th>route_distance_km</th>\n      <th>start_cluster_0</th>\n      <th>start_cluster_1</th>\n      <th>start_cluster_2</th>\n      <th>start_cluster_3</th>\n      <th>start_cluster_4</th>\n      <th>start_cluster_5</th>\n      <th>start_cluster_6</th>\n      <th>...</th>\n      <th>is_evening</th>\n      <th>dewpoint_2m (°C)</th>\n      <th>snowfall (cm)</th>\n      <th>is_morning</th>\n      <th>morning_peak_time</th>\n      <th>is_night</th>\n      <th>apparent_temperature (°C)</th>\n      <th>windgusts_10m (km/h)</th>\n      <th>evening_peak_time</th>\n      <th>temperature_2m (°C)</th>\n    </tr>\n  </thead>\n  <tbody>\n    <tr>\n      <th>0</th>\n      <td>4567450496676323264</td>\n      <td>2022-01-24 00:32:37</td>\n      <td>5.533</td>\n      <td>0.399202</td>\n      <td>0.058459</td>\n      <td>0.003582</td>\n      <td>0.034524</td>\n      <td>0.002573</td>\n      <td>0.001302</td>\n      <td>0.007248</td>\n      <td>...</td>\n      <td>0</td>\n      <td>-5.3</td>\n      <td>0.00</td>\n      <td>0</td>\n      <td>0</td>\n      <td>1</td>\n      <td>-10.2</td>\n      <td>37.1</td>\n      <td>0</td>\n      <td>-3.7</td>\n    </tr>\n    <tr>\n      <th>1</th>\n      <td>-1762687449608244695</td>\n      <td>2022-01-24 00:40:45</td>\n      <td>4.448</td>\n      <td>0.659275</td>\n      <td>0.147918</td>\n      <td>0.001610</td>\n      <td>0.036152</td>\n      <td>0.001545</td>\n      <td>0.000602</td>\n      <td>0.003319</td>\n      <td>...</td>\n      <td>0</td>\n      <td>-5.3</td>\n      <td>0.00</td>\n      <td>0</td>\n      <td>0</td>\n      <td>1</td>\n      <td>-10.2</td>\n      <td>37.1</td>\n      <td>0</td>\n      <td>-3.7</td>\n    </tr>\n    <tr>\n      <th>2</th>\n      <td>558209096572647780</td>\n      <td>2022-01-24 00:47:12</td>\n      <td>2.751</td>\n      <td>0.328607</td>\n      <td>0.406109</td>\n      <td>0.002276</td>\n      <td>0.055138</td>\n      <td>0.002426</td>\n      <td>0.000916</td>\n      <td>0.004598</td>\n      <td>...</td>\n      <td>0</td>\n      <td>-5.3</td>\n      <td>0.00</td>\n      <td>0</td>\n      <td>0</td>\n      <td>1</td>\n      <td>-10.2</td>\n      <td>37.1</td>\n      <td>0</td>\n      <td>-3.7</td>\n    </tr>\n    <tr>\n      <th>3</th>\n      <td>1091960336272216078</td>\n      <td>2022-01-24 01:03:47</td>\n      <td>4.435</td>\n      <td>0.000709</td>\n      <td>0.000482</td>\n      <td>0.000037</td>\n      <td>0.000625</td>\n      <td>0.000025</td>\n      <td>0.000008</td>\n      <td>0.000093</td>\n      <td>...</td>\n      <td>0</td>\n      <td>-5.3</td>\n      <td>0.00</td>\n      <td>0</td>\n      <td>0</td>\n      <td>1</td>\n      <td>-9.8</td>\n      <td>38.5</td>\n      <td>0</td>\n      <td>-3.3</td>\n    </tr>\n    <tr>\n      <th>4</th>\n      <td>-1321994599972009663</td>\n      <td>2022-01-24 01:07:56</td>\n      <td>2.394</td>\n      <td>0.584347</td>\n      <td>0.183294</td>\n      <td>0.001878</td>\n      <td>0.045698</td>\n      <td>0.001795</td>\n      <td>0.000679</td>\n      <td>0.003912</td>\n      <td>...</td>\n      <td>0</td>\n      <td>-5.3</td>\n      <td>0.00</td>\n      <td>0</td>\n      <td>0</td>\n      <td>1</td>\n      <td>-9.8</td>\n      <td>38.5</td>\n      <td>0</td>\n      <td>-3.3</td>\n    </tr>\n    <tr>\n      <th>...</th>\n      <td>...</td>\n      <td>...</td>\n      <td>...</td>\n      <td>...</td>\n      <td>...</td>\n      <td>...</td>\n      <td>...</td>\n      <td>...</td>\n      <td>...</td>\n      <td>...</td>\n      <td>...</td>\n      <td>...</td>\n      <td>...</td>\n      <td>...</td>\n      <td>...</td>\n      <td>...</td>\n      <td>...</td>\n      <td>...</td>\n      <td>...</td>\n      <td>...</td>\n      <td>...</td>\n    </tr>\n    <tr>\n      <th>995</th>\n      <td>-1019532991501300185</td>\n      <td>2022-01-24 23:40:08</td>\n      <td>2.665</td>\n      <td>0.004641</td>\n      <td>0.004908</td>\n      <td>0.044225</td>\n      <td>0.006961</td>\n      <td>0.003953</td>\n      <td>0.000596</td>\n      <td>0.088523</td>\n      <td>...</td>\n      <td>0</td>\n      <td>-6.0</td>\n      <td>0.21</td>\n      <td>0</td>\n      <td>0</td>\n      <td>1</td>\n      <td>-10.5</td>\n      <td>38.2</td>\n      <td>0</td>\n      <td>-4.3</td>\n    </tr>\n    <tr>\n      <th>996</th>\n      <td>-3501571252544462083</td>\n      <td>2022-01-24 23:45:45</td>\n      <td>2.353</td>\n      <td>0.881127</td>\n      <td>0.041060</td>\n      <td>0.000660</td>\n      <td>0.012573</td>\n      <td>0.000606</td>\n      <td>0.000250</td>\n      <td>0.001353</td>\n      <td>...</td>\n      <td>0</td>\n      <td>-6.0</td>\n      <td>0.21</td>\n      <td>0</td>\n      <td>0</td>\n      <td>1</td>\n      <td>-10.5</td>\n      <td>38.2</td>\n      <td>0</td>\n      <td>-4.3</td>\n    </tr>\n    <tr>\n      <th>997</th>\n      <td>8305010046033518305</td>\n      <td>2022-01-24 23:46:11</td>\n      <td>2.914</td>\n      <td>0.003485</td>\n      <td>0.004313</td>\n      <td>0.005593</td>\n      <td>0.007037</td>\n      <td>0.004859</td>\n      <td>0.000358</td>\n      <td>0.014679</td>\n      <td>...</td>\n      <td>0</td>\n      <td>-6.0</td>\n      <td>0.21</td>\n      <td>0</td>\n      <td>0</td>\n      <td>1</td>\n      <td>-10.5</td>\n      <td>38.2</td>\n      <td>0</td>\n      <td>-4.3</td>\n    </tr>\n    <tr>\n      <th>998</th>\n      <td>5747749188503396733</td>\n      <td>2022-01-24 23:40:42</td>\n      <td>9.019</td>\n      <td>0.040072</td>\n      <td>0.025728</td>\n      <td>0.015749</td>\n      <td>0.027246</td>\n      <td>0.004706</td>\n      <td>0.002509</td>\n      <td>0.031196</td>\n      <td>...</td>\n      <td>0</td>\n      <td>-6.0</td>\n      <td>0.21</td>\n      <td>0</td>\n      <td>0</td>\n      <td>1</td>\n      <td>-10.5</td>\n      <td>38.2</td>\n      <td>0</td>\n      <td>-4.3</td>\n    </tr>\n    <tr>\n      <th>999</th>\n      <td>8646925889615811725</td>\n      <td>2022-01-24 23:46:58</td>\n      <td>2.115</td>\n      <td>0.000709</td>\n      <td>0.000482</td>\n      <td>0.000037</td>\n      <td>0.000625</td>\n      <td>0.000025</td>\n      <td>0.000008</td>\n      <td>0.000093</td>\n      <td>...</td>\n      <td>0</td>\n      <td>-6.0</td>\n      <td>0.21</td>\n      <td>0</td>\n      <td>0</td>\n      <td>1</td>\n      <td>-10.5</td>\n      <td>38.2</td>\n      <td>0</td>\n      <td>-4.3</td>\n    </tr>\n  </tbody>\n</table>\n<p>1000 rows × 107 columns</p>\n</div>"
     },
     "execution_count": 18,
     "metadata": {},
     "output_type": "execute_result"
    }
   ],
   "source": [
    "df_liza"
   ],
   "metadata": {
    "collapsed": false
   }
  },
  {
   "cell_type": "code",
   "execution_count": 12,
   "outputs": [],
   "source": [
    "liza_cols = ['Id', 'route_distance_km', 'delta_time', 'is_afternoon',\n",
    "       'is_evening', 'is_morning', 'is_night', 'morning_peak_time',\n",
    "       'evening_peak_time', 'temperature_2m (°C)',\n",
    "       'relativehumidity_2m (%)', 'apparent_temperature (°C)',\n",
    "       'snowfall (cm)', 'dewpoint_2m (°C)', 'cloudcover (%)',\n",
    "       'windspeed_10m (km/h)', 'windgusts_10m (km/h)', 'start_node_lat',\n",
    "       'start_node_lon', 'end_node_lat', 'end_node_lon',\n",
    "       'distance_haversine', 'distance_dummy_manhattan', 'direction',\n",
    "       'central_lon', 'central_lat', 'start_cluster_0', 'start_cluster_1',\n",
    "       'start_cluster_2', 'start_cluster_3', 'start_cluster_4',\n",
    "       'start_cluster_5', 'start_cluster_6', 'start_cluster_7',\n",
    "       'start_cluster_8', 'start_cluster_9', 'start_cluster_10',\n",
    "       'start_cluster_11', 'start_cluster_12', 'start_cluster_13',\n",
    "       'start_cluster_14', 'start_cluster_15', 'start_cluster_16',\n",
    "       'start_cluster_17', 'start_cluster_18', 'start_cluster_19',\n",
    "       'start_cluster_20', 'start_cluster_21', 'start_cluster_22',\n",
    "       'start_cluster_23', 'start_cluster_24', 'start_cluster_25',\n",
    "       'start_cluster_26', 'start_cluster_27', 'start_cluster_28',\n",
    "       'start_cluster_29', 'finish_cluster_0', 'finish_cluster_1',\n",
    "       'finish_cluster_2', 'finish_cluster_3', 'finish_cluster_4',\n",
    "       'finish_cluster_5', 'finish_cluster_6', 'finish_cluster_7',\n",
    "       'finish_cluster_8', 'finish_cluster_9', 'finish_cluster_10',\n",
    "       'finish_cluster_11', 'finish_cluster_12', 'finish_cluster_13',\n",
    "       'finish_cluster_14', 'finish_cluster_15', 'finish_cluster_16',\n",
    "       'finish_cluster_17', 'finish_cluster_18', 'finish_cluster_19',\n",
    "       'finish_cluster_20', 'finish_cluster_21', 'finish_cluster_22',\n",
    "       'finish_cluster_23', 'finish_cluster_24', 'finish_cluster_25',\n",
    "       'finish_cluster_26', 'finish_cluster_27', 'finish_cluster_28',\n",
    "       'finish_cluster_29', 'center_cluster_0', 'center_cluster_1',\n",
    "       'center_cluster_2', 'center_cluster_3', 'center_cluster_4',\n",
    "       'center_cluster_5', 'center_cluster_6', 'center_cluster_7',\n",
    "       'center_cluster_8', 'center_cluster_9', 'center_cluster_10',\n",
    "       'center_cluster_11', 'center_cluster_12', 'center_cluster_13',\n",
    "       'center_cluster_14', 'center_cluster_15', 'center_cluster_16',\n",
    "       'center_cluster_17', 'center_cluster_18', 'center_cluster_19',\n",
    "       'center_cluster_20', 'center_cluster_21', 'center_cluster_22',\n",
    "       'center_cluster_23', 'center_cluster_24', 'center_cluster_25',\n",
    "       'center_cluster_26', 'center_cluster_27', 'center_cluster_28',\n",
    "       'center_cluster_29', 'hour', 'pred_time']"
   ],
   "metadata": {
    "collapsed": false
   }
  },
  {
   "cell_type": "code",
   "execution_count": 13,
   "outputs": [
    {
     "data": {
      "text/plain": "118"
     },
     "execution_count": 13,
     "metadata": {},
     "output_type": "execute_result"
    }
   ],
   "source": [
    "len(liza_cols)"
   ],
   "metadata": {
    "collapsed": false
   }
  },
  {
   "cell_type": "code",
   "execution_count": null,
   "outputs": [],
   "source": [
    "AVG_EARTH_RADIUS = 6371  # in km\n",
    "def haversine_array(lat1, lon1, lat2, lon2):\n",
    "    lat1, lon1, lat2, lon2 = map(np.radians, (lat1, lon1, lat2, lon2))\n",
    "    lat = lat2 - lat1\n",
    "    lon = lon2 - lon1\n",
    "    d = np.sin(lat * 0.5) ** 2 + np.cos(lat1) * np.cos(lat2) * np.sin(lon * 0.5) ** 2\n",
    "    h = 2 * AVG_EARTH_RADIUS * np.arcsin(np.sqrt(d))\n",
    "    return h\n",
    "\n",
    "def dummy_manhattan_distance(lat1, lon1, lat2, lon2):\n",
    "    a = haversine_array(lat1, lon1, lat1, lon2)\n",
    "    b = haversine_array(lat1, lon1, lat2, lon1)\n",
    "    return a + b\n",
    "\n",
    "def bearing_array(lat1, lon1, lat2, lon2):\n",
    "    lng_delta_rad = np.radians(lon2 - lon1)\n",
    "    lat1, lon1, lat2, lon2 = map(np.radians, (lat1, lon1, lat2, lon2))\n",
    "    y = np.sin(lng_delta_rad) * np.cos(lat2)\n",
    "    x = np.cos(lat1) * np.sin(lat2) - np.sin(lat1) * np.cos(lat2) * np.cos(lng_delta_rad)\n",
    "    return np.degrees(np.arctan2(y, x))"
   ],
   "metadata": {
    "collapsed": false
   }
  },
  {
   "cell_type": "code",
   "execution_count": null,
   "outputs": [],
   "source": [
    "df2.loc[:, 'distance_haversine'] = haversine_array(df2['start_node_lat'].values, df2['start_node_lon'].values,\n",
    "                                                  df2['end_node_lat'].values, df2['end_node_lon'].values)\n",
    "df2.loc[:, 'distance_dummy_manhattan'] = dummy_manhattan_distance(df2['start_node_lat'].values, df2['start_node_lon'].values,\n",
    "                                                  df2['end_node_lat'].values, df2['end_node_lon'].values)\n",
    "df2.loc[:, 'direction'] = bearing_array(df2['start_node_lat'].values, df2['start_node_lon'].values,\n",
    "                                                  df2['end_node_lat'].values, df2['end_node_lon'].values)"
   ],
   "metadata": {
    "collapsed": false
   }
  },
  {
   "cell_type": "code",
   "execution_count": 19,
   "outputs": [
    {
     "data": {
      "text/plain": "     Unnamed: 0                   Id         running_time  route_distance_km  \\\n0             0  4567450496676323264  2022-01-24 00:32:37              5.533   \n1             1 -1762687449608244695  2022-01-24 00:40:45              4.448   \n2             2   558209096572647780  2022-01-24 00:47:12              2.751   \n3             3  1091960336272216078  2022-01-24 01:03:47              4.435   \n4             4 -1321994599972009663  2022-01-24 01:07:56              2.394   \n..          ...                  ...                  ...                ...   \n995         995 -1019532991501300185  2022-01-24 23:40:08              2.665   \n996         996 -3501571252544462083  2022-01-24 23:45:45              2.353   \n997         997  8305010046033518305  2022-01-24 23:46:11              2.914   \n998         998  5747749188503396733  2022-01-24 23:40:42              9.019   \n999         999  8646925889615811725  2022-01-24 23:46:58              2.115   \n\n                                              sequence  \n0    [1750183122, 289702926, 5222301471, 10980648, ...  \n1    [4439629628, 4439629627, 5213015315, 443962962...  \n2    [4084898794, 4084897988, 5237897456, 443962966...  \n3    [8121066754, 8120946071, 5359799871, 316676003...  \n4    [4439629609, 4439629613, 4325099307, 10980544,...  \n..                                                 ...  \n995  [4775895232, 1313110355, 3127871124, 131311035...  \n996  [5213015320, 4439629610, 4439629599, 10980545,...  \n997  [4775833877, 4775833873, 1973798535, 197379856...  \n998  [3917560950, 1570776644, 277661601, 3285024103...  \n999  [8121581676, 8121581677, 4330055224, 433005522...  \n\n[1000 rows x 5 columns]",
      "text/html": "<div>\n<style scoped>\n    .dataframe tbody tr th:only-of-type {\n        vertical-align: middle;\n    }\n\n    .dataframe tbody tr th {\n        vertical-align: top;\n    }\n\n    .dataframe thead th {\n        text-align: right;\n    }\n</style>\n<table border=\"1\" class=\"dataframe\">\n  <thead>\n    <tr style=\"text-align: right;\">\n      <th></th>\n      <th>Unnamed: 0</th>\n      <th>Id</th>\n      <th>running_time</th>\n      <th>route_distance_km</th>\n      <th>sequence</th>\n    </tr>\n  </thead>\n  <tbody>\n    <tr>\n      <th>0</th>\n      <td>0</td>\n      <td>4567450496676323264</td>\n      <td>2022-01-24 00:32:37</td>\n      <td>5.533</td>\n      <td>[1750183122, 289702926, 5222301471, 10980648, ...</td>\n    </tr>\n    <tr>\n      <th>1</th>\n      <td>1</td>\n      <td>-1762687449608244695</td>\n      <td>2022-01-24 00:40:45</td>\n      <td>4.448</td>\n      <td>[4439629628, 4439629627, 5213015315, 443962962...</td>\n    </tr>\n    <tr>\n      <th>2</th>\n      <td>2</td>\n      <td>558209096572647780</td>\n      <td>2022-01-24 00:47:12</td>\n      <td>2.751</td>\n      <td>[4084898794, 4084897988, 5237897456, 443962966...</td>\n    </tr>\n    <tr>\n      <th>3</th>\n      <td>3</td>\n      <td>1091960336272216078</td>\n      <td>2022-01-24 01:03:47</td>\n      <td>4.435</td>\n      <td>[8121066754, 8120946071, 5359799871, 316676003...</td>\n    </tr>\n    <tr>\n      <th>4</th>\n      <td>4</td>\n      <td>-1321994599972009663</td>\n      <td>2022-01-24 01:07:56</td>\n      <td>2.394</td>\n      <td>[4439629609, 4439629613, 4325099307, 10980544,...</td>\n    </tr>\n    <tr>\n      <th>...</th>\n      <td>...</td>\n      <td>...</td>\n      <td>...</td>\n      <td>...</td>\n      <td>...</td>\n    </tr>\n    <tr>\n      <th>995</th>\n      <td>995</td>\n      <td>-1019532991501300185</td>\n      <td>2022-01-24 23:40:08</td>\n      <td>2.665</td>\n      <td>[4775895232, 1313110355, 3127871124, 131311035...</td>\n    </tr>\n    <tr>\n      <th>996</th>\n      <td>996</td>\n      <td>-3501571252544462083</td>\n      <td>2022-01-24 23:45:45</td>\n      <td>2.353</td>\n      <td>[5213015320, 4439629610, 4439629599, 10980545,...</td>\n    </tr>\n    <tr>\n      <th>997</th>\n      <td>997</td>\n      <td>8305010046033518305</td>\n      <td>2022-01-24 23:46:11</td>\n      <td>2.914</td>\n      <td>[4775833877, 4775833873, 1973798535, 197379856...</td>\n    </tr>\n    <tr>\n      <th>998</th>\n      <td>998</td>\n      <td>5747749188503396733</td>\n      <td>2022-01-24 23:40:42</td>\n      <td>9.019</td>\n      <td>[3917560950, 1570776644, 277661601, 3285024103...</td>\n    </tr>\n    <tr>\n      <th>999</th>\n      <td>999</td>\n      <td>8646925889615811725</td>\n      <td>2022-01-24 23:46:58</td>\n      <td>2.115</td>\n      <td>[8121581676, 8121581677, 4330055224, 433005522...</td>\n    </tr>\n  </tbody>\n</table>\n<p>1000 rows × 5 columns</p>\n</div>"
     },
     "execution_count": 19,
     "metadata": {},
     "output_type": "execute_result"
    }
   ],
   "source": [
    "sequnces = pd.read_csv('test_with_sequencesv2.csv')\n",
    "sequnces."
   ],
   "metadata": {
    "collapsed": false
   }
  },
  {
   "cell_type": "code",
   "execution_count": 24,
   "outputs": [
    {
     "ename": "TypeError",
     "evalue": "unsupported operand type(s) for +: 'set' and 'set'",
     "output_type": "error",
     "traceback": [
      "\u001B[1;31m---------------------------------------------------------------------------\u001B[0m",
      "\u001B[1;31mTypeError\u001B[0m                                 Traceback (most recent call last)",
      "Cell \u001B[1;32mIn[24], line 5\u001B[0m\n\u001B[0;32m      1\u001B[0m seq_cols \u001B[38;5;241m=\u001B[39m \u001B[38;5;28mset\u001B[39m(sequnces\u001B[38;5;241m.\u001B[39mcolumns)\n\u001B[0;32m      3\u001B[0m liza_cols_all \u001B[38;5;241m=\u001B[39m \u001B[38;5;28mset\u001B[39m(df_liza\u001B[38;5;241m.\u001B[39mcolumns)\n\u001B[1;32m----> 5\u001B[0m \u001B[43mseq_cols\u001B[49m\u001B[43m \u001B[49m\u001B[38;5;241;43m-\u001B[39;49m\u001B[43m \u001B[49m\u001B[43mliza_cols_all\u001B[49m\u001B[43m \u001B[49m\u001B[38;5;241;43m-\u001B[39;49m\u001B[43m \u001B[49m\u001B[38;5;28;43mset\u001B[39;49m\u001B[43m(\u001B[49m\u001B[43m[\u001B[49m\u001B[38;5;124;43m'\u001B[39;49m\u001B[38;5;124;43mUnnamed: 0\u001B[39;49m\u001B[38;5;124;43m'\u001B[39;49m\u001B[43m]\u001B[49m\u001B[43m)\u001B[49m\u001B[43m \u001B[49m\u001B[38;5;241;43m+\u001B[39;49m\u001B[43m \u001B[49m\u001B[38;5;28;43mset\u001B[39;49m\u001B[43m(\u001B[49m\u001B[43m[\u001B[49m\u001B[38;5;124;43m'\u001B[39;49m\u001B[38;5;124;43mId\u001B[39;49m\u001B[38;5;124;43m'\u001B[39;49m\u001B[43m]\u001B[49m\u001B[43m)\u001B[49m\n",
      "\u001B[1;31mTypeError\u001B[0m: unsupported operand type(s) for +: 'set' and 'set'"
     ]
    }
   ],
   "source": [
    "seq_cols = set(sequnces.columns)\n",
    "\n",
    "liza_cols_all = set(df_liza.columns)\n",
    "\n",
    "seq_cols - liza_cols_all - set(['Unnamed: 0'])"
   ],
   "metadata": {
    "collapsed": false
   }
  },
  {
   "cell_type": "code",
   "execution_count": 25,
   "outputs": [],
   "source": [
    "cols_to_m = ['sequence','Id']"
   ],
   "metadata": {
    "collapsed": false
   }
  },
  {
   "cell_type": "code",
   "execution_count": 27,
   "outputs": [],
   "source": [
    "pd.merge(df_liza,sequnces[cols_to_m],on='Id').to_csv('LIZAFINAL2.csv',index=False)"
   ],
   "metadata": {
    "collapsed": false
   }
  },
  {
   "cell_type": "code",
   "execution_count": 28,
   "outputs": [
    {
     "data": {
      "text/plain": "                       Id         running_time       completed_time  \\\n0    -4773019581999572651  2022-01-24 18:30:21  2022-01-24 18:44:43   \n1    -7575630690398473489  2022-01-24 06:53:53  2022-01-24 07:06:26   \n2    -6264582368520213833  2022-01-24 10:00:59  2022-01-24 10:15:58   \n3     5964315354301636538  2022-01-24 14:28:05  2022-01-24 14:35:08   \n4     1372379574816145639  2022-01-24 11:57:29  2022-01-24 12:06:29   \n...                   ...                  ...                  ...   \n4992  7096714159023973792  2022-01-24 21:10:38  2022-01-24 21:23:53   \n4993 -3836026425968071806  2022-01-24 15:10:27  2022-01-24 15:20:21   \n4994  2926216435675216636  2022-01-24 13:57:04  2022-01-24 14:03:18   \n4995 -6677307480063489707  2022-01-24 08:46:13  2022-01-24 08:55:34   \n4996 -4845695090750648713  2022-01-24 14:57:46  2022-01-24 15:11:25   \n\n      route_distance_km  delta_time  is_afternoon  is_evening  is_morning  \\\n0                 3.740       862.0             0           1           0   \n1                 3.526       753.0             0           0           1   \n2                 5.071       899.0             0           0           1   \n3                 2.867       423.0             1           0           0   \n4                 3.751       540.0             0           0           1   \n...                 ...         ...           ...         ...         ...   \n4992              7.397       795.0             0           0           0   \n4993              1.948       594.0             1           0           0   \n4994              2.547       374.0             1           0           0   \n4995              3.013       561.0             0           0           1   \n4996              2.323       819.0             1           0           0   \n\n      is_night  morning_peak_time  ...  windgusts_10m (km/h)  start_node_lat  \\\n0            0                  0  ...                  40.7       46.483519   \n1            0                  0  ...                  40.3       46.476633   \n2            0                  0  ...                  52.6       46.456845   \n3            0                  0  ...                  52.2       46.573485   \n4            0                  0  ...                  54.4       46.446568   \n...        ...                ...  ...                   ...             ...   \n4992         1                  0  ...                  39.2       46.468524   \n4993         0                  0  ...                  50.8       46.427398   \n4994         0                  0  ...                  52.2       46.477758   \n4995         0                  1  ...                  41.8       46.455458   \n4996         0                  0  ...                  50.8       46.468524   \n\n      start_node_lon  end_node_lat  end_node_lon  distance_haversine  \\\n0          30.736763     46.456384     30.732808            3.032502   \n1          30.744477     46.465393     30.713571            2.676555   \n2          30.733019     46.489681     30.745173            3.768017   \n3          30.803950     46.574277     30.780630            1.784713   \n4          30.706342     46.441818     30.676516            2.345483   \n...              ...           ...           ...                 ...   \n4992       30.738275     46.433738     30.698098            4.943186   \n4993       30.756188     46.427398     30.756188            0.000000   \n4994       30.717366     46.480012     30.692385            1.929130   \n4995       30.746578     46.472585     30.740297            1.964256   \n4996       30.738275     46.411638     30.723435            6.426821   \n\n      distance_dummy_manhattan   direction  central_lon  central_lat  \n0                     3.320124 -174.266836    30.734785    46.469952  \n1                     3.616424 -117.826157    30.729024    46.471013  \n2                     4.582291   14.296566    30.739096    46.473263  \n3                     1.870661  -87.161703    30.792290    46.573881  \n4                     2.813341 -103.003996    30.691429    46.444193  \n...                        ...         ...          ...          ...  \n4992                  6.944948 -141.474766    30.718186    46.451131  \n4993                  0.000000    0.000000    30.756188    46.427398  \n4994                  2.163442  -82.526282    30.704875    46.478885  \n4995                  2.385579  -14.174295    30.743437    46.464022  \n4996                  7.461950 -169.803427    30.730855    46.440081  \n\n[4997 rows x 28 columns]",
      "text/html": "<div>\n<style scoped>\n    .dataframe tbody tr th:only-of-type {\n        vertical-align: middle;\n    }\n\n    .dataframe tbody tr th {\n        vertical-align: top;\n    }\n\n    .dataframe thead th {\n        text-align: right;\n    }\n</style>\n<table border=\"1\" class=\"dataframe\">\n  <thead>\n    <tr style=\"text-align: right;\">\n      <th></th>\n      <th>Id</th>\n      <th>running_time</th>\n      <th>completed_time</th>\n      <th>route_distance_km</th>\n      <th>delta_time</th>\n      <th>is_afternoon</th>\n      <th>is_evening</th>\n      <th>is_morning</th>\n      <th>is_night</th>\n      <th>morning_peak_time</th>\n      <th>...</th>\n      <th>windgusts_10m (km/h)</th>\n      <th>start_node_lat</th>\n      <th>start_node_lon</th>\n      <th>end_node_lat</th>\n      <th>end_node_lon</th>\n      <th>distance_haversine</th>\n      <th>distance_dummy_manhattan</th>\n      <th>direction</th>\n      <th>central_lon</th>\n      <th>central_lat</th>\n    </tr>\n  </thead>\n  <tbody>\n    <tr>\n      <th>0</th>\n      <td>-4773019581999572651</td>\n      <td>2022-01-24 18:30:21</td>\n      <td>2022-01-24 18:44:43</td>\n      <td>3.740</td>\n      <td>862.0</td>\n      <td>0</td>\n      <td>1</td>\n      <td>0</td>\n      <td>0</td>\n      <td>0</td>\n      <td>...</td>\n      <td>40.7</td>\n      <td>46.483519</td>\n      <td>30.736763</td>\n      <td>46.456384</td>\n      <td>30.732808</td>\n      <td>3.032502</td>\n      <td>3.320124</td>\n      <td>-174.266836</td>\n      <td>30.734785</td>\n      <td>46.469952</td>\n    </tr>\n    <tr>\n      <th>1</th>\n      <td>-7575630690398473489</td>\n      <td>2022-01-24 06:53:53</td>\n      <td>2022-01-24 07:06:26</td>\n      <td>3.526</td>\n      <td>753.0</td>\n      <td>0</td>\n      <td>0</td>\n      <td>1</td>\n      <td>0</td>\n      <td>0</td>\n      <td>...</td>\n      <td>40.3</td>\n      <td>46.476633</td>\n      <td>30.744477</td>\n      <td>46.465393</td>\n      <td>30.713571</td>\n      <td>2.676555</td>\n      <td>3.616424</td>\n      <td>-117.826157</td>\n      <td>30.729024</td>\n      <td>46.471013</td>\n    </tr>\n    <tr>\n      <th>2</th>\n      <td>-6264582368520213833</td>\n      <td>2022-01-24 10:00:59</td>\n      <td>2022-01-24 10:15:58</td>\n      <td>5.071</td>\n      <td>899.0</td>\n      <td>0</td>\n      <td>0</td>\n      <td>1</td>\n      <td>0</td>\n      <td>0</td>\n      <td>...</td>\n      <td>52.6</td>\n      <td>46.456845</td>\n      <td>30.733019</td>\n      <td>46.489681</td>\n      <td>30.745173</td>\n      <td>3.768017</td>\n      <td>4.582291</td>\n      <td>14.296566</td>\n      <td>30.739096</td>\n      <td>46.473263</td>\n    </tr>\n    <tr>\n      <th>3</th>\n      <td>5964315354301636538</td>\n      <td>2022-01-24 14:28:05</td>\n      <td>2022-01-24 14:35:08</td>\n      <td>2.867</td>\n      <td>423.0</td>\n      <td>1</td>\n      <td>0</td>\n      <td>0</td>\n      <td>0</td>\n      <td>0</td>\n      <td>...</td>\n      <td>52.2</td>\n      <td>46.573485</td>\n      <td>30.803950</td>\n      <td>46.574277</td>\n      <td>30.780630</td>\n      <td>1.784713</td>\n      <td>1.870661</td>\n      <td>-87.161703</td>\n      <td>30.792290</td>\n      <td>46.573881</td>\n    </tr>\n    <tr>\n      <th>4</th>\n      <td>1372379574816145639</td>\n      <td>2022-01-24 11:57:29</td>\n      <td>2022-01-24 12:06:29</td>\n      <td>3.751</td>\n      <td>540.0</td>\n      <td>0</td>\n      <td>0</td>\n      <td>1</td>\n      <td>0</td>\n      <td>0</td>\n      <td>...</td>\n      <td>54.4</td>\n      <td>46.446568</td>\n      <td>30.706342</td>\n      <td>46.441818</td>\n      <td>30.676516</td>\n      <td>2.345483</td>\n      <td>2.813341</td>\n      <td>-103.003996</td>\n      <td>30.691429</td>\n      <td>46.444193</td>\n    </tr>\n    <tr>\n      <th>...</th>\n      <td>...</td>\n      <td>...</td>\n      <td>...</td>\n      <td>...</td>\n      <td>...</td>\n      <td>...</td>\n      <td>...</td>\n      <td>...</td>\n      <td>...</td>\n      <td>...</td>\n      <td>...</td>\n      <td>...</td>\n      <td>...</td>\n      <td>...</td>\n      <td>...</td>\n      <td>...</td>\n      <td>...</td>\n      <td>...</td>\n      <td>...</td>\n      <td>...</td>\n      <td>...</td>\n    </tr>\n    <tr>\n      <th>4992</th>\n      <td>7096714159023973792</td>\n      <td>2022-01-24 21:10:38</td>\n      <td>2022-01-24 21:23:53</td>\n      <td>7.397</td>\n      <td>795.0</td>\n      <td>0</td>\n      <td>0</td>\n      <td>0</td>\n      <td>1</td>\n      <td>0</td>\n      <td>...</td>\n      <td>39.2</td>\n      <td>46.468524</td>\n      <td>30.738275</td>\n      <td>46.433738</td>\n      <td>30.698098</td>\n      <td>4.943186</td>\n      <td>6.944948</td>\n      <td>-141.474766</td>\n      <td>30.718186</td>\n      <td>46.451131</td>\n    </tr>\n    <tr>\n      <th>4993</th>\n      <td>-3836026425968071806</td>\n      <td>2022-01-24 15:10:27</td>\n      <td>2022-01-24 15:20:21</td>\n      <td>1.948</td>\n      <td>594.0</td>\n      <td>1</td>\n      <td>0</td>\n      <td>0</td>\n      <td>0</td>\n      <td>0</td>\n      <td>...</td>\n      <td>50.8</td>\n      <td>46.427398</td>\n      <td>30.756188</td>\n      <td>46.427398</td>\n      <td>30.756188</td>\n      <td>0.000000</td>\n      <td>0.000000</td>\n      <td>0.000000</td>\n      <td>30.756188</td>\n      <td>46.427398</td>\n    </tr>\n    <tr>\n      <th>4994</th>\n      <td>2926216435675216636</td>\n      <td>2022-01-24 13:57:04</td>\n      <td>2022-01-24 14:03:18</td>\n      <td>2.547</td>\n      <td>374.0</td>\n      <td>1</td>\n      <td>0</td>\n      <td>0</td>\n      <td>0</td>\n      <td>0</td>\n      <td>...</td>\n      <td>52.2</td>\n      <td>46.477758</td>\n      <td>30.717366</td>\n      <td>46.480012</td>\n      <td>30.692385</td>\n      <td>1.929130</td>\n      <td>2.163442</td>\n      <td>-82.526282</td>\n      <td>30.704875</td>\n      <td>46.478885</td>\n    </tr>\n    <tr>\n      <th>4995</th>\n      <td>-6677307480063489707</td>\n      <td>2022-01-24 08:46:13</td>\n      <td>2022-01-24 08:55:34</td>\n      <td>3.013</td>\n      <td>561.0</td>\n      <td>0</td>\n      <td>0</td>\n      <td>1</td>\n      <td>0</td>\n      <td>1</td>\n      <td>...</td>\n      <td>41.8</td>\n      <td>46.455458</td>\n      <td>30.746578</td>\n      <td>46.472585</td>\n      <td>30.740297</td>\n      <td>1.964256</td>\n      <td>2.385579</td>\n      <td>-14.174295</td>\n      <td>30.743437</td>\n      <td>46.464022</td>\n    </tr>\n    <tr>\n      <th>4996</th>\n      <td>-4845695090750648713</td>\n      <td>2022-01-24 14:57:46</td>\n      <td>2022-01-24 15:11:25</td>\n      <td>2.323</td>\n      <td>819.0</td>\n      <td>1</td>\n      <td>0</td>\n      <td>0</td>\n      <td>0</td>\n      <td>0</td>\n      <td>...</td>\n      <td>50.8</td>\n      <td>46.468524</td>\n      <td>30.738275</td>\n      <td>46.411638</td>\n      <td>30.723435</td>\n      <td>6.426821</td>\n      <td>7.461950</td>\n      <td>-169.803427</td>\n      <td>30.730855</td>\n      <td>46.440081</td>\n    </tr>\n  </tbody>\n</table>\n<p>4997 rows × 28 columns</p>\n</div>"
     },
     "execution_count": 28,
     "metadata": {},
     "output_type": "execute_result"
    }
   ],
   "source": [
    "pd.read_csv('final_df.csv')"
   ],
   "metadata": {
    "collapsed": false
   }
  },
  {
   "cell_type": "code",
   "execution_count": 29,
   "outputs": [
    {
     "data": {
      "text/plain": "                      Id         running_time  route_distance_km  \\\n0    4567450496676323264  2022-01-24 00:32:37              5.533   \n1   -1762687449608244695  2022-01-24 00:40:45              4.448   \n2     558209096572647780  2022-01-24 00:47:12              2.751   \n3    1091960336272216078  2022-01-24 01:03:47              4.435   \n4   -1321994599972009663  2022-01-24 01:07:56              2.394   \n..                   ...                  ...                ...   \n995 -1019532991501300185  2022-01-24 23:40:08              2.665   \n996 -3501571252544462083  2022-01-24 23:45:45              2.353   \n997  8305010046033518305  2022-01-24 23:46:11              2.914   \n998  5747749188503396733  2022-01-24 23:40:42              9.019   \n999  8646925889615811725  2022-01-24 23:46:58              2.115   \n\n                                              sequence  is_afternoon  \\\n0    [1750183122, 289702926, 5222301471, 10980648, ...             0   \n1    [4439629628, 4439629627, 5213015315, 443962962...             0   \n2    [4084898794, 4084897988, 5237897456, 443962966...             0   \n3    [8121066754, 8120946071, 5359799871, 316676003...             0   \n4    [4439629609, 4439629613, 4325099307, 10980544,...             0   \n..                                                 ...           ...   \n995  [4775895232, 1313110355, 3127871124, 131311035...             0   \n996  [5213015320, 4439629610, 4439629599, 10980545,...             0   \n997  [4775833877, 4775833873, 1973798535, 197379856...             0   \n998  [3917560950, 1570776644, 277661601, 3285024103...             0   \n999  [8121581676, 8121581677, 4330055224, 433005522...             0   \n\n     is_evening  is_morning  is_night  morning_peak_time  evening_peak_time  \\\n0             0           0         1                  0                  0   \n1             0           0         1                  0                  0   \n2             0           0         1                  0                  0   \n3             0           0         1                  0                  0   \n4             0           0         1                  0                  0   \n..          ...         ...       ...                ...                ...   \n995           0           0         1                  0                  0   \n996           0           0         1                  0                  0   \n997           0           0         1                  0                  0   \n998           0           0         1                  0                  0   \n999           0           0         1                  0                  0   \n\n     ...  center_cluster_20  center_cluster_21  center_cluster_22  \\\n0    ...           0.000865           0.000382           0.001347   \n1    ...           0.001212           0.000718           0.002123   \n2    ...           0.001609           0.001233           0.002842   \n3    ...           0.003070           0.000226           0.002553   \n4    ...           0.001446           0.000941           0.002707   \n..   ...                ...                ...                ...   \n995  ...           0.015466           0.002965           0.116993   \n996  ...           0.000789           0.000519           0.001444   \n997  ...           0.002736           0.001547           0.010845   \n998  ...           0.017365           0.001639           0.017846   \n999  ...                NaN                NaN                NaN   \n\n     center_cluster_23  center_cluster_24  center_cluster_25  \\\n0             0.000933           0.001827           0.010180   \n1             0.001434           0.002136           0.011217   \n2             0.001970           0.002523           0.009661   \n3             0.001932           0.949822           0.002699   \n4             0.001789           0.002392           0.012013   \n..                 ...                ...                ...   \n995           0.029280           0.018758           0.025398   \n996           0.000966           0.001307           0.006306   \n997           0.005275           0.002806           0.005356   \n998           0.012523           0.533364           0.026452   \n999                NaN                NaN                NaN   \n\n     center_cluster_26  center_cluster_27  center_cluster_28  \\\n0             0.004638           0.020964           0.000658   \n1             0.004881           0.063476           0.000980   \n2             0.005014           0.030672           0.001362   \n3             0.007702           0.001258           0.001372   \n4             0.005306           0.062606           0.001194   \n..                 ...                ...                ...   \n995           0.027998           0.014674           0.011446   \n996           0.002857           0.030792           0.000652   \n997           0.004277           0.004859           0.002569   \n998           0.098013           0.011081           0.008527   \n999                NaN                NaN                NaN   \n\n     center_cluster_29  \n0             0.001157  \n1             0.002522  \n2             0.004386  \n3             0.000594  \n4             0.003729  \n..                 ...  \n995           0.014332  \n996           0.001978  \n997           0.017427  \n998           0.004499  \n999                NaN  \n\n[1000 rows x 111 columns]",
      "text/html": "<div>\n<style scoped>\n    .dataframe tbody tr th:only-of-type {\n        vertical-align: middle;\n    }\n\n    .dataframe tbody tr th {\n        vertical-align: top;\n    }\n\n    .dataframe thead th {\n        text-align: right;\n    }\n</style>\n<table border=\"1\" class=\"dataframe\">\n  <thead>\n    <tr style=\"text-align: right;\">\n      <th></th>\n      <th>Id</th>\n      <th>running_time</th>\n      <th>route_distance_km</th>\n      <th>sequence</th>\n      <th>is_afternoon</th>\n      <th>is_evening</th>\n      <th>is_morning</th>\n      <th>is_night</th>\n      <th>morning_peak_time</th>\n      <th>evening_peak_time</th>\n      <th>...</th>\n      <th>center_cluster_20</th>\n      <th>center_cluster_21</th>\n      <th>center_cluster_22</th>\n      <th>center_cluster_23</th>\n      <th>center_cluster_24</th>\n      <th>center_cluster_25</th>\n      <th>center_cluster_26</th>\n      <th>center_cluster_27</th>\n      <th>center_cluster_28</th>\n      <th>center_cluster_29</th>\n    </tr>\n  </thead>\n  <tbody>\n    <tr>\n      <th>0</th>\n      <td>4567450496676323264</td>\n      <td>2022-01-24 00:32:37</td>\n      <td>5.533</td>\n      <td>[1750183122, 289702926, 5222301471, 10980648, ...</td>\n      <td>0</td>\n      <td>0</td>\n      <td>0</td>\n      <td>1</td>\n      <td>0</td>\n      <td>0</td>\n      <td>...</td>\n      <td>0.000865</td>\n      <td>0.000382</td>\n      <td>0.001347</td>\n      <td>0.000933</td>\n      <td>0.001827</td>\n      <td>0.010180</td>\n      <td>0.004638</td>\n      <td>0.020964</td>\n      <td>0.000658</td>\n      <td>0.001157</td>\n    </tr>\n    <tr>\n      <th>1</th>\n      <td>-1762687449608244695</td>\n      <td>2022-01-24 00:40:45</td>\n      <td>4.448</td>\n      <td>[4439629628, 4439629627, 5213015315, 443962962...</td>\n      <td>0</td>\n      <td>0</td>\n      <td>0</td>\n      <td>1</td>\n      <td>0</td>\n      <td>0</td>\n      <td>...</td>\n      <td>0.001212</td>\n      <td>0.000718</td>\n      <td>0.002123</td>\n      <td>0.001434</td>\n      <td>0.002136</td>\n      <td>0.011217</td>\n      <td>0.004881</td>\n      <td>0.063476</td>\n      <td>0.000980</td>\n      <td>0.002522</td>\n    </tr>\n    <tr>\n      <th>2</th>\n      <td>558209096572647780</td>\n      <td>2022-01-24 00:47:12</td>\n      <td>2.751</td>\n      <td>[4084898794, 4084897988, 5237897456, 443962966...</td>\n      <td>0</td>\n      <td>0</td>\n      <td>0</td>\n      <td>1</td>\n      <td>0</td>\n      <td>0</td>\n      <td>...</td>\n      <td>0.001609</td>\n      <td>0.001233</td>\n      <td>0.002842</td>\n      <td>0.001970</td>\n      <td>0.002523</td>\n      <td>0.009661</td>\n      <td>0.005014</td>\n      <td>0.030672</td>\n      <td>0.001362</td>\n      <td>0.004386</td>\n    </tr>\n    <tr>\n      <th>3</th>\n      <td>1091960336272216078</td>\n      <td>2022-01-24 01:03:47</td>\n      <td>4.435</td>\n      <td>[8121066754, 8120946071, 5359799871, 316676003...</td>\n      <td>0</td>\n      <td>0</td>\n      <td>0</td>\n      <td>1</td>\n      <td>0</td>\n      <td>0</td>\n      <td>...</td>\n      <td>0.003070</td>\n      <td>0.000226</td>\n      <td>0.002553</td>\n      <td>0.001932</td>\n      <td>0.949822</td>\n      <td>0.002699</td>\n      <td>0.007702</td>\n      <td>0.001258</td>\n      <td>0.001372</td>\n      <td>0.000594</td>\n    </tr>\n    <tr>\n      <th>4</th>\n      <td>-1321994599972009663</td>\n      <td>2022-01-24 01:07:56</td>\n      <td>2.394</td>\n      <td>[4439629609, 4439629613, 4325099307, 10980544,...</td>\n      <td>0</td>\n      <td>0</td>\n      <td>0</td>\n      <td>1</td>\n      <td>0</td>\n      <td>0</td>\n      <td>...</td>\n      <td>0.001446</td>\n      <td>0.000941</td>\n      <td>0.002707</td>\n      <td>0.001789</td>\n      <td>0.002392</td>\n      <td>0.012013</td>\n      <td>0.005306</td>\n      <td>0.062606</td>\n      <td>0.001194</td>\n      <td>0.003729</td>\n    </tr>\n    <tr>\n      <th>...</th>\n      <td>...</td>\n      <td>...</td>\n      <td>...</td>\n      <td>...</td>\n      <td>...</td>\n      <td>...</td>\n      <td>...</td>\n      <td>...</td>\n      <td>...</td>\n      <td>...</td>\n      <td>...</td>\n      <td>...</td>\n      <td>...</td>\n      <td>...</td>\n      <td>...</td>\n      <td>...</td>\n      <td>...</td>\n      <td>...</td>\n      <td>...</td>\n      <td>...</td>\n      <td>...</td>\n    </tr>\n    <tr>\n      <th>995</th>\n      <td>-1019532991501300185</td>\n      <td>2022-01-24 23:40:08</td>\n      <td>2.665</td>\n      <td>[4775895232, 1313110355, 3127871124, 131311035...</td>\n      <td>0</td>\n      <td>0</td>\n      <td>0</td>\n      <td>1</td>\n      <td>0</td>\n      <td>0</td>\n      <td>...</td>\n      <td>0.015466</td>\n      <td>0.002965</td>\n      <td>0.116993</td>\n      <td>0.029280</td>\n      <td>0.018758</td>\n      <td>0.025398</td>\n      <td>0.027998</td>\n      <td>0.014674</td>\n      <td>0.011446</td>\n      <td>0.014332</td>\n    </tr>\n    <tr>\n      <th>996</th>\n      <td>-3501571252544462083</td>\n      <td>2022-01-24 23:45:45</td>\n      <td>2.353</td>\n      <td>[5213015320, 4439629610, 4439629599, 10980545,...</td>\n      <td>0</td>\n      <td>0</td>\n      <td>0</td>\n      <td>1</td>\n      <td>0</td>\n      <td>0</td>\n      <td>...</td>\n      <td>0.000789</td>\n      <td>0.000519</td>\n      <td>0.001444</td>\n      <td>0.000966</td>\n      <td>0.001307</td>\n      <td>0.006306</td>\n      <td>0.002857</td>\n      <td>0.030792</td>\n      <td>0.000652</td>\n      <td>0.001978</td>\n    </tr>\n    <tr>\n      <th>997</th>\n      <td>8305010046033518305</td>\n      <td>2022-01-24 23:46:11</td>\n      <td>2.914</td>\n      <td>[4775833877, 4775833873, 1973798535, 197379856...</td>\n      <td>0</td>\n      <td>0</td>\n      <td>0</td>\n      <td>1</td>\n      <td>0</td>\n      <td>0</td>\n      <td>...</td>\n      <td>0.002736</td>\n      <td>0.001547</td>\n      <td>0.010845</td>\n      <td>0.005275</td>\n      <td>0.002806</td>\n      <td>0.005356</td>\n      <td>0.004277</td>\n      <td>0.004859</td>\n      <td>0.002569</td>\n      <td>0.017427</td>\n    </tr>\n    <tr>\n      <th>998</th>\n      <td>5747749188503396733</td>\n      <td>2022-01-24 23:40:42</td>\n      <td>9.019</td>\n      <td>[3917560950, 1570776644, 277661601, 3285024103...</td>\n      <td>0</td>\n      <td>0</td>\n      <td>0</td>\n      <td>1</td>\n      <td>0</td>\n      <td>0</td>\n      <td>...</td>\n      <td>0.017365</td>\n      <td>0.001639</td>\n      <td>0.017846</td>\n      <td>0.012523</td>\n      <td>0.533364</td>\n      <td>0.026452</td>\n      <td>0.098013</td>\n      <td>0.011081</td>\n      <td>0.008527</td>\n      <td>0.004499</td>\n    </tr>\n    <tr>\n      <th>999</th>\n      <td>8646925889615811725</td>\n      <td>2022-01-24 23:46:58</td>\n      <td>2.115</td>\n      <td>[8121581676, 8121581677, 4330055224, 433005522...</td>\n      <td>0</td>\n      <td>0</td>\n      <td>0</td>\n      <td>1</td>\n      <td>0</td>\n      <td>0</td>\n      <td>...</td>\n      <td>NaN</td>\n      <td>NaN</td>\n      <td>NaN</td>\n      <td>NaN</td>\n      <td>NaN</td>\n      <td>NaN</td>\n      <td>NaN</td>\n      <td>NaN</td>\n      <td>NaN</td>\n      <td>NaN</td>\n    </tr>\n  </tbody>\n</table>\n<p>1000 rows × 111 columns</p>\n</div>"
     },
     "execution_count": 29,
     "metadata": {},
     "output_type": "execute_result"
    }
   ],
   "source": [
    "pd.read_csv('final_test_with_clustering_start_center_finish (2).csv')"
   ],
   "metadata": {
    "collapsed": false
   }
  },
  {
   "cell_type": "code",
   "execution_count": null,
   "outputs": [],
   "source": [],
   "metadata": {
    "collapsed": false
   }
  }
 ],
 "metadata": {
  "kernelspec": {
   "display_name": "Python 3",
   "language": "python",
   "name": "python3"
  },
  "language_info": {
   "codemirror_mode": {
    "name": "ipython",
    "version": 2
   },
   "file_extension": ".py",
   "mimetype": "text/x-python",
   "name": "python",
   "nbconvert_exporter": "python",
   "pygments_lexer": "ipython2",
   "version": "2.7.6"
  }
 },
 "nbformat": 4,
 "nbformat_minor": 0
}
