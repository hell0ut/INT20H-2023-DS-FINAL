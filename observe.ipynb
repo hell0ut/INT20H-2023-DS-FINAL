{
 "cells": [
  {
   "cell_type": "code",
   "execution_count": 226,
   "metadata": {},
   "outputs": [],
   "source": [
    "import numpy as np\n",
    "import pandas as pd\n",
    "import requests\n",
    "from xml.etree import ElementTree\n",
    "import tqdm\n",
    "import matplotlib.pyplot as plt"
   ]
  },
  {
   "cell_type": "code",
   "execution_count": 227,
   "metadata": {},
   "outputs": [],
   "source": [
    "def strtobool(val):\n",
    "    \"\"\"Convert a string representation of truth to true (1) or false (0).\n",
    "    True values are 'y', 'yes', 't', 'true', 'on', and '1'; false values\n",
    "    are 'n', 'no', 'f', 'false', 'off', and '0'.  Raises ValueError if\n",
    "    'val' is anything else.\n",
    "    \"\"\"\n",
    "    val = val.lower()\n",
    "    if val in ('y', 'yes', 't', 'true', 'on', '1'):\n",
    "        return 1\n",
    "    elif val in ('n', 'no', 'f', 'false', 'off', '0'):\n",
    "        return 0\n",
    "    else:\n",
    "        raise ValueError(\"invalid truth value %r\" % (val,))"
   ]
  },
  {
   "cell_type": "code",
   "execution_count": 228,
   "metadata": {},
   "outputs": [],
   "source": [
    "NODES_FILE = \"nodes.csv\"\n",
    "BASIC_OPENSTREETMAP_API = \"https://www.openstreetmap.org/api/0.6/\"\n",
    "OPENSTREETMAP_NODE_API = BASIC_OPENSTREETMAP_API + \"node/\"\n",
    "OPENSTREETMAP_NODES_API = BASIC_OPENSTREETMAP_API + \"nodes?nodes=\""
   ]
  },
  {
   "cell_type": "code",
   "execution_count": 229,
   "metadata": {},
   "outputs": [],
   "source": [
    "nodes = pd.read_csv(NODES_FILE)"
   ]
  },
  {
   "cell_type": "code",
   "execution_count": 230,
   "metadata": {},
   "outputs": [
    {
     "data": {
      "text/html": [
       "<div>\n",
       "<style scoped>\n",
       "    .dataframe tbody tr th:only-of-type {\n",
       "        vertical-align: middle;\n",
       "    }\n",
       "\n",
       "    .dataframe tbody tr th {\n",
       "        vertical-align: top;\n",
       "    }\n",
       "\n",
       "    .dataframe thead th {\n",
       "        text-align: right;\n",
       "    }\n",
       "</style>\n",
       "<table border=\"1\" class=\"dataframe\">\n",
       "  <thead>\n",
       "    <tr style=\"text-align: right;\">\n",
       "      <th></th>\n",
       "      <th>Id</th>\n",
       "      <th>node_start</th>\n",
       "      <th>node_finish</th>\n",
       "      <th>distance</th>\n",
       "      <th>speed</th>\n",
       "    </tr>\n",
       "  </thead>\n",
       "  <tbody>\n",
       "    <tr>\n",
       "      <th>0</th>\n",
       "      <td>-2627062893189810184</td>\n",
       "      <td>10980432</td>\n",
       "      <td>2133368107</td>\n",
       "      <td>17.414917</td>\n",
       "      <td>32.0</td>\n",
       "    </tr>\n",
       "    <tr>\n",
       "      <th>1</th>\n",
       "      <td>-2627062893189810184</td>\n",
       "      <td>10980433</td>\n",
       "      <td>5212387954</td>\n",
       "      <td>17.186539</td>\n",
       "      <td>26.0</td>\n",
       "    </tr>\n",
       "    <tr>\n",
       "      <th>2</th>\n",
       "      <td>-2627062893189810184</td>\n",
       "      <td>10980445</td>\n",
       "      <td>5221700954</td>\n",
       "      <td>28.513481</td>\n",
       "      <td>26.0</td>\n",
       "    </tr>\n",
       "    <tr>\n",
       "      <th>3</th>\n",
       "      <td>-2627062893189810184</td>\n",
       "      <td>10980498</td>\n",
       "      <td>10980445</td>\n",
       "      <td>154.266122</td>\n",
       "      <td>25.0</td>\n",
       "    </tr>\n",
       "    <tr>\n",
       "      <th>4</th>\n",
       "      <td>-2627062893189810184</td>\n",
       "      <td>10980647</td>\n",
       "      <td>1986137911</td>\n",
       "      <td>8.542824</td>\n",
       "      <td>29.0</td>\n",
       "    </tr>\n",
       "  </tbody>\n",
       "</table>\n",
       "</div>"
      ],
      "text/plain": [
       "                    Id  node_start  node_finish    distance  speed\n",
       "0 -2627062893189810184    10980432   2133368107   17.414917   32.0\n",
       "1 -2627062893189810184    10980433   5212387954   17.186539   26.0\n",
       "2 -2627062893189810184    10980445   5221700954   28.513481   26.0\n",
       "3 -2627062893189810184    10980498     10980445  154.266122   25.0\n",
       "4 -2627062893189810184    10980647   1986137911    8.542824   29.0"
      ]
     },
     "execution_count": 230,
     "metadata": {},
     "output_type": "execute_result"
    }
   ],
   "source": [
    "nodes.head()"
   ]
  },
  {
   "cell_type": "code",
   "execution_count": 231,
   "metadata": {},
   "outputs": [
    {
     "data": {
      "text/html": [
       "<div>\n",
       "<style scoped>\n",
       "    .dataframe tbody tr th:only-of-type {\n",
       "        vertical-align: middle;\n",
       "    }\n",
       "\n",
       "    .dataframe tbody tr th {\n",
       "        vertical-align: top;\n",
       "    }\n",
       "\n",
       "    .dataframe thead th {\n",
       "        text-align: right;\n",
       "    }\n",
       "</style>\n",
       "<table border=\"1\" class=\"dataframe\">\n",
       "  <thead>\n",
       "    <tr style=\"text-align: right;\">\n",
       "      <th></th>\n",
       "      <th>Id</th>\n",
       "      <th>node_start</th>\n",
       "      <th>node_finish</th>\n",
       "      <th>distance</th>\n",
       "      <th>speed</th>\n",
       "    </tr>\n",
       "  </thead>\n",
       "  <tbody>\n",
       "    <tr>\n",
       "      <th>count</th>\n",
       "      <td>4.802910e+05</td>\n",
       "      <td>4.802910e+05</td>\n",
       "      <td>4.802910e+05</td>\n",
       "      <td>480291.000000</td>\n",
       "      <td>476307.000000</td>\n",
       "    </tr>\n",
       "    <tr>\n",
       "      <th>mean</th>\n",
       "      <td>1.325593e+17</td>\n",
       "      <td>3.831874e+09</td>\n",
       "      <td>3.831719e+09</td>\n",
       "      <td>37.992984</td>\n",
       "      <td>31.293073</td>\n",
       "    </tr>\n",
       "    <tr>\n",
       "      <th>std</th>\n",
       "      <td>5.329873e+18</td>\n",
       "      <td>2.702820e+09</td>\n",
       "      <td>2.702986e+09</td>\n",
       "      <td>43.718081</td>\n",
       "      <td>10.131391</td>\n",
       "    </tr>\n",
       "    <tr>\n",
       "      <th>min</th>\n",
       "      <td>-9.221524e+18</td>\n",
       "      <td>1.098042e+07</td>\n",
       "      <td>1.098042e+07</td>\n",
       "      <td>0.076575</td>\n",
       "      <td>5.000000</td>\n",
       "    </tr>\n",
       "    <tr>\n",
       "      <th>25%</th>\n",
       "      <td>-4.399445e+18</td>\n",
       "      <td>1.570777e+09</td>\n",
       "      <td>1.570777e+09</td>\n",
       "      <td>9.548104</td>\n",
       "      <td>24.000000</td>\n",
       "    </tr>\n",
       "    <tr>\n",
       "      <th>50%</th>\n",
       "      <td>1.556848e+17</td>\n",
       "      <td>4.439628e+09</td>\n",
       "      <td>4.439628e+09</td>\n",
       "      <td>22.237880</td>\n",
       "      <td>30.000000</td>\n",
       "    </tr>\n",
       "    <tr>\n",
       "      <th>75%</th>\n",
       "      <td>4.817189e+18</td>\n",
       "      <td>5.214945e+09</td>\n",
       "      <td>5.215058e+09</td>\n",
       "      <td>50.181445</td>\n",
       "      <td>37.000000</td>\n",
       "    </tr>\n",
       "    <tr>\n",
       "      <th>max</th>\n",
       "      <td>9.222287e+18</td>\n",
       "      <td>8.952487e+09</td>\n",
       "      <td>8.952487e+09</td>\n",
       "      <td>1374.510868</td>\n",
       "      <td>100.000000</td>\n",
       "    </tr>\n",
       "  </tbody>\n",
       "</table>\n",
       "</div>"
      ],
      "text/plain": [
       "                 Id    node_start   node_finish       distance          speed\n",
       "count  4.802910e+05  4.802910e+05  4.802910e+05  480291.000000  476307.000000\n",
       "mean   1.325593e+17  3.831874e+09  3.831719e+09      37.992984      31.293073\n",
       "std    5.329873e+18  2.702820e+09  2.702986e+09      43.718081      10.131391\n",
       "min   -9.221524e+18  1.098042e+07  1.098042e+07       0.076575       5.000000\n",
       "25%   -4.399445e+18  1.570777e+09  1.570777e+09       9.548104      24.000000\n",
       "50%    1.556848e+17  4.439628e+09  4.439628e+09      22.237880      30.000000\n",
       "75%    4.817189e+18  5.214945e+09  5.215058e+09      50.181445      37.000000\n",
       "max    9.222287e+18  8.952487e+09  8.952487e+09    1374.510868     100.000000"
      ]
     },
     "execution_count": 231,
     "metadata": {},
     "output_type": "execute_result"
    }
   ],
   "source": [
    "nodes.describe()"
   ]
  },
  {
   "cell_type": "code",
   "execution_count": 232,
   "metadata": {},
   "outputs": [
    {
     "data": {
      "text/plain": [
       "3984"
      ]
     },
     "execution_count": 232,
     "metadata": {},
     "output_type": "execute_result"
    }
   ],
   "source": [
    "sum(nodes['speed'].isna())"
   ]
  },
  {
   "cell_type": "code",
   "execution_count": 233,
   "metadata": {},
   "outputs": [],
   "source": [
    "nodes_start_unique = nodes['node_start'].unique()\n",
    "nodes_finish_unique = nodes['node_finish'].unique()"
   ]
  },
  {
   "cell_type": "code",
   "execution_count": 234,
   "metadata": {},
   "outputs": [],
   "source": [
    "nodes_unique = np.unique(np.append(nodes_start_unique, nodes_finish_unique))"
   ]
  },
  {
   "cell_type": "code",
   "execution_count": 235,
   "metadata": {},
   "outputs": [
    {
     "data": {
      "text/plain": [
       "array([  10980417,   10980418,   10980419, ..., 8952486106, 8952486393,\n",
       "       8952486639], dtype=int64)"
      ]
     },
     "execution_count": 235,
     "metadata": {},
     "output_type": "execute_result"
    }
   ],
   "source": [
    "nodes_unique"
   ]
  },
  {
   "cell_type": "code",
   "execution_count": 236,
   "metadata": {},
   "outputs": [
    {
     "data": {
      "text/plain": [
       "20368"
      ]
     },
     "execution_count": 236,
     "metadata": {},
     "output_type": "execute_result"
    }
   ],
   "source": [
    "len(nodes_unique)"
   ]
  },
  {
   "cell_type": "code",
   "execution_count": 237,
   "metadata": {},
   "outputs": [],
   "source": [
    "nodes_info = pd.DataFrame({'node_id': nodes_unique, 'lat': 0, 'lon': 0, 'visible': 0, 'relations_count': 0, 'ways_count': 0})\n",
    "nodes_info = nodes_info.set_index('node_id')"
   ]
  },
  {
   "cell_type": "code",
   "execution_count": 238,
   "metadata": {},
   "outputs": [
    {
     "data": {
      "text/html": [
       "<div>\n",
       "<style scoped>\n",
       "    .dataframe tbody tr th:only-of-type {\n",
       "        vertical-align: middle;\n",
       "    }\n",
       "\n",
       "    .dataframe tbody tr th {\n",
       "        vertical-align: top;\n",
       "    }\n",
       "\n",
       "    .dataframe thead th {\n",
       "        text-align: right;\n",
       "    }\n",
       "</style>\n",
       "<table border=\"1\" class=\"dataframe\">\n",
       "  <thead>\n",
       "    <tr style=\"text-align: right;\">\n",
       "      <th></th>\n",
       "      <th>lat</th>\n",
       "      <th>lon</th>\n",
       "      <th>visible</th>\n",
       "      <th>relations_count</th>\n",
       "      <th>ways_count</th>\n",
       "    </tr>\n",
       "    <tr>\n",
       "      <th>node_id</th>\n",
       "      <th></th>\n",
       "      <th></th>\n",
       "      <th></th>\n",
       "      <th></th>\n",
       "      <th></th>\n",
       "    </tr>\n",
       "  </thead>\n",
       "  <tbody>\n",
       "    <tr>\n",
       "      <th>10980417</th>\n",
       "      <td>0</td>\n",
       "      <td>0</td>\n",
       "      <td>0</td>\n",
       "      <td>0</td>\n",
       "      <td>0</td>\n",
       "    </tr>\n",
       "    <tr>\n",
       "      <th>10980418</th>\n",
       "      <td>0</td>\n",
       "      <td>0</td>\n",
       "      <td>0</td>\n",
       "      <td>0</td>\n",
       "      <td>0</td>\n",
       "    </tr>\n",
       "    <tr>\n",
       "      <th>10980419</th>\n",
       "      <td>0</td>\n",
       "      <td>0</td>\n",
       "      <td>0</td>\n",
       "      <td>0</td>\n",
       "      <td>0</td>\n",
       "    </tr>\n",
       "    <tr>\n",
       "      <th>10980421</th>\n",
       "      <td>0</td>\n",
       "      <td>0</td>\n",
       "      <td>0</td>\n",
       "      <td>0</td>\n",
       "      <td>0</td>\n",
       "    </tr>\n",
       "    <tr>\n",
       "      <th>10980422</th>\n",
       "      <td>0</td>\n",
       "      <td>0</td>\n",
       "      <td>0</td>\n",
       "      <td>0</td>\n",
       "      <td>0</td>\n",
       "    </tr>\n",
       "  </tbody>\n",
       "</table>\n",
       "</div>"
      ],
      "text/plain": [
       "          lat  lon  visible  relations_count  ways_count\n",
       "node_id                                                 \n",
       "10980417    0    0        0                0           0\n",
       "10980418    0    0        0                0           0\n",
       "10980419    0    0        0                0           0\n",
       "10980421    0    0        0                0           0\n",
       "10980422    0    0        0                0           0"
      ]
     },
     "execution_count": 238,
     "metadata": {},
     "output_type": "execute_result"
    }
   ],
   "source": [
    "nodes_info.head()"
   ]
  },
  {
   "cell_type": "code",
   "execution_count": 239,
   "metadata": {},
   "outputs": [],
   "source": [
    "possibly_broken_ids = []"
   ]
  },
  {
   "cell_type": "code",
   "execution_count": 240,
   "metadata": {},
   "outputs": [
    {
     "name": "stderr",
     "output_type": "stream",
     "text": [
      " 94%|█████████▎| 191/204 [00:56<00:02,  4.55it/s]"
     ]
    },
    {
     "name": "stdout",
     "output_type": "stream",
     "text": [
      "Error\n",
      "Error\n"
     ]
    },
    {
     "name": "stderr",
     "output_type": "stream",
     "text": [
      " 96%|█████████▌| 196/204 [00:57<00:01,  4.42it/s]"
     ]
    },
    {
     "name": "stdout",
     "output_type": "stream",
     "text": [
      "Error\n",
      "Error\n"
     ]
    },
    {
     "name": "stderr",
     "output_type": "stream",
     "text": [
      " 99%|█████████▊| 201/204 [00:58<00:00,  4.27it/s]"
     ]
    },
    {
     "name": "stdout",
     "output_type": "stream",
     "text": [
      "Error\n",
      "Error\n"
     ]
    },
    {
     "name": "stderr",
     "output_type": "stream",
     "text": [
      "100%|██████████| 204/204 [00:59<00:00,  3.42it/s]\n"
     ]
    }
   ],
   "source": [
    "CHUNK_SIZE = 100\n",
    "for chunk in tqdm.tqdm(range(len(nodes_info)//CHUNK_SIZE + 1)):\n",
    "    ids = nodes_info.index[chunk*CHUNK_SIZE:(chunk+1)*CHUNK_SIZE]\n",
    "    ids_req = str(list(ids)).replace(' ', '').replace('[', '').replace(']', '')\n",
    "    osm_nodes_info = requests.get(OPENSTREETMAP_NODES_API + ids_req)\n",
    "    try:\n",
    "        tree = ElementTree.fromstring(osm_nodes_info.content)\n",
    "        for i, part in enumerate(tree):\n",
    "            if 'lon' in part.attrib.keys():\n",
    "                lon = float(part.attrib['lon'])\n",
    "            if 'lat' in part.attrib.keys():\n",
    "                lat = float(part.attrib['lat'])\n",
    "            visible = strtobool(part.attrib['visible'])\n",
    "            nodes_info.loc[ids[i], ['lat', 'lon', 'visible']] = [lat, lon, visible]\n",
    "    except:\n",
    "        possibly_broken_ids.extend(ids.to_list())\n",
    "        print(\"Error\")\n",
    "    # osm_node_relations = requests.get(OPENSTREETMAP_NODE_API + str(id) + \"/relations\")\n",
    "    # tree_relations = ElementTree.fromstring(osm_node_relations.content)\n",
    "    # relations_count = len(tree_relations)\n",
    "    # osm_node_ways = requests.get(OPENSTREETMAP_NODE_API + str(id)+ \"/ways\")\n",
    "    # tree_ways = ElementTree.fromstring(osm_node_ways.content)\n",
    "    # ways_count = len(tree_ways)\n",
    "    # nodes_info.loc[id, :] = [lat, lon, visible, relations_count, ways_count]"
   ]
  },
  {
   "cell_type": "code",
   "execution_count": 241,
   "metadata": {},
   "outputs": [
    {
     "name": "stderr",
     "output_type": "stream",
     "text": [
      "100%|██████████| 600/600 [01:47<00:00,  5.58it/s]\n"
     ]
    }
   ],
   "source": [
    "for id in tqdm.tqdm(possibly_broken_ids):\n",
    "    osm_node_info = requests.get(OPENSTREETMAP_NODE_API + str(nodes_info.index[0]))\n",
    "    try:\n",
    "        tree = ElementTree.fromstring(osm_node_info.content)\n",
    "        if tree[0].attrib['visible'] == 'true':\n",
    "            lon = float(tree[0].attrib['lon'])\n",
    "            lat = float(tree[0].attrib['lat'])\n",
    "        else:\n",
    "            lon = 0\n",
    "            lat = 0\n",
    "        lon = float(tree[0].attrib['lon'])\n",
    "        lat = float(tree[0].attrib['lat'])\n",
    "        visible = strtobool(tree[0].attrib['visible'])\n",
    "        nodes_info.loc[id, ['lat', 'lon', 'visible']] = [lat, lon, visible]\n",
    "    except Exception:\n",
    "        print(id)\n",
    "    # osm_node_relations = requests.get(OPENSTREETMAP_NODE_API + str(id) + \"/relations\")\n",
    "    # tree_relations = ElementTree.fromstring(osm_node_relations.content)\n",
    "    # relations_count = len(tree_relations)\n",
    "    # osm_node_ways = requests.get(OPENSTREETMAP_NODE_API + str(id)+ \"/ways\")\n",
    "    # tree_ways = ElementTree.fromstring(osm_node_ways.content)\n",
    "    # ways_count = len(tree_ways)\n",
    "    # nodes_info.loc[id, :] = [lat, lon, visible, relations_count, ways_count]"
   ]
  },
  {
   "cell_type": "code",
   "execution_count": 242,
   "metadata": {},
   "outputs": [
    {
     "data": {
      "text/plain": [
       "lat                46.468524\n",
       "lon                30.738275\n",
       "visible             1.000000\n",
       "relations_count     0.000000\n",
       "ways_count          0.000000\n",
       "Name: 8952432742, dtype: float64"
      ]
     },
     "execution_count": 242,
     "metadata": {},
     "output_type": "execute_result"
    }
   ],
   "source": [
    "nodes_info.loc[8952432742]"
   ]
  },
  {
   "cell_type": "code",
   "execution_count": 243,
   "metadata": {},
   "outputs": [
    {
     "data": {
      "text/html": [
       "<div>\n",
       "<style scoped>\n",
       "    .dataframe tbody tr th:only-of-type {\n",
       "        vertical-align: middle;\n",
       "    }\n",
       "\n",
       "    .dataframe tbody tr th {\n",
       "        vertical-align: top;\n",
       "    }\n",
       "\n",
       "    .dataframe thead th {\n",
       "        text-align: right;\n",
       "    }\n",
       "</style>\n",
       "<table border=\"1\" class=\"dataframe\">\n",
       "  <thead>\n",
       "    <tr style=\"text-align: right;\">\n",
       "      <th></th>\n",
       "      <th>lat</th>\n",
       "      <th>lon</th>\n",
       "      <th>visible</th>\n",
       "      <th>relations_count</th>\n",
       "      <th>ways_count</th>\n",
       "    </tr>\n",
       "    <tr>\n",
       "      <th>node_id</th>\n",
       "      <th></th>\n",
       "      <th></th>\n",
       "      <th></th>\n",
       "      <th></th>\n",
       "      <th></th>\n",
       "    </tr>\n",
       "  </thead>\n",
       "  <tbody>\n",
       "    <tr>\n",
       "      <th>8952486104</th>\n",
       "      <td>-18.493081</td>\n",
       "      <td>-49.023335</td>\n",
       "      <td>1</td>\n",
       "      <td>0</td>\n",
       "      <td>0</td>\n",
       "    </tr>\n",
       "    <tr>\n",
       "      <th>8952486105</th>\n",
       "      <td>-18.493129</td>\n",
       "      <td>-49.023348</td>\n",
       "      <td>1</td>\n",
       "      <td>0</td>\n",
       "      <td>0</td>\n",
       "    </tr>\n",
       "    <tr>\n",
       "      <th>8952486106</th>\n",
       "      <td>-18.493167</td>\n",
       "      <td>-49.023381</td>\n",
       "      <td>1</td>\n",
       "      <td>0</td>\n",
       "      <td>0</td>\n",
       "    </tr>\n",
       "    <tr>\n",
       "      <th>8952486393</th>\n",
       "      <td>38.045840</td>\n",
       "      <td>-122.524527</td>\n",
       "      <td>1</td>\n",
       "      <td>0</td>\n",
       "      <td>0</td>\n",
       "    </tr>\n",
       "    <tr>\n",
       "      <th>8952486639</th>\n",
       "      <td>27.993592</td>\n",
       "      <td>91.386575</td>\n",
       "      <td>1</td>\n",
       "      <td>0</td>\n",
       "      <td>0</td>\n",
       "    </tr>\n",
       "  </tbody>\n",
       "</table>\n",
       "</div>"
      ],
      "text/plain": [
       "                  lat         lon  visible  relations_count  ways_count\n",
       "node_id                                                                \n",
       "8952486104 -18.493081  -49.023335        1                0           0\n",
       "8952486105 -18.493129  -49.023348        1                0           0\n",
       "8952486106 -18.493167  -49.023381        1                0           0\n",
       "8952486393  38.045840 -122.524527        1                0           0\n",
       "8952486639  27.993592   91.386575        1                0           0"
      ]
     },
     "execution_count": 243,
     "metadata": {},
     "output_type": "execute_result"
    }
   ],
   "source": [
    "nodes_info.tail()"
   ]
  },
  {
   "cell_type": "code",
   "execution_count": null,
   "metadata": {},
   "outputs": [],
   "source": [
    "nodes_info.to_csv('nodes_info.csv')"
   ]
  },
  {
   "cell_type": "code",
   "execution_count": 223,
   "metadata": {},
   "outputs": [],
   "source": [
    "nodes_info = pd.read_csv('nodes_info.csv', index_col='node_id')"
   ]
  },
  {
   "cell_type": "code",
   "execution_count": 224,
   "metadata": {},
   "outputs": [
    {
     "data": {
      "text/html": [
       "<div>\n",
       "<style scoped>\n",
       "    .dataframe tbody tr th:only-of-type {\n",
       "        vertical-align: middle;\n",
       "    }\n",
       "\n",
       "    .dataframe tbody tr th {\n",
       "        vertical-align: top;\n",
       "    }\n",
       "\n",
       "    .dataframe thead th {\n",
       "        text-align: right;\n",
       "    }\n",
       "</style>\n",
       "<table border=\"1\" class=\"dataframe\">\n",
       "  <thead>\n",
       "    <tr style=\"text-align: right;\">\n",
       "      <th></th>\n",
       "      <th>lat</th>\n",
       "      <th>lon</th>\n",
       "      <th>visible</th>\n",
       "      <th>relations_count</th>\n",
       "      <th>ways_count</th>\n",
       "    </tr>\n",
       "  </thead>\n",
       "  <tbody>\n",
       "    <tr>\n",
       "      <th>count</th>\n",
       "      <td>20368.000000</td>\n",
       "      <td>20368.000000</td>\n",
       "      <td>20368.000000</td>\n",
       "      <td>20368.0</td>\n",
       "      <td>20368.000000</td>\n",
       "    </tr>\n",
       "    <tr>\n",
       "      <th>mean</th>\n",
       "      <td>46.115864</td>\n",
       "      <td>28.435607</td>\n",
       "      <td>0.970346</td>\n",
       "      <td>0.0</td>\n",
       "      <td>0.001178</td>\n",
       "    </tr>\n",
       "    <tr>\n",
       "      <th>std</th>\n",
       "      <td>4.192335</td>\n",
       "      <td>15.334642</td>\n",
       "      <td>0.169636</td>\n",
       "      <td>0.0</td>\n",
       "      <td>0.059445</td>\n",
       "    </tr>\n",
       "    <tr>\n",
       "      <th>min</th>\n",
       "      <td>-32.654617</td>\n",
       "      <td>-122.568425</td>\n",
       "      <td>0.000000</td>\n",
       "      <td>0.0</td>\n",
       "      <td>0.000000</td>\n",
       "    </tr>\n",
       "    <tr>\n",
       "      <th>25%</th>\n",
       "      <td>46.426531</td>\n",
       "      <td>30.707391</td>\n",
       "      <td>1.000000</td>\n",
       "      <td>0.0</td>\n",
       "      <td>0.000000</td>\n",
       "    </tr>\n",
       "    <tr>\n",
       "      <th>50%</th>\n",
       "      <td>46.460552</td>\n",
       "      <td>30.727499</td>\n",
       "      <td>1.000000</td>\n",
       "      <td>0.0</td>\n",
       "      <td>0.000000</td>\n",
       "    </tr>\n",
       "    <tr>\n",
       "      <th>75%</th>\n",
       "      <td>46.483786</td>\n",
       "      <td>30.746842</td>\n",
       "      <td>1.000000</td>\n",
       "      <td>0.0</td>\n",
       "      <td>0.000000</td>\n",
       "    </tr>\n",
       "    <tr>\n",
       "      <th>max</th>\n",
       "      <td>62.285700</td>\n",
       "      <td>139.115898</td>\n",
       "      <td>1.000000</td>\n",
       "      <td>0.0</td>\n",
       "      <td>4.000000</td>\n",
       "    </tr>\n",
       "  </tbody>\n",
       "</table>\n",
       "</div>"
      ],
      "text/plain": [
       "                lat           lon       visible  relations_count    ways_count\n",
       "count  20368.000000  20368.000000  20368.000000          20368.0  20368.000000\n",
       "mean      46.115864     28.435607      0.970346              0.0      0.001178\n",
       "std        4.192335     15.334642      0.169636              0.0      0.059445\n",
       "min      -32.654617   -122.568425      0.000000              0.0      0.000000\n",
       "25%       46.426531     30.707391      1.000000              0.0      0.000000\n",
       "50%       46.460552     30.727499      1.000000              0.0      0.000000\n",
       "75%       46.483786     30.746842      1.000000              0.0      0.000000\n",
       "max       62.285700    139.115898      1.000000              0.0      4.000000"
      ]
     },
     "execution_count": 224,
     "metadata": {},
     "output_type": "execute_result"
    }
   ],
   "source": [
    "nodes_info.describe()"
   ]
  },
  {
   "cell_type": "code",
   "execution_count": 40,
   "metadata": {},
   "outputs": [
    {
     "data": {
      "image/png": "[encoded data removed]",
      "text/plain": [
       "<Figure size 960x480 with 1 Axes>"
      ]
     },
     "metadata": {
      "needs_background": "light"
     },
     "output_type": "display_data"
    }
   ],
   "source": [
    "from matplotlib.pyplot import figure\n",
    "\n",
    "figure(figsize=(12, 6), dpi=80)\n",
    "\n",
    "plt.hist(nodes_info['lat'], bins=200)\n",
    "plt.show()"
   ]
  },
  {
   "cell_type": "code",
   "execution_count": 41,
   "metadata": {},
   "outputs": [
    {
     "data": {
      "image/png": "[encoded data removed]",
      "text/plain": [
       "<Figure size 960x480 with 1 Axes>"
      ]
     },
     "metadata": {
      "needs_background": "light"
     },
     "output_type": "display_data"
    }
   ],
   "source": [
    "from matplotlib.pyplot import figure\n",
    "\n",
    "figure(figsize=(12, 6), dpi=80)\n",
    "\n",
    "plt.hist(nodes_info['lon'], bins=200)\n",
    "plt.show()"
   ]
  },
  {
   "cell_type": "code",
   "execution_count": 42,
   "metadata": {},
   "outputs": [],
   "source": [
    "LON_EPS = 1\n",
    "LAT_EPS = 1"
   ]
  },
  {
   "cell_type": "code",
   "execution_count": 43,
   "metadata": {},
   "outputs": [],
   "source": [
    "anomally_nodes = nodes_info[(nodes_info['lat'] < 46.46 - LAT_EPS) | (nodes_info['lat'] > 46.46 + LAT_EPS) | (nodes_info['lon'] > 30.727 + LON_EPS) | (nodes_info['lon'] < 30.727 - LON_EPS)]"
   ]
  },
  {
   "cell_type": "code",
   "execution_count": 44,
   "metadata": {},
   "outputs": [
    {
     "data": {
      "text/html": [
       "<div>\n",
       "<style scoped>\n",
       "    .dataframe tbody tr th:only-of-type {\n",
       "        vertical-align: middle;\n",
       "    }\n",
       "\n",
       "    .dataframe tbody tr th {\n",
       "        vertical-align: top;\n",
       "    }\n",
       "\n",
       "    .dataframe thead th {\n",
       "        text-align: right;\n",
       "    }\n",
       "</style>\n",
       "<table border=\"1\" class=\"dataframe\">\n",
       "  <thead>\n",
       "    <tr style=\"text-align: right;\">\n",
       "      <th></th>\n",
       "      <th>lat</th>\n",
       "      <th>lon</th>\n",
       "      <th>visible</th>\n",
       "      <th>relations_count</th>\n",
       "      <th>ways_count</th>\n",
       "    </tr>\n",
       "    <tr>\n",
       "      <th>node_id</th>\n",
       "      <th></th>\n",
       "      <th></th>\n",
       "      <th></th>\n",
       "      <th></th>\n",
       "      <th></th>\n",
       "    </tr>\n",
       "  </thead>\n",
       "  <tbody>\n",
       "    <tr>\n",
       "      <th>8952388922</th>\n",
       "      <td>40.786517</td>\n",
       "      <td>-73.288602</td>\n",
       "      <td>1</td>\n",
       "      <td>0</td>\n",
       "      <td>0</td>\n",
       "    </tr>\n",
       "    <tr>\n",
       "      <th>8952388923</th>\n",
       "      <td>40.786337</td>\n",
       "      <td>-73.288494</td>\n",
       "      <td>1</td>\n",
       "      <td>0</td>\n",
       "      <td>0</td>\n",
       "    </tr>\n",
       "    <tr>\n",
       "      <th>8952388924</th>\n",
       "      <td>40.785681</td>\n",
       "      <td>-73.288509</td>\n",
       "      <td>1</td>\n",
       "      <td>0</td>\n",
       "      <td>0</td>\n",
       "    </tr>\n",
       "    <tr>\n",
       "      <th>8952388925</th>\n",
       "      <td>40.785457</td>\n",
       "      <td>-73.288516</td>\n",
       "      <td>1</td>\n",
       "      <td>0</td>\n",
       "      <td>0</td>\n",
       "    </tr>\n",
       "    <tr>\n",
       "      <th>8952388926</th>\n",
       "      <td>40.785293</td>\n",
       "      <td>-73.288538</td>\n",
       "      <td>1</td>\n",
       "      <td>0</td>\n",
       "      <td>0</td>\n",
       "    </tr>\n",
       "    <tr>\n",
       "      <th>...</th>\n",
       "      <td>...</td>\n",
       "      <td>...</td>\n",
       "      <td>...</td>\n",
       "      <td>...</td>\n",
       "      <td>...</td>\n",
       "    </tr>\n",
       "    <tr>\n",
       "      <th>8952486104</th>\n",
       "      <td>-18.493081</td>\n",
       "      <td>-49.023335</td>\n",
       "      <td>1</td>\n",
       "      <td>0</td>\n",
       "      <td>0</td>\n",
       "    </tr>\n",
       "    <tr>\n",
       "      <th>8952486105</th>\n",
       "      <td>-18.493129</td>\n",
       "      <td>-49.023348</td>\n",
       "      <td>1</td>\n",
       "      <td>0</td>\n",
       "      <td>0</td>\n",
       "    </tr>\n",
       "    <tr>\n",
       "      <th>8952486106</th>\n",
       "      <td>-18.493167</td>\n",
       "      <td>-49.023381</td>\n",
       "      <td>1</td>\n",
       "      <td>0</td>\n",
       "      <td>0</td>\n",
       "    </tr>\n",
       "    <tr>\n",
       "      <th>8952486393</th>\n",
       "      <td>38.045840</td>\n",
       "      <td>-122.524527</td>\n",
       "      <td>1</td>\n",
       "      <td>0</td>\n",
       "      <td>0</td>\n",
       "    </tr>\n",
       "    <tr>\n",
       "      <th>8952486639</th>\n",
       "      <td>27.993592</td>\n",
       "      <td>91.386575</td>\n",
       "      <td>1</td>\n",
       "      <td>0</td>\n",
       "      <td>0</td>\n",
       "    </tr>\n",
       "  </tbody>\n",
       "</table>\n",
       "<p>855 rows × 5 columns</p>\n",
       "</div>"
      ],
      "text/plain": [
       "                  lat         lon  visible  relations_count  ways_count\n",
       "node_id                                                                \n",
       "8952388922  40.786517  -73.288602        1                0           0\n",
       "8952388923  40.786337  -73.288494        1                0           0\n",
       "8952388924  40.785681  -73.288509        1                0           0\n",
       "8952388925  40.785457  -73.288516        1                0           0\n",
       "8952388926  40.785293  -73.288538        1                0           0\n",
       "...               ...         ...      ...              ...         ...\n",
       "8952486104 -18.493081  -49.023335        1                0           0\n",
       "8952486105 -18.493129  -49.023348        1                0           0\n",
       "8952486106 -18.493167  -49.023381        1                0           0\n",
       "8952486393  38.045840 -122.524527        1                0           0\n",
       "8952486639  27.993592   91.386575        1                0           0\n",
       "\n",
       "[855 rows x 5 columns]"
      ]
     },
     "execution_count": 44,
     "metadata": {},
     "output_type": "execute_result"
    }
   ],
   "source": [
    "anomally_nodes[anomally_nodes['visible'] == 1]"
   ]
  },
  {
   "cell_type": "code",
   "execution_count": 45,
   "metadata": {},
   "outputs": [],
   "source": [
    "anomally_nodes.to_csv('anomaly_nodes_info.csv')"
   ]
  },
  {
   "cell_type": "code",
   "execution_count": 46,
   "metadata": {},
   "outputs": [
    {
     "data": {
      "text/plain": [
       "Int64Index([8952388922, 8952388923, 8952388924, 8952388925, 8952388926,\n",
       "            8952388927, 8952388928, 8952388958, 8952388959, 8952388960,\n",
       "            ...\n",
       "            8952483295, 8952483296, 8952485346, 8952485604, 8952486103,\n",
       "            8952486104, 8952486105, 8952486106, 8952486393, 8952486639],\n",
       "           dtype='int64', name='node_id', length=868)"
      ]
     },
     "execution_count": 46,
     "metadata": {},
     "output_type": "execute_result"
    }
   ],
   "source": [
    "anomally_nodes.index"
   ]
  },
  {
   "cell_type": "code",
   "execution_count": 47,
   "metadata": {},
   "outputs": [],
   "source": [
    "paths_anomal_nodes = nodes[nodes['node_start'].isin(anomally_nodes.index) | nodes['node_finish'].isin(anomally_nodes.index)]"
   ]
  },
  {
   "cell_type": "code",
   "execution_count": 48,
   "metadata": {},
   "outputs": [
    {
     "data": {
      "text/plain": [
       "4447"
      ]
     },
     "execution_count": 48,
     "metadata": {},
     "output_type": "execute_result"
    }
   ],
   "source": [
    "len(paths_anomal_nodes['Id'].unique())"
   ]
  },
  {
   "cell_type": "code",
   "execution_count": 49,
   "metadata": {},
   "outputs": [
    {
     "data": {
      "text/plain": [
       "6000"
      ]
     },
     "execution_count": 49,
     "metadata": {},
     "output_type": "execute_result"
    }
   ],
   "source": [
    "len(nodes['Id'].unique())"
   ]
  },
  {
   "cell_type": "code",
   "execution_count": 50,
   "metadata": {},
   "outputs": [],
   "source": [
    "orders = pd.read_csv('orders.csv')"
   ]
  },
  {
   "cell_type": "code",
   "execution_count": 51,
   "metadata": {},
   "outputs": [
    {
     "data": {
      "text/html": [
       "<div>\n",
       "<style scoped>\n",
       "    .dataframe tbody tr th:only-of-type {\n",
       "        vertical-align: middle;\n",
       "    }\n",
       "\n",
       "    .dataframe tbody tr th {\n",
       "        vertical-align: top;\n",
       "    }\n",
       "\n",
       "    .dataframe thead th {\n",
       "        text-align: right;\n",
       "    }\n",
       "</style>\n",
       "<table border=\"1\" class=\"dataframe\">\n",
       "  <thead>\n",
       "    <tr style=\"text-align: right;\">\n",
       "      <th></th>\n",
       "      <th>Id</th>\n",
       "      <th>route_distance_km</th>\n",
       "      <th>delta_time</th>\n",
       "    </tr>\n",
       "  </thead>\n",
       "  <tbody>\n",
       "    <tr>\n",
       "      <th>count</th>\n",
       "      <td>5.000000e+03</td>\n",
       "      <td>5000.000000</td>\n",
       "      <td>5000.000000</td>\n",
       "    </tr>\n",
       "    <tr>\n",
       "      <th>mean</th>\n",
       "      <td>1.437166e+17</td>\n",
       "      <td>3.705945</td>\n",
       "      <td>613.161600</td>\n",
       "    </tr>\n",
       "    <tr>\n",
       "      <th>std</th>\n",
       "      <td>5.322209e+18</td>\n",
       "      <td>1.767206</td>\n",
       "      <td>213.802608</td>\n",
       "    </tr>\n",
       "    <tr>\n",
       "      <th>min</th>\n",
       "      <td>-9.220688e+18</td>\n",
       "      <td>0.000000</td>\n",
       "      <td>50.000000</td>\n",
       "    </tr>\n",
       "    <tr>\n",
       "      <th>25%</th>\n",
       "      <td>-4.422074e+18</td>\n",
       "      <td>2.359750</td>\n",
       "      <td>441.000000</td>\n",
       "    </tr>\n",
       "    <tr>\n",
       "      <th>50%</th>\n",
       "      <td>1.826612e+17</td>\n",
       "      <td>3.394000</td>\n",
       "      <td>614.000000</td>\n",
       "    </tr>\n",
       "    <tr>\n",
       "      <th>75%</th>\n",
       "      <td>4.817401e+18</td>\n",
       "      <td>4.753250</td>\n",
       "      <td>788.000000</td>\n",
       "    </tr>\n",
       "    <tr>\n",
       "      <th>max</th>\n",
       "      <td>9.222287e+18</td>\n",
       "      <td>15.954000</td>\n",
       "      <td>999.000000</td>\n",
       "    </tr>\n",
       "  </tbody>\n",
       "</table>\n",
       "</div>"
      ],
      "text/plain": [
       "                 Id  route_distance_km   delta_time\n",
       "count  5.000000e+03        5000.000000  5000.000000\n",
       "mean   1.437166e+17           3.705945   613.161600\n",
       "std    5.322209e+18           1.767206   213.802608\n",
       "min   -9.220688e+18           0.000000    50.000000\n",
       "25%   -4.422074e+18           2.359750   441.000000\n",
       "50%    1.826612e+17           3.394000   614.000000\n",
       "75%    4.817401e+18           4.753250   788.000000\n",
       "max    9.222287e+18          15.954000   999.000000"
      ]
     },
     "execution_count": 51,
     "metadata": {},
     "output_type": "execute_result"
    }
   ],
   "source": [
    "orders.describe()"
   ]
  },
  {
   "cell_type": "code",
   "execution_count": 52,
   "metadata": {},
   "outputs": [
    {
     "data": {
      "text/plain": [
       "-4773019581999572651"
      ]
     },
     "execution_count": 52,
     "metadata": {},
     "output_type": "execute_result"
    }
   ],
   "source": [
    "target_id = orders['Id'][0]\n",
    "target_id"
   ]
  },
  {
   "cell_type": "code",
   "execution_count": 53,
   "metadata": {},
   "outputs": [],
   "source": [
    "target_nodes = nodes[nodes['Id'] == target_id]"
   ]
  },
  {
   "cell_type": "code",
   "execution_count": 54,
   "metadata": {},
   "outputs": [
    {
     "data": {
      "text/html": [
       "<div>\n",
       "<style scoped>\n",
       "    .dataframe tbody tr th:only-of-type {\n",
       "        vertical-align: middle;\n",
       "    }\n",
       "\n",
       "    .dataframe tbody tr th {\n",
       "        vertical-align: top;\n",
       "    }\n",
       "\n",
       "    .dataframe thead th {\n",
       "        text-align: right;\n",
       "    }\n",
       "</style>\n",
       "<table border=\"1\" class=\"dataframe\">\n",
       "  <thead>\n",
       "    <tr style=\"text-align: right;\">\n",
       "      <th></th>\n",
       "      <th>Id</th>\n",
       "      <th>node_start</th>\n",
       "      <th>node_finish</th>\n",
       "      <th>distance</th>\n",
       "      <th>speed</th>\n",
       "    </tr>\n",
       "  </thead>\n",
       "  <tbody>\n",
       "    <tr>\n",
       "      <th>173285</th>\n",
       "      <td>-4773019581999572651</td>\n",
       "      <td>10980417</td>\n",
       "      <td>4768348185</td>\n",
       "      <td>31.771489</td>\n",
       "      <td>30.0</td>\n",
       "    </tr>\n",
       "    <tr>\n",
       "      <th>173286</th>\n",
       "      <td>-4773019581999572651</td>\n",
       "      <td>10980418</td>\n",
       "      <td>1570776947</td>\n",
       "      <td>3.673054</td>\n",
       "      <td>24.0</td>\n",
       "    </tr>\n",
       "    <tr>\n",
       "      <th>173287</th>\n",
       "      <td>-4773019581999572651</td>\n",
       "      <td>10980430</td>\n",
       "      <td>4768348188</td>\n",
       "      <td>15.550612</td>\n",
       "      <td>27.0</td>\n",
       "    </tr>\n",
       "    <tr>\n",
       "      <th>173288</th>\n",
       "      <td>-4773019581999572651</td>\n",
       "      <td>10980431</td>\n",
       "      <td>5125489557</td>\n",
       "      <td>50.034390</td>\n",
       "      <td>29.0</td>\n",
       "    </tr>\n",
       "    <tr>\n",
       "      <th>173289</th>\n",
       "      <td>-4773019581999572651</td>\n",
       "      <td>10980432</td>\n",
       "      <td>5213300015</td>\n",
       "      <td>13.453126</td>\n",
       "      <td>30.0</td>\n",
       "    </tr>\n",
       "    <tr>\n",
       "      <th>...</th>\n",
       "      <td>...</td>\n",
       "      <td>...</td>\n",
       "      <td>...</td>\n",
       "      <td>...</td>\n",
       "      <td>...</td>\n",
       "    </tr>\n",
       "    <tr>\n",
       "      <th>173386</th>\n",
       "      <td>-4773019581999572651</td>\n",
       "      <td>8047405750</td>\n",
       "      <td>1570776819</td>\n",
       "      <td>14.094747</td>\n",
       "      <td>37.0</td>\n",
       "    </tr>\n",
       "    <tr>\n",
       "      <th>173387</th>\n",
       "      <td>-4773019581999572651</td>\n",
       "      <td>8952401429</td>\n",
       "      <td>2133368070</td>\n",
       "      <td>11.411172</td>\n",
       "      <td>27.0</td>\n",
       "    </tr>\n",
       "    <tr>\n",
       "      <th>173388</th>\n",
       "      <td>-4773019581999572651</td>\n",
       "      <td>8952405781</td>\n",
       "      <td>1976889231</td>\n",
       "      <td>31.708492</td>\n",
       "      <td>17.0</td>\n",
       "    </tr>\n",
       "    <tr>\n",
       "      <th>173389</th>\n",
       "      <td>-4773019581999572651</td>\n",
       "      <td>8952407019</td>\n",
       "      <td>1901714249</td>\n",
       "      <td>4.528134</td>\n",
       "      <td>35.0</td>\n",
       "    </tr>\n",
       "    <tr>\n",
       "      <th>173390</th>\n",
       "      <td>-4773019581999572651</td>\n",
       "      <td>8952471888</td>\n",
       "      <td>8047405750</td>\n",
       "      <td>1.308628</td>\n",
       "      <td>39.0</td>\n",
       "    </tr>\n",
       "  </tbody>\n",
       "</table>\n",
       "<p>106 rows × 5 columns</p>\n",
       "</div>"
      ],
      "text/plain": [
       "                         Id  node_start  node_finish   distance  speed\n",
       "173285 -4773019581999572651    10980417   4768348185  31.771489   30.0\n",
       "173286 -4773019581999572651    10980418   1570776947   3.673054   24.0\n",
       "173287 -4773019581999572651    10980430   4768348188  15.550612   27.0\n",
       "173288 -4773019581999572651    10980431   5125489557  50.034390   29.0\n",
       "173289 -4773019581999572651    10980432   5213300015  13.453126   30.0\n",
       "...                     ...         ...          ...        ...    ...\n",
       "173386 -4773019581999572651  8047405750   1570776819  14.094747   37.0\n",
       "173387 -4773019581999572651  8952401429   2133368070  11.411172   27.0\n",
       "173388 -4773019581999572651  8952405781   1976889231  31.708492   17.0\n",
       "173389 -4773019581999572651  8952407019   1901714249   4.528134   35.0\n",
       "173390 -4773019581999572651  8952471888   8047405750   1.308628   39.0\n",
       "\n",
       "[106 rows x 5 columns]"
      ]
     },
     "execution_count": 54,
     "metadata": {},
     "output_type": "execute_result"
    }
   ],
   "source": [
    "target_nodes"
   ]
  },
  {
   "cell_type": "code",
   "execution_count": 55,
   "metadata": {},
   "outputs": [
    {
     "data": {
      "text/html": [
       "<div>\n",
       "<style scoped>\n",
       "    .dataframe tbody tr th:only-of-type {\n",
       "        vertical-align: middle;\n",
       "    }\n",
       "\n",
       "    .dataframe tbody tr th {\n",
       "        vertical-align: top;\n",
       "    }\n",
       "\n",
       "    .dataframe thead th {\n",
       "        text-align: right;\n",
       "    }\n",
       "</style>\n",
       "<table border=\"1\" class=\"dataframe\">\n",
       "  <thead>\n",
       "    <tr style=\"text-align: right;\">\n",
       "      <th></th>\n",
       "      <th>lat</th>\n",
       "      <th>lon</th>\n",
       "    </tr>\n",
       "    <tr>\n",
       "      <th>node_id</th>\n",
       "      <th></th>\n",
       "      <th></th>\n",
       "    </tr>\n",
       "  </thead>\n",
       "  <tbody>\n",
       "    <tr>\n",
       "      <th>10980417</th>\n",
       "      <td>46.468524</td>\n",
       "      <td>30.738275</td>\n",
       "    </tr>\n",
       "    <tr>\n",
       "      <th>10980418</th>\n",
       "      <td>46.469605</td>\n",
       "      <td>30.738516</td>\n",
       "    </tr>\n",
       "    <tr>\n",
       "      <th>10980430</th>\n",
       "      <td>46.469587</td>\n",
       "      <td>30.738802</td>\n",
       "    </tr>\n",
       "    <tr>\n",
       "      <th>10980431</th>\n",
       "      <td>46.471232</td>\n",
       "      <td>30.739016</td>\n",
       "    </tr>\n",
       "    <tr>\n",
       "      <th>10980432</th>\n",
       "      <td>46.472665</td>\n",
       "      <td>30.739248</td>\n",
       "    </tr>\n",
       "    <tr>\n",
       "      <th>...</th>\n",
       "      <td>...</td>\n",
       "      <td>...</td>\n",
       "    </tr>\n",
       "    <tr>\n",
       "      <th>8047405750</th>\n",
       "      <td>46.467779</td>\n",
       "      <td>30.737696</td>\n",
       "    </tr>\n",
       "    <tr>\n",
       "      <th>8952401429</th>\n",
       "      <td>38.051872</td>\n",
       "      <td>-122.510810</td>\n",
       "    </tr>\n",
       "    <tr>\n",
       "      <th>8952405781</th>\n",
       "      <td>47.488381</td>\n",
       "      <td>-3.107194</td>\n",
       "    </tr>\n",
       "    <tr>\n",
       "      <th>8952407019</th>\n",
       "      <td>47.559999</td>\n",
       "      <td>-3.135353</td>\n",
       "    </tr>\n",
       "    <tr>\n",
       "      <th>8952471888</th>\n",
       "      <td>41.643744</td>\n",
       "      <td>-85.275418</td>\n",
       "    </tr>\n",
       "  </tbody>\n",
       "</table>\n",
       "<p>106 rows × 2 columns</p>\n",
       "</div>"
      ],
      "text/plain": [
       "                  lat         lon\n",
       "node_id                          \n",
       "10980417    46.468524   30.738275\n",
       "10980418    46.469605   30.738516\n",
       "10980430    46.469587   30.738802\n",
       "10980431    46.471232   30.739016\n",
       "10980432    46.472665   30.739248\n",
       "...               ...         ...\n",
       "8047405750  46.467779   30.737696\n",
       "8952401429  38.051872 -122.510810\n",
       "8952405781  47.488381   -3.107194\n",
       "8952407019  47.559999   -3.135353\n",
       "8952471888  41.643744  -85.275418\n",
       "\n",
       "[106 rows x 2 columns]"
      ]
     },
     "execution_count": 55,
     "metadata": {},
     "output_type": "execute_result"
    }
   ],
   "source": [
    "nodes_info.loc[target_nodes['node_start'], ['lat', 'lon']]"
   ]
  },
  {
   "cell_type": "code",
   "execution_count": 56,
   "metadata": {},
   "outputs": [
    {
     "data": {
      "text/html": [
       "<div>\n",
       "<style scoped>\n",
       "    .dataframe tbody tr th:only-of-type {\n",
       "        vertical-align: middle;\n",
       "    }\n",
       "\n",
       "    .dataframe tbody tr th {\n",
       "        vertical-align: top;\n",
       "    }\n",
       "\n",
       "    .dataframe thead th {\n",
       "        text-align: right;\n",
       "    }\n",
       "</style>\n",
       "<table border=\"1\" class=\"dataframe\">\n",
       "  <thead>\n",
       "    <tr style=\"text-align: right;\">\n",
       "      <th></th>\n",
       "      <th>Id</th>\n",
       "      <th>node_start</th>\n",
       "      <th>node_finish</th>\n",
       "      <th>distance</th>\n",
       "      <th>speed</th>\n",
       "      <th>node_start_lat</th>\n",
       "      <th>node_start_lon</th>\n",
       "    </tr>\n",
       "  </thead>\n",
       "  <tbody>\n",
       "    <tr>\n",
       "      <th>173285</th>\n",
       "      <td>-4773019581999572651</td>\n",
       "      <td>10980417</td>\n",
       "      <td>4768348185</td>\n",
       "      <td>31.771489</td>\n",
       "      <td>30.0</td>\n",
       "      <td>46.468524</td>\n",
       "      <td>30.738275</td>\n",
       "    </tr>\n",
       "    <tr>\n",
       "      <th>173286</th>\n",
       "      <td>-4773019581999572651</td>\n",
       "      <td>10980418</td>\n",
       "      <td>1570776947</td>\n",
       "      <td>3.673054</td>\n",
       "      <td>24.0</td>\n",
       "      <td>46.469605</td>\n",
       "      <td>30.738516</td>\n",
       "    </tr>\n",
       "    <tr>\n",
       "      <th>173287</th>\n",
       "      <td>-4773019581999572651</td>\n",
       "      <td>10980430</td>\n",
       "      <td>4768348188</td>\n",
       "      <td>15.550612</td>\n",
       "      <td>27.0</td>\n",
       "      <td>46.469587</td>\n",
       "      <td>30.738802</td>\n",
       "    </tr>\n",
       "    <tr>\n",
       "      <th>173288</th>\n",
       "      <td>-4773019581999572651</td>\n",
       "      <td>10980431</td>\n",
       "      <td>5125489557</td>\n",
       "      <td>50.034390</td>\n",
       "      <td>29.0</td>\n",
       "      <td>46.471232</td>\n",
       "      <td>30.739016</td>\n",
       "    </tr>\n",
       "    <tr>\n",
       "      <th>173289</th>\n",
       "      <td>-4773019581999572651</td>\n",
       "      <td>10980432</td>\n",
       "      <td>5213300015</td>\n",
       "      <td>13.453126</td>\n",
       "      <td>30.0</td>\n",
       "      <td>46.472665</td>\n",
       "      <td>30.739248</td>\n",
       "    </tr>\n",
       "    <tr>\n",
       "      <th>...</th>\n",
       "      <td>...</td>\n",
       "      <td>...</td>\n",
       "      <td>...</td>\n",
       "      <td>...</td>\n",
       "      <td>...</td>\n",
       "      <td>...</td>\n",
       "      <td>...</td>\n",
       "    </tr>\n",
       "    <tr>\n",
       "      <th>173386</th>\n",
       "      <td>-4773019581999572651</td>\n",
       "      <td>8047405750</td>\n",
       "      <td>1570776819</td>\n",
       "      <td>14.094747</td>\n",
       "      <td>37.0</td>\n",
       "      <td>46.467779</td>\n",
       "      <td>30.737696</td>\n",
       "    </tr>\n",
       "    <tr>\n",
       "      <th>173387</th>\n",
       "      <td>-4773019581999572651</td>\n",
       "      <td>8952401429</td>\n",
       "      <td>2133368070</td>\n",
       "      <td>11.411172</td>\n",
       "      <td>27.0</td>\n",
       "      <td>38.051872</td>\n",
       "      <td>-122.510810</td>\n",
       "    </tr>\n",
       "    <tr>\n",
       "      <th>173388</th>\n",
       "      <td>-4773019581999572651</td>\n",
       "      <td>8952405781</td>\n",
       "      <td>1976889231</td>\n",
       "      <td>31.708492</td>\n",
       "      <td>17.0</td>\n",
       "      <td>47.488381</td>\n",
       "      <td>-3.107194</td>\n",
       "    </tr>\n",
       "    <tr>\n",
       "      <th>173389</th>\n",
       "      <td>-4773019581999572651</td>\n",
       "      <td>8952407019</td>\n",
       "      <td>1901714249</td>\n",
       "      <td>4.528134</td>\n",
       "      <td>35.0</td>\n",
       "      <td>47.559999</td>\n",
       "      <td>-3.135353</td>\n",
       "    </tr>\n",
       "    <tr>\n",
       "      <th>173390</th>\n",
       "      <td>-4773019581999572651</td>\n",
       "      <td>8952471888</td>\n",
       "      <td>8047405750</td>\n",
       "      <td>1.308628</td>\n",
       "      <td>39.0</td>\n",
       "      <td>41.643744</td>\n",
       "      <td>-85.275418</td>\n",
       "    </tr>\n",
       "  </tbody>\n",
       "</table>\n",
       "<p>106 rows × 7 columns</p>\n",
       "</div>"
      ],
      "text/plain": [
       "                         Id  node_start  node_finish   distance  speed  \\\n",
       "173285 -4773019581999572651    10980417   4768348185  31.771489   30.0   \n",
       "173286 -4773019581999572651    10980418   1570776947   3.673054   24.0   \n",
       "173287 -4773019581999572651    10980430   4768348188  15.550612   27.0   \n",
       "173288 -4773019581999572651    10980431   5125489557  50.034390   29.0   \n",
       "173289 -4773019581999572651    10980432   5213300015  13.453126   30.0   \n",
       "...                     ...         ...          ...        ...    ...   \n",
       "173386 -4773019581999572651  8047405750   1570776819  14.094747   37.0   \n",
       "173387 -4773019581999572651  8952401429   2133368070  11.411172   27.0   \n",
       "173388 -4773019581999572651  8952405781   1976889231  31.708492   17.0   \n",
       "173389 -4773019581999572651  8952407019   1901714249   4.528134   35.0   \n",
       "173390 -4773019581999572651  8952471888   8047405750   1.308628   39.0   \n",
       "\n",
       "        node_start_lat  node_start_lon  \n",
       "173285       46.468524       30.738275  \n",
       "173286       46.469605       30.738516  \n",
       "173287       46.469587       30.738802  \n",
       "173288       46.471232       30.739016  \n",
       "173289       46.472665       30.739248  \n",
       "...                ...             ...  \n",
       "173386       46.467779       30.737696  \n",
       "173387       38.051872     -122.510810  \n",
       "173388       47.488381       -3.107194  \n",
       "173389       47.559999       -3.135353  \n",
       "173390       41.643744      -85.275418  \n",
       "\n",
       "[106 rows x 7 columns]"
      ]
     },
     "execution_count": 56,
     "metadata": {},
     "output_type": "execute_result"
    }
   ],
   "source": [
    "target_nodes = target_nodes.join(nodes_info.loc[target_nodes['node_start'], ['lat', 'lon']], on='node_start', rsuffix='node_start')\n",
    "target_nodes = target_nodes.rename({'lat': 'node_start_lat', 'lon': 'node_start_lon'}, axis=1)\n",
    "target_nodes"
   ]
  },
  {
   "cell_type": "code",
   "execution_count": 57,
   "metadata": {},
   "outputs": [
    {
     "data": {
      "text/html": [
       "<div>\n",
       "<style scoped>\n",
       "    .dataframe tbody tr th:only-of-type {\n",
       "        vertical-align: middle;\n",
       "    }\n",
       "\n",
       "    .dataframe tbody tr th {\n",
       "        vertical-align: top;\n",
       "    }\n",
       "\n",
       "    .dataframe thead th {\n",
       "        text-align: right;\n",
       "    }\n",
       "</style>\n",
       "<table border=\"1\" class=\"dataframe\">\n",
       "  <thead>\n",
       "    <tr style=\"text-align: right;\">\n",
       "      <th></th>\n",
       "      <th>Id</th>\n",
       "      <th>node_start</th>\n",
       "      <th>node_finish</th>\n",
       "      <th>distance</th>\n",
       "      <th>speed</th>\n",
       "      <th>node_start_lat</th>\n",
       "      <th>node_start_lon</th>\n",
       "      <th>node_finish_lat</th>\n",
       "      <th>node_finish_lon</th>\n",
       "    </tr>\n",
       "  </thead>\n",
       "  <tbody>\n",
       "    <tr>\n",
       "      <th>173285</th>\n",
       "      <td>-4773019581999572651</td>\n",
       "      <td>10980417</td>\n",
       "      <td>4768348185</td>\n",
       "      <td>31.771489</td>\n",
       "      <td>30.0</td>\n",
       "      <td>46.468524</td>\n",
       "      <td>30.738275</td>\n",
       "      <td>46.468266</td>\n",
       "      <td>30.738097</td>\n",
       "    </tr>\n",
       "    <tr>\n",
       "      <th>173286</th>\n",
       "      <td>-4773019581999572651</td>\n",
       "      <td>10980418</td>\n",
       "      <td>1570776947</td>\n",
       "      <td>3.673054</td>\n",
       "      <td>24.0</td>\n",
       "      <td>46.469605</td>\n",
       "      <td>30.738516</td>\n",
       "      <td>46.469551</td>\n",
       "      <td>30.738576</td>\n",
       "    </tr>\n",
       "    <tr>\n",
       "      <th>173287</th>\n",
       "      <td>-4773019581999572651</td>\n",
       "      <td>10980430</td>\n",
       "      <td>4768348188</td>\n",
       "      <td>15.550612</td>\n",
       "      <td>27.0</td>\n",
       "      <td>46.469587</td>\n",
       "      <td>30.738802</td>\n",
       "      <td>46.477225</td>\n",
       "      <td>30.724000</td>\n",
       "    </tr>\n",
       "    <tr>\n",
       "      <th>173288</th>\n",
       "      <td>-4773019581999572651</td>\n",
       "      <td>10980431</td>\n",
       "      <td>5125489557</td>\n",
       "      <td>50.034390</td>\n",
       "      <td>29.0</td>\n",
       "      <td>46.471232</td>\n",
       "      <td>30.739016</td>\n",
       "      <td>46.470784</td>\n",
       "      <td>30.738957</td>\n",
       "    </tr>\n",
       "    <tr>\n",
       "      <th>173289</th>\n",
       "      <td>-4773019581999572651</td>\n",
       "      <td>10980432</td>\n",
       "      <td>5213300015</td>\n",
       "      <td>13.453126</td>\n",
       "      <td>30.0</td>\n",
       "      <td>46.472665</td>\n",
       "      <td>30.739248</td>\n",
       "      <td>46.472545</td>\n",
       "      <td>30.739226</td>\n",
       "    </tr>\n",
       "    <tr>\n",
       "      <th>...</th>\n",
       "      <td>...</td>\n",
       "      <td>...</td>\n",
       "      <td>...</td>\n",
       "      <td>...</td>\n",
       "      <td>...</td>\n",
       "      <td>...</td>\n",
       "      <td>...</td>\n",
       "      <td>...</td>\n",
       "      <td>...</td>\n",
       "    </tr>\n",
       "    <tr>\n",
       "      <th>173386</th>\n",
       "      <td>-4773019581999572651</td>\n",
       "      <td>8047405750</td>\n",
       "      <td>1570776819</td>\n",
       "      <td>14.094747</td>\n",
       "      <td>37.0</td>\n",
       "      <td>46.467779</td>\n",
       "      <td>30.737696</td>\n",
       "      <td>46.467674</td>\n",
       "      <td>30.737593</td>\n",
       "    </tr>\n",
       "    <tr>\n",
       "      <th>173387</th>\n",
       "      <td>-4773019581999572651</td>\n",
       "      <td>8952401429</td>\n",
       "      <td>2133368070</td>\n",
       "      <td>11.411172</td>\n",
       "      <td>27.0</td>\n",
       "      <td>38.051872</td>\n",
       "      <td>-122.510810</td>\n",
       "      <td>46.472783</td>\n",
       "      <td>30.739266</td>\n",
       "    </tr>\n",
       "    <tr>\n",
       "      <th>173388</th>\n",
       "      <td>-4773019581999572651</td>\n",
       "      <td>8952405781</td>\n",
       "      <td>1976889231</td>\n",
       "      <td>31.708492</td>\n",
       "      <td>17.0</td>\n",
       "      <td>47.488381</td>\n",
       "      <td>-3.107194</td>\n",
       "      <td>46.458315</td>\n",
       "      <td>30.729720</td>\n",
       "    </tr>\n",
       "    <tr>\n",
       "      <th>173389</th>\n",
       "      <td>-4773019581999572651</td>\n",
       "      <td>8952407019</td>\n",
       "      <td>1901714249</td>\n",
       "      <td>4.528134</td>\n",
       "      <td>35.0</td>\n",
       "      <td>47.559999</td>\n",
       "      <td>-3.135353</td>\n",
       "      <td>46.475530</td>\n",
       "      <td>30.739691</td>\n",
       "    </tr>\n",
       "    <tr>\n",
       "      <th>173390</th>\n",
       "      <td>-4773019581999572651</td>\n",
       "      <td>8952471888</td>\n",
       "      <td>8047405750</td>\n",
       "      <td>1.308628</td>\n",
       "      <td>39.0</td>\n",
       "      <td>41.643744</td>\n",
       "      <td>-85.275418</td>\n",
       "      <td>46.467779</td>\n",
       "      <td>30.737696</td>\n",
       "    </tr>\n",
       "  </tbody>\n",
       "</table>\n",
       "<p>106 rows × 9 columns</p>\n",
       "</div>"
      ],
      "text/plain": [
       "                         Id  node_start  node_finish   distance  speed  \\\n",
       "173285 -4773019581999572651    10980417   4768348185  31.771489   30.0   \n",
       "173286 -4773019581999572651    10980418   1570776947   3.673054   24.0   \n",
       "173287 -4773019581999572651    10980430   4768348188  15.550612   27.0   \n",
       "173288 -4773019581999572651    10980431   5125489557  50.034390   29.0   \n",
       "173289 -4773019581999572651    10980432   5213300015  13.453126   30.0   \n",
       "...                     ...         ...          ...        ...    ...   \n",
       "173386 -4773019581999572651  8047405750   1570776819  14.094747   37.0   \n",
       "173387 -4773019581999572651  8952401429   2133368070  11.411172   27.0   \n",
       "173388 -4773019581999572651  8952405781   1976889231  31.708492   17.0   \n",
       "173389 -4773019581999572651  8952407019   1901714249   4.528134   35.0   \n",
       "173390 -4773019581999572651  8952471888   8047405750   1.308628   39.0   \n",
       "\n",
       "        node_start_lat  node_start_lon  node_finish_lat  node_finish_lon  \n",
       "173285       46.468524       30.738275        46.468266        30.738097  \n",
       "173286       46.469605       30.738516        46.469551        30.738576  \n",
       "173287       46.469587       30.738802        46.477225        30.724000  \n",
       "173288       46.471232       30.739016        46.470784        30.738957  \n",
       "173289       46.472665       30.739248        46.472545        30.739226  \n",
       "...                ...             ...              ...              ...  \n",
       "173386       46.467779       30.737696        46.467674        30.737593  \n",
       "173387       38.051872     -122.510810        46.472783        30.739266  \n",
       "173388       47.488381       -3.107194        46.458315        30.729720  \n",
       "173389       47.559999       -3.135353        46.475530        30.739691  \n",
       "173390       41.643744      -85.275418        46.467779        30.737696  \n",
       "\n",
       "[106 rows x 9 columns]"
      ]
     },
     "execution_count": 57,
     "metadata": {},
     "output_type": "execute_result"
    }
   ],
   "source": [
    "target_nodes = target_nodes.join(nodes_info.loc[target_nodes['node_finish'], ['lat', 'lon']], on='node_finish', rsuffix='node_start')\n",
    "target_nodes = target_nodes.rename({'lat': 'node_finish_lat', 'lon': 'node_finish_lon'}, axis=1)\n",
    "target_nodes"
   ]
  },
  {
   "cell_type": "code",
   "execution_count": 58,
   "metadata": {},
   "outputs": [],
   "source": [
    "target_nodes.to_csv('some_trajetory.csv')"
   ]
  },
  {
   "cell_type": "code",
   "execution_count": 59,
   "metadata": {},
   "outputs": [
    {
     "data": {
      "text/plain": [
       "0.08149642612499505"
      ]
     },
     "execution_count": 59,
     "metadata": {},
     "output_type": "execute_result"
    }
   ],
   "source": [
    "len(nodes[nodes['node_start'].isin(anomally_nodes.index) | nodes['node_finish'].isin(anomally_nodes.index)])/len(nodes)"
   ]
  },
  {
   "cell_type": "code",
   "execution_count": 60,
   "metadata": {},
   "outputs": [],
   "source": [
    "import math"
   ]
  },
  {
   "cell_type": "code",
   "execution_count": 79,
   "metadata": {},
   "outputs": [],
   "source": [
    "def haversine(lat1, lon1, lat2, lon2):\n",
    "    lon1, lat1, lon2, lat2 = map(math.radians, [lon1, lat1, lon2, lat2])\n",
    "    dlon = lon2 - lon1\n",
    "    dlat = lat2 - lat1\n",
    "    a = np.sin(dlat/2)**2 + np.cos(lat1) * np.cos(lat2) * np.sin(dlon/2)**2\n",
    "    c = 2 * np.arcsin(np.sqrt(a))\n",
    "    km = 6369 * c\n",
    "    return km"
   ]
  },
  {
   "cell_type": "code",
   "execution_count": 125,
   "metadata": {},
   "outputs": [],
   "source": [
    "def haversine_row(row):\n",
    "    lon1 = row['node_start_lon']\n",
    "    lat1 = row['node_start_lat']\n",
    "    lon2 = row['node_finish_lon']\n",
    "    lat2 = row['node_finish_lat']\n",
    "    lon1, lat1, lon2, lat2 = map(math.radians, [lon1, lat1, lon2, lat2])\n",
    "    dlon = lon2 - lon1\n",
    "    dlat = lat2 - lat1\n",
    "    a = np.sin(dlat/2)**2 + np.cos(lat1) * np.cos(lat2) * np.sin(dlon/2)**2\n",
    "    c = 2 * np.arcsin(np.sqrt(a))\n",
    "    km = 6369 * c\n",
    "    return km"
   ]
  },
  {
   "cell_type": "code",
   "execution_count": 126,
   "metadata": {},
   "outputs": [],
   "source": [
    "target_nodes['haversine'] = target_nodes.apply(haversine_row, axis = 1)*1000"
   ]
  },
  {
   "cell_type": "code",
   "execution_count": 64,
   "metadata": {},
   "outputs": [
    {
     "data": {
      "text/html": [
       "<div>\n",
       "<style scoped>\n",
       "    .dataframe tbody tr th:only-of-type {\n",
       "        vertical-align: middle;\n",
       "    }\n",
       "\n",
       "    .dataframe tbody tr th {\n",
       "        vertical-align: top;\n",
       "    }\n",
       "\n",
       "    .dataframe thead th {\n",
       "        text-align: right;\n",
       "    }\n",
       "</style>\n",
       "<table border=\"1\" class=\"dataframe\">\n",
       "  <thead>\n",
       "    <tr style=\"text-align: right;\">\n",
       "      <th></th>\n",
       "      <th>Id</th>\n",
       "      <th>node_start</th>\n",
       "      <th>node_finish</th>\n",
       "      <th>distance</th>\n",
       "      <th>speed</th>\n",
       "      <th>node_start_lat</th>\n",
       "      <th>node_start_lon</th>\n",
       "      <th>node_finish_lat</th>\n",
       "      <th>node_finish_lon</th>\n",
       "      <th>haversine</th>\n",
       "    </tr>\n",
       "  </thead>\n",
       "  <tbody>\n",
       "    <tr>\n",
       "      <th>173285</th>\n",
       "      <td>-4773019581999572651</td>\n",
       "      <td>10980417</td>\n",
       "      <td>4768348185</td>\n",
       "      <td>31.771489</td>\n",
       "      <td>30.0</td>\n",
       "      <td>46.468524</td>\n",
       "      <td>30.738275</td>\n",
       "      <td>46.468266</td>\n",
       "      <td>30.738097</td>\n",
       "      <td>3.172590e+01</td>\n",
       "    </tr>\n",
       "    <tr>\n",
       "      <th>173286</th>\n",
       "      <td>-4773019581999572651</td>\n",
       "      <td>10980418</td>\n",
       "      <td>1570776947</td>\n",
       "      <td>3.673054</td>\n",
       "      <td>24.0</td>\n",
       "      <td>46.469605</td>\n",
       "      <td>30.738516</td>\n",
       "      <td>46.469551</td>\n",
       "      <td>30.738576</td>\n",
       "      <td>7.488213e+00</td>\n",
       "    </tr>\n",
       "    <tr>\n",
       "      <th>173287</th>\n",
       "      <td>-4773019581999572651</td>\n",
       "      <td>10980430</td>\n",
       "      <td>4768348188</td>\n",
       "      <td>15.550612</td>\n",
       "      <td>27.0</td>\n",
       "      <td>46.469587</td>\n",
       "      <td>30.738802</td>\n",
       "      <td>46.477225</td>\n",
       "      <td>30.724000</td>\n",
       "      <td>1.415887e+03</td>\n",
       "    </tr>\n",
       "    <tr>\n",
       "      <th>173288</th>\n",
       "      <td>-4773019581999572651</td>\n",
       "      <td>10980431</td>\n",
       "      <td>5125489557</td>\n",
       "      <td>50.034390</td>\n",
       "      <td>29.0</td>\n",
       "      <td>46.471232</td>\n",
       "      <td>30.739016</td>\n",
       "      <td>46.470784</td>\n",
       "      <td>30.738957</td>\n",
       "      <td>4.997853e+01</td>\n",
       "    </tr>\n",
       "    <tr>\n",
       "      <th>173289</th>\n",
       "      <td>-4773019581999572651</td>\n",
       "      <td>10980432</td>\n",
       "      <td>5213300015</td>\n",
       "      <td>13.453126</td>\n",
       "      <td>30.0</td>\n",
       "      <td>46.472665</td>\n",
       "      <td>30.739248</td>\n",
       "      <td>46.472545</td>\n",
       "      <td>30.739226</td>\n",
       "      <td>1.346909e+01</td>\n",
       "    </tr>\n",
       "    <tr>\n",
       "      <th>...</th>\n",
       "      <td>...</td>\n",
       "      <td>...</td>\n",
       "      <td>...</td>\n",
       "      <td>...</td>\n",
       "      <td>...</td>\n",
       "      <td>...</td>\n",
       "      <td>...</td>\n",
       "      <td>...</td>\n",
       "      <td>...</td>\n",
       "      <td>...</td>\n",
       "    </tr>\n",
       "    <tr>\n",
       "      <th>173386</th>\n",
       "      <td>-4773019581999572651</td>\n",
       "      <td>8047405750</td>\n",
       "      <td>1570776819</td>\n",
       "      <td>14.094747</td>\n",
       "      <td>37.0</td>\n",
       "      <td>46.467779</td>\n",
       "      <td>30.737696</td>\n",
       "      <td>46.467674</td>\n",
       "      <td>30.737593</td>\n",
       "      <td>1.411874e+01</td>\n",
       "    </tr>\n",
       "    <tr>\n",
       "      <th>173387</th>\n",
       "      <td>-4773019581999572651</td>\n",
       "      <td>8952401429</td>\n",
       "      <td>2133368070</td>\n",
       "      <td>11.411172</td>\n",
       "      <td>27.0</td>\n",
       "      <td>38.051872</td>\n",
       "      <td>-122.510810</td>\n",
       "      <td>46.472783</td>\n",
       "      <td>30.739266</td>\n",
       "      <td>1.024252e+07</td>\n",
       "    </tr>\n",
       "    <tr>\n",
       "      <th>173388</th>\n",
       "      <td>-4773019581999572651</td>\n",
       "      <td>8952405781</td>\n",
       "      <td>1976889231</td>\n",
       "      <td>31.708492</td>\n",
       "      <td>17.0</td>\n",
       "      <td>47.488381</td>\n",
       "      <td>-3.107194</td>\n",
       "      <td>46.458315</td>\n",
       "      <td>30.729720</td>\n",
       "      <td>2.548697e+06</td>\n",
       "    </tr>\n",
       "    <tr>\n",
       "      <th>173389</th>\n",
       "      <td>-4773019581999572651</td>\n",
       "      <td>8952407019</td>\n",
       "      <td>1901714249</td>\n",
       "      <td>4.528134</td>\n",
       "      <td>35.0</td>\n",
       "      <td>47.559999</td>\n",
       "      <td>-3.135353</td>\n",
       "      <td>46.475530</td>\n",
       "      <td>30.739691</td>\n",
       "      <td>2.549635e+06</td>\n",
       "    </tr>\n",
       "    <tr>\n",
       "      <th>173390</th>\n",
       "      <td>-4773019581999572651</td>\n",
       "      <td>8952471888</td>\n",
       "      <td>8047405750</td>\n",
       "      <td>1.308628</td>\n",
       "      <td>39.0</td>\n",
       "      <td>41.643744</td>\n",
       "      <td>-85.275418</td>\n",
       "      <td>46.467779</td>\n",
       "      <td>30.737696</td>\n",
       "      <td>8.355492e+06</td>\n",
       "    </tr>\n",
       "  </tbody>\n",
       "</table>\n",
       "<p>106 rows × 10 columns</p>\n",
       "</div>"
      ],
      "text/plain": [
       "                         Id  node_start  node_finish   distance  speed  \\\n",
       "173285 -4773019581999572651    10980417   4768348185  31.771489   30.0   \n",
       "173286 -4773019581999572651    10980418   1570776947   3.673054   24.0   \n",
       "173287 -4773019581999572651    10980430   4768348188  15.550612   27.0   \n",
       "173288 -4773019581999572651    10980431   5125489557  50.034390   29.0   \n",
       "173289 -4773019581999572651    10980432   5213300015  13.453126   30.0   \n",
       "...                     ...         ...          ...        ...    ...   \n",
       "173386 -4773019581999572651  8047405750   1570776819  14.094747   37.0   \n",
       "173387 -4773019581999572651  8952401429   2133368070  11.411172   27.0   \n",
       "173388 -4773019581999572651  8952405781   1976889231  31.708492   17.0   \n",
       "173389 -4773019581999572651  8952407019   1901714249   4.528134   35.0   \n",
       "173390 -4773019581999572651  8952471888   8047405750   1.308628   39.0   \n",
       "\n",
       "        node_start_lat  node_start_lon  node_finish_lat  node_finish_lon  \\\n",
       "173285       46.468524       30.738275        46.468266        30.738097   \n",
       "173286       46.469605       30.738516        46.469551        30.738576   \n",
       "173287       46.469587       30.738802        46.477225        30.724000   \n",
       "173288       46.471232       30.739016        46.470784        30.738957   \n",
       "173289       46.472665       30.739248        46.472545        30.739226   \n",
       "...                ...             ...              ...              ...   \n",
       "173386       46.467779       30.737696        46.467674        30.737593   \n",
       "173387       38.051872     -122.510810        46.472783        30.739266   \n",
       "173388       47.488381       -3.107194        46.458315        30.729720   \n",
       "173389       47.559999       -3.135353        46.475530        30.739691   \n",
       "173390       41.643744      -85.275418        46.467779        30.737696   \n",
       "\n",
       "           haversine  \n",
       "173285  3.172590e+01  \n",
       "173286  7.488213e+00  \n",
       "173287  1.415887e+03  \n",
       "173288  4.997853e+01  \n",
       "173289  1.346909e+01  \n",
       "...              ...  \n",
       "173386  1.411874e+01  \n",
       "173387  1.024252e+07  \n",
       "173388  2.548697e+06  \n",
       "173389  2.549635e+06  \n",
       "173390  8.355492e+06  \n",
       "\n",
       "[106 rows x 10 columns]"
      ]
     },
     "execution_count": 64,
     "metadata": {},
     "output_type": "execute_result"
    }
   ],
   "source": [
    "target_nodes"
   ]
  },
  {
   "cell_type": "code",
   "execution_count": 65,
   "metadata": {},
   "outputs": [],
   "source": [
    "filtered_target_nodes = target_nodes[target_nodes['haversine'] < 10 * target_nodes['distance']]"
   ]
  },
  {
   "cell_type": "code",
   "execution_count": 66,
   "metadata": {},
   "outputs": [],
   "source": [
    "filtered_target_nodes.to_csv('some_trajetory_filtered.csv')"
   ]
  },
  {
   "cell_type": "code",
   "execution_count": 67,
   "metadata": {},
   "outputs": [],
   "source": [
    "unique_points = np.unique(np.append(filtered_target_nodes['node_start'], filtered_target_nodes['node_finish']))"
   ]
  },
  {
   "cell_type": "code",
   "execution_count": 68,
   "metadata": {},
   "outputs": [
    {
     "data": {
      "text/plain": [
       "103"
      ]
     },
     "execution_count": 68,
     "metadata": {},
     "output_type": "execute_result"
    }
   ],
   "source": [
    "len(unique_points)"
   ]
  },
  {
   "cell_type": "code",
   "execution_count": 69,
   "metadata": {},
   "outputs": [],
   "source": [
    "unique_points_df = nodes_info.loc[unique_points, ['lat', 'lon']]"
   ]
  },
  {
   "cell_type": "code",
   "execution_count": 70,
   "metadata": {},
   "outputs": [
    {
     "data": {
      "text/html": [
       "<div>\n",
       "<style scoped>\n",
       "    .dataframe tbody tr th:only-of-type {\n",
       "        vertical-align: middle;\n",
       "    }\n",
       "\n",
       "    .dataframe tbody tr th {\n",
       "        vertical-align: top;\n",
       "    }\n",
       "\n",
       "    .dataframe thead th {\n",
       "        text-align: right;\n",
       "    }\n",
       "</style>\n",
       "<table border=\"1\" class=\"dataframe\">\n",
       "  <thead>\n",
       "    <tr style=\"text-align: right;\">\n",
       "      <th></th>\n",
       "      <th>lat</th>\n",
       "      <th>lon</th>\n",
       "    </tr>\n",
       "    <tr>\n",
       "      <th>node_id</th>\n",
       "      <th></th>\n",
       "      <th></th>\n",
       "    </tr>\n",
       "  </thead>\n",
       "  <tbody>\n",
       "    <tr>\n",
       "      <th>10980417</th>\n",
       "      <td>46.468524</td>\n",
       "      <td>30.738275</td>\n",
       "    </tr>\n",
       "    <tr>\n",
       "      <th>10980418</th>\n",
       "      <td>46.469605</td>\n",
       "      <td>30.738516</td>\n",
       "    </tr>\n",
       "    <tr>\n",
       "      <th>10980430</th>\n",
       "      <td>46.469587</td>\n",
       "      <td>30.738802</td>\n",
       "    </tr>\n",
       "    <tr>\n",
       "      <th>10980431</th>\n",
       "      <td>46.471232</td>\n",
       "      <td>30.739016</td>\n",
       "    </tr>\n",
       "    <tr>\n",
       "      <th>10980432</th>\n",
       "      <td>46.472665</td>\n",
       "      <td>30.739248</td>\n",
       "    </tr>\n",
       "    <tr>\n",
       "      <th>...</th>\n",
       "      <td>...</td>\n",
       "      <td>...</td>\n",
       "    </tr>\n",
       "    <tr>\n",
       "      <th>7825374441</th>\n",
       "      <td>46.459111</td>\n",
       "      <td>30.729736</td>\n",
       "    </tr>\n",
       "    <tr>\n",
       "      <th>7825374442</th>\n",
       "      <td>46.459263</td>\n",
       "      <td>30.729854</td>\n",
       "    </tr>\n",
       "    <tr>\n",
       "      <th>8018283981</th>\n",
       "      <td>46.482517</td>\n",
       "      <td>30.740571</td>\n",
       "    </tr>\n",
       "    <tr>\n",
       "      <th>8018283983</th>\n",
       "      <td>46.482622</td>\n",
       "      <td>30.738761</td>\n",
       "    </tr>\n",
       "    <tr>\n",
       "      <th>8047405750</th>\n",
       "      <td>46.467779</td>\n",
       "      <td>30.737696</td>\n",
       "    </tr>\n",
       "  </tbody>\n",
       "</table>\n",
       "<p>103 rows × 2 columns</p>\n",
       "</div>"
      ],
      "text/plain": [
       "                  lat        lon\n",
       "node_id                         \n",
       "10980417    46.468524  30.738275\n",
       "10980418    46.469605  30.738516\n",
       "10980430    46.469587  30.738802\n",
       "10980431    46.471232  30.739016\n",
       "10980432    46.472665  30.739248\n",
       "...               ...        ...\n",
       "7825374441  46.459111  30.729736\n",
       "7825374442  46.459263  30.729854\n",
       "8018283981  46.482517  30.740571\n",
       "8018283983  46.482622  30.738761\n",
       "8047405750  46.467779  30.737696\n",
       "\n",
       "[103 rows x 2 columns]"
      ]
     },
     "execution_count": 70,
     "metadata": {},
     "output_type": "execute_result"
    }
   ],
   "source": [
    "unique_points_df"
   ]
  },
  {
   "cell_type": "code",
   "execution_count": 80,
   "metadata": {},
   "outputs": [],
   "source": [
    "def compute_euclidean_distance_matrix(df):\n",
    "    \"\"\"Creates callback to return distance between points.\"\"\"\n",
    "    distances = np.zeros((len(df), len(df)))\n",
    "    for i_start in range(len(df)):\n",
    "        for i_finish in range(i_start + 1, len(df)):\n",
    "            distances[i_start][i_finish] = (haversine(df.iloc[i_start]['lat'], df.iloc[i_start]['lon'], df.iloc[i_finish]['lat'], df.iloc[i_finish]['lon']))\n",
    "            distances[i_finish][i_start] = distances[i_start][i_finish]\n",
    "    return distances"
   ]
  },
  {
   "cell_type": "code",
   "execution_count": 81,
   "metadata": {},
   "outputs": [],
   "source": [
    "distance_matrix = compute_euclidean_distance_matrix(unique_points_df)"
   ]
  },
  {
   "cell_type": "code",
   "execution_count": 96,
   "metadata": {},
   "outputs": [
    {
     "name": "stdout",
     "output_type": "stream",
     "text": [
      "Created sequence:  [1746751148, 10980418, 1570776947, 4843855239, 10980417, 4768348185, 5596871317, 290262748]\n",
      "Created sequence:  [2133368070, 10980432, 5213300015, 4980717063, 3930075242, 5966970977, 2133368096, 10980431, 5125489557, 5213300069, 5596871747, 10980430]\n",
      "Created sequence:  [8047405750, 1570776819, 6583283285, 4543514608, 5214555660, 6583283185, 2421901608, 1570776789, 1570776788, 4786186029, 4768391694, 4768391695, 4768391696, 2421925794, 1455814099, 4786018123, 4786018211, 4786018203, 4786018208, 4845924947, 1455816519, 4916960069, 4916960075, 4916960076, 3910696309, 5214584828, 316686113, 5214584827, 4768432786, 7825374442, 7825374441, 1751477830, 1751477828, 5214584825, 27128863]\n",
      "Created sequence:  [4441087529, 4441087526, 4325099311, 290891853, 4441087524, 4441087523, 4441087522, 4325099309, 10980544, 4325099308, 8018283983, 4439629628, 4439629627, 5213015315, 4439629625, 4439629624, 5213015316, 8018283981, 290007862, 2940383471, 5213015320, 4439629610, 4439629599, 10980545, 5213015312, 278078246, 1751042248, 4732287263, 4732287270, 5213300078, 289702925, 278078442, 5213300077]\n",
      "Created sequence:  [1976889231, 1976889265, 1976889261, 2479719953, 1976889232, 2479719949, 6806370974, 6806370970]\n",
      "Created sequence:  [10980471, 2133368054, 4732308202, 4732308201]\n"
     ]
    }
   ],
   "source": [
    "sequences = [[unique_points_df.index[0]]]\n",
    "used_points = {unique_points_df.index[0]}\n",
    "unused_points = set(unique_points_df.index[1:])\n",
    "sequence_id = 0\n",
    "head = True\n",
    "while True:\n",
    "    if len(unused_points) == 0:\n",
    "        break\n",
    "    if head:\n",
    "        current = sequences[sequence_id][0]\n",
    "        previous = filtered_target_nodes[filtered_target_nodes['node_finish'] == current]['node_start'].values\n",
    "        if len(previous) > 1:\n",
    "            raise Exception(\"More then 1 prev point\")\n",
    "        elif len(previous) == 1:\n",
    "            sequences[sequence_id].insert(0, previous[0])\n",
    "            used_points.add(previous[0])\n",
    "            unused_points.remove(previous[0])\n",
    "        else:\n",
    "            head = False\n",
    "    else:\n",
    "        current = sequences[sequence_id][-1]\n",
    "        next = filtered_target_nodes[filtered_target_nodes['node_start'] == current]['node_finish'].values\n",
    "        if len(next) > 1:\n",
    "            raise Exception(\"More then 1 next point\")\n",
    "        elif len(next) == 1:\n",
    "            sequences[sequence_id].append(next[0])\n",
    "            unused_points.remove(next[0])\n",
    "            used_points.add(next[0])\n",
    "        else:\n",
    "            # print(\"Created sequence: \", sequences[sequence_id])\n",
    "            sequence_id += 1\n",
    "            new_el = unused_points.pop()\n",
    "            used_points.add(new_el)\n",
    "            sequences.append([new_el])\n",
    "            head = True"
   ]
  },
  {
   "cell_type": "code",
   "execution_count": 97,
   "metadata": {},
   "outputs": [
    {
     "data": {
      "text/plain": [
       "array([[       inf, 0.56612058, 0.00320008, 1.7485361 , 1.21964785,\n",
       "        0.71449731, 0.87207712],\n",
       "       [0.01931268,        inf, 0.21809759, 1.55651849, 1.43305572,\n",
       "        0.50605464, 0.66407782],\n",
       "       [1.41460291, 1.75363901,        inf, 2.83294057, 0.03439232,\n",
       "        1.89484363, 2.04579162],\n",
       "       [0.7442078 , 0.38661911, 0.95439814,        inf, 2.13699488,\n",
       "        0.2375949 , 0.07957052],\n",
       "       [1.53378158, 1.88886099, 1.32086957, 3.03155033,        inf,\n",
       "        2.03614411, 2.19258085],\n",
       "       [0.39861726, 0.04085858, 0.60973416, 1.16932744, 1.80541988,\n",
       "               inf, 0.26619   ],\n",
       "       [0.57378952, 0.21614253, 0.78434179, 1.00173092, 1.97290461,\n",
       "        0.06711832,        inf]])"
      ]
     },
     "execution_count": 97,
     "metadata": {},
     "output_type": "execute_result"
    }
   ],
   "source": [
    "interseq_distances = np.zeros((len(sequences), len(sequences))) # interseq[i][j] is distance between i-th end and j-th start\n",
    "for i in range(len(sequences)):\n",
    "    start_of_seq_i = sequences[i][0]\n",
    "    end_of_seq_i = sequences[i][-1]\n",
    "    for j in range(i, len(sequences)):\n",
    "        if i == j:\n",
    "            interseq_distances[i][j] = float('inf')\n",
    "        else:\n",
    "            start_of_seq_j = sequences[j][0]\n",
    "            end_of_seq_j = sequences[j][-1]\n",
    "            interseq_distances[i][j] = haversine(unique_points_df.loc[end_of_seq_i, 'lat'], \n",
    "                                                unique_points_df.loc[end_of_seq_i, 'lon'], \n",
    "                                                unique_points_df.loc[start_of_seq_j, 'lat'], \n",
    "                                                unique_points_df.loc[start_of_seq_j, 'lon'])\n",
    "            interseq_distances[j][i] = haversine(unique_points_df.loc[start_of_seq_i, 'lat'], \n",
    "                                                unique_points_df.loc[start_of_seq_i, 'lon'], \n",
    "                                                unique_points_df.loc[end_of_seq_j, 'lat'], \n",
    "                                                unique_points_df.loc[end_of_seq_j, 'lon'])\n",
    "interseq_distances"
   ]
  },
  {
   "cell_type": "code",
   "execution_count": 98,
   "metadata": {},
   "outputs": [
    {
     "name": "stdout",
     "output_type": "stream",
     "text": [
      "0 2\n",
      "1 0\n",
      "1 4\n",
      "5 1\n",
      "6 5\n",
      "3 6\n"
     ]
    }
   ],
   "source": [
    "seq_count = len(sequences)\n",
    "while seq_count > 1:\n",
    "    first, second = np.unravel_index(interseq_distances.argmin(), interseq_distances.shape)\n",
    "    sequences[first].extend(sequences[second])\n",
    "    interseq_distances[first] = interseq_distances[second]\n",
    "    interseq_distances[second] = float('inf')\n",
    "    interseq_distances[:, second] = float('inf')\n",
    "    interseq_distances[first, first] = float('inf')\n",
    "    seq_count -= 1"
   ]
  },
  {
   "attachments": {},
   "cell_type": "markdown",
   "metadata": {},
   "source": [
    "3 6 5 1 0 2 4"
   ]
  },
  {
   "cell_type": "code",
   "execution_count": 100,
   "metadata": {},
   "outputs": [
    {
     "data": {
      "text/plain": [
       "103"
      ]
     },
     "execution_count": 100,
     "metadata": {},
     "output_type": "execute_result"
    }
   ],
   "source": [
    "len(sequences[first])"
   ]
  },
  {
   "cell_type": "code",
   "execution_count": 101,
   "metadata": {},
   "outputs": [
    {
     "data": {
      "text/plain": [
       "4441087529"
      ]
     },
     "execution_count": 101,
     "metadata": {},
     "output_type": "execute_result"
    }
   ],
   "source": [
    "sequences[first][0]"
   ]
  },
  {
   "cell_type": "code",
   "execution_count": 102,
   "metadata": {},
   "outputs": [
    {
     "data": {
      "text/plain": [
       "6806370970"
      ]
     },
     "execution_count": 102,
     "metadata": {},
     "output_type": "execute_result"
    }
   ],
   "source": [
    "sequences[first][-1]"
   ]
  },
  {
   "cell_type": "code",
   "execution_count": 191,
   "metadata": {},
   "outputs": [
    {
     "data": {
      "application/vnd.plotly.v1+json": {
       "config": {
        "plotlyServerURL": "https://plot.ly"
       },
       "data": [
        {
         "hovertemplate": "lat=%{lat}<br>lon=%{lon}<extra></extra>",
         "lat": [
          46.4720857,
          46.4719491,
          46.4702214,
          46.4850767,
          46.4870251,
          46.4686835,
          46.4837848,
          46.4839393,
          46.4823628,
          46.4820562,
          46.4821977,
          46.4820904,
          46.4718034,
          46.487876,
          46.4875016,
          46.487426,
          46.4840973,
          46.4688131,
          46.4673195,
          46.4676174,
          46.4679816,
          46.4682366,
          46.4664741,
          46.467083,
          46.4655621,
          46.4858142,
          46.4852983,
          46.4851751,
          46.4874361,
          46.4874736,
          46.4840364,
          46.4735544,
          46.4655824,
          46.4715141,
          46.4716614,
          46.4716633,
          46.4717978,
          46.4822123,
          46.4839303,
          46.484172,
          46.485041,
          46.4851137,
          46.4820017,
          46.4879407,
          46.4822999,
          46.4823124,
          46.4823293,
          46.4827913,
          46.483041,
          46.4830683,
          46.4833949,
          46.4838913,
          46.4840066,
          46.4840165,
          46.4845877,
          46.4872248,
          46.4873267,
          46.4874923,
          46.4689157,
          46.469352,
          46.4695524,
          46.4704069,
          46.4707526,
          46.4709331,
          46.4711493,
          46.471696,
          46.4675411,
          46.4822845,
          46.4822563,
          46.4822696,
          46.4821181,
          46.4846178,
          46.4741589,
          46.4738659,
          46.4717224,
          46.4717592,
          46.4717393,
          46.4878209,
          46.4838263,
          46.4838855,
          46.4673346,
          46.4666971,
          46.471676,
          46.4725697,
          46.4726493,
          46.4819988,
          46.482019,
          46.4837919,
          46.4839503,
          46.4679879,
          46.4823506,
          46.4824316,
          46.4685241,
          46.4685241
         ],
         "legendgroup": "",
         "line": {
          "color": "#636efa"
         },
         "lon": [
          30.7471103,
          30.7491142,
          30.7532757,
          30.7389789,
          30.7392322,
          30.7528819,
          30.7430607,
          30.7409773,
          30.7428467,
          30.7471169,
          30.745061,
          30.7465472,
          30.7511492,
          30.7377494,
          30.738759,
          30.7398513,
          30.7388473,
          30.7529225,
          30.7577836,
          30.7548724,
          30.7549426,
          30.7527537,
          30.7577836,
          30.7577836,
          30.7577464,
          30.7390826,
          30.7390119,
          30.738995,
          30.7397282,
          30.7392814,
          30.7396682,
          30.7473462,
          30.7573887,
          30.7535614,
          30.7533625,
          30.7533295,
          30.751262,
          30.7448158,
          30.741076,
          30.7388572,
          30.7389756,
          30.738985,
          30.7478403,
          30.7369504,
          30.7436616,
          30.7434651,
          30.7432664,
          30.7429157,
          30.7429522,
          30.7429561,
          30.7430038,
          30.7416246,
          30.7400698,
          30.7399364,
          30.7389132,
          30.7390372,
          30.7397001,
          30.7390047,
          30.7529462,
          30.7530487,
          30.7531066,
          30.753321,
          30.7534074,
          30.7534484,
          30.7534963,
          30.7528271,
          30.755678,
          30.7438605,
          30.7442609,
          30.7440851,
          30.7460448,
          30.7389182,
          30.7474434,
          30.7473963,
          30.75243,
          30.7518625,
          30.7521615,
          30.7378871,
          30.7425004,
          30.7417028,
          30.7576403,
          30.7577832,
          30.7531344,
          30.7471881,
          30.7472008,
          30.7478938,
          30.7476016,
          30.7429645,
          30.7408427,
          30.7548888,
          30.7429992,
          30.7428578,
          30.7382746,
          30.7382746
         ],
         "mode": "lines",
         "name": "",
         "showlegend": false,
         "subplot": "mapbox",
         "type": "scattermapbox"
        }
       ],
       "layout": {
        "height": 300,
        "legend": {
         "tracegroupgap": 0
        },
        "mapbox": {
         "center": {
          "lat": 41,
          "lon": 30.746282446808515
         },
         "domain": {
          "x": [
           0,
           1
          ],
          "y": [
           0,
           1
          ]
         },
         "style": "stamen-terrain",
         "zoom": 4
        },
        "margin": {
         "b": 0,
         "l": 0,
         "r": 0,
         "t": 0
        },
        "template": {
         "data": {
          "bar": [
           {
            "error_x": {
             "color": "#2a3f5f"
            },
            "error_y": {
             "color": "#2a3f5f"
            },
            "marker": {
             "line": {
              "color": "#E5ECF6",
              "width": 0.5
             },
             "pattern": {
              "fillmode": "overlay",
              "size": 10,
              "solidity": 0.2
             }
            },
            "type": "bar"
           }
          ],
          "barpolar": [
           {
            "marker": {
             "line": {
              "color": "#E5ECF6",
              "width": 0.5
             },
             "pattern": {
              "fillmode": "overlay",
              "size": 10,
              "solidity": 0.2
             }
            },
            "type": "barpolar"
           }
          ],
          "carpet": [
           {
            "aaxis": {
             "endlinecolor": "#2a3f5f",
             "gridcolor": "white",
             "linecolor": "white",
             "minorgridcolor": "white",
             "startlinecolor": "#2a3f5f"
            },
            "baxis": {
             "endlinecolor": "#2a3f5f",
             "gridcolor": "white",
             "linecolor": "white",
             "minorgridcolor": "white",
             "startlinecolor": "#2a3f5f"
            },
            "type": "carpet"
           }
          ],
          "choropleth": [
           {
            "colorbar": {
             "outlinewidth": 0,
             "ticks": ""
            },
            "type": "choropleth"
           }
          ],
          "contour": [
           {
            "colorbar": {
             "outlinewidth": 0,
             "ticks": ""
            },
            "colorscale": [
             [
              0,
              "#0d0887"
             ],
             [
              0.1111111111111111,
              "#46039f"
             ],
             [
              0.2222222222222222,
              "#7201a8"
             ],
             [
              0.3333333333333333,
              "#9c179e"
             ],
             [
              0.4444444444444444,
              "#bd3786"
             ],
             [
              0.5555555555555556,
              "#d8576b"
             ],
             [
              0.6666666666666666,
              "#ed7953"
             ],
             [
              0.7777777777777778,
              "#fb9f3a"
             ],
             [
              0.8888888888888888,
              "#fdca26"
             ],
             [
              1,
              "#f0f921"
             ]
            ],
            "type": "contour"
           }
          ],
          "contourcarpet": [
           {
            "colorbar": {
             "outlinewidth": 0,
             "ticks": ""
            },
            "type": "contourcarpet"
           }
          ],
          "heatmap": [
           {
            "colorbar": {
             "outlinewidth": 0,
             "ticks": ""
            },
            "colorscale": [
             [
              0,
              "#0d0887"
             ],
             [
              0.1111111111111111,
              "#46039f"
             ],
             [
              0.2222222222222222,
              "#7201a8"
             ],
             [
              0.3333333333333333,
              "#9c179e"
             ],
             [
              0.4444444444444444,
              "#bd3786"
             ],
             [
              0.5555555555555556,
              "#d8576b"
             ],
             [
              0.6666666666666666,
              "#ed7953"
             ],
             [
              0.7777777777777778,
              "#fb9f3a"
             ],
             [
              0.8888888888888888,
              "#fdca26"
             ],
             [
              1,
              "#f0f921"
             ]
            ],
            "type": "heatmap"
           }
          ],
          "heatmapgl": [
           {
            "colorbar": {
             "outlinewidth": 0,
             "ticks": ""
            },
            "colorscale": [
             [
              0,
              "#0d0887"
             ],
             [
              0.1111111111111111,
              "#46039f"
             ],
             [
              0.2222222222222222,
              "#7201a8"
             ],
             [
              0.3333333333333333,
              "#9c179e"
             ],
             [
              0.4444444444444444,
              "#bd3786"
             ],
             [
              0.5555555555555556,
              "#d8576b"
             ],
             [
              0.6666666666666666,
              "#ed7953"
             ],
             [
              0.7777777777777778,
              "#fb9f3a"
             ],
             [
              0.8888888888888888,
              "#fdca26"
             ],
             [
              1,
              "#f0f921"
             ]
            ],
            "type": "heatmapgl"
           }
          ],
          "histogram": [
           {
            "marker": {
             "pattern": {
              "fillmode": "overlay",
              "size": 10,
              "solidity": 0.2
             }
            },
            "type": "histogram"
           }
          ],
          "histogram2d": [
           {
            "colorbar": {
             "outlinewidth": 0,
             "ticks": ""
            },
            "colorscale": [
             [
              0,
              "#0d0887"
             ],
             [
              0.1111111111111111,
              "#46039f"
             ],
             [
              0.2222222222222222,
              "#7201a8"
             ],
             [
              0.3333333333333333,
              "#9c179e"
             ],
             [
              0.4444444444444444,
              "#bd3786"
             ],
             [
              0.5555555555555556,
              "#d8576b"
             ],
             [
              0.6666666666666666,
              "#ed7953"
             ],
             [
              0.7777777777777778,
              "#fb9f3a"
             ],
             [
              0.8888888888888888,
              "#fdca26"
             ],
             [
              1,
              "#f0f921"
             ]
            ],
            "type": "histogram2d"
           }
          ],
          "histogram2dcontour": [
           {
            "colorbar": {
             "outlinewidth": 0,
             "ticks": ""
            },
            "colorscale": [
             [
              0,
              "#0d0887"
             ],
             [
              0.1111111111111111,
              "#46039f"
             ],
             [
              0.2222222222222222,
              "#7201a8"
             ],
             [
              0.3333333333333333,
              "#9c179e"
             ],
             [
              0.4444444444444444,
              "#bd3786"
             ],
             [
              0.5555555555555556,
              "#d8576b"
             ],
             [
              0.6666666666666666,
              "#ed7953"
             ],
             [
              0.7777777777777778,
              "#fb9f3a"
             ],
             [
              0.8888888888888888,
              "#fdca26"
             ],
             [
              1,
              "#f0f921"
             ]
            ],
            "type": "histogram2dcontour"
           }
          ],
          "mesh3d": [
           {
            "colorbar": {
             "outlinewidth": 0,
             "ticks": ""
            },
            "type": "mesh3d"
           }
          ],
          "parcoords": [
           {
            "line": {
             "colorbar": {
              "outlinewidth": 0,
              "ticks": ""
             }
            },
            "type": "parcoords"
           }
          ],
          "pie": [
           {
            "automargin": true,
            "type": "pie"
           }
          ],
          "scatter": [
           {
            "marker": {
             "colorbar": {
              "outlinewidth": 0,
              "ticks": ""
             }
            },
            "type": "scatter"
           }
          ],
          "scatter3d": [
           {
            "line": {
             "colorbar": {
              "outlinewidth": 0,
              "ticks": ""
             }
            },
            "marker": {
             "colorbar": {
              "outlinewidth": 0,
              "ticks": ""
             }
            },
            "type": "scatter3d"
           }
          ],
          "scattercarpet": [
           {
            "marker": {
             "colorbar": {
              "outlinewidth": 0,
              "ticks": ""
             }
            },
            "type": "scattercarpet"
           }
          ],
          "scattergeo": [
           {
            "marker": {
             "colorbar": {
              "outlinewidth": 0,
              "ticks": ""
             }
            },
            "type": "scattergeo"
           }
          ],
          "scattergl": [
           {
            "marker": {
             "colorbar": {
              "outlinewidth": 0,
              "ticks": ""
             }
            },
            "type": "scattergl"
           }
          ],
          "scattermapbox": [
           {
            "marker": {
             "colorbar": {
              "outlinewidth": 0,
              "ticks": ""
             }
            },
            "type": "scattermapbox"
           }
          ],
          "scatterpolar": [
           {
            "marker": {
             "colorbar": {
              "outlinewidth": 0,
              "ticks": ""
             }
            },
            "type": "scatterpolar"
           }
          ],
          "scatterpolargl": [
           {
            "marker": {
             "colorbar": {
              "outlinewidth": 0,
              "ticks": ""
             }
            },
            "type": "scatterpolargl"
           }
          ],
          "scatterternary": [
           {
            "marker": {
             "colorbar": {
              "outlinewidth": 0,
              "ticks": ""
             }
            },
            "type": "scatterternary"
           }
          ],
          "surface": [
           {
            "colorbar": {
             "outlinewidth": 0,
             "ticks": ""
            },
            "colorscale": [
             [
              0,
              "#0d0887"
             ],
             [
              0.1111111111111111,
              "#46039f"
             ],
             [
              0.2222222222222222,
              "#7201a8"
             ],
             [
              0.3333333333333333,
              "#9c179e"
             ],
             [
              0.4444444444444444,
              "#bd3786"
             ],
             [
              0.5555555555555556,
              "#d8576b"
             ],
             [
              0.6666666666666666,
              "#ed7953"
             ],
             [
              0.7777777777777778,
              "#fb9f3a"
             ],
             [
              0.8888888888888888,
              "#fdca26"
             ],
             [
              1,
              "#f0f921"
             ]
            ],
            "type": "surface"
           }
          ],
          "table": [
           {
            "cells": {
             "fill": {
              "color": "#EBF0F8"
             },
             "line": {
              "color": "white"
             }
            },
            "header": {
             "fill": {
              "color": "#C8D4E3"
             },
             "line": {
              "color": "white"
             }
            },
            "type": "table"
           }
          ]
         },
         "layout": {
          "annotationdefaults": {
           "arrowcolor": "#2a3f5f",
           "arrowhead": 0,
           "arrowwidth": 1
          },
          "autotypenumbers": "strict",
          "coloraxis": {
           "colorbar": {
            "outlinewidth": 0,
            "ticks": ""
           }
          },
          "colorscale": {
           "diverging": [
            [
             0,
             "#8e0152"
            ],
            [
             0.1,
             "#c51b7d"
            ],
            [
             0.2,
             "#de77ae"
            ],
            [
             0.3,
             "#f1b6da"
            ],
            [
             0.4,
             "#fde0ef"
            ],
            [
             0.5,
             "#f7f7f7"
            ],
            [
             0.6,
             "#e6f5d0"
            ],
            [
             0.7,
             "#b8e186"
            ],
            [
             0.8,
             "#7fbc41"
            ],
            [
             0.9,
             "#4d9221"
            ],
            [
             1,
             "#276419"
            ]
           ],
           "sequential": [
            [
             0,
             "#0d0887"
            ],
            [
             0.1111111111111111,
             "#46039f"
            ],
            [
             0.2222222222222222,
             "#7201a8"
            ],
            [
             0.3333333333333333,
             "#9c179e"
            ],
            [
             0.4444444444444444,
             "#bd3786"
            ],
            [
             0.5555555555555556,
             "#d8576b"
            ],
            [
             0.6666666666666666,
             "#ed7953"
            ],
            [
             0.7777777777777778,
             "#fb9f3a"
            ],
            [
             0.8888888888888888,
             "#fdca26"
            ],
            [
             1,
             "#f0f921"
            ]
           ],
           "sequentialminus": [
            [
             0,
             "#0d0887"
            ],
            [
             0.1111111111111111,
             "#46039f"
            ],
            [
             0.2222222222222222,
             "#7201a8"
            ],
            [
             0.3333333333333333,
             "#9c179e"
            ],
            [
             0.4444444444444444,
             "#bd3786"
            ],
            [
             0.5555555555555556,
             "#d8576b"
            ],
            [
             0.6666666666666666,
             "#ed7953"
            ],
            [
             0.7777777777777778,
             "#fb9f3a"
            ],
            [
             0.8888888888888888,
             "#fdca26"
            ],
            [
             1,
             "#f0f921"
            ]
           ]
          },
          "colorway": [
           "#636efa",
           "#EF553B",
           "#00cc96",
           "#ab63fa",
           "#FFA15A",
           "#19d3f3",
           "#FF6692",
           "#B6E880",
           "#FF97FF",
           "#FECB52"
          ],
          "font": {
           "color": "#2a3f5f"
          },
          "geo": {
           "bgcolor": "white",
           "lakecolor": "white",
           "landcolor": "#E5ECF6",
           "showlakes": true,
           "showland": true,
           "subunitcolor": "white"
          },
          "hoverlabel": {
           "align": "left"
          },
          "hovermode": "closest",
          "mapbox": {
           "style": "light"
          },
          "paper_bgcolor": "white",
          "plot_bgcolor": "#E5ECF6",
          "polar": {
           "angularaxis": {
            "gridcolor": "white",
            "linecolor": "white",
            "ticks": ""
           },
           "bgcolor": "#E5ECF6",
           "radialaxis": {
            "gridcolor": "white",
            "linecolor": "white",
            "ticks": ""
           }
          },
          "scene": {
           "xaxis": {
            "backgroundcolor": "#E5ECF6",
            "gridcolor": "white",
            "gridwidth": 2,
            "linecolor": "white",
            "showbackground": true,
            "ticks": "",
            "zerolinecolor": "white"
           },
           "yaxis": {
            "backgroundcolor": "#E5ECF6",
            "gridcolor": "white",
            "gridwidth": 2,
            "linecolor": "white",
            "showbackground": true,
            "ticks": "",
            "zerolinecolor": "white"
           },
           "zaxis": {
            "backgroundcolor": "#E5ECF6",
            "gridcolor": "white",
            "gridwidth": 2,
            "linecolor": "white",
            "showbackground": true,
            "ticks": "",
            "zerolinecolor": "white"
           }
          },
          "shapedefaults": {
           "line": {
            "color": "#2a3f5f"
           }
          },
          "ternary": {
           "aaxis": {
            "gridcolor": "white",
            "linecolor": "white",
            "ticks": ""
           },
           "baxis": {
            "gridcolor": "white",
            "linecolor": "white",
            "ticks": ""
           },
           "bgcolor": "#E5ECF6",
           "caxis": {
            "gridcolor": "white",
            "linecolor": "white",
            "ticks": ""
           }
          },
          "title": {
           "x": 0.05
          },
          "xaxis": {
           "automargin": true,
           "gridcolor": "white",
           "linecolor": "white",
           "ticks": "",
           "title": {
            "standoff": 15
           },
           "zerolinecolor": "white",
           "zerolinewidth": 2
          },
          "yaxis": {
           "automargin": true,
           "gridcolor": "white",
           "linecolor": "white",
           "ticks": "",
           "title": {
            "standoff": 15
           },
           "zerolinecolor": "white",
           "zerolinewidth": 2
          }
         }
        }
       }
      }
     },
     "metadata": {},
     "output_type": "display_data"
    }
   ],
   "source": [
    "sorted_df = pd.DataFrame({'node_id': np.zeros(len(unique_points_df)), 'lat': 0, 'lon': 0})\n",
    "\n",
    "for i, node_id in enumerate(sequences[first]):\n",
    "    sorted_df.iloc[i] = [node_id, unique_points_df.loc[node_id, 'lat'], unique_points_df.loc[node_id, 'lon']]\n",
    "\n",
    "import plotly.express as px\n",
    "\n",
    "fig = px.line_mapbox(unique_points_df, lat=\"lat\", lon=\"lon\", zoom=3, height=300)\n",
    "\n",
    "fig.update_layout(mapbox_style=\"stamen-terrain\", mapbox_zoom=4, mapbox_center_lat = 41,\n",
    "    margin={\"r\":0,\"t\":0,\"l\":0,\"b\":0})\n",
    "\n",
    "fig.show()"
   ]
  },
  {
   "cell_type": "code",
   "execution_count": 111,
   "metadata": {},
   "outputs": [
    {
     "data": {
      "text/html": [
       "<div>\n",
       "<style scoped>\n",
       "    .dataframe tbody tr th:only-of-type {\n",
       "        vertical-align: middle;\n",
       "    }\n",
       "\n",
       "    .dataframe tbody tr th {\n",
       "        vertical-align: top;\n",
       "    }\n",
       "\n",
       "    .dataframe thead th {\n",
       "        text-align: right;\n",
       "    }\n",
       "</style>\n",
       "<table border=\"1\" class=\"dataframe\">\n",
       "  <thead>\n",
       "    <tr style=\"text-align: right;\">\n",
       "      <th></th>\n",
       "      <th>Id</th>\n",
       "      <th>running_time</th>\n",
       "      <th>completed_time</th>\n",
       "      <th>route_distance_km</th>\n",
       "      <th>delta_time</th>\n",
       "    </tr>\n",
       "  </thead>\n",
       "  <tbody>\n",
       "    <tr>\n",
       "      <th>0</th>\n",
       "      <td>-4773019581999572651</td>\n",
       "      <td>2022-01-24 18:30:21</td>\n",
       "      <td>2022-01-24 18:44:43</td>\n",
       "      <td>3.740</td>\n",
       "      <td>862.0</td>\n",
       "    </tr>\n",
       "    <tr>\n",
       "      <th>1</th>\n",
       "      <td>-7575630690398473489</td>\n",
       "      <td>2022-01-24 06:53:53</td>\n",
       "      <td>2022-01-24 07:06:26</td>\n",
       "      <td>3.526</td>\n",
       "      <td>753.0</td>\n",
       "    </tr>\n",
       "    <tr>\n",
       "      <th>2</th>\n",
       "      <td>-6264582368520213833</td>\n",
       "      <td>2022-01-24 10:00:59</td>\n",
       "      <td>2022-01-24 10:15:58</td>\n",
       "      <td>5.071</td>\n",
       "      <td>899.0</td>\n",
       "    </tr>\n",
       "    <tr>\n",
       "      <th>3</th>\n",
       "      <td>5964315354301636538</td>\n",
       "      <td>2022-01-24 14:28:05</td>\n",
       "      <td>2022-01-24 14:35:08</td>\n",
       "      <td>2.867</td>\n",
       "      <td>423.0</td>\n",
       "    </tr>\n",
       "    <tr>\n",
       "      <th>4</th>\n",
       "      <td>1372379574816145639</td>\n",
       "      <td>2022-01-24 11:57:29</td>\n",
       "      <td>2022-01-24 12:06:29</td>\n",
       "      <td>3.751</td>\n",
       "      <td>540.0</td>\n",
       "    </tr>\n",
       "  </tbody>\n",
       "</table>\n",
       "</div>"
      ],
      "text/plain": [
       "                    Id         running_time       completed_time  \\\n",
       "0 -4773019581999572651  2022-01-24 18:30:21  2022-01-24 18:44:43   \n",
       "1 -7575630690398473489  2022-01-24 06:53:53  2022-01-24 07:06:26   \n",
       "2 -6264582368520213833  2022-01-24 10:00:59  2022-01-24 10:15:58   \n",
       "3  5964315354301636538  2022-01-24 14:28:05  2022-01-24 14:35:08   \n",
       "4  1372379574816145639  2022-01-24 11:57:29  2022-01-24 12:06:29   \n",
       "\n",
       "   route_distance_km  delta_time  \n",
       "0              3.740       862.0  \n",
       "1              3.526       753.0  \n",
       "2              5.071       899.0  \n",
       "3              2.867       423.0  \n",
       "4              3.751       540.0  "
      ]
     },
     "execution_count": 111,
     "metadata": {},
     "output_type": "execute_result"
    }
   ],
   "source": [
    "orders.head()"
   ]
  },
  {
   "cell_type": "code",
   "execution_count": 222,
   "metadata": {},
   "outputs": [
    {
     "data": {
      "text/plain": [
       "lat                46.468524\n",
       "lon                30.738275\n",
       "visible             1.000000\n",
       "relations_count     0.000000\n",
       "ways_count          0.000000\n",
       "Name: 8952432742, dtype: float64"
      ]
     },
     "execution_count": 222,
     "metadata": {},
     "output_type": "execute_result"
    }
   ],
   "source": [
    "nodes_info.loc[8952432742]"
   ]
  },
  {
   "cell_type": "code",
   "execution_count": 113,
   "metadata": {},
   "outputs": [
    {
     "data": {
      "text/html": [
       "<div>\n",
       "<style scoped>\n",
       "    .dataframe tbody tr th:only-of-type {\n",
       "        vertical-align: middle;\n",
       "    }\n",
       "\n",
       "    .dataframe tbody tr th {\n",
       "        vertical-align: top;\n",
       "    }\n",
       "\n",
       "    .dataframe thead th {\n",
       "        text-align: right;\n",
       "    }\n",
       "</style>\n",
       "<table border=\"1\" class=\"dataframe\">\n",
       "  <thead>\n",
       "    <tr style=\"text-align: right;\">\n",
       "      <th></th>\n",
       "      <th>lat</th>\n",
       "      <th>lon</th>\n",
       "      <th>visible</th>\n",
       "      <th>relations_count</th>\n",
       "      <th>ways_count</th>\n",
       "    </tr>\n",
       "    <tr>\n",
       "      <th>node_id</th>\n",
       "      <th></th>\n",
       "      <th></th>\n",
       "      <th></th>\n",
       "      <th></th>\n",
       "      <th></th>\n",
       "    </tr>\n",
       "  </thead>\n",
       "  <tbody>\n",
       "    <tr>\n",
       "      <th>10980417</th>\n",
       "      <td>46.468524</td>\n",
       "      <td>30.738275</td>\n",
       "      <td>1</td>\n",
       "      <td>0</td>\n",
       "      <td>3</td>\n",
       "    </tr>\n",
       "    <tr>\n",
       "      <th>10980418</th>\n",
       "      <td>46.469605</td>\n",
       "      <td>30.738516</td>\n",
       "      <td>1</td>\n",
       "      <td>0</td>\n",
       "      <td>2</td>\n",
       "    </tr>\n",
       "    <tr>\n",
       "      <th>10980419</th>\n",
       "      <td>46.469758</td>\n",
       "      <td>30.736733</td>\n",
       "      <td>1</td>\n",
       "      <td>0</td>\n",
       "      <td>4</td>\n",
       "    </tr>\n",
       "    <tr>\n",
       "      <th>10980421</th>\n",
       "      <td>46.471836</td>\n",
       "      <td>30.730899</td>\n",
       "      <td>1</td>\n",
       "      <td>0</td>\n",
       "      <td>2</td>\n",
       "    </tr>\n",
       "    <tr>\n",
       "      <th>10980422</th>\n",
       "      <td>46.473256</td>\n",
       "      <td>30.731101</td>\n",
       "      <td>1</td>\n",
       "      <td>0</td>\n",
       "      <td>2</td>\n",
       "    </tr>\n",
       "    <tr>\n",
       "      <th>...</th>\n",
       "      <td>...</td>\n",
       "      <td>...</td>\n",
       "      <td>...</td>\n",
       "      <td>...</td>\n",
       "      <td>...</td>\n",
       "    </tr>\n",
       "    <tr>\n",
       "      <th>8952432738</th>\n",
       "      <td>46.468524</td>\n",
       "      <td>30.738275</td>\n",
       "      <td>1</td>\n",
       "      <td>0</td>\n",
       "      <td>0</td>\n",
       "    </tr>\n",
       "    <tr>\n",
       "      <th>8952432739</th>\n",
       "      <td>46.468524</td>\n",
       "      <td>30.738275</td>\n",
       "      <td>1</td>\n",
       "      <td>0</td>\n",
       "      <td>0</td>\n",
       "    </tr>\n",
       "    <tr>\n",
       "      <th>8952432740</th>\n",
       "      <td>46.468524</td>\n",
       "      <td>30.738275</td>\n",
       "      <td>1</td>\n",
       "      <td>0</td>\n",
       "      <td>0</td>\n",
       "    </tr>\n",
       "    <tr>\n",
       "      <th>8952432741</th>\n",
       "      <td>46.468524</td>\n",
       "      <td>30.738275</td>\n",
       "      <td>1</td>\n",
       "      <td>0</td>\n",
       "      <td>0</td>\n",
       "    </tr>\n",
       "    <tr>\n",
       "      <th>8952432742</th>\n",
       "      <td>46.468524</td>\n",
       "      <td>30.738275</td>\n",
       "      <td>1</td>\n",
       "      <td>0</td>\n",
       "      <td>0</td>\n",
       "    </tr>\n",
       "  </tbody>\n",
       "</table>\n",
       "<p>19371 rows × 5 columns</p>\n",
       "</div>"
      ],
      "text/plain": [
       "                  lat        lon  visible  relations_count  ways_count\n",
       "node_id                                                               \n",
       "10980417    46.468524  30.738275        1                0           3\n",
       "10980418    46.469605  30.738516        1                0           2\n",
       "10980419    46.469758  30.736733        1                0           4\n",
       "10980421    46.471836  30.730899        1                0           2\n",
       "10980422    46.473256  30.731101        1                0           2\n",
       "...               ...        ...      ...              ...         ...\n",
       "8952432738  46.468524  30.738275        1                0           0\n",
       "8952432739  46.468524  30.738275        1                0           0\n",
       "8952432740  46.468524  30.738275        1                0           0\n",
       "8952432741  46.468524  30.738275        1                0           0\n",
       "8952432742  46.468524  30.738275        1                0           0\n",
       "\n",
       "[19371 rows x 5 columns]"
      ]
     },
     "execution_count": 113,
     "metadata": {},
     "output_type": "execute_result"
    }
   ],
   "source": [
    "max_lon = 30.862736\n",
    "min_lon = 30.511882\n",
    "max_lat = 46.618659\n",
    "min_lat = 46.296001\n",
    "\n",
    "valid_nodes_info = nodes_info[((nodes_info['lon'] > min_lon) & (nodes_info['lon'] < max_lon) & (nodes_info['lat'] > min_lat) & (nodes_info['lat'] < max_lat))]\n",
    "valid_nodes_info"
   ]
  },
  {
   "cell_type": "code",
   "execution_count": 121,
   "metadata": {},
   "outputs": [
    {
     "data": {
      "text/html": [
       "<div>\n",
       "<style scoped>\n",
       "    .dataframe tbody tr th:only-of-type {\n",
       "        vertical-align: middle;\n",
       "    }\n",
       "\n",
       "    .dataframe tbody tr th {\n",
       "        vertical-align: top;\n",
       "    }\n",
       "\n",
       "    .dataframe thead th {\n",
       "        text-align: right;\n",
       "    }\n",
       "</style>\n",
       "<table border=\"1\" class=\"dataframe\">\n",
       "  <thead>\n",
       "    <tr style=\"text-align: right;\">\n",
       "      <th></th>\n",
       "      <th>Id</th>\n",
       "      <th>node_start</th>\n",
       "      <th>node_finish</th>\n",
       "      <th>distance</th>\n",
       "      <th>speed</th>\n",
       "    </tr>\n",
       "  </thead>\n",
       "  <tbody>\n",
       "    <tr>\n",
       "      <th>0</th>\n",
       "      <td>-2627062893189810184</td>\n",
       "      <td>10980432</td>\n",
       "      <td>2133368107</td>\n",
       "      <td>17.414917</td>\n",
       "      <td>32.0</td>\n",
       "    </tr>\n",
       "    <tr>\n",
       "      <th>1</th>\n",
       "      <td>-2627062893189810184</td>\n",
       "      <td>10980433</td>\n",
       "      <td>5212387954</td>\n",
       "      <td>17.186539</td>\n",
       "      <td>26.0</td>\n",
       "    </tr>\n",
       "    <tr>\n",
       "      <th>2</th>\n",
       "      <td>-2627062893189810184</td>\n",
       "      <td>10980445</td>\n",
       "      <td>5221700954</td>\n",
       "      <td>28.513481</td>\n",
       "      <td>26.0</td>\n",
       "    </tr>\n",
       "    <tr>\n",
       "      <th>3</th>\n",
       "      <td>-2627062893189810184</td>\n",
       "      <td>10980498</td>\n",
       "      <td>10980445</td>\n",
       "      <td>154.266122</td>\n",
       "      <td>25.0</td>\n",
       "    </tr>\n",
       "    <tr>\n",
       "      <th>4</th>\n",
       "      <td>-2627062893189810184</td>\n",
       "      <td>10980647</td>\n",
       "      <td>1986137911</td>\n",
       "      <td>8.542824</td>\n",
       "      <td>29.0</td>\n",
       "    </tr>\n",
       "    <tr>\n",
       "      <th>...</th>\n",
       "      <td>...</td>\n",
       "      <td>...</td>\n",
       "      <td>...</td>\n",
       "      <td>...</td>\n",
       "      <td>...</td>\n",
       "    </tr>\n",
       "    <tr>\n",
       "      <th>480281</th>\n",
       "      <td>-8229597404562288405</td>\n",
       "      <td>4439629611</td>\n",
       "      <td>317187499</td>\n",
       "      <td>157.791878</td>\n",
       "      <td>19.0</td>\n",
       "    </tr>\n",
       "    <tr>\n",
       "      <th>480282</th>\n",
       "      <td>-8229597404562288405</td>\n",
       "      <td>4768348190</td>\n",
       "      <td>7113286188</td>\n",
       "      <td>50.972612</td>\n",
       "      <td>21.0</td>\n",
       "    </tr>\n",
       "    <tr>\n",
       "      <th>480283</th>\n",
       "      <td>-8229597404562288405</td>\n",
       "      <td>4768348195</td>\n",
       "      <td>4768348190</td>\n",
       "      <td>89.120989</td>\n",
       "      <td>22.0</td>\n",
       "    </tr>\n",
       "    <tr>\n",
       "      <th>480284</th>\n",
       "      <td>-8229597404562288405</td>\n",
       "      <td>4768348532</td>\n",
       "      <td>4768348195</td>\n",
       "      <td>116.657109</td>\n",
       "      <td>25.0</td>\n",
       "    </tr>\n",
       "    <tr>\n",
       "      <th>480285</th>\n",
       "      <td>-8229597404562288405</td>\n",
       "      <td>7113286188</td>\n",
       "      <td>317199422</td>\n",
       "      <td>27.658725</td>\n",
       "      <td>19.0</td>\n",
       "    </tr>\n",
       "  </tbody>\n",
       "</table>\n",
       "<p>440952 rows × 5 columns</p>\n",
       "</div>"
      ],
      "text/plain": [
       "                         Id  node_start  node_finish    distance  speed\n",
       "0      -2627062893189810184    10980432   2133368107   17.414917   32.0\n",
       "1      -2627062893189810184    10980433   5212387954   17.186539   26.0\n",
       "2      -2627062893189810184    10980445   5221700954   28.513481   26.0\n",
       "3      -2627062893189810184    10980498     10980445  154.266122   25.0\n",
       "4      -2627062893189810184    10980647   1986137911    8.542824   29.0\n",
       "...                     ...         ...          ...         ...    ...\n",
       "480281 -8229597404562288405  4439629611    317187499  157.791878   19.0\n",
       "480282 -8229597404562288405  4768348190   7113286188   50.972612   21.0\n",
       "480283 -8229597404562288405  4768348195   4768348190   89.120989   22.0\n",
       "480284 -8229597404562288405  4768348532   4768348195  116.657109   25.0\n",
       "480285 -8229597404562288405  7113286188    317199422   27.658725   19.0\n",
       "\n",
       "[440952 rows x 5 columns]"
      ]
     },
     "execution_count": 121,
     "metadata": {},
     "output_type": "execute_result"
    }
   ],
   "source": [
    "filtered_nodes = nodes[(nodes['node_start'].isin(valid_nodes_info.index)) & (nodes['node_finish'].isin(valid_nodes_info.index))]\n",
    "filtered_nodes"
   ]
  },
  {
   "cell_type": "code",
   "execution_count": 220,
   "metadata": {},
   "outputs": [],
   "source": [
    "valid_nodes_info.to_csv('valid_nodes_info.csv')"
   ]
  },
  {
   "cell_type": "code",
   "execution_count": 123,
   "metadata": {},
   "outputs": [
    {
     "data": {
      "text/html": [
       "<div>\n",
       "<style scoped>\n",
       "    .dataframe tbody tr th:only-of-type {\n",
       "        vertical-align: middle;\n",
       "    }\n",
       "\n",
       "    .dataframe tbody tr th {\n",
       "        vertical-align: top;\n",
       "    }\n",
       "\n",
       "    .dataframe thead th {\n",
       "        text-align: right;\n",
       "    }\n",
       "</style>\n",
       "<table border=\"1\" class=\"dataframe\">\n",
       "  <thead>\n",
       "    <tr style=\"text-align: right;\">\n",
       "      <th></th>\n",
       "      <th>Id</th>\n",
       "      <th>node_start</th>\n",
       "      <th>node_finish</th>\n",
       "      <th>distance</th>\n",
       "      <th>speed</th>\n",
       "      <th>node_start_lat</th>\n",
       "      <th>node_start_lon</th>\n",
       "    </tr>\n",
       "  </thead>\n",
       "  <tbody>\n",
       "    <tr>\n",
       "      <th>0</th>\n",
       "      <td>-2627062893189810184</td>\n",
       "      <td>10980432</td>\n",
       "      <td>2133368107</td>\n",
       "      <td>17.414917</td>\n",
       "      <td>32.0</td>\n",
       "      <td>46.472665</td>\n",
       "      <td>30.739248</td>\n",
       "    </tr>\n",
       "    <tr>\n",
       "      <th>1</th>\n",
       "      <td>-2627062893189810184</td>\n",
       "      <td>10980433</td>\n",
       "      <td>5212387954</td>\n",
       "      <td>17.186539</td>\n",
       "      <td>26.0</td>\n",
       "      <td>46.472507</td>\n",
       "      <td>30.741320</td>\n",
       "    </tr>\n",
       "    <tr>\n",
       "      <th>2</th>\n",
       "      <td>-2627062893189810184</td>\n",
       "      <td>10980445</td>\n",
       "      <td>5221700954</td>\n",
       "      <td>28.513481</td>\n",
       "      <td>26.0</td>\n",
       "      <td>46.472086</td>\n",
       "      <td>30.747110</td>\n",
       "    </tr>\n",
       "    <tr>\n",
       "      <th>3</th>\n",
       "      <td>-2627062893189810184</td>\n",
       "      <td>10980498</td>\n",
       "      <td>10980445</td>\n",
       "      <td>154.266122</td>\n",
       "      <td>25.0</td>\n",
       "      <td>46.471949</td>\n",
       "      <td>30.749114</td>\n",
       "    </tr>\n",
       "    <tr>\n",
       "      <th>4</th>\n",
       "      <td>-2627062893189810184</td>\n",
       "      <td>10980647</td>\n",
       "      <td>1986137911</td>\n",
       "      <td>8.542824</td>\n",
       "      <td>29.0</td>\n",
       "      <td>46.473095</td>\n",
       "      <td>30.753937</td>\n",
       "    </tr>\n",
       "    <tr>\n",
       "      <th>...</th>\n",
       "      <td>...</td>\n",
       "      <td>...</td>\n",
       "      <td>...</td>\n",
       "      <td>...</td>\n",
       "      <td>...</td>\n",
       "      <td>...</td>\n",
       "      <td>...</td>\n",
       "    </tr>\n",
       "    <tr>\n",
       "      <th>480281</th>\n",
       "      <td>-8229597404562288405</td>\n",
       "      <td>4439629611</td>\n",
       "      <td>317187499</td>\n",
       "      <td>157.791878</td>\n",
       "      <td>19.0</td>\n",
       "      <td>46.481959</td>\n",
       "      <td>30.719659</td>\n",
       "    </tr>\n",
       "    <tr>\n",
       "      <th>480282</th>\n",
       "      <td>-8229597404562288405</td>\n",
       "      <td>4768348190</td>\n",
       "      <td>7113286188</td>\n",
       "      <td>50.972612</td>\n",
       "      <td>21.0</td>\n",
       "      <td>46.472319</td>\n",
       "      <td>30.719530</td>\n",
       "    </tr>\n",
       "    <tr>\n",
       "      <th>480283</th>\n",
       "      <td>-8229597404562288405</td>\n",
       "      <td>4768348195</td>\n",
       "      <td>4768348190</td>\n",
       "      <td>89.120989</td>\n",
       "      <td>22.0</td>\n",
       "      <td>46.471727</td>\n",
       "      <td>30.718746</td>\n",
       "    </tr>\n",
       "    <tr>\n",
       "      <th>480284</th>\n",
       "      <td>-8229597404562288405</td>\n",
       "      <td>4768348532</td>\n",
       "      <td>4768348195</td>\n",
       "      <td>116.657109</td>\n",
       "      <td>25.0</td>\n",
       "      <td>46.470939</td>\n",
       "      <td>30.717741</td>\n",
       "    </tr>\n",
       "    <tr>\n",
       "      <th>480285</th>\n",
       "      <td>-8229597404562288405</td>\n",
       "      <td>7113286188</td>\n",
       "      <td>317199422</td>\n",
       "      <td>27.658725</td>\n",
       "      <td>19.0</td>\n",
       "      <td>46.472664</td>\n",
       "      <td>30.719968</td>\n",
       "    </tr>\n",
       "  </tbody>\n",
       "</table>\n",
       "<p>440952 rows × 7 columns</p>\n",
       "</div>"
      ],
      "text/plain": [
       "                         Id  node_start  node_finish    distance  speed  \\\n",
       "0      -2627062893189810184    10980432   2133368107   17.414917   32.0   \n",
       "1      -2627062893189810184    10980433   5212387954   17.186539   26.0   \n",
       "2      -2627062893189810184    10980445   5221700954   28.513481   26.0   \n",
       "3      -2627062893189810184    10980498     10980445  154.266122   25.0   \n",
       "4      -2627062893189810184    10980647   1986137911    8.542824   29.0   \n",
       "...                     ...         ...          ...         ...    ...   \n",
       "480281 -8229597404562288405  4439629611    317187499  157.791878   19.0   \n",
       "480282 -8229597404562288405  4768348190   7113286188   50.972612   21.0   \n",
       "480283 -8229597404562288405  4768348195   4768348190   89.120989   22.0   \n",
       "480284 -8229597404562288405  4768348532   4768348195  116.657109   25.0   \n",
       "480285 -8229597404562288405  7113286188    317199422   27.658725   19.0   \n",
       "\n",
       "        node_start_lat  node_start_lon  \n",
       "0            46.472665       30.739248  \n",
       "1            46.472507       30.741320  \n",
       "2            46.472086       30.747110  \n",
       "3            46.471949       30.749114  \n",
       "4            46.473095       30.753937  \n",
       "...                ...             ...  \n",
       "480281       46.481959       30.719659  \n",
       "480282       46.472319       30.719530  \n",
       "480283       46.471727       30.718746  \n",
       "480284       46.470939       30.717741  \n",
       "480285       46.472664       30.719968  \n",
       "\n",
       "[440952 rows x 7 columns]"
      ]
     },
     "execution_count": 123,
     "metadata": {},
     "output_type": "execute_result"
    }
   ],
   "source": [
    "filtered_nodes = filtered_nodes.join(valid_nodes_info.loc[filtered_nodes['node_start'].unique(), ['lat', 'lon']], on='node_start', rsuffix='node_start')\n",
    "filtered_nodes = filtered_nodes.rename({'lat': 'node_start_lat', 'lon': 'node_start_lon'}, axis=1)\n",
    "filtered_nodes"
   ]
  },
  {
   "cell_type": "code",
   "execution_count": 124,
   "metadata": {},
   "outputs": [
    {
     "data": {
      "text/html": [
       "<div>\n",
       "<style scoped>\n",
       "    .dataframe tbody tr th:only-of-type {\n",
       "        vertical-align: middle;\n",
       "    }\n",
       "\n",
       "    .dataframe tbody tr th {\n",
       "        vertical-align: top;\n",
       "    }\n",
       "\n",
       "    .dataframe thead th {\n",
       "        text-align: right;\n",
       "    }\n",
       "</style>\n",
       "<table border=\"1\" class=\"dataframe\">\n",
       "  <thead>\n",
       "    <tr style=\"text-align: right;\">\n",
       "      <th></th>\n",
       "      <th>Id</th>\n",
       "      <th>node_start</th>\n",
       "      <th>node_finish</th>\n",
       "      <th>distance</th>\n",
       "      <th>speed</th>\n",
       "      <th>node_start_lat</th>\n",
       "      <th>node_start_lon</th>\n",
       "      <th>node_finish_lat</th>\n",
       "      <th>node_finish_lon</th>\n",
       "    </tr>\n",
       "  </thead>\n",
       "  <tbody>\n",
       "    <tr>\n",
       "      <th>0</th>\n",
       "      <td>-2627062893189810184</td>\n",
       "      <td>10980432</td>\n",
       "      <td>2133368107</td>\n",
       "      <td>17.414917</td>\n",
       "      <td>32.0</td>\n",
       "      <td>46.472665</td>\n",
       "      <td>30.739248</td>\n",
       "      <td>46.472682</td>\n",
       "      <td>30.739022</td>\n",
       "    </tr>\n",
       "    <tr>\n",
       "      <th>1</th>\n",
       "      <td>-2627062893189810184</td>\n",
       "      <td>10980433</td>\n",
       "      <td>5212387954</td>\n",
       "      <td>17.186539</td>\n",
       "      <td>26.0</td>\n",
       "      <td>46.472507</td>\n",
       "      <td>30.741320</td>\n",
       "      <td>46.472524</td>\n",
       "      <td>30.741097</td>\n",
       "    </tr>\n",
       "    <tr>\n",
       "      <th>2</th>\n",
       "      <td>-2627062893189810184</td>\n",
       "      <td>10980445</td>\n",
       "      <td>5221700954</td>\n",
       "      <td>28.513481</td>\n",
       "      <td>26.0</td>\n",
       "      <td>46.472086</td>\n",
       "      <td>30.747110</td>\n",
       "      <td>46.472114</td>\n",
       "      <td>30.746740</td>\n",
       "    </tr>\n",
       "    <tr>\n",
       "      <th>3</th>\n",
       "      <td>-2627062893189810184</td>\n",
       "      <td>10980498</td>\n",
       "      <td>10980445</td>\n",
       "      <td>154.266122</td>\n",
       "      <td>25.0</td>\n",
       "      <td>46.471949</td>\n",
       "      <td>30.749114</td>\n",
       "      <td>46.472086</td>\n",
       "      <td>30.747110</td>\n",
       "    </tr>\n",
       "    <tr>\n",
       "      <th>4</th>\n",
       "      <td>-2627062893189810184</td>\n",
       "      <td>10980647</td>\n",
       "      <td>1986137911</td>\n",
       "      <td>8.542824</td>\n",
       "      <td>29.0</td>\n",
       "      <td>46.473095</td>\n",
       "      <td>30.753937</td>\n",
       "      <td>46.473020</td>\n",
       "      <td>30.753921</td>\n",
       "    </tr>\n",
       "    <tr>\n",
       "      <th>...</th>\n",
       "      <td>...</td>\n",
       "      <td>...</td>\n",
       "      <td>...</td>\n",
       "      <td>...</td>\n",
       "      <td>...</td>\n",
       "      <td>...</td>\n",
       "      <td>...</td>\n",
       "      <td>...</td>\n",
       "      <td>...</td>\n",
       "    </tr>\n",
       "    <tr>\n",
       "      <th>480281</th>\n",
       "      <td>-8229597404562288405</td>\n",
       "      <td>4439629611</td>\n",
       "      <td>317187499</td>\n",
       "      <td>157.791878</td>\n",
       "      <td>19.0</td>\n",
       "      <td>46.481959</td>\n",
       "      <td>30.719659</td>\n",
       "      <td>46.483349</td>\n",
       "      <td>30.719247</td>\n",
       "    </tr>\n",
       "    <tr>\n",
       "      <th>480282</th>\n",
       "      <td>-8229597404562288405</td>\n",
       "      <td>4768348190</td>\n",
       "      <td>7113286188</td>\n",
       "      <td>50.972612</td>\n",
       "      <td>21.0</td>\n",
       "      <td>46.472319</td>\n",
       "      <td>30.719530</td>\n",
       "      <td>46.472664</td>\n",
       "      <td>30.719968</td>\n",
       "    </tr>\n",
       "    <tr>\n",
       "      <th>480283</th>\n",
       "      <td>-8229597404562288405</td>\n",
       "      <td>4768348195</td>\n",
       "      <td>4768348190</td>\n",
       "      <td>89.120989</td>\n",
       "      <td>22.0</td>\n",
       "      <td>46.471727</td>\n",
       "      <td>30.718746</td>\n",
       "      <td>46.472319</td>\n",
       "      <td>30.719530</td>\n",
       "    </tr>\n",
       "    <tr>\n",
       "      <th>480284</th>\n",
       "      <td>-8229597404562288405</td>\n",
       "      <td>4768348532</td>\n",
       "      <td>4768348195</td>\n",
       "      <td>116.657109</td>\n",
       "      <td>25.0</td>\n",
       "      <td>46.470939</td>\n",
       "      <td>30.717741</td>\n",
       "      <td>46.471727</td>\n",
       "      <td>30.718746</td>\n",
       "    </tr>\n",
       "    <tr>\n",
       "      <th>480285</th>\n",
       "      <td>-8229597404562288405</td>\n",
       "      <td>7113286188</td>\n",
       "      <td>317199422</td>\n",
       "      <td>27.658725</td>\n",
       "      <td>19.0</td>\n",
       "      <td>46.472664</td>\n",
       "      <td>30.719968</td>\n",
       "      <td>46.472851</td>\n",
       "      <td>30.720206</td>\n",
       "    </tr>\n",
       "  </tbody>\n",
       "</table>\n",
       "<p>440952 rows × 9 columns</p>\n",
       "</div>"
      ],
      "text/plain": [
       "                         Id  node_start  node_finish    distance  speed  \\\n",
       "0      -2627062893189810184    10980432   2133368107   17.414917   32.0   \n",
       "1      -2627062893189810184    10980433   5212387954   17.186539   26.0   \n",
       "2      -2627062893189810184    10980445   5221700954   28.513481   26.0   \n",
       "3      -2627062893189810184    10980498     10980445  154.266122   25.0   \n",
       "4      -2627062893189810184    10980647   1986137911    8.542824   29.0   \n",
       "...                     ...         ...          ...         ...    ...   \n",
       "480281 -8229597404562288405  4439629611    317187499  157.791878   19.0   \n",
       "480282 -8229597404562288405  4768348190   7113286188   50.972612   21.0   \n",
       "480283 -8229597404562288405  4768348195   4768348190   89.120989   22.0   \n",
       "480284 -8229597404562288405  4768348532   4768348195  116.657109   25.0   \n",
       "480285 -8229597404562288405  7113286188    317199422   27.658725   19.0   \n",
       "\n",
       "        node_start_lat  node_start_lon  node_finish_lat  node_finish_lon  \n",
       "0            46.472665       30.739248        46.472682        30.739022  \n",
       "1            46.472507       30.741320        46.472524        30.741097  \n",
       "2            46.472086       30.747110        46.472114        30.746740  \n",
       "3            46.471949       30.749114        46.472086        30.747110  \n",
       "4            46.473095       30.753937        46.473020        30.753921  \n",
       "...                ...             ...              ...              ...  \n",
       "480281       46.481959       30.719659        46.483349        30.719247  \n",
       "480282       46.472319       30.719530        46.472664        30.719968  \n",
       "480283       46.471727       30.718746        46.472319        30.719530  \n",
       "480284       46.470939       30.717741        46.471727        30.718746  \n",
       "480285       46.472664       30.719968        46.472851        30.720206  \n",
       "\n",
       "[440952 rows x 9 columns]"
      ]
     },
     "execution_count": 124,
     "metadata": {},
     "output_type": "execute_result"
    }
   ],
   "source": [
    "filtered_nodes = filtered_nodes.join(valid_nodes_info.loc[filtered_nodes['node_finish'].unique(), ['lat', 'lon']], on='node_finish', rsuffix='node_finish')\n",
    "filtered_nodes = filtered_nodes.rename({'lat': 'node_finish_lat', 'lon': 'node_finish_lon'}, axis=1)\n",
    "filtered_nodes"
   ]
  },
  {
   "cell_type": "code",
   "execution_count": 127,
   "metadata": {},
   "outputs": [],
   "source": [
    "filtered_nodes['haversine'] = filtered_nodes.apply(haversine_row, axis = 1)*1000"
   ]
  },
  {
   "cell_type": "code",
   "execution_count": 129,
   "metadata": {},
   "outputs": [
    {
     "data": {
      "text/html": [
       "<div>\n",
       "<style scoped>\n",
       "    .dataframe tbody tr th:only-of-type {\n",
       "        vertical-align: middle;\n",
       "    }\n",
       "\n",
       "    .dataframe tbody tr th {\n",
       "        vertical-align: top;\n",
       "    }\n",
       "\n",
       "    .dataframe thead th {\n",
       "        text-align: right;\n",
       "    }\n",
       "</style>\n",
       "<table border=\"1\" class=\"dataframe\">\n",
       "  <thead>\n",
       "    <tr style=\"text-align: right;\">\n",
       "      <th></th>\n",
       "      <th>Id</th>\n",
       "      <th>node_start</th>\n",
       "      <th>node_finish</th>\n",
       "      <th>distance</th>\n",
       "      <th>speed</th>\n",
       "      <th>node_start_lat</th>\n",
       "      <th>node_start_lon</th>\n",
       "      <th>node_finish_lat</th>\n",
       "      <th>node_finish_lon</th>\n",
       "      <th>haversine</th>\n",
       "    </tr>\n",
       "  </thead>\n",
       "  <tbody>\n",
       "    <tr>\n",
       "      <th>0</th>\n",
       "      <td>-2627062893189810184</td>\n",
       "      <td>10980432</td>\n",
       "      <td>2133368107</td>\n",
       "      <td>17.414917</td>\n",
       "      <td>32.0</td>\n",
       "      <td>46.472665</td>\n",
       "      <td>30.739248</td>\n",
       "      <td>46.472682</td>\n",
       "      <td>30.739022</td>\n",
       "      <td>17.396263</td>\n",
       "    </tr>\n",
       "    <tr>\n",
       "      <th>1</th>\n",
       "      <td>-2627062893189810184</td>\n",
       "      <td>10980433</td>\n",
       "      <td>5212387954</td>\n",
       "      <td>17.186539</td>\n",
       "      <td>26.0</td>\n",
       "      <td>46.472507</td>\n",
       "      <td>30.741320</td>\n",
       "      <td>46.472524</td>\n",
       "      <td>30.741097</td>\n",
       "      <td>17.191515</td>\n",
       "    </tr>\n",
       "    <tr>\n",
       "      <th>2</th>\n",
       "      <td>-2627062893189810184</td>\n",
       "      <td>10980445</td>\n",
       "      <td>5221700954</td>\n",
       "      <td>28.513481</td>\n",
       "      <td>26.0</td>\n",
       "      <td>46.472086</td>\n",
       "      <td>30.747110</td>\n",
       "      <td>46.472114</td>\n",
       "      <td>30.746740</td>\n",
       "      <td>28.511460</td>\n",
       "    </tr>\n",
       "    <tr>\n",
       "      <th>3</th>\n",
       "      <td>-2627062893189810184</td>\n",
       "      <td>10980498</td>\n",
       "      <td>10980445</td>\n",
       "      <td>154.266122</td>\n",
       "      <td>25.0</td>\n",
       "      <td>46.471949</td>\n",
       "      <td>30.749114</td>\n",
       "      <td>46.472086</td>\n",
       "      <td>30.747110</td>\n",
       "      <td>154.161963</td>\n",
       "    </tr>\n",
       "    <tr>\n",
       "      <th>4</th>\n",
       "      <td>-2627062893189810184</td>\n",
       "      <td>10980647</td>\n",
       "      <td>1986137911</td>\n",
       "      <td>8.542824</td>\n",
       "      <td>29.0</td>\n",
       "      <td>46.473095</td>\n",
       "      <td>30.753937</td>\n",
       "      <td>46.473020</td>\n",
       "      <td>30.753921</td>\n",
       "      <td>8.457294</td>\n",
       "    </tr>\n",
       "    <tr>\n",
       "      <th>...</th>\n",
       "      <td>...</td>\n",
       "      <td>...</td>\n",
       "      <td>...</td>\n",
       "      <td>...</td>\n",
       "      <td>...</td>\n",
       "      <td>...</td>\n",
       "      <td>...</td>\n",
       "      <td>...</td>\n",
       "      <td>...</td>\n",
       "      <td>...</td>\n",
       "    </tr>\n",
       "    <tr>\n",
       "      <th>480281</th>\n",
       "      <td>-8229597404562288405</td>\n",
       "      <td>4439629611</td>\n",
       "      <td>317187499</td>\n",
       "      <td>157.791878</td>\n",
       "      <td>19.0</td>\n",
       "      <td>46.481959</td>\n",
       "      <td>30.719659</td>\n",
       "      <td>46.483349</td>\n",
       "      <td>30.719247</td>\n",
       "      <td>157.739925</td>\n",
       "    </tr>\n",
       "    <tr>\n",
       "      <th>480282</th>\n",
       "      <td>-8229597404562288405</td>\n",
       "      <td>4768348190</td>\n",
       "      <td>7113286188</td>\n",
       "      <td>50.972612</td>\n",
       "      <td>21.0</td>\n",
       "      <td>46.472319</td>\n",
       "      <td>30.719530</td>\n",
       "      <td>46.472664</td>\n",
       "      <td>30.719968</td>\n",
       "      <td>50.927187</td>\n",
       "    </tr>\n",
       "    <tr>\n",
       "      <th>480283</th>\n",
       "      <td>-8229597404562288405</td>\n",
       "      <td>4768348195</td>\n",
       "      <td>4768348190</td>\n",
       "      <td>89.120989</td>\n",
       "      <td>22.0</td>\n",
       "      <td>46.471727</td>\n",
       "      <td>30.718746</td>\n",
       "      <td>46.472319</td>\n",
       "      <td>30.719530</td>\n",
       "      <td>89.050765</td>\n",
       "    </tr>\n",
       "    <tr>\n",
       "      <th>480284</th>\n",
       "      <td>-8229597404562288405</td>\n",
       "      <td>4768348532</td>\n",
       "      <td>4768348195</td>\n",
       "      <td>116.657109</td>\n",
       "      <td>25.0</td>\n",
       "      <td>46.470939</td>\n",
       "      <td>30.717741</td>\n",
       "      <td>46.471727</td>\n",
       "      <td>30.718746</td>\n",
       "      <td>116.585938</td>\n",
       "    </tr>\n",
       "    <tr>\n",
       "      <th>480285</th>\n",
       "      <td>-8229597404562288405</td>\n",
       "      <td>7113286188</td>\n",
       "      <td>317199422</td>\n",
       "      <td>27.658725</td>\n",
       "      <td>19.0</td>\n",
       "      <td>46.472664</td>\n",
       "      <td>30.719968</td>\n",
       "      <td>46.472851</td>\n",
       "      <td>30.720206</td>\n",
       "      <td>27.703894</td>\n",
       "    </tr>\n",
       "  </tbody>\n",
       "</table>\n",
       "<p>402963 rows × 10 columns</p>\n",
       "</div>"
      ],
      "text/plain": [
       "                         Id  node_start  node_finish    distance  speed  \\\n",
       "0      -2627062893189810184    10980432   2133368107   17.414917   32.0   \n",
       "1      -2627062893189810184    10980433   5212387954   17.186539   26.0   \n",
       "2      -2627062893189810184    10980445   5221700954   28.513481   26.0   \n",
       "3      -2627062893189810184    10980498     10980445  154.266122   25.0   \n",
       "4      -2627062893189810184    10980647   1986137911    8.542824   29.0   \n",
       "...                     ...         ...          ...         ...    ...   \n",
       "480281 -8229597404562288405  4439629611    317187499  157.791878   19.0   \n",
       "480282 -8229597404562288405  4768348190   7113286188   50.972612   21.0   \n",
       "480283 -8229597404562288405  4768348195   4768348190   89.120989   22.0   \n",
       "480284 -8229597404562288405  4768348532   4768348195  116.657109   25.0   \n",
       "480285 -8229597404562288405  7113286188    317199422   27.658725   19.0   \n",
       "\n",
       "        node_start_lat  node_start_lon  node_finish_lat  node_finish_lon  \\\n",
       "0            46.472665       30.739248        46.472682        30.739022   \n",
       "1            46.472507       30.741320        46.472524        30.741097   \n",
       "2            46.472086       30.747110        46.472114        30.746740   \n",
       "3            46.471949       30.749114        46.472086        30.747110   \n",
       "4            46.473095       30.753937        46.473020        30.753921   \n",
       "...                ...             ...              ...              ...   \n",
       "480281       46.481959       30.719659        46.483349        30.719247   \n",
       "480282       46.472319       30.719530        46.472664        30.719968   \n",
       "480283       46.471727       30.718746        46.472319        30.719530   \n",
       "480284       46.470939       30.717741        46.471727        30.718746   \n",
       "480285       46.472664       30.719968        46.472851        30.720206   \n",
       "\n",
       "         haversine  \n",
       "0        17.396263  \n",
       "1        17.191515  \n",
       "2        28.511460  \n",
       "3       154.161963  \n",
       "4         8.457294  \n",
       "...            ...  \n",
       "480281  157.739925  \n",
       "480282   50.927187  \n",
       "480283   89.050765  \n",
       "480284  116.585938  \n",
       "480285   27.703894  \n",
       "\n",
       "[402963 rows x 10 columns]"
      ]
     },
     "execution_count": 129,
     "metadata": {},
     "output_type": "execute_result"
    }
   ],
   "source": [
    "filtered_nodes = filtered_nodes[np.abs(filtered_nodes['haversine'] - filtered_nodes['distance']) < 50]\n",
    "filtered_nodes"
   ]
  },
  {
   "cell_type": "code",
   "execution_count": 138,
   "metadata": {},
   "outputs": [],
   "source": [
    "orders['sequence'] = [\"[]\" for _ in range(len(orders))]"
   ]
  },
  {
   "cell_type": "code",
   "execution_count": 139,
   "metadata": {},
   "outputs": [
    {
     "data": {
      "text/html": [
       "<div>\n",
       "<style scoped>\n",
       "    .dataframe tbody tr th:only-of-type {\n",
       "        vertical-align: middle;\n",
       "    }\n",
       "\n",
       "    .dataframe tbody tr th {\n",
       "        vertical-align: top;\n",
       "    }\n",
       "\n",
       "    .dataframe thead th {\n",
       "        text-align: right;\n",
       "    }\n",
       "</style>\n",
       "<table border=\"1\" class=\"dataframe\">\n",
       "  <thead>\n",
       "    <tr style=\"text-align: right;\">\n",
       "      <th></th>\n",
       "      <th>Id</th>\n",
       "      <th>running_time</th>\n",
       "      <th>completed_time</th>\n",
       "      <th>route_distance_km</th>\n",
       "      <th>delta_time</th>\n",
       "      <th>sequence</th>\n",
       "    </tr>\n",
       "  </thead>\n",
       "  <tbody>\n",
       "    <tr>\n",
       "      <th>0</th>\n",
       "      <td>-4773019581999572651</td>\n",
       "      <td>2022-01-24 18:30:21</td>\n",
       "      <td>2022-01-24 18:44:43</td>\n",
       "      <td>3.740</td>\n",
       "      <td>862.0</td>\n",
       "      <td>[]</td>\n",
       "    </tr>\n",
       "    <tr>\n",
       "      <th>1</th>\n",
       "      <td>-7575630690398473489</td>\n",
       "      <td>2022-01-24 06:53:53</td>\n",
       "      <td>2022-01-24 07:06:26</td>\n",
       "      <td>3.526</td>\n",
       "      <td>753.0</td>\n",
       "      <td>[]</td>\n",
       "    </tr>\n",
       "    <tr>\n",
       "      <th>2</th>\n",
       "      <td>-6264582368520213833</td>\n",
       "      <td>2022-01-24 10:00:59</td>\n",
       "      <td>2022-01-24 10:15:58</td>\n",
       "      <td>5.071</td>\n",
       "      <td>899.0</td>\n",
       "      <td>[]</td>\n",
       "    </tr>\n",
       "    <tr>\n",
       "      <th>3</th>\n",
       "      <td>5964315354301636538</td>\n",
       "      <td>2022-01-24 14:28:05</td>\n",
       "      <td>2022-01-24 14:35:08</td>\n",
       "      <td>2.867</td>\n",
       "      <td>423.0</td>\n",
       "      <td>[]</td>\n",
       "    </tr>\n",
       "    <tr>\n",
       "      <th>4</th>\n",
       "      <td>1372379574816145639</td>\n",
       "      <td>2022-01-24 11:57:29</td>\n",
       "      <td>2022-01-24 12:06:29</td>\n",
       "      <td>3.751</td>\n",
       "      <td>540.0</td>\n",
       "      <td>[]</td>\n",
       "    </tr>\n",
       "    <tr>\n",
       "      <th>...</th>\n",
       "      <td>...</td>\n",
       "      <td>...</td>\n",
       "      <td>...</td>\n",
       "      <td>...</td>\n",
       "      <td>...</td>\n",
       "      <td>...</td>\n",
       "    </tr>\n",
       "    <tr>\n",
       "      <th>4995</th>\n",
       "      <td>7096714159023973792</td>\n",
       "      <td>2022-01-24 21:10:38</td>\n",
       "      <td>2022-01-24 21:23:53</td>\n",
       "      <td>7.397</td>\n",
       "      <td>795.0</td>\n",
       "      <td>[]</td>\n",
       "    </tr>\n",
       "    <tr>\n",
       "      <th>4996</th>\n",
       "      <td>-3836026425968071806</td>\n",
       "      <td>2022-01-24 15:10:27</td>\n",
       "      <td>2022-01-24 15:20:21</td>\n",
       "      <td>1.948</td>\n",
       "      <td>594.0</td>\n",
       "      <td>[]</td>\n",
       "    </tr>\n",
       "    <tr>\n",
       "      <th>4997</th>\n",
       "      <td>2926216435675216636</td>\n",
       "      <td>2022-01-24 13:57:04</td>\n",
       "      <td>2022-01-24 14:03:18</td>\n",
       "      <td>2.547</td>\n",
       "      <td>374.0</td>\n",
       "      <td>[]</td>\n",
       "    </tr>\n",
       "    <tr>\n",
       "      <th>4998</th>\n",
       "      <td>-6677307480063489707</td>\n",
       "      <td>2022-01-24 08:46:13</td>\n",
       "      <td>2022-01-24 08:55:34</td>\n",
       "      <td>3.013</td>\n",
       "      <td>561.0</td>\n",
       "      <td>[]</td>\n",
       "    </tr>\n",
       "    <tr>\n",
       "      <th>4999</th>\n",
       "      <td>-4845695090750648713</td>\n",
       "      <td>2022-01-24 14:57:46</td>\n",
       "      <td>2022-01-24 15:11:25</td>\n",
       "      <td>2.323</td>\n",
       "      <td>819.0</td>\n",
       "      <td>[]</td>\n",
       "    </tr>\n",
       "  </tbody>\n",
       "</table>\n",
       "<p>5000 rows × 6 columns</p>\n",
       "</div>"
      ],
      "text/plain": [
       "                       Id         running_time       completed_time  \\\n",
       "0    -4773019581999572651  2022-01-24 18:30:21  2022-01-24 18:44:43   \n",
       "1    -7575630690398473489  2022-01-24 06:53:53  2022-01-24 07:06:26   \n",
       "2    -6264582368520213833  2022-01-24 10:00:59  2022-01-24 10:15:58   \n",
       "3     5964315354301636538  2022-01-24 14:28:05  2022-01-24 14:35:08   \n",
       "4     1372379574816145639  2022-01-24 11:57:29  2022-01-24 12:06:29   \n",
       "...                   ...                  ...                  ...   \n",
       "4995  7096714159023973792  2022-01-24 21:10:38  2022-01-24 21:23:53   \n",
       "4996 -3836026425968071806  2022-01-24 15:10:27  2022-01-24 15:20:21   \n",
       "4997  2926216435675216636  2022-01-24 13:57:04  2022-01-24 14:03:18   \n",
       "4998 -6677307480063489707  2022-01-24 08:46:13  2022-01-24 08:55:34   \n",
       "4999 -4845695090750648713  2022-01-24 14:57:46  2022-01-24 15:11:25   \n",
       "\n",
       "      route_distance_km  delta_time sequence  \n",
       "0                 3.740       862.0       []  \n",
       "1                 3.526       753.0       []  \n",
       "2                 5.071       899.0       []  \n",
       "3                 2.867       423.0       []  \n",
       "4                 3.751       540.0       []  \n",
       "...                 ...         ...      ...  \n",
       "4995              7.397       795.0       []  \n",
       "4996              1.948       594.0       []  \n",
       "4997              2.547       374.0       []  \n",
       "4998              3.013       561.0       []  \n",
       "4999              2.323       819.0       []  \n",
       "\n",
       "[5000 rows x 6 columns]"
      ]
     },
     "execution_count": 139,
     "metadata": {},
     "output_type": "execute_result"
    }
   ],
   "source": [
    "orders"
   ]
  },
  {
   "cell_type": "code",
   "execution_count": 216,
   "metadata": {},
   "outputs": [
    {
     "name": "stderr",
     "output_type": "stream",
     "text": [
      "26it [00:01, 21.81it/s]\n"
     ]
    }
   ],
   "source": [
    "for id, order in tqdm.tqdm(orders.iterrows()):\n",
    "    filtered_nodes_order = filtered_nodes[filtered_nodes['Id'] == order['Id']]\n",
    "    unique_points = np.unique(np.append(filtered_nodes_order['node_start'], filtered_nodes_order['node_finish']))\n",
    "    unique_points_df = nodes_info.loc[unique_points, ['lat', 'lon']]\n",
    "    unique_points_df['start_count'] = filtered_nodes_order['node_start'].value_counts()\n",
    "    unique_points_df['finish_count'] = filtered_nodes_order['node_finish'].value_counts()\n",
    "    unique_points_df['start_count'] = unique_points_df['start_count'].fillna(0)\n",
    "    unique_points_df['finish_count'] = unique_points_df['finish_count'].fillna(0)\n",
    "\n",
    "    if len(unique_points_df) == 0:\n",
    "        orders.loc[id, 'sequence'] = \"Zero normal points\"\n",
    "        continue\n",
    "\n",
    "    repeating_points = unique_points_df[(unique_points_df['start_count'] > 1) | (unique_points_df['finish_count'] > 1)]\n",
    "\n",
    "    sequences = [[unique_points_df.index[0]]]\n",
    "    used_points = {unique_points_df.index[0]}\n",
    "    unused_points = set(unique_points_df.index[1:])\n",
    "    # for point_id, point_row in repeating_points.iterrows:\n",
    "    #     count = max(point_row['start_count'], point_row['finish_count'])\n",
    "    #     for i in range(1, count):\n",
    "    #         unused_points.add(point_id + i/count)\n",
    "\n",
    "    sequence_id = 0\n",
    "    head = True\n",
    "    try:\n",
    "        while True:\n",
    "            if len(unused_points) == 0:\n",
    "                break\n",
    "            if head:\n",
    "                current = sequences[sequence_id][0]\n",
    "                previous = filtered_nodes_order[filtered_nodes_order['node_finish'] == current]['node_start'].values\n",
    "                if len(previous) > 1:\n",
    "                    head = False\n",
    "                    # distances = []\n",
    "                    # for point in previous:\n",
    "                    #     if point in repeating_points.index:\n",
    "                    #         count = max(repeating_points.loc[point, 'start_count'], repeating_points.loc[point, 'finish_count'])\n",
    "                    #         is_place = False\n",
    "                    #         for i in range(count):\n",
    "                    #             if point + i/count in unused_points:\n",
    "                    #                 is_place = True\n",
    "                    #                 break\n",
    "                    #         if not is_place:\n",
    "                    #             distances.append(float('inf'))\n",
    "                    #             continue\n",
    "                    #     else:\n",
    "                    #         if point not in unused_points:\n",
    "                    #             distances.append(float('inf'))\n",
    "                    #             continue\n",
    "                    #     distances.append(haversine(unique_points_df.loc[current, 'lat'], \n",
    "                    #                                 unique_points_df.loc[current, 'lon'], \n",
    "                    #                                 unique_points_df.loc[point, 'lat'], \n",
    "                    #                                 unique_points_df.loc[point, 'lon']))\n",
    "                    # min_distance = np.min(distances)\n",
    "                    # if min_distance < float('inf'):\n",
    "                    #     argmin_dist = np.argmin(distances)\n",
    "                    #     sequences[sequence_id].insert(0, previous[argmin_dist])\n",
    "\n",
    "                    #     count = max(unique_points_df.loc[point, 'start_count'], unique_points_df.loc[point, 'finish_count'])\n",
    "                    #     for i in range(count):\n",
    "                            \n",
    "                    #     used_points.add(previous[0])\n",
    "                    #     unused_points.remove(previous[0])\n",
    "                    # else:\n",
    "                    #     head = False\n",
    "                elif len(previous) == 1:\n",
    "                    sequences[sequence_id].insert(0, previous[0])\n",
    "                    used_points.add(previous[0])\n",
    "                    unused_points.remove(previous[0])\n",
    "                else:\n",
    "                    head = False\n",
    "            else:\n",
    "                current = sequences[sequence_id][-1]\n",
    "                next = filtered_nodes_order[filtered_nodes_order['node_start'] == current]['node_finish'].values\n",
    "                if len(next) > 1:\n",
    "                    sequence_id += 1\n",
    "                    new_el = unused_points.pop()\n",
    "                    used_points.add(new_el)\n",
    "                    sequences.append([new_el])\n",
    "                    head = True\n",
    "                    # print(\"Created sequence: \", sequences[sequence_id])\n",
    "                    # raise Exception(\"More then 1 next point\")\n",
    "                elif len(next) == 1:\n",
    "                    sequences[sequence_id].append(next[0])\n",
    "                    unused_points.remove(next[0])\n",
    "                    used_points.add(next[0])\n",
    "                else:\n",
    "                    # print(\"Created sequence: \", sequences[sequence_id])\n",
    "                    sequence_id += 1\n",
    "                    new_el = unused_points.pop()\n",
    "                    used_points.add(new_el)\n",
    "                    sequences.append([new_el])\n",
    "                    head = True\n",
    "    except Exception as e:\n",
    "        orders.loc[id, 'sequence'] = str(e)\n",
    "        # print(e)\n",
    "        continue\n",
    "\n",
    "    interseq_distances = np.zeros((len(sequences), len(sequences))) # interseq[i][j] is distance between i-th end and j-th start\n",
    "    for i in range(len(sequences)):\n",
    "        start_of_seq_i = sequences[i][0]\n",
    "        end_of_seq_i = sequences[i][-1]\n",
    "        for j in range(i, len(sequences)):\n",
    "            if i == j:\n",
    "                interseq_distances[i][j] = float('inf')\n",
    "            else:\n",
    "                start_of_seq_j = sequences[j][0]\n",
    "                end_of_seq_j = sequences[j][-1]\n",
    "                interseq_distances[i][j] = haversine(unique_points_df.loc[end_of_seq_i, 'lat'], \n",
    "                                                    unique_points_df.loc[end_of_seq_i, 'lon'], \n",
    "                                                    unique_points_df.loc[start_of_seq_j, 'lat'], \n",
    "                                                    unique_points_df.loc[start_of_seq_j, 'lon'])\n",
    "                interseq_distances[j][i] = haversine(unique_points_df.loc[start_of_seq_i, 'lat'], \n",
    "                                                    unique_points_df.loc[start_of_seq_i, 'lon'], \n",
    "                                                    unique_points_df.loc[end_of_seq_j, 'lat'], \n",
    "                                                    unique_points_df.loc[end_of_seq_j, 'lon'])\n",
    "    \n",
    "    seq_count = len(sequences)\n",
    "    first = 0\n",
    "    while seq_count > 1:\n",
    "        first, second = np.unravel_index(interseq_distances.argmin(), interseq_distances.shape)\n",
    "        sequences[first].extend(sequences[second])\n",
    "        interseq_distances[first] = interseq_distances[second]\n",
    "        interseq_distances[second] = float('inf')\n",
    "        interseq_distances[:, second] = float('inf')\n",
    "        interseq_distances[first, first] = float('inf')\n",
    "        seq_count -= 1\n",
    "\n",
    "    orders.loc[id, 'sequence'] = str(sequences[first])\n"
   ]
  },
  {
   "cell_type": "code",
   "execution_count": 209,
   "metadata": {},
   "outputs": [
    {
     "data": {
      "application/vnd.plotly.v1+json": {
       "config": {
        "plotlyServerURL": "https://plot.ly"
       },
       "data": [
        {
         "hovertemplate": "lat=%{lat}<br>lon=%{lon}<extra></extra>",
         "lat": [
          46.4685241,
          46.4685241,
          46.4655824,
          46.4655621,
          46.4664741,
          46.4666971,
          46.467083,
          46.4673195,
          46.4673346,
          46.4675411,
          46.4676174,
          46.4679816,
          46.4679879,
          46.4682366,
          46.4686835,
          46.4688131,
          46.4689157,
          46.469352,
          46.4695524,
          46.4702214,
          46.4704069,
          46.4707526,
          46.4709331,
          46.4711493,
          46.4715141,
          46.4716614,
          46.4716633,
          46.471676,
          46.471696,
          46.4717224,
          46.4717393,
          46.4717592,
          46.4717978,
          46.4718034,
          46.4719491,
          46.4720857,
          46.4725697,
          46.4726493,
          46.4735544,
          46.4738659,
          46.4741589,
          46.4819988,
          46.4820017,
          46.482019,
          46.4820562,
          46.4820904,
          46.4821181,
          46.4821977,
          46.4822123,
          46.4822563,
          46.4822696,
          46.4822845,
          46.4822999,
          46.4823124,
          46.4823293,
          46.4823506,
          46.4823628,
          46.4824316,
          46.4827913,
          46.483041,
          46.4830683,
          46.4833949,
          46.4837848,
          46.4837919,
          46.4838263,
          46.4838855,
          46.4838913,
          46.4839303,
          46.4839393,
          46.4839503,
          46.4840066,
          46.4840165,
          46.4840364,
          46.4840973,
          46.484172,
          46.4845877,
          46.4846178,
          46.485041,
          46.4850767,
          46.4851137,
          46.4851751,
          46.4852983,
          46.4858142,
          46.4872248,
          46.4870251,
          46.4873267,
          46.487426,
          46.4874361,
          46.4874736,
          46.4874923,
          46.4875016,
          46.4878209,
          46.487876,
          46.4879407
         ],
         "legendgroup": "",
         "line": {
          "color": "#636efa"
         },
         "lon": [
          30.7382746,
          30.7382746,
          30.7573887,
          30.7577464,
          30.7577836,
          30.7577832,
          30.7577836,
          30.7577836,
          30.7576403,
          30.755678,
          30.7548724,
          30.7549426,
          30.7548888,
          30.7527537,
          30.7528819,
          30.7529225,
          30.7529462,
          30.7530487,
          30.7531066,
          30.7532757,
          30.753321,
          30.7534074,
          30.7534484,
          30.7534963,
          30.7535614,
          30.7533625,
          30.7533295,
          30.7531344,
          30.7528271,
          30.75243,
          30.7521615,
          30.7518625,
          30.751262,
          30.7511492,
          30.7491142,
          30.7471103,
          30.7471881,
          30.7472008,
          30.7473462,
          30.7473963,
          30.7474434,
          30.7478938,
          30.7478403,
          30.7476016,
          30.7471169,
          30.7465472,
          30.7460448,
          30.745061,
          30.7448158,
          30.7442609,
          30.7440851,
          30.7438605,
          30.7436616,
          30.7434651,
          30.7432664,
          30.7429992,
          30.7428467,
          30.7428578,
          30.7429157,
          30.7429522,
          30.7429561,
          30.7430038,
          30.7430607,
          30.7429645,
          30.7425004,
          30.7417028,
          30.7416246,
          30.741076,
          30.7409773,
          30.7408427,
          30.7400698,
          30.7399364,
          30.7396682,
          30.7388473,
          30.7388572,
          30.7389132,
          30.7389182,
          30.7389756,
          30.7389789,
          30.738985,
          30.738995,
          30.7390119,
          30.7390826,
          30.7390372,
          30.7392322,
          30.7397001,
          30.7398513,
          30.7397282,
          30.7392814,
          30.7390047,
          30.738759,
          30.7378871,
          30.7377494,
          30.7369504
         ],
         "mode": "lines",
         "name": "",
         "showlegend": false,
         "subplot": "mapbox",
         "type": "scattermapbox"
        }
       ],
       "layout": {
        "height": 300,
        "legend": {
         "tracegroupgap": 0
        },
        "mapbox": {
         "center": {
          "lat": 41,
          "lon": 30.746282446808507
         },
         "domain": {
          "x": [
           0,
           1
          ],
          "y": [
           0,
           1
          ]
         },
         "style": "stamen-terrain",
         "zoom": 4
        },
        "margin": {
         "b": 0,
         "l": 0,
         "r": 0,
         "t": 0
        },
        "template": {
         "data": {
          "bar": [
           {
            "error_x": {
             "color": "#2a3f5f"
            },
            "error_y": {
             "color": "#2a3f5f"
            },
            "marker": {
             "line": {
              "color": "#E5ECF6",
              "width": 0.5
             },
             "pattern": {
              "fillmode": "overlay",
              "size": 10,
              "solidity": 0.2
             }
            },
            "type": "bar"
           }
          ],
          "barpolar": [
           {
            "marker": {
             "line": {
              "color": "#E5ECF6",
              "width": 0.5
             },
             "pattern": {
              "fillmode": "overlay",
              "size": 10,
              "solidity": 0.2
             }
            },
            "type": "barpolar"
           }
          ],
          "carpet": [
           {
            "aaxis": {
             "endlinecolor": "#2a3f5f",
             "gridcolor": "white",
             "linecolor": "white",
             "minorgridcolor": "white",
             "startlinecolor": "#2a3f5f"
            },
            "baxis": {
             "endlinecolor": "#2a3f5f",
             "gridcolor": "white",
             "linecolor": "white",
             "minorgridcolor": "white",
             "startlinecolor": "#2a3f5f"
            },
            "type": "carpet"
           }
          ],
          "choropleth": [
           {
            "colorbar": {
             "outlinewidth": 0,
             "ticks": ""
            },
            "type": "choropleth"
           }
          ],
          "contour": [
           {
            "colorbar": {
             "outlinewidth": 0,
             "ticks": ""
            },
            "colorscale": [
             [
              0,
              "#0d0887"
             ],
             [
              0.1111111111111111,
              "#46039f"
             ],
             [
              0.2222222222222222,
              "#7201a8"
             ],
             [
              0.3333333333333333,
              "#9c179e"
             ],
             [
              0.4444444444444444,
              "#bd3786"
             ],
             [
              0.5555555555555556,
              "#d8576b"
             ],
             [
              0.6666666666666666,
              "#ed7953"
             ],
             [
              0.7777777777777778,
              "#fb9f3a"
             ],
             [
              0.8888888888888888,
              "#fdca26"
             ],
             [
              1,
              "#f0f921"
             ]
            ],
            "type": "contour"
           }
          ],
          "contourcarpet": [
           {
            "colorbar": {
             "outlinewidth": 0,
             "ticks": ""
            },
            "type": "contourcarpet"
           }
          ],
          "heatmap": [
           {
            "colorbar": {
             "outlinewidth": 0,
             "ticks": ""
            },
            "colorscale": [
             [
              0,
              "#0d0887"
             ],
             [
              0.1111111111111111,
              "#46039f"
             ],
             [
              0.2222222222222222,
              "#7201a8"
             ],
             [
              0.3333333333333333,
              "#9c179e"
             ],
             [
              0.4444444444444444,
              "#bd3786"
             ],
             [
              0.5555555555555556,
              "#d8576b"
             ],
             [
              0.6666666666666666,
              "#ed7953"
             ],
             [
              0.7777777777777778,
              "#fb9f3a"
             ],
             [
              0.8888888888888888,
              "#fdca26"
             ],
             [
              1,
              "#f0f921"
             ]
            ],
            "type": "heatmap"
           }
          ],
          "heatmapgl": [
           {
            "colorbar": {
             "outlinewidth": 0,
             "ticks": ""
            },
            "colorscale": [
             [
              0,
              "#0d0887"
             ],
             [
              0.1111111111111111,
              "#46039f"
             ],
             [
              0.2222222222222222,
              "#7201a8"
             ],
             [
              0.3333333333333333,
              "#9c179e"
             ],
             [
              0.4444444444444444,
              "#bd3786"
             ],
             [
              0.5555555555555556,
              "#d8576b"
             ],
             [
              0.6666666666666666,
              "#ed7953"
             ],
             [
              0.7777777777777778,
              "#fb9f3a"
             ],
             [
              0.8888888888888888,
              "#fdca26"
             ],
             [
              1,
              "#f0f921"
             ]
            ],
            "type": "heatmapgl"
           }
          ],
          "histogram": [
           {
            "marker": {
             "pattern": {
              "fillmode": "overlay",
              "size": 10,
              "solidity": 0.2
             }
            },
            "type": "histogram"
           }
          ],
          "histogram2d": [
           {
            "colorbar": {
             "outlinewidth": 0,
             "ticks": ""
            },
            "colorscale": [
             [
              0,
              "#0d0887"
             ],
             [
              0.1111111111111111,
              "#46039f"
             ],
             [
              0.2222222222222222,
              "#7201a8"
             ],
             [
              0.3333333333333333,
              "#9c179e"
             ],
             [
              0.4444444444444444,
              "#bd3786"
             ],
             [
              0.5555555555555556,
              "#d8576b"
             ],
             [
              0.6666666666666666,
              "#ed7953"
             ],
             [
              0.7777777777777778,
              "#fb9f3a"
             ],
             [
              0.8888888888888888,
              "#fdca26"
             ],
             [
              1,
              "#f0f921"
             ]
            ],
            "type": "histogram2d"
           }
          ],
          "histogram2dcontour": [
           {
            "colorbar": {
             "outlinewidth": 0,
             "ticks": ""
            },
            "colorscale": [
             [
              0,
              "#0d0887"
             ],
             [
              0.1111111111111111,
              "#46039f"
             ],
             [
              0.2222222222222222,
              "#7201a8"
             ],
             [
              0.3333333333333333,
              "#9c179e"
             ],
             [
              0.4444444444444444,
              "#bd3786"
             ],
             [
              0.5555555555555556,
              "#d8576b"
             ],
             [
              0.6666666666666666,
              "#ed7953"
             ],
             [
              0.7777777777777778,
              "#fb9f3a"
             ],
             [
              0.8888888888888888,
              "#fdca26"
             ],
             [
              1,
              "#f0f921"
             ]
            ],
            "type": "histogram2dcontour"
           }
          ],
          "mesh3d": [
           {
            "colorbar": {
             "outlinewidth": 0,
             "ticks": ""
            },
            "type": "mesh3d"
           }
          ],
          "parcoords": [
           {
            "line": {
             "colorbar": {
              "outlinewidth": 0,
              "ticks": ""
             }
            },
            "type": "parcoords"
           }
          ],
          "pie": [
           {
            "automargin": true,
            "type": "pie"
           }
          ],
          "scatter": [
           {
            "marker": {
             "colorbar": {
              "outlinewidth": 0,
              "ticks": ""
             }
            },
            "type": "scatter"
           }
          ],
          "scatter3d": [
           {
            "line": {
             "colorbar": {
              "outlinewidth": 0,
              "ticks": ""
             }
            },
            "marker": {
             "colorbar": {
              "outlinewidth": 0,
              "ticks": ""
             }
            },
            "type": "scatter3d"
           }
          ],
          "scattercarpet": [
           {
            "marker": {
             "colorbar": {
              "outlinewidth": 0,
              "ticks": ""
             }
            },
            "type": "scattercarpet"
           }
          ],
          "scattergeo": [
           {
            "marker": {
             "colorbar": {
              "outlinewidth": 0,
              "ticks": ""
             }
            },
            "type": "scattergeo"
           }
          ],
          "scattergl": [
           {
            "marker": {
             "colorbar": {
              "outlinewidth": 0,
              "ticks": ""
             }
            },
            "type": "scattergl"
           }
          ],
          "scattermapbox": [
           {
            "marker": {
             "colorbar": {
              "outlinewidth": 0,
              "ticks": ""
             }
            },
            "type": "scattermapbox"
           }
          ],
          "scatterpolar": [
           {
            "marker": {
             "colorbar": {
              "outlinewidth": 0,
              "ticks": ""
             }
            },
            "type": "scatterpolar"
           }
          ],
          "scatterpolargl": [
           {
            "marker": {
             "colorbar": {
              "outlinewidth": 0,
              "ticks": ""
             }
            },
            "type": "scatterpolargl"
           }
          ],
          "scatterternary": [
           {
            "marker": {
             "colorbar": {
              "outlinewidth": 0,
              "ticks": ""
             }
            },
            "type": "scatterternary"
           }
          ],
          "surface": [
           {
            "colorbar": {
             "outlinewidth": 0,
             "ticks": ""
            },
            "colorscale": [
             [
              0,
              "#0d0887"
             ],
             [
              0.1111111111111111,
              "#46039f"
             ],
             [
              0.2222222222222222,
              "#7201a8"
             ],
             [
              0.3333333333333333,
              "#9c179e"
             ],
             [
              0.4444444444444444,
              "#bd3786"
             ],
             [
              0.5555555555555556,
              "#d8576b"
             ],
             [
              0.6666666666666666,
              "#ed7953"
             ],
             [
              0.7777777777777778,
              "#fb9f3a"
             ],
             [
              0.8888888888888888,
              "#fdca26"
             ],
             [
              1,
              "#f0f921"
             ]
            ],
            "type": "surface"
           }
          ],
          "table": [
           {
            "cells": {
             "fill": {
              "color": "#EBF0F8"
             },
             "line": {
              "color": "white"
             }
            },
            "header": {
             "fill": {
              "color": "#C8D4E3"
             },
             "line": {
              "color": "white"
             }
            },
            "type": "table"
           }
          ]
         },
         "layout": {
          "annotationdefaults": {
           "arrowcolor": "#2a3f5f",
           "arrowhead": 0,
           "arrowwidth": 1
          },
          "autotypenumbers": "strict",
          "coloraxis": {
           "colorbar": {
            "outlinewidth": 0,
            "ticks": ""
           }
          },
          "colorscale": {
           "diverging": [
            [
             0,
             "#8e0152"
            ],
            [
             0.1,
             "#c51b7d"
            ],
            [
             0.2,
             "#de77ae"
            ],
            [
             0.3,
             "#f1b6da"
            ],
            [
             0.4,
             "#fde0ef"
            ],
            [
             0.5,
             "#f7f7f7"
            ],
            [
             0.6,
             "#e6f5d0"
            ],
            [
             0.7,
             "#b8e186"
            ],
            [
             0.8,
             "#7fbc41"
            ],
            [
             0.9,
             "#4d9221"
            ],
            [
             1,
             "#276419"
            ]
           ],
           "sequential": [
            [
             0,
             "#0d0887"
            ],
            [
             0.1111111111111111,
             "#46039f"
            ],
            [
             0.2222222222222222,
             "#7201a8"
            ],
            [
             0.3333333333333333,
             "#9c179e"
            ],
            [
             0.4444444444444444,
             "#bd3786"
            ],
            [
             0.5555555555555556,
             "#d8576b"
            ],
            [
             0.6666666666666666,
             "#ed7953"
            ],
            [
             0.7777777777777778,
             "#fb9f3a"
            ],
            [
             0.8888888888888888,
             "#fdca26"
            ],
            [
             1,
             "#f0f921"
            ]
           ],
           "sequentialminus": [
            [
             0,
             "#0d0887"
            ],
            [
             0.1111111111111111,
             "#46039f"
            ],
            [
             0.2222222222222222,
             "#7201a8"
            ],
            [
             0.3333333333333333,
             "#9c179e"
            ],
            [
             0.4444444444444444,
             "#bd3786"
            ],
            [
             0.5555555555555556,
             "#d8576b"
            ],
            [
             0.6666666666666666,
             "#ed7953"
            ],
            [
             0.7777777777777778,
             "#fb9f3a"
            ],
            [
             0.8888888888888888,
             "#fdca26"
            ],
            [
             1,
             "#f0f921"
            ]
           ]
          },
          "colorway": [
           "#636efa",
           "#EF553B",
           "#00cc96",
           "#ab63fa",
           "#FFA15A",
           "#19d3f3",
           "#FF6692",
           "#B6E880",
           "#FF97FF",
           "#FECB52"
          ],
          "font": {
           "color": "#2a3f5f"
          },
          "geo": {
           "bgcolor": "white",
           "lakecolor": "white",
           "landcolor": "#E5ECF6",
           "showlakes": true,
           "showland": true,
           "subunitcolor": "white"
          },
          "hoverlabel": {
           "align": "left"
          },
          "hovermode": "closest",
          "mapbox": {
           "style": "light"
          },
          "paper_bgcolor": "white",
          "plot_bgcolor": "#E5ECF6",
          "polar": {
           "angularaxis": {
            "gridcolor": "white",
            "linecolor": "white",
            "ticks": ""
           },
           "bgcolor": "#E5ECF6",
           "radialaxis": {
            "gridcolor": "white",
            "linecolor": "white",
            "ticks": ""
           }
          },
          "scene": {
           "xaxis": {
            "backgroundcolor": "#E5ECF6",
            "gridcolor": "white",
            "gridwidth": 2,
            "linecolor": "white",
            "showbackground": true,
            "ticks": "",
            "zerolinecolor": "white"
           },
           "yaxis": {
            "backgroundcolor": "#E5ECF6",
            "gridcolor": "white",
            "gridwidth": 2,
            "linecolor": "white",
            "showbackground": true,
            "ticks": "",
            "zerolinecolor": "white"
           },
           "zaxis": {
            "backgroundcolor": "#E5ECF6",
            "gridcolor": "white",
            "gridwidth": 2,
            "linecolor": "white",
            "showbackground": true,
            "ticks": "",
            "zerolinecolor": "white"
           }
          },
          "shapedefaults": {
           "line": {
            "color": "#2a3f5f"
           }
          },
          "ternary": {
           "aaxis": {
            "gridcolor": "white",
            "linecolor": "white",
            "ticks": ""
           },
           "baxis": {
            "gridcolor": "white",
            "linecolor": "white",
            "ticks": ""
           },
           "bgcolor": "#E5ECF6",
           "caxis": {
            "gridcolor": "white",
            "linecolor": "white",
            "ticks": ""
           }
          },
          "title": {
           "x": 0.05
          },
          "xaxis": {
           "automargin": true,
           "gridcolor": "white",
           "linecolor": "white",
           "ticks": "",
           "title": {
            "standoff": 15
           },
           "zerolinecolor": "white",
           "zerolinewidth": 2
          },
          "yaxis": {
           "automargin": true,
           "gridcolor": "white",
           "linecolor": "white",
           "ticks": "",
           "title": {
            "standoff": 15
           },
           "zerolinecolor": "white",
           "zerolinewidth": 2
          }
         }
        }
       }
      }
     },
     "metadata": {},
     "output_type": "display_data"
    }
   ],
   "source": [
    "sorted_df = pd.DataFrame({'node_id': np.zeros(len(unique_points_df)), 'lat': 0, 'lon': 0})\n",
    "\n",
    "for i, node_id in enumerate(eval(orders.loc[3912, 'sequence'])):\n",
    "    sorted_df.iloc[i] = [node_id, unique_points_df.loc[node_id, 'lat'], unique_points_df.loc[node_id, 'lon']]\n",
    "\n",
    "import plotly.express as px\n",
    "\n",
    "fig = px.line_mapbox(sorted_df, lat=\"lat\", lon=\"lon\", zoom=3, height=300)\n",
    "\n",
    "fig.update_layout(mapbox_style=\"stamen-terrain\", mapbox_zoom=4, mapbox_center_lat = 41,\n",
    "    margin={\"r\":0,\"t\":0,\"l\":0,\"b\":0})\n",
    "\n",
    "fig.show()"
   ]
  },
  {
   "cell_type": "code",
   "execution_count": 197,
   "metadata": {},
   "outputs": [
    {
     "data": {
      "text/plain": [
       "[8952426168,\n",
       " 8952426164,\n",
       " 3344709913,\n",
       " 321367731,\n",
       " 321367693,\n",
       " 4762038090,\n",
       " 321367730,\n",
       " 321367465,\n",
       " 4712363592,\n",
       " 4488929053,\n",
       " 321367466,\n",
       " 321367526,\n",
       " 7060127406,\n",
       " 321367527,\n",
       " 271326641,\n",
       " 321366711,\n",
       " 4475534144,\n",
       " 4475535214,\n",
       " 4475535230,\n",
       " 10980529,\n",
       " 4475535391,\n",
       " 4475535420,\n",
       " 4475535438,\n",
       " 4475535671,\n",
       " 3719875491,\n",
       " 3719875511,\n",
       " 3719875512,\n",
       " 5208339857,\n",
       " 4475535825,\n",
       " 4628552322,\n",
       " 4628552324,\n",
       " 4628552323,\n",
       " 3719876031,\n",
       " 290404304,\n",
       " 10980498,\n",
       " 10980445,\n",
       " 5221977182,\n",
       " 5221977183,\n",
       " 1901714242,\n",
       " 4625785799,\n",
       " 4625785687,\n",
       " 5222301453,\n",
       " 4382575812,\n",
       " 5222301454,\n",
       " 290404267,\n",
       " 290404288,\n",
       " 4625452523,\n",
       " 290404286,\n",
       " 3902355677,\n",
       " 4625318589,\n",
       " 4625318613,\n",
       " 4625318588,\n",
       " 4439629615,\n",
       " 4439629617,\n",
       " 4439629618,\n",
       " 7578135694,\n",
       " 287688121,\n",
       " 8018354885,\n",
       " 4439629631,\n",
       " 4439629638,\n",
       " 4439629640,\n",
       " 4439629641,\n",
       " 274918417,\n",
       " 5238124794,\n",
       " 4630829403,\n",
       " 4630829408,\n",
       " 4439629645,\n",
       " 4325093115,\n",
       " 274918418,\n",
       " 5238124966,\n",
       " 4439629647,\n",
       " 4439629648,\n",
       " 1751043133,\n",
       " 317442798,\n",
       " 4325093119,\n",
       " 4439629653,\n",
       " 4625500016,\n",
       " 4325093120,\n",
       " 27128849,\n",
       " 4325093123,\n",
       " 1750183274,\n",
       " 447812022,\n",
       " 447812017,\n",
       " 4441087562,\n",
       " 27128851,\n",
       " 4441087563,\n",
       " 290644306,\n",
       " 1750183283,\n",
       " 1750183285,\n",
       " 4441087566,\n",
       " 290644303,\n",
       " 4630829196,\n",
       " 290644302,\n",
       " 4405131655]"
      ]
     },
     "execution_count": 197,
     "metadata": {},
     "output_type": "execute_result"
    }
   ],
   "source": [
    "eval(orders.loc[3912, 'sequence'])"
   ]
  },
  {
   "cell_type": "code",
   "execution_count": 217,
   "metadata": {},
   "outputs": [
    {
     "data": {
      "text/html": [
       "<div>\n",
       "<style scoped>\n",
       "    .dataframe tbody tr th:only-of-type {\n",
       "        vertical-align: middle;\n",
       "    }\n",
       "\n",
       "    .dataframe tbody tr th {\n",
       "        vertical-align: top;\n",
       "    }\n",
       "\n",
       "    .dataframe thead th {\n",
       "        text-align: right;\n",
       "    }\n",
       "</style>\n",
       "<table border=\"1\" class=\"dataframe\">\n",
       "  <thead>\n",
       "    <tr style=\"text-align: right;\">\n",
       "      <th></th>\n",
       "      <th>Id</th>\n",
       "      <th>running_time</th>\n",
       "      <th>completed_time</th>\n",
       "      <th>route_distance_km</th>\n",
       "      <th>delta_time</th>\n",
       "      <th>sequence</th>\n",
       "    </tr>\n",
       "  </thead>\n",
       "  <tbody>\n",
       "    <tr>\n",
       "      <th>0</th>\n",
       "      <td>-4773019581999572651</td>\n",
       "      <td>2022-01-24 18:30:21</td>\n",
       "      <td>2022-01-24 18:44:43</td>\n",
       "      <td>3.740</td>\n",
       "      <td>862.0</td>\n",
       "      <td>[4441087529, 4441087526, 4325099311, 290891853...</td>\n",
       "    </tr>\n",
       "    <tr>\n",
       "      <th>1</th>\n",
       "      <td>-7575630690398473489</td>\n",
       "      <td>2022-01-24 06:53:53</td>\n",
       "      <td>2022-01-24 07:06:26</td>\n",
       "      <td>3.526</td>\n",
       "      <td>753.0</td>\n",
       "      <td>[4790757673, 4790757674, 4790757672, 290404245...</td>\n",
       "    </tr>\n",
       "    <tr>\n",
       "      <th>2</th>\n",
       "      <td>-6264582368520213833</td>\n",
       "      <td>2022-01-24 10:00:59</td>\n",
       "      <td>2022-01-24 10:15:58</td>\n",
       "      <td>5.071</td>\n",
       "      <td>899.0</td>\n",
       "      <td>[6806370965, 6806370964, 6806370963, 680637096...</td>\n",
       "    </tr>\n",
       "    <tr>\n",
       "      <th>3</th>\n",
       "      <td>5964315354301636538</td>\n",
       "      <td>2022-01-24 14:28:05</td>\n",
       "      <td>2022-01-24 14:35:08</td>\n",
       "      <td>2.867</td>\n",
       "      <td>423.0</td>\n",
       "      <td>[988709862, 2072353444, 988709861, 4382736188,...</td>\n",
       "    </tr>\n",
       "    <tr>\n",
       "      <th>4</th>\n",
       "      <td>1372379574816145639</td>\n",
       "      <td>2022-01-24 11:57:29</td>\n",
       "      <td>2022-01-24 12:06:29</td>\n",
       "      <td>3.751</td>\n",
       "      <td>540.0</td>\n",
       "      <td>[5216935102, 5216935103, 1973798474, 197379847...</td>\n",
       "    </tr>\n",
       "    <tr>\n",
       "      <th>...</th>\n",
       "      <td>...</td>\n",
       "      <td>...</td>\n",
       "      <td>...</td>\n",
       "      <td>...</td>\n",
       "      <td>...</td>\n",
       "      <td>...</td>\n",
       "    </tr>\n",
       "    <tr>\n",
       "      <th>4995</th>\n",
       "      <td>7096714159023973792</td>\n",
       "      <td>2022-01-24 21:10:38</td>\n",
       "      <td>2022-01-24 21:23:53</td>\n",
       "      <td>7.397</td>\n",
       "      <td>795.0</td>\n",
       "      <td>[8952394106, 8952394105, 8952394112, 895239411...</td>\n",
       "    </tr>\n",
       "    <tr>\n",
       "      <th>4996</th>\n",
       "      <td>-3836026425968071806</td>\n",
       "      <td>2022-01-24 15:10:27</td>\n",
       "      <td>2022-01-24 15:20:21</td>\n",
       "      <td>1.948</td>\n",
       "      <td>594.0</td>\n",
       "      <td>27126481</td>\n",
       "    </tr>\n",
       "    <tr>\n",
       "      <th>4997</th>\n",
       "      <td>2926216435675216636</td>\n",
       "      <td>2022-01-24 13:57:04</td>\n",
       "      <td>2022-01-24 14:03:18</td>\n",
       "      <td>2.547</td>\n",
       "      <td>374.0</td>\n",
       "      <td>[317195151, 317190444, 2133368106, 1570777095,...</td>\n",
       "    </tr>\n",
       "    <tr>\n",
       "      <th>4998</th>\n",
       "      <td>-6677307480063489707</td>\n",
       "      <td>2022-01-24 08:46:13</td>\n",
       "      <td>2022-01-24 08:55:34</td>\n",
       "      <td>3.013</td>\n",
       "      <td>561.0</td>\n",
       "      <td>[320912506, 3358737298, 3358737333, 3358737332...</td>\n",
       "    </tr>\n",
       "    <tr>\n",
       "      <th>4999</th>\n",
       "      <td>-4845695090750648713</td>\n",
       "      <td>2022-01-24 14:57:46</td>\n",
       "      <td>2022-01-24 15:11:25</td>\n",
       "      <td>2.323</td>\n",
       "      <td>819.0</td>\n",
       "      <td>[8952395527, 8952395526, 8952395530, 895239552...</td>\n",
       "    </tr>\n",
       "  </tbody>\n",
       "</table>\n",
       "<p>5000 rows × 6 columns</p>\n",
       "</div>"
      ],
      "text/plain": [
       "                       Id         running_time       completed_time  \\\n",
       "0    -4773019581999572651  2022-01-24 18:30:21  2022-01-24 18:44:43   \n",
       "1    -7575630690398473489  2022-01-24 06:53:53  2022-01-24 07:06:26   \n",
       "2    -6264582368520213833  2022-01-24 10:00:59  2022-01-24 10:15:58   \n",
       "3     5964315354301636538  2022-01-24 14:28:05  2022-01-24 14:35:08   \n",
       "4     1372379574816145639  2022-01-24 11:57:29  2022-01-24 12:06:29   \n",
       "...                   ...                  ...                  ...   \n",
       "4995  7096714159023973792  2022-01-24 21:10:38  2022-01-24 21:23:53   \n",
       "4996 -3836026425968071806  2022-01-24 15:10:27  2022-01-24 15:20:21   \n",
       "4997  2926216435675216636  2022-01-24 13:57:04  2022-01-24 14:03:18   \n",
       "4998 -6677307480063489707  2022-01-24 08:46:13  2022-01-24 08:55:34   \n",
       "4999 -4845695090750648713  2022-01-24 14:57:46  2022-01-24 15:11:25   \n",
       "\n",
       "      route_distance_km  delta_time  \\\n",
       "0                 3.740       862.0   \n",
       "1                 3.526       753.0   \n",
       "2                 5.071       899.0   \n",
       "3                 2.867       423.0   \n",
       "4                 3.751       540.0   \n",
       "...                 ...         ...   \n",
       "4995              7.397       795.0   \n",
       "4996              1.948       594.0   \n",
       "4997              2.547       374.0   \n",
       "4998              3.013       561.0   \n",
       "4999              2.323       819.0   \n",
       "\n",
       "                                               sequence  \n",
       "0     [4441087529, 4441087526, 4325099311, 290891853...  \n",
       "1     [4790757673, 4790757674, 4790757672, 290404245...  \n",
       "2     [6806370965, 6806370964, 6806370963, 680637096...  \n",
       "3     [988709862, 2072353444, 988709861, 4382736188,...  \n",
       "4     [5216935102, 5216935103, 1973798474, 197379847...  \n",
       "...                                                 ...  \n",
       "4995  [8952394106, 8952394105, 8952394112, 895239411...  \n",
       "4996                                           27126481  \n",
       "4997  [317195151, 317190444, 2133368106, 1570777095,...  \n",
       "4998  [320912506, 3358737298, 3358737333, 3358737332...  \n",
       "4999  [8952395527, 8952395526, 8952395530, 895239552...  \n",
       "\n",
       "[5000 rows x 6 columns]"
      ]
     },
     "execution_count": 217,
     "metadata": {},
     "output_type": "execute_result"
    }
   ],
   "source": [
    "orders"
   ]
  },
  {
   "cell_type": "code",
   "execution_count": 214,
   "metadata": {},
   "outputs": [
    {
     "data": {
      "text/html": [
       "<div>\n",
       "<style scoped>\n",
       "    .dataframe tbody tr th:only-of-type {\n",
       "        vertical-align: middle;\n",
       "    }\n",
       "\n",
       "    .dataframe tbody tr th {\n",
       "        vertical-align: top;\n",
       "    }\n",
       "\n",
       "    .dataframe thead th {\n",
       "        text-align: right;\n",
       "    }\n",
       "</style>\n",
       "<table border=\"1\" class=\"dataframe\">\n",
       "  <thead>\n",
       "    <tr style=\"text-align: right;\">\n",
       "      <th></th>\n",
       "      <th>Id</th>\n",
       "      <th>running_time</th>\n",
       "      <th>completed_time</th>\n",
       "      <th>route_distance_km</th>\n",
       "      <th>delta_time</th>\n",
       "      <th>sequence</th>\n",
       "    </tr>\n",
       "  </thead>\n",
       "  <tbody>\n",
       "    <tr>\n",
       "      <th>1916</th>\n",
       "      <td>-2419401989749837317</td>\n",
       "      <td>2022-01-24 09:30:28</td>\n",
       "      <td>2022-01-24 09:32:20</td>\n",
       "      <td>3.500</td>\n",
       "      <td>112.0</td>\n",
       "      <td>Zero normal points</td>\n",
       "    </tr>\n",
       "    <tr>\n",
       "      <th>3430</th>\n",
       "      <td>-3395337991444444556</td>\n",
       "      <td>2022-01-24 20:27:48</td>\n",
       "      <td>2022-01-24 20:40:56</td>\n",
       "      <td>3.686</td>\n",
       "      <td>788.0</td>\n",
       "      <td>Zero normal points</td>\n",
       "    </tr>\n",
       "    <tr>\n",
       "      <th>4137</th>\n",
       "      <td>617981316941136554</td>\n",
       "      <td>2022-01-24 15:55:42</td>\n",
       "      <td>2022-01-24 16:01:46</td>\n",
       "      <td>0.540</td>\n",
       "      <td>364.0</td>\n",
       "      <td>Zero normal points</td>\n",
       "    </tr>\n",
       "  </tbody>\n",
       "</table>\n",
       "</div>"
      ],
      "text/plain": [
       "                       Id         running_time       completed_time  \\\n",
       "1916 -2419401989749837317  2022-01-24 09:30:28  2022-01-24 09:32:20   \n",
       "3430 -3395337991444444556  2022-01-24 20:27:48  2022-01-24 20:40:56   \n",
       "4137   617981316941136554  2022-01-24 15:55:42  2022-01-24 16:01:46   \n",
       "\n",
       "      route_distance_km  delta_time            sequence  \n",
       "1916              3.500       112.0  Zero normal points  \n",
       "3430              3.686       788.0  Zero normal points  \n",
       "4137              0.540       364.0  Zero normal points  "
      ]
     },
     "execution_count": 214,
     "metadata": {},
     "output_type": "execute_result"
    }
   ],
   "source": [
    "orders[orders['sequence'].isin(['Zero normal points', 'More then 1 next point', 'More then 1 prev point'])]"
   ]
  },
  {
   "cell_type": "code",
   "execution_count": 177,
   "metadata": {},
   "outputs": [
    {
     "data": {
      "text/html": [
       "<div>\n",
       "<style scoped>\n",
       "    .dataframe tbody tr th:only-of-type {\n",
       "        vertical-align: middle;\n",
       "    }\n",
       "\n",
       "    .dataframe tbody tr th {\n",
       "        vertical-align: top;\n",
       "    }\n",
       "\n",
       "    .dataframe thead th {\n",
       "        text-align: right;\n",
       "    }\n",
       "</style>\n",
       "<table border=\"1\" class=\"dataframe\">\n",
       "  <thead>\n",
       "    <tr style=\"text-align: right;\">\n",
       "      <th></th>\n",
       "      <th>Id</th>\n",
       "      <th>running_time</th>\n",
       "      <th>completed_time</th>\n",
       "      <th>route_distance_km</th>\n",
       "      <th>delta_time</th>\n",
       "      <th>sequence</th>\n",
       "    </tr>\n",
       "  </thead>\n",
       "  <tbody>\n",
       "    <tr>\n",
       "      <th>1916</th>\n",
       "      <td>-2419401989749837317</td>\n",
       "      <td>2022-01-24 09:30:28</td>\n",
       "      <td>2022-01-24 09:32:20</td>\n",
       "      <td>3.500</td>\n",
       "      <td>112.0</td>\n",
       "      <td>Zero normal points</td>\n",
       "    </tr>\n",
       "    <tr>\n",
       "      <th>3430</th>\n",
       "      <td>-3395337991444444556</td>\n",
       "      <td>2022-01-24 20:27:48</td>\n",
       "      <td>2022-01-24 20:40:56</td>\n",
       "      <td>3.686</td>\n",
       "      <td>788.0</td>\n",
       "      <td>Zero normal points</td>\n",
       "    </tr>\n",
       "    <tr>\n",
       "      <th>4137</th>\n",
       "      <td>617981316941136554</td>\n",
       "      <td>2022-01-24 15:55:42</td>\n",
       "      <td>2022-01-24 16:01:46</td>\n",
       "      <td>0.540</td>\n",
       "      <td>364.0</td>\n",
       "      <td>Zero normal points</td>\n",
       "    </tr>\n",
       "  </tbody>\n",
       "</table>\n",
       "</div>"
      ],
      "text/plain": [
       "                       Id         running_time       completed_time  \\\n",
       "1916 -2419401989749837317  2022-01-24 09:30:28  2022-01-24 09:32:20   \n",
       "3430 -3395337991444444556  2022-01-24 20:27:48  2022-01-24 20:40:56   \n",
       "4137   617981316941136554  2022-01-24 15:55:42  2022-01-24 16:01:46   \n",
       "\n",
       "      route_distance_km  delta_time            sequence  \n",
       "1916              3.500       112.0  Zero normal points  \n",
       "3430              3.686       788.0  Zero normal points  \n",
       "4137              0.540       364.0  Zero normal points  "
      ]
     },
     "execution_count": 177,
     "metadata": {},
     "output_type": "execute_result"
    }
   ],
   "source": [
    "orders[orders['sequence'].isin(['Zero normal points'])]"
   ]
  },
  {
   "cell_type": "code",
   "execution_count": 218,
   "metadata": {},
   "outputs": [],
   "source": [
    "orders.to_csv('orders_with_sequencesv2.csv')"
   ]
  },
  {
   "cell_type": "code",
   "execution_count": null,
   "metadata": {},
   "outputs": [],
   "source": []
  }
 ],
 "metadata": {
  "kernelspec": {
   "display_name": "Python 3",
   "language": "python",
   "name": "python3"
  },
  "language_info": {
   "codemirror_mode": {
    "name": "ipython",
    "version": 3
   },
   "file_extension": ".py",
   "mimetype": "text/x-python",
   "name": "python",
   "nbconvert_exporter": "python",
   "pygments_lexer": "ipython3",
   "version": "3.9.10"
  },
  "orig_nbformat": 4
 },
 "nbformat": 4,
 "nbformat_minor": 2
}
