{
 "cells": [
  {
   "cell_type": "code",
   "execution_count": 1,
   "metadata": {},
   "outputs": [
    {
     "data": {
      "text/html": [
       "<style type='text/css'>\n",
       ".datatable table.frame { margin-bottom: 0; }\n",
       ".datatable table.frame thead { border-bottom: none; }\n",
       ".datatable table.frame tr.coltypes td {  color: #FFFFFF;  line-height: 6px;  padding: 0 0.5em;}\n",
       ".datatable .bool    { background: #DDDD99; }\n",
       ".datatable .object  { background: #565656; }\n",
       ".datatable .int     { background: #5D9E5D; }\n",
       ".datatable .float   { background: #4040CC; }\n",
       ".datatable .str     { background: #CC4040; }\n",
       ".datatable .time    { background: #40CC40; }\n",
       ".datatable .row_index {  background: var(--jp-border-color3);  border-right: 1px solid var(--jp-border-color0);  color: var(--jp-ui-font-color3);  font-size: 9px;}\n",
       ".datatable .frame tbody td { text-align: left; }\n",
       ".datatable .frame tr.coltypes .row_index {  background: var(--jp-border-color0);}\n",
       ".datatable th:nth-child(2) { padding-left: 12px; }\n",
       ".datatable .hellipsis {  color: var(--jp-cell-editor-border-color);}\n",
       ".datatable .vellipsis {  background: var(--jp-layout-color0);  color: var(--jp-cell-editor-border-color);}\n",
       ".datatable .na {  color: var(--jp-cell-editor-border-color);  font-size: 80%;}\n",
       ".datatable .sp {  opacity: 0.25;}\n",
       ".datatable .footer { font-size: 9px; }\n",
       ".datatable .frame_dimensions {  background: var(--jp-border-color3);  border-top: 1px solid var(--jp-border-color0);  color: var(--jp-ui-font-color3);  display: inline-block;  opacity: 0.6;  padding: 1px 10px 1px 5px;}\n",
       "</style>\n"
      ],
      "text/plain": [
       "<IPython.core.display.HTML object>"
      ]
     },
     "metadata": {},
     "output_type": "display_data"
    }
   ],
   "source": [
    "import numpy as np\n",
    "import pandas as pd\n",
    "import lightgbm as lgb\n",
    "import optuna"
   ]
  },
  {
   "cell_type": "code",
   "execution_count": 6,
   "metadata": {},
   "outputs": [],
   "source": [
    "input = pd.read_csv('final_df_start_center_finish.csv')"
   ]
  },
  {
   "cell_type": "code",
   "execution_count": 8,
   "metadata": {},
   "outputs": [],
   "source": [
    "pred_time = pd.read_csv('pred_time.csv', index_col=\"Id\")\n",
    "input[\"pred_time\"] = pred_time"
   ]
  },
  {
   "cell_type": "code",
   "execution_count": 18,
   "metadata": {},
   "outputs": [],
   "source": [
    "# input = input.drop(['running_time', 'completed_time'], axis=1)\n",
    "input = input.fillna(0)"
   ]
  },
  {
   "cell_type": "code",
   "execution_count": 56,
   "metadata": {},
   "outputs": [],
   "source": [
    "y_train = input['delta_time']\n",
    "X_train = input.drop(['delta_time'], axis=1)"
   ]
  },
  {
   "cell_type": "code",
   "execution_count": 57,
   "metadata": {},
   "outputs": [],
   "source": [
    "from sklearn.preprocessing import MinMaxScaler\n",
    "from sklearn.model_selection import train_test_split"
   ]
  },
  {
   "cell_type": "code",
   "execution_count": 61,
   "metadata": {},
   "outputs": [],
   "source": [
    "scaler = MinMaxScaler()\n",
    "\n",
    "X_train = scaler.fit_transform(X_train)\n",
    "\n",
    "scaler_y = MinMaxScaler()\n",
    "\n",
    "y_train = scaler_y.fit_transform(y_train.values.reshape(-1, 1))\n",
    "\n",
    "X_train, X_test, y_train, y_test = train_test_split(X_train, y_train, test_size = 0.1, random_state = 42)"
   ]
  },
  {
   "cell_type": "code",
   "execution_count": 71,
   "metadata": {},
   "outputs": [],
   "source": [
    "import optuna\n",
    "import torch\n",
    "import torch.nn as nn\n",
    "import torch.optim as optim\n",
    "import pandas as pd\n",
    "import numpy as np\n",
    "from sklearn.model_selection import train_test_split\n",
    "from sklearn.metrics import mean_squared_error"
   ]
  },
  {
   "cell_type": "code",
   "execution_count": 80,
   "metadata": {},
   "outputs": [],
   "source": [
    "class Dataset(torch.utils.data.Dataset):\n",
    "\n",
    "    def __init__(self, features, labels):\n",
    "        self.labels = labels\n",
    "        self.features = features\n",
    "\n",
    "    def classes(self):\n",
    "        return self.labels\n",
    "\n",
    "    def __len__(self):\n",
    "        return len(self.labels)\n",
    "\n",
    "    def get_batch_labels(self, idx):\n",
    "        return np.array(self.labels[idx])\n",
    "\n",
    "    def get_batch_features(self, idx):\n",
    "        return np.array(self.features[idx])\n",
    "\n",
    "    def __getitem__(self, idx):\n",
    "        batch_features = self.get_batch_features(idx)\n",
    "        batch_y = self.get_batch_labels(idx)\n",
    "\n",
    "        return batch_features, batch_y"
   ]
  },
  {
   "cell_type": "code",
   "execution_count": 81,
   "metadata": {},
   "outputs": [
    {
     "data": {
      "text/plain": [
       "torch.Size([500, 116])"
      ]
     },
     "execution_count": 81,
     "metadata": {},
     "output_type": "execute_result"
    }
   ],
   "source": [
    "X_test.shape"
   ]
  },
  {
   "cell_type": "code",
   "execution_count": 82,
   "metadata": {},
   "outputs": [
    {
     "name": "stderr",
     "output_type": "stream",
     "text": [
      "C:\\Users\\Andrii\\AppData\\Local\\Temp/ipykernel_1724/3402302031.py:1: UserWarning: To copy construct from a tensor, it is recommended to use sourceTensor.clone().detach() or sourceTensor.clone().detach().requires_grad_(True), rather than torch.tensor(sourceTensor).\n",
      "  X_train = torch.tensor(X_train, dtype=torch.float32)\n",
      "C:\\Users\\Andrii\\AppData\\Local\\Temp/ipykernel_1724/3402302031.py:2: UserWarning: To copy construct from a tensor, it is recommended to use sourceTensor.clone().detach() or sourceTensor.clone().detach().requires_grad_(True), rather than torch.tensor(sourceTensor).\n",
      "  y_train = torch.tensor(y_train, dtype=torch.float32).reshape(-1, 1)\n",
      "C:\\Users\\Andrii\\AppData\\Local\\Temp/ipykernel_1724/3402302031.py:3: UserWarning: To copy construct from a tensor, it is recommended to use sourceTensor.clone().detach() or sourceTensor.clone().detach().requires_grad_(True), rather than torch.tensor(sourceTensor).\n",
      "  X_test = torch.tensor(X_test, dtype=torch.float32)\n",
      "C:\\Users\\Andrii\\AppData\\Local\\Temp/ipykernel_1724/3402302031.py:4: UserWarning: To copy construct from a tensor, it is recommended to use sourceTensor.clone().detach() or sourceTensor.clone().detach().requires_grad_(True), rather than torch.tensor(sourceTensor).\n",
      "  y_test = torch.tensor(y_test, dtype=torch.float32).reshape(-1, 1)\n"
     ]
    }
   ],
   "source": [
    "X_train = torch.tensor(X_train, dtype=torch.float32)\n",
    "y_train = torch.tensor(y_train, dtype=torch.float32).reshape(-1, 1)\n",
    "X_test = torch.tensor(X_test, dtype=torch.float32)\n",
    "y_test = torch.tensor(y_test, dtype=torch.float32).reshape(-1, 1)"
   ]
  },
  {
   "cell_type": "code",
   "execution_count": 68,
   "metadata": {},
   "outputs": [
    {
     "data": {
      "text/plain": [
       "torch.Size([4497, 1])"
      ]
     },
     "execution_count": 68,
     "metadata": {},
     "output_type": "execute_result"
    }
   ],
   "source": [
    "y_train.shape"
   ]
  },
  {
   "cell_type": "code",
   "execution_count": 169,
   "metadata": {},
   "outputs": [],
   "source": [
    "class Block(nn.Module):\n",
    "    def __init__(self, in_features, out_features, dropout_rate=0.2, dropout_rate_2=0.2, use_last_batchnorm=True):\n",
    "        \"\"\"\n",
    "        Args:\n",
    "          in_channels (int):  Number of input channels.\n",
    "          out_channels (int): Number of output channels.\n",
    "          stride (int):       Controls the stride.\n",
    "        \"\"\"\n",
    "        super(Block, self).__init__()\n",
    "\n",
    "        self.block = nn.Sequential(\n",
    "            nn.BatchNorm1d(in_features),\n",
    "            nn.Linear(in_features, in_features),\n",
    "            nn.ReLU(),\n",
    "            nn.Dropout(dropout_rate),\n",
    "            nn.Linear(in_features, in_features),\n",
    "            nn.Dropout(dropout_rate_2))\n",
    "        \n",
    "        modules = []\n",
    "        \n",
    "        if use_last_batchnorm:\n",
    "            modules.append(nn.BatchNorm1d(in_features))\n",
    "        modules.append(nn.ReLU())            \n",
    "        modules.append(nn.Linear(in_features, out_features))\n",
    "        self.part2 = nn.Sequential(*modules)\n",
    "\n",
    "            \n",
    "    def forward(self, x):\n",
    "        out = self.block(x)\n",
    "\n",
    "        out += x\n",
    "        \n",
    "        out = self.part2(out)\n",
    "\n",
    "        return out"
   ]
  },
  {
   "cell_type": "code",
   "execution_count": 175,
   "metadata": {},
   "outputs": [],
   "source": [
    "# Build a model by implementing define-by-run design from Optuna\n",
    "def build_model_custom(trial):\n",
    "    \n",
    "    n_layers = trial.suggest_int(\"n_layers\", 1, 8)\n",
    "    layers = []\n",
    "\n",
    "    in_features = X_train.shape[1]\n",
    "\n",
    "    out_features = trial.suggest_int(\"n_units_l-1\", 64, 512)\n",
    "\n",
    "    dropout_1 = trial.suggest_uniform('dropout1', 0, 0.5)\n",
    "    dropout_2 = trial.suggest_uniform('dropout2', 0, 0.5)\n",
    "\n",
    "    layers.append(nn.Linear(in_features, out_features))\n",
    "\n",
    "    in_features = out_features\n",
    "    \n",
    "    for i in range(n_layers):\n",
    "        out_features = trial.suggest_int(\"n_units_l{}\".format(i), 64, 512)\n",
    "        \n",
    "        layers.append(Block(in_features, out_features, dropout_1, dropout_2, i != n_layers - 1))\n",
    "        in_features = out_features\n",
    "        \n",
    "    layers.append(nn.Linear(in_features, 1))\n",
    "    layers.append(nn.ReLU())\n",
    "    \n",
    "    return nn.Sequential(*layers)"
   ]
  },
  {
   "cell_type": "code",
   "execution_count": 176,
   "metadata": {},
   "outputs": [],
   "source": [
    "# Train and evaluate the accuracy of neural network with the addition of pruning mechanism\n",
    "def train_and_evaluate(param, model, trial = None):\n",
    "\n",
    "    train, val = Dataset(X_train, y_train), Dataset(X_test, y_test)\n",
    "\n",
    "    train_dataloader = torch.utils.data.DataLoader(train, batch_size=param['batch_size'], shuffle=True)\n",
    "    val_dataloader = torch.utils.data.DataLoader(val, batch_size=param['batch_size'])\n",
    "\n",
    "    use_cuda = torch.cuda.is_available()\n",
    "    device = torch.device(\"cuda\" if use_cuda else \"cpu\")\n",
    "\n",
    "    criterion = nn.MSELoss()\n",
    "    optimizer = getattr(optim, param['optimizer'])(model.parameters(), lr=param['learning_rate'], weight_decay=param['weight_decay'])\n",
    "    scheduler = torch.optim.lr_scheduler.ReduceLROnPlateau(optimizer, 'min')\n",
    "\n",
    "    if use_cuda:\n",
    "        model = model.cuda()\n",
    "        criterion = criterion.cuda()\n",
    "\n",
    "    for epoch_num in range(param['max_epochs']):\n",
    "\n",
    "            total_rmse_train = 0\n",
    "            total_loss_train = 0\n",
    "\n",
    "            for train_input, train_label in train_dataloader:\n",
    "\n",
    "                train_label = train_label.to(device)\n",
    "                train_input = train_input.to(device)\n",
    "\n",
    "                output = model(train_input.float())\n",
    "                \n",
    "                batch_loss = criterion(output, train_label)\n",
    "                total_loss_train += batch_loss.item()\n",
    "                \n",
    "                rmse = mean_squared_error(train_label.cpu(), output.cpu().detach().numpy(), squared=False)\n",
    "                total_rmse_train += rmse\n",
    "\n",
    "                model.zero_grad()\n",
    "                batch_loss.backward()\n",
    "                optimizer.step()\n",
    "            \n",
    "            total_rmse_val = 0\n",
    "            total_loss_val = 0\n",
    "\n",
    "            with torch.no_grad():\n",
    "\n",
    "                for val_input, val_label in val_dataloader:\n",
    "\n",
    "                    val_label = val_label.to(device)\n",
    "                    val_input = val_input.to(device)\n",
    "\n",
    "                    output = model(val_input.float())\n",
    "\n",
    "                    batch_loss = criterion(output, val_label)\n",
    "                    total_loss_val += batch_loss.item()\n",
    "                    \n",
    "                    rmse =  mean_squared_error(val_label.cpu(), output.cpu().detach().numpy(), squared=False)\n",
    "                    total_rmse_val += rmse\n",
    "            \n",
    "            rmse = total_rmse_val/len(y_test)\n",
    "            \n",
    "            scheduler.step(rmse)\n",
    "\n",
    "            if trial:\n",
    "                # Add prune mechanism\n",
    "                trial.report(rmse, epoch_num)\n",
    "\n",
    "                if trial.should_prune():\n",
    "                    raise optuna.exceptions.TrialPruned()\n",
    "\n",
    "    return rmse"
   ]
  },
  {
   "cell_type": "code",
   "execution_count": 177,
   "metadata": {},
   "outputs": [],
   "source": [
    "# Define a set of hyperparameter values, build the model, train the model, and evaluate the accuracy\n",
    "def objective(trial):\n",
    "\n",
    "     params = {\n",
    "              'learning_rate': trial.suggest_loguniform('learning_rate', 1e-5, 1e-1),\n",
    "              'weight_decay': trial.suggest_loguniform('weight_decay', 1e-6, 1e-3),\n",
    "              'optimizer': trial.suggest_categorical(\"optimizer\", [\"Adam\", \"RMSprop\", \"SGD\"]),\n",
    "              'batch_size': trial.suggest_categorical(\"batch_size\", [32, 64, 128, 256]),\n",
    "               'max_epochs': trial.suggest_categorical(\"max_epochs\", [30, 40, 50, 60, 70, 100]),\n",
    "              }\n",
    "    \n",
    "     model = build_model_custom(trial)\n",
    "\n",
    "     rmse = train_and_evaluate(params, model, trial)\n",
    "\n",
    "     return rmse"
   ]
  },
  {
   "cell_type": "code",
   "execution_count": 201,
   "metadata": {},
   "outputs": [
    {
     "name": "stderr",
     "output_type": "stream",
     "text": [
      "C:\\Users\\Andrii\\AppData\\Local\\Packages\\PythonSoftwareFoundation.Python.3.9_qbz5n2kfra8p0\\LocalCache\\local-packages\\Python39\\site-packages\\optuna\\progress_bar.py:47: ExperimentalWarning:\n",
      "\n",
      "Progress bar is experimental (supported from v1.2.0). The interface can change in the future.\n",
      "\n"
     ]
    },
    {
     "data": {
      "application/vnd.jupyter.widget-view+json": {
       "model_id": "d5888f5fd23e4784b3c6fc5b82f9fa5b",
       "version_major": 2,
       "version_minor": 0
      },
      "text/plain": [
       "  0%|          | 0/25 [00:00<?, ?it/s]"
      ]
     },
     "metadata": {},
     "output_type": "display_data"
    },
    {
     "name": "stdout",
     "output_type": "stream",
     "text": [
      "\u001b[32m[I 2023-03-05 05:49:40,318]\u001b[0m Trial 55 pruned. \u001b[0m\n",
      "\u001b[32m[I 2023-03-05 05:49:40,721]\u001b[0m Trial 56 pruned. \u001b[0m\n",
      "\u001b[32m[I 2023-03-05 05:49:41,076]\u001b[0m Trial 57 pruned. \u001b[0m\n",
      "\u001b[32m[I 2023-03-05 05:49:41,690]\u001b[0m Trial 58 pruned. \u001b[0m\n",
      "\u001b[32m[I 2023-03-05 05:49:42,257]\u001b[0m Trial 59 pruned. \u001b[0m\n",
      "\u001b[32m[I 2023-03-05 05:49:42,559]\u001b[0m Trial 60 pruned. \u001b[0m\n",
      "\u001b[32m[I 2023-03-05 05:49:43,020]\u001b[0m Trial 61 pruned. \u001b[0m\n",
      "\u001b[32m[I 2023-03-05 05:49:43,401]\u001b[0m Trial 62 pruned. \u001b[0m\n",
      "\u001b[32m[I 2023-03-05 05:50:04,148]\u001b[0m Trial 63 finished with value: 0.0005483960807323455 and parameters: {'learning_rate': 0.0016103785180026265, 'weight_decay': 0.0004311699984173278, 'optimizer': 'Adam', 'batch_size': 256, 'max_epochs': 60, 'n_layers': 3, 'n_units_l-1': 128, 'dropout1': 0.4577813340209889, 'dropout2': 0.27515869087232503, 'n_units_l0': 170, 'n_units_l1': 227, 'n_units_l2': 275}. Best is trial 45 with value: 0.0005366033911705017.\u001b[0m\n",
      "\u001b[32m[I 2023-03-05 05:50:05,864]\u001b[0m Trial 64 pruned. \u001b[0m\n",
      "\u001b[32m[I 2023-03-05 05:50:06,883]\u001b[0m Trial 65 pruned. \u001b[0m\n",
      "\u001b[32m[I 2023-03-05 05:50:07,125]\u001b[0m Trial 66 pruned. \u001b[0m\n",
      "\u001b[32m[I 2023-03-05 05:50:07,368]\u001b[0m Trial 67 pruned. \u001b[0m\n",
      "\u001b[32m[I 2023-03-05 05:50:07,828]\u001b[0m Trial 68 pruned. \u001b[0m\n",
      "\u001b[32m[I 2023-03-05 05:50:08,871]\u001b[0m Trial 69 pruned. \u001b[0m\n",
      "\u001b[32m[I 2023-03-05 05:50:09,135]\u001b[0m Trial 70 pruned. \u001b[0m\n",
      "\u001b[32m[I 2023-03-05 05:50:09,506]\u001b[0m Trial 71 pruned. \u001b[0m\n",
      "\u001b[32m[I 2023-03-05 05:50:09,898]\u001b[0m Trial 72 pruned. \u001b[0m\n",
      "\u001b[32m[I 2023-03-05 05:50:10,245]\u001b[0m Trial 73 pruned. \u001b[0m\n",
      "\u001b[32m[I 2023-03-05 05:50:10,492]\u001b[0m Trial 74 pruned. \u001b[0m\n",
      "\u001b[32m[I 2023-03-05 05:50:28,114]\u001b[0m Trial 75 finished with value: 0.0005509268343448639 and parameters: {'learning_rate': 0.00151960000453387, 'weight_decay': 0.00042705382426072537, 'optimizer': 'Adam', 'batch_size': 256, 'max_epochs': 70, 'n_layers': 1, 'n_units_l-1': 140, 'dropout1': 0.40632726176956097, 'dropout2': 0.3344360599162666, 'n_units_l0': 157}. Best is trial 45 with value: 0.0005366033911705017.\u001b[0m\n",
      "\u001b[32m[I 2023-03-05 05:50:29,070]\u001b[0m Trial 76 pruned. \u001b[0m\n",
      "\u001b[32m[I 2023-03-05 05:50:47,266]\u001b[0m Trial 77 finished with value: 0.0005531335473060607 and parameters: {'learning_rate': 0.0009703008474351052, 'weight_decay': 0.0004223740337956425, 'optimizer': 'Adam', 'batch_size': 256, 'max_epochs': 70, 'n_layers': 1, 'n_units_l-1': 166, 'dropout1': 0.2287553970358277, 'dropout2': 0.34276528189305916, 'n_units_l0': 122}. Best is trial 45 with value: 0.0005366033911705017.\u001b[0m\n",
      "\u001b[32m[I 2023-03-05 05:50:47,510]\u001b[0m Trial 78 pruned. \u001b[0m\n",
      "\u001b[32m[I 2023-03-05 05:50:47,998]\u001b[0m Trial 79 pruned. \u001b[0m\n"
     ]
    }
   ],
   "source": [
    "# study = optuna.create_study(direction=\"minimize\", sampler=optuna.samplers.TPESampler(), pruner=optuna.pruners.MedianPruner())\n",
    "study.optimize(objective, n_trials=25, show_progress_bar=True)"
   ]
  },
  {
   "cell_type": "code",
   "execution_count": 202,
   "metadata": {},
   "outputs": [
    {
     "data": {
      "text/plain": [
       "{'learning_rate': 0.003320666903799562,\n",
       " 'weight_decay': 0.0002862478870592661,\n",
       " 'optimizer': 'Adam',\n",
       " 'batch_size': 256,\n",
       " 'max_epochs': 100,\n",
       " 'n_layers': 1,\n",
       " 'n_units_l-1': 147,\n",
       " 'dropout1': 0.4586327591625059,\n",
       " 'dropout2': 0.07180085102853859,\n",
       " 'n_units_l0': 145}"
      ]
     },
     "execution_count": 202,
     "metadata": {},
     "output_type": "execute_result"
    }
   ],
   "source": [
    "study.best_trial.params"
   ]
  },
  {
   "cell_type": "code",
   "execution_count": 203,
   "metadata": {},
   "outputs": [
    {
     "data": {
      "application/vnd.plotly.v1+json": {
       "config": {
        "plotlyServerURL": "https://plot.ly"
       },
       "data": [
        {
         "marker": {
          "maxdisplayed": 10
         },
         "mode": "lines+markers",
         "name": "Trial0",
         "type": "scatter",
         "x": [
          0,
          1,
          2,
          3,
          4,
          5,
          6,
          7,
          8,
          9,
          10,
          11,
          12,
          13,
          14,
          15,
          16,
          17,
          18,
          19,
          20,
          21,
          22,
          23,
          24,
          25,
          26,
          27,
          28,
          29,
          30,
          31,
          32,
          33,
          34,
          35,
          36,
          37,
          38,
          39,
          40,
          41,
          42,
          43,
          44,
          45,
          46,
          47,
          48,
          49,
          50,
          51,
          52,
          53,
          54,
          55,
          56,
          57,
          58,
          59,
          60,
          61,
          62,
          63,
          64,
          65,
          66,
          67,
          68,
          69,
          70,
          71,
          72,
          73,
          74,
          75,
          76,
          77,
          78,
          79,
          80,
          81,
          82,
          83,
          84,
          85,
          86,
          87,
          88,
          89,
          90,
          91,
          92,
          93,
          94,
          95,
          96,
          97,
          98,
          99
         ],
         "y": [
          0.002121148645877838,
          0.0019451827704906463,
          0.0019130536317825317,
          0.0018235254883766175,
          0.0018562052845954894,
          0.001862011045217514,
          0.001829581916332245,
          0.0018617844581604005,
          0.0017993603944778443,
          0.0018311134874820709,
          0.0018154073357582092,
          0.00182649627327919,
          0.0018088330030441285,
          0.0018179364800453186,
          0.0018018448650836945,
          0.0018129340410232544,
          0.001823565572500229,
          0.0018091513216495513,
          0.001804624080657959,
          0.0018086867034435273,
          0.001812309592962265,
          0.0018121895790100097,
          0.0018078410923480987,
          0.0018102956414222718,
          0.001812091886997223,
          0.0018019248247146606,
          0.0018158235251903535,
          0.0018105762004852295,
          0.001808583915233612,
          0.0018099355399608611,
          0.001797789216041565,
          0.0018089722096920014,
          0.0018025856912136078,
          0.0018078858256340027,
          0.001804548442363739,
          0.0018039583265781402,
          0.0018104300498962402,
          0.0018114983439445496,
          0.0018086581230163574,
          0.0018031521439552307,
          0.0018047597110271453,
          0.0018069409430027008,
          0.0018193900883197785,
          0.0018039961755275727,
          0.0018126082420349121,
          0.0018068495392799377,
          0.0018105567097663879,
          0.0018085481822490692,
          0.0017998892664909364,
          0.0018058048784732818,
          0.001808190494775772,
          0.0018076947927474975,
          0.0018174506425857543,
          0.0018133716881275177,
          0.0018034845590591431,
          0.0018043035864830016,
          0.0018095282316207887,
          0.0018064940869808198,
          0.0018090181350708008,
          0.0018052578270435333,
          0.0018106879591941833,
          0.001796294927597046,
          0.001803516536951065,
          0.0018041597306728363,
          0.0018058477342128754,
          0.0018054036498069764,
          0.0018053709268569947,
          0.001803798258304596,
          0.001803443282842636,
          0.001806250512599945,
          0.0017962486147880554,
          0.0018086068034172057,
          0.0018074442744255067,
          0.0018064002990722655,
          0.0018143111169338225,
          0.0018248408734798432,
          0.001824285864830017,
          0.0018116426765918733,
          0.001800274819135666,
          0.001808497667312622,
          0.001812542110681534,
          0.0018210179805755616,
          0.0018097558319568633,
          0.0018097876012325286,
          0.0018042489886283875,
          0.0018043905198574066,
          0.0018230193257331847,
          0.0018058160841464997,
          0.0018042995631694795,
          0.0018169813454151154,
          0.0018128555119037628,
          0.0017934369146823882,
          0.001802136868238449,
          0.0018083116412162782,
          0.0018111042380332947,
          0.0018082985579967498,
          0.0018059200644493104,
          0.0018058413565158844,
          0.001812695175409317,
          0.001797166883945465
         ]
        },
        {
         "marker": {
          "maxdisplayed": 10
         },
         "mode": "lines+markers",
         "name": "Trial1",
         "type": "scatter",
         "x": [
          0,
          1,
          2,
          3,
          4,
          5,
          6,
          7,
          8,
          9,
          10,
          11,
          12,
          13,
          14,
          15,
          16,
          17,
          18,
          19,
          20,
          21,
          22,
          23,
          24,
          25,
          26,
          27,
          28,
          29,
          30,
          31,
          32,
          33,
          34,
          35,
          36,
          37,
          38,
          39,
          40,
          41,
          42,
          43,
          44,
          45,
          46,
          47,
          48,
          49,
          50,
          51,
          52,
          53,
          54,
          55,
          56,
          57,
          58,
          59,
          60,
          61,
          62,
          63,
          64,
          65,
          66,
          67,
          68,
          69
         ],
         "y": [
          0.009490254938602448,
          0.008216090708971023,
          0.008349694520235061,
          0.008036558926105499,
          0.007856766939163208,
          0.007956300675868989,
          0.007923093020915985,
          0.007940974920988083,
          0.007881989181041717,
          0.008096408605575561,
          0.007952254384756089,
          0.007964977860450745,
          0.00778474286198616,
          0.007895655751228333,
          0.007771385103464127,
          0.007870669186115264,
          0.007624069124460221,
          0.007843919932842254,
          0.007844896018505097,
          0.007887186855077744,
          0.007617727994918823,
          0.007896491676568985,
          0.007776043593883514,
          0.007809032797813416,
          0.007475282073020935,
          0.007662152916193009,
          0.007581656038761139,
          0.007821338385343551,
          0.007904064983129502,
          0.007670089393854141,
          0.007506033986806869,
          0.007647137492895127,
          0.007485356986522675,
          0.007562521874904632,
          0.007540918469429016,
          0.007654599457979202,
          0.007772783786058426,
          0.007675163596868515,
          0.007782374054193497,
          0.007637505233287811,
          0.007667377799749375,
          0.007725040555000305,
          0.0076978448927402495,
          0.007870767831802367,
          0.00762080180644989,
          0.007647742509841919,
          0.007504608303308487,
          0.0078609938621521,
          0.007565848499536515,
          0.007429842174053192,
          0.007541921555995941,
          0.007413061559200287,
          0.007624099463224411,
          0.007607657998800278,
          0.007664681226015091,
          0.007679723471403122,
          0.007698462665081024,
          0.007698791831731796,
          0.007834516048431396,
          0.007620998114347458,
          0.007582436501979828,
          0.007557055443525315,
          0.007427825719118118,
          0.007565198719501495,
          0.007416698932647705,
          0.00794662195444107,
          0.0074056369364261625,
          0.007614171504974366,
          0.007522631257772446,
          0.007580964595079422
         ]
        },
        {
         "marker": {
          "maxdisplayed": 10
         },
         "mode": "lines+markers",
         "name": "Trial2",
         "type": "scatter",
         "x": [
          0,
          1,
          2,
          3,
          4,
          5,
          6,
          7,
          8,
          9,
          10,
          11,
          12,
          13,
          14,
          15,
          16,
          17,
          18,
          19,
          20,
          21,
          22,
          23,
          24,
          25,
          26,
          27,
          28,
          29,
          30,
          31,
          32,
          33,
          34,
          35,
          36,
          37,
          38,
          39,
          40,
          41,
          42,
          43,
          44,
          45,
          46,
          47,
          48,
          49,
          50,
          51,
          52,
          53,
          54,
          55,
          56,
          57,
          58,
          59,
          60,
          61,
          62,
          63,
          64,
          65,
          66,
          67,
          68,
          69,
          70,
          71,
          72,
          73,
          74,
          75,
          76,
          77,
          78,
          79,
          80,
          81,
          82,
          83,
          84,
          85,
          86,
          87,
          88,
          89,
          90,
          91,
          92,
          93,
          94,
          95,
          96,
          97,
          98,
          99
         ],
         "y": [
          0.02006721568107605,
          0.02006721568107605,
          0.02006721568107605,
          0.02006721568107605,
          0.02006721568107605,
          0.02006721568107605,
          0.02006721568107605,
          0.02006721568107605,
          0.02006721568107605,
          0.02006721568107605,
          0.02006721568107605,
          0.02006721568107605,
          0.02006721568107605,
          0.02006721568107605,
          0.02006721568107605,
          0.02006721568107605,
          0.02006721568107605,
          0.02006721568107605,
          0.02006721568107605,
          0.02006721568107605,
          0.02006721568107605,
          0.02006721568107605,
          0.02006721568107605,
          0.02006721568107605,
          0.02006721568107605,
          0.02006721568107605,
          0.02006721568107605,
          0.02006721568107605,
          0.02006721568107605,
          0.02006721568107605,
          0.02006721568107605,
          0.02006721568107605,
          0.02006721568107605,
          0.02006721568107605,
          0.02006721568107605,
          0.02006721568107605,
          0.02006721568107605,
          0.02006721568107605,
          0.02006721568107605,
          0.02006721568107605,
          0.02006721568107605,
          0.02006721568107605,
          0.02006721568107605,
          0.02006721568107605,
          0.02006721568107605,
          0.02006721568107605,
          0.02006721568107605,
          0.02006721568107605,
          0.02006721568107605,
          0.02006721568107605,
          0.02006721568107605,
          0.02006721568107605,
          0.02006721568107605,
          0.02006721568107605,
          0.02006721568107605,
          0.02006721568107605,
          0.02006721568107605,
          0.02006721568107605,
          0.02006721568107605,
          0.02006721568107605,
          0.02006721568107605,
          0.02006721568107605,
          0.02006721568107605,
          0.02006721568107605,
          0.02006721568107605,
          0.02006721568107605,
          0.02006721568107605,
          0.02006721568107605,
          0.02006721568107605,
          0.02006721568107605,
          0.02006721568107605,
          0.02006721568107605,
          0.02006721568107605,
          0.02006721568107605,
          0.02006721568107605,
          0.02006721568107605,
          0.02006721568107605,
          0.02006721568107605,
          0.02006721568107605,
          0.02006721568107605,
          0.02006721568107605,
          0.02006721568107605,
          0.02006721568107605,
          0.02006721568107605,
          0.02006721568107605,
          0.02006721568107605,
          0.02006721568107605,
          0.02006721568107605,
          0.02006721568107605,
          0.02006721568107605,
          0.02006721568107605,
          0.02006721568107605,
          0.02006721568107605,
          0.02006721568107605,
          0.02006721568107605,
          0.02006721568107605,
          0.02006721568107605,
          0.02006721568107605,
          0.02006721568107605,
          0.02006721568107605
         ]
        },
        {
         "marker": {
          "maxdisplayed": 10
         },
         "mode": "lines+markers",
         "name": "Trial3",
         "type": "scatter",
         "x": [
          0,
          1,
          2,
          3,
          4,
          5,
          6,
          7,
          8,
          9,
          10,
          11,
          12,
          13,
          14,
          15,
          16,
          17,
          18,
          19,
          20,
          21,
          22,
          23,
          24,
          25,
          26,
          27,
          28,
          29,
          30,
          31,
          32,
          33,
          34,
          35,
          36,
          37,
          38,
          39,
          40,
          41,
          42,
          43,
          44,
          45,
          46,
          47,
          48,
          49,
          50,
          51,
          52,
          53,
          54,
          55,
          56,
          57,
          58,
          59,
          60,
          61,
          62,
          63,
          64,
          65,
          66,
          67,
          68,
          69,
          70,
          71,
          72,
          73,
          74,
          75,
          76,
          77,
          78,
          79,
          80,
          81,
          82,
          83,
          84,
          85,
          86,
          87,
          88,
          89,
          90,
          91,
          92,
          93,
          94,
          95,
          96,
          97,
          98,
          99
         ],
         "y": [
          0.006995940327644348,
          0.006366890430450439,
          0.0063451784253120425,
          0.006075107127428055,
          0.005770371526479721,
          0.005621540278196334,
          0.0054735358655452725,
          0.00534940379858017,
          0.005329610019922257,
          0.004998019695281982,
          0.004832996219396591,
          0.004949852138757706,
          0.0048777123391628265,
          0.004827271685004234,
          0.004983040928840637,
          0.004702966377139092,
          0.004863966256380081,
          0.004766079366207123,
          0.005271924644708634,
          0.0047467507719993595,
          0.004842502728104592,
          0.004799052909016609,
          0.004570119827985763,
          0.004846885547041893,
          0.0046744030565023425,
          0.004543586045503616,
          0.0046963954865932465,
          0.004804437503218651,
          0.004518499627709388,
          0.004778414085507393,
          0.005025633215904236,
          0.004862731397151947,
          0.004638104572892189,
          0.004708442628383636,
          0.0048073046505451205,
          0.004767098620533943,
          0.004703820094466209,
          0.0047198934853076935,
          0.004823781996965409,
          0.004907444760203362,
          0.00461422373354435,
          0.004682277217507362,
          0.004634237855672837,
          0.004570395663380623,
          0.004653264701366425,
          0.00468193519115448,
          0.00467633867263794,
          0.0046887600868940355,
          0.004662138253450394,
          0.004548987045884132,
          0.004549412533640862,
          0.004662889584898949,
          0.004637839287519455,
          0.00459504683315754,
          0.004645195469260216,
          0.004476771831512451,
          0.004512146651744843,
          0.004630027323961258,
          0.0045513794273138045,
          0.004570820823311806,
          0.004573747426271439,
          0.0045649298876523975,
          0.004602765023708343,
          0.004678337574005127,
          0.0045481656640768055,
          0.004654684036970139,
          0.00457343690097332,
          0.004566070422530174,
          0.004585570380091667,
          0.00464311595261097,
          0.0045762787014245986,
          0.004620840057730675,
          0.004589575007557869,
          0.004573399916291237,
          0.004660466030240059,
          0.004648405164480209,
          0.004656377792358398,
          0.004591873496770859,
          0.004649964347481728,
          0.004553331807255745,
          0.004577311292290688,
          0.004662099614739418,
          0.004650570079684257,
          0.004704610243439674,
          0.004716635212302208,
          0.00459071247279644,
          0.004609585747122765,
          0.0046120876669883725,
          0.004551818981766701,
          0.004648980721831322,
          0.004615216299891472,
          0.004612313836812973,
          0.004568169370293617,
          0.004611702755093574,
          0.004404705747961998,
          0.004716662406921387,
          0.004542547941207886,
          0.004752926170825959,
          0.004533327504992485,
          0.004621573626995086
         ]
        },
        {
         "marker": {
          "maxdisplayed": 10
         },
         "mode": "lines+markers",
         "name": "Trial4",
         "type": "scatter",
         "x": [
          0,
          1,
          2,
          3,
          4,
          5,
          6,
          7,
          8,
          9,
          10,
          11,
          12,
          13,
          14,
          15,
          16,
          17,
          18,
          19,
          20,
          21,
          22,
          23,
          24,
          25,
          26,
          27,
          28,
          29,
          30,
          31,
          32,
          33,
          34,
          35,
          36,
          37,
          38,
          39,
          40,
          41,
          42,
          43,
          44,
          45,
          46,
          47,
          48,
          49
         ],
         "y": [
          0.0021365546584129333,
          0.002062321186065674,
          0.00194612655043602,
          0.0020308136940002442,
          0.0019786291718482973,
          0.0019968354701995848,
          0.001905655801296234,
          0.001967039227485657,
          0.0019510194957256318,
          0.0019230884909629822,
          0.0019068106710910797,
          0.0019321596324443817,
          0.001955116152763367,
          0.0018517695367336272,
          0.0018835991621017456,
          0.0019228006005287171,
          0.0018749824166297913,
          0.001894680917263031,
          0.001865673989057541,
          0.0018683837354183197,
          0.0018745238184928895,
          0.0018739367425441742,
          0.0019054055511951446,
          0.001861547201871872,
          0.0018657972216606141,
          0.0018485862910747528,
          0.0018228430449962617,
          0.001851445257663727,
          0.001851303994655609,
          0.0018687819540500641,
          0.0018485838770866394,
          0.0018971595168113709,
          0.0018651493191719055,
          0.0018594028055667878,
          0.001815755695104599,
          0.0018468647301197053,
          0.0018699030876159668,
          0.0018687315583229066,
          0.0018928349912166595,
          0.0018619530200958251,
          0.00185527241230011,
          0.0018516544699668884,
          0.0018317328989505767,
          0.0018818355202674865,
          0.00183765909075737,
          0.0018492684364318848,
          0.0018724396228790284,
          0.0018668852746486664,
          0.0018693225085735321,
          0.001876643717288971
         ]
        },
        {
         "marker": {
          "maxdisplayed": 10
         },
         "mode": "lines+markers",
         "name": "Trial5",
         "type": "scatter",
         "x": [
          0,
          1,
          2,
          3,
          4,
          5,
          6,
          7,
          8,
          9
         ],
         "y": [
          0.0050293128490448,
          0.0050293128490448,
          0.0050293128490448,
          0.0050293128490448,
          0.0050293128490448,
          0.0050293128490448,
          0.0050293128490448,
          0.0050293128490448,
          0.0050293128490448,
          0.0050293128490448
         ]
        },
        {
         "marker": {
          "maxdisplayed": 10
         },
         "mode": "lines+markers",
         "name": "Trial6",
         "type": "scatter",
         "x": [
          0
         ],
         "y": [
          0.010060407876968384
         ]
        },
        {
         "marker": {
          "maxdisplayed": 10
         },
         "mode": "lines+markers",
         "name": "Trial7",
         "type": "scatter",
         "x": [
          0
         ],
         "y": [
          0.007564837813377381
         ]
        },
        {
         "marker": {
          "maxdisplayed": 10
         },
         "mode": "lines+markers",
         "name": "Trial8",
         "type": "scatter",
         "x": [
          0,
          1,
          2,
          3,
          4,
          5,
          6,
          7,
          8,
          9,
          10,
          11,
          12,
          13,
          14,
          15,
          16,
          17,
          18,
          19,
          20,
          21,
          22,
          23,
          24,
          25,
          26,
          27,
          28,
          29,
          30,
          31,
          32,
          33,
          34,
          35,
          36,
          37,
          38,
          39,
          40,
          41,
          42,
          43,
          44,
          45,
          46,
          47,
          48,
          49,
          50,
          51,
          52,
          53,
          54,
          55,
          56,
          57,
          58,
          59,
          60,
          61,
          62,
          63,
          64,
          65,
          66,
          67,
          68,
          69,
          70,
          71,
          72,
          73,
          74,
          75,
          76,
          77,
          78,
          79,
          80,
          81,
          82,
          83,
          84,
          85,
          86,
          87,
          88,
          89,
          90,
          91,
          92,
          93,
          94,
          95,
          96,
          97,
          98,
          99
         ],
         "y": [
          0.000976990580558777,
          0.0008993634879589081,
          0.0008591521084308625,
          0.0008353046178817749,
          0.0007333057820796966,
          0.0007273373901844025,
          0.0006498307585716248,
          0.0006685488522052764,
          0.000626047670841217,
          0.0006524078547954559,
          0.0005962437093257904,
          0.0006098623275756836,
          0.0005952672064304352,
          0.0005920867323875427,
          0.0006087942123413086,
          0.0006013844311237336,
          0.0005865257680416107,
          0.0006035722196102143,
          0.0005816116034984589,
          0.0005744630992412567,
          0.0005887775421142579,
          0.0005943882465362549,
          0.0005856084525585174,
          0.0005874853432178498,
          0.0005895744264125824,
          0.0005773185193538666,
          0.0005888153910636902,
          0.0005880235135555267,
          0.0006446506381034851,
          0.0005769273638725281,
          0.0005915989577770233,
          0.0005850169062614441,
          0.000582775205373764,
          0.0005719305872917175,
          0.0005712218880653382,
          0.0005827804207801819,
          0.0005709399878978729,
          0.0005699291229248047,
          0.0005625604689121247,
          0.0005704806149005889,
          0.0005870676934719086,
          0.0005629938840866088,
          0.0005814520120620728,
          0.0005726744830608368,
          0.0005627561807632446,
          0.0005730849206447602,
          0.0005766654312610626,
          0.000579813152551651,
          0.0005748130679130555,
          0.0005741010010242463,
          0.0005911345481872559,
          0.0005724148154258728,
          0.0005801728069782257,
          0.0005803168416023255,
          0.0005708991885185242,
          0.0005700257420539856,
          0.0005874118804931641,
          0.0005885509550571441,
          0.0005692760348320007,
          0.0005530040264129639,
          0.0005528970062732697,
          0.0005603998899459839,
          0.000585006445646286,
          0.0005702131688594818,
          0.0005812845230102539,
          0.0005734047293663025,
          0.0005630456805229187,
          0.0005794471502304077,
          0.0005890876054763794,
          0.0005772224962711334,
          0.0005911566019058227,
          0.0005904479324817658,
          0.0005873654782772064,
          0.0005911105573177338,
          0.0005799486637115479,
          0.0005844887793064117,
          0.0005660505592823029,
          0.0005678833425045014,
          0.000584899514913559,
          0.000573882907629013,
          0.0005603226721286774,
          0.0005768582820892333,
          0.0005781005322933197,
          0.0005760292410850525,
          0.000585239589214325,
          0.00057539963722229,
          0.0005775752961635589,
          0.0005714367926120758,
          0.0005966731011867523,
          0.0005804403722286225,
          0.0005742459893226623,
          0.0005919556915760041,
          0.0005838826894760132,
          0.0005835524797439575,
          0.0005700421035289764,
          0.000581207275390625,
          0.0005726279020309449,
          0.0005923836529254914,
          0.000577226459980011,
          0.0005673118233680725
         ]
        },
        {
         "marker": {
          "maxdisplayed": 10
         },
         "mode": "lines+markers",
         "name": "Trial9",
         "type": "scatter",
         "x": [
          0
         ],
         "y": [
          0.0050293128490448
         ]
        },
        {
         "marker": {
          "maxdisplayed": 10
         },
         "mode": "lines+markers",
         "name": "Trial10",
         "type": "scatter",
         "x": [
          0,
          1,
          2,
          3,
          4,
          5,
          6,
          7,
          8,
          9,
          10,
          11,
          12,
          13,
          14,
          15,
          16,
          17,
          18,
          19,
          20,
          21,
          22,
          23,
          24,
          25,
          26,
          27,
          28,
          29,
          30,
          31,
          32,
          33,
          34,
          35,
          36,
          37,
          38,
          39
         ],
         "y": [
          0.0022775696516036986,
          0.0018685079216957093,
          0.0014004279375076293,
          0.0011162086129188537,
          0.0009974689483642578,
          0.0009856966435909272,
          0.0009373160302639008,
          0.0009454267323017121,
          0.0009237486124038696,
          0.0009204694330692292,
          0.0009296055138111114,
          0.0009158263504505157,
          0.0008912306725978852,
          0.0008830169439315796,
          0.0008819249570369721,
          0.0008716106414794922,
          0.0008627769052982331,
          0.0008788239061832428,
          0.0008574923872947692,
          0.0008517989814281464,
          0.0008594165742397309,
          0.0008439684808254242,
          0.0008484789133071899,
          0.0008224250376224518,
          0.000829721450805664,
          0.0008257731795310974,
          0.0008015983998775482,
          0.000804894357919693,
          0.000796514093875885,
          0.0008097162842750549,
          0.0007893069386482239,
          0.0007890914976596832,
          0.0008001869320869446,
          0.0007538890242576599,
          0.0007818363606929779,
          0.0007683762013912201,
          0.0007672876417636872,
          0.0007374328374862671,
          0.0007531551420688629,
          0.0007597649097442627
         ]
        },
        {
         "marker": {
          "maxdisplayed": 10
         },
         "mode": "lines+markers",
         "name": "Trial11",
         "type": "scatter",
         "x": [
          0
         ],
         "y": [
          0.0023552157878875732
         ]
        },
        {
         "marker": {
          "maxdisplayed": 10
         },
         "mode": "lines+markers",
         "name": "Trial12",
         "type": "scatter",
         "x": [
          0,
          1,
          2,
          3,
          4,
          5,
          6,
          7,
          8,
          9,
          10,
          11,
          12,
          13,
          14,
          15,
          16,
          17,
          18,
          19,
          20,
          21,
          22,
          23,
          24,
          25,
          26,
          27,
          28,
          29,
          30,
          31,
          32,
          33,
          34,
          35,
          36,
          37,
          38,
          39
         ],
         "y": [
          0.0010889077186584473,
          0.0008876964151859284,
          0.0008754165470600128,
          0.0008511935770511627,
          0.0008165896236896515,
          0.0007703466713428497,
          0.0007865479290485383,
          0.0007410823404788971,
          0.0007233792543411255,
          0.0006988497972488404,
          0.0006707015037536622,
          0.0006518913805484772,
          0.0006497273445129395,
          0.0006189968287944794,
          0.0006445259749889374,
          0.0006329801976680756,
          0.0006249389052391053,
          0.0006158698201179504,
          0.0006117742955684662,
          0.0006197927892208099,
          0.0006098514497280121,
          0.0006048848628997803,
          0.0005893053710460663,
          0.0005902127325534821,
          0.000613908588886261,
          0.0006122209429740905,
          0.0005828834176063538,
          0.0006080613732337951,
          0.0005874442756175995,
          0.0005937900841236115,
          0.0005957062840461731,
          0.0005905160009860992,
          0.0005893528461456299,
          0.0006003572940826416,
          0.0005954816341400146,
          0.0005903021395206452,
          0.000589876115322113,
          0.0005941318571567536,
          0.0005807274281978607,
          0.000591349184513092
         ]
        },
        {
         "marker": {
          "maxdisplayed": 10
         },
         "mode": "lines+markers",
         "name": "Trial13",
         "type": "scatter",
         "x": [
          0,
          1,
          2,
          3,
          4,
          5,
          6,
          7,
          8,
          9,
          10,
          11,
          12,
          13,
          14,
          15,
          16,
          17,
          18,
          19,
          20,
          21,
          22,
          23,
          24,
          25,
          26,
          27,
          28,
          29,
          30,
          31,
          32,
          33,
          34,
          35,
          36,
          37,
          38,
          39
         ],
         "y": [
          0.000905651718378067,
          0.0008151552975177765,
          0.0007745154798030853,
          0.0007165081799030304,
          0.0007158283889293671,
          0.0006932919323444366,
          0.0006533837914466858,
          0.0006403212249279023,
          0.0006435769498348236,
          0.0006347799897193909,
          0.00061846524477005,
          0.0006119365990161896,
          0.0006158403158187866,
          0.0006234941184520722,
          0.000616067498922348,
          0.0006191773414611816,
          0.0006146918535232544,
          0.0006213661134243011,
          0.000614972323179245,
          0.0006113274693489074,
          0.0006137629747390747,
          0.0006309436559677124,
          0.0006228951811790466,
          0.000623441755771637,
          0.0006281739175319672,
          0.000610287070274353,
          0.0006211214065551758,
          0.0006190172731876374,
          0.000636201024055481,
          0.0006204106211662293,
          0.0006210002005100251,
          0.0006108399629592895,
          0.0006744100153446197,
          0.0006465735733509064,
          0.0006364977359771728,
          0.0006602249145507813,
          0.0006397595405578613,
          0.000613225907087326,
          0.0006241936683654785,
          0.0006043638288974762
         ]
        },
        {
         "marker": {
          "maxdisplayed": 10
         },
         "mode": "lines+markers",
         "name": "Trial14",
         "type": "scatter",
         "x": [
          0,
          1,
          2,
          3,
          4,
          5,
          6,
          7,
          8,
          9,
          10,
          11,
          12,
          13,
          14,
          15,
          16,
          17,
          18,
          19,
          20,
          21,
          22,
          23,
          24,
          25,
          26,
          27,
          28,
          29,
          30,
          31,
          32,
          33,
          34,
          35,
          36,
          37,
          38,
          39,
          40,
          41,
          42,
          43,
          44,
          45,
          46,
          47,
          48,
          49,
          50,
          51,
          52,
          53,
          54,
          55,
          56,
          57,
          58,
          59,
          60,
          61,
          62,
          63,
          64,
          65,
          66,
          67,
          68,
          69
         ],
         "y": [
          0.0009512516558170318,
          0.0008947816789150238,
          0.0008901252150535584,
          0.0008550858795642852,
          0.0008185747265815735,
          0.0007983100414276123,
          0.0007847787439823151,
          0.0007468749284744263,
          0.0007461648881435394,
          0.0006836217939853669,
          0.0006842261254787445,
          0.0006609090864658356,
          0.0006580976247787476,
          0.0006511810719966888,
          0.0006529431045055389,
          0.0006466915309429168,
          0.0006163270175457001,
          0.0006294890344142914,
          0.0006213692724704742,
          0.0006169283092021942,
          0.0006346162557601928,
          0.000595772385597229,
          0.0006247437298297882,
          0.0005955491662025451,
          0.0006098889708518982,
          0.0006030397415161133,
          0.0006103761792182923,
          0.0005869178771972656,
          0.0005952515304088593,
          0.0006267886459827423,
          0.0006072636246681213,
          0.0005918126404285431,
          0.0005900945067405701,
          0.0005913761258125305,
          0.0005903843939304352,
          0.0006118465065956116,
          0.0005967867076396942,
          0.0006044838428497315,
          0.0006155400574207306,
          0.0006153347492218017,
          0.0006042875051498413,
          0.0006048966646194458,
          0.0006018089652061462,
          0.0006014816761016846,
          0.000598734438419342,
          0.000590452253818512,
          0.0005913791358470917,
          0.0006035684645175934,
          0.0005962413251399994,
          0.0006017142832279205,
          0.0006074063777923584,
          0.0005879600048065186,
          0.0006057175993919372,
          0.0006077685058116913,
          0.000598507970571518,
          0.0005895993113517761,
          0.0006091981828212738,
          0.000604188859462738,
          0.000590186208486557,
          0.0006124690175056457,
          0.0006081950664520263,
          0.000586070328950882,
          0.0006022039949893952,
          0.000601770281791687,
          0.0005985575318336487,
          0.000607098639011383,
          0.0005824007987976074,
          0.0006190775036811829,
          0.0005996844470500946,
          0.0005974729061126709
         ]
        },
        {
         "marker": {
          "maxdisplayed": 10
         },
         "mode": "lines+markers",
         "name": "Trial15",
         "type": "scatter",
         "x": [
          0,
          1,
          2,
          3,
          4,
          5,
          6,
          7,
          8,
          9,
          10,
          11,
          12,
          13,
          14,
          15,
          16,
          17,
          18,
          19,
          20,
          21,
          22,
          23,
          24,
          25,
          26,
          27,
          28,
          29,
          30,
          31,
          32,
          33,
          34,
          35,
          36,
          37,
          38,
          39,
          40,
          41,
          42,
          43,
          44,
          45,
          46,
          47,
          48,
          49,
          50,
          51,
          52,
          53,
          54,
          55,
          56,
          57,
          58,
          59
         ],
         "y": [
          0.0010158677399158477,
          0.0009250757396221161,
          0.0008784278929233551,
          0.0008277741372585297,
          0.0007457126379013062,
          0.0007346004247665405,
          0.0006605165898799896,
          0.0006268045306205749,
          0.0006472809612751007,
          0.0006051954329013825,
          0.0006073088943958282,
          0.0005940908789634705,
          0.0006106562018394471,
          0.0005832624137401581,
          0.0006031843721866607,
          0.0005646571516990662,
          0.000571833074092865,
          0.0005780728161334991,
          0.0005897834599018096,
          0.000588783323764801,
          0.0005815649628639221,
          0.0005962408483028412,
          0.0005615138709545135,
          0.0005575984418392182,
          0.0005633695125579834,
          0.0005946046710014343,
          0.000590129166841507,
          0.0005772022008895874,
          0.0005749585032463073,
          0.0005744726657867431,
          0.0005617212653160096,
          0.0005715241134166718,
          0.000583234965801239,
          0.0005575547516345978,
          0.0005686393082141876,
          0.0005526960790157318,
          0.0005549642741680145,
          0.000567556232213974,
          0.0005530811846256256,
          0.0005522332489490509,
          0.0005641324818134308,
          0.0005580925047397613,
          0.0005496322214603425,
          0.0005575734972953797,
          0.0005577432215213776,
          0.000543538510799408,
          0.0005450788736343384,
          0.0005433697402477264,
          0.0005499897003173828,
          0.0005594658255577088,
          0.0005545062720775604,
          0.0005516203939914704,
          0.0005561020970344543,
          0.0005477226078510285,
          0.0005642639100551605,
          0.0005455357730388641,
          0.0005446691811084747,
          0.0005525927841663361,
          0.0005405145287513733,
          0.000554593026638031
         ]
        },
        {
         "marker": {
          "maxdisplayed": 10
         },
         "mode": "lines+markers",
         "name": "Trial16",
         "type": "scatter",
         "x": [
          0
         ],
         "y": [
          0.010060407876968384
         ]
        },
        {
         "marker": {
          "maxdisplayed": 10
         },
         "mode": "lines+markers",
         "name": "Trial17",
         "type": "scatter",
         "x": [
          0,
          1,
          2,
          3,
          4,
          5,
          6,
          7,
          8,
          9,
          10,
          11,
          12,
          13,
          14,
          15,
          16,
          17,
          18,
          19,
          20,
          21,
          22,
          23,
          24,
          25,
          26,
          27,
          28,
          29,
          30,
          31,
          32,
          33,
          34,
          35,
          36,
          37,
          38,
          39,
          40,
          41,
          42,
          43,
          44,
          45,
          46,
          47,
          48,
          49,
          50,
          51,
          52,
          53,
          54,
          55,
          56,
          57,
          58,
          59
         ],
         "y": [
          0.0009862729609012603,
          0.0008544096648693085,
          0.0007184237241744995,
          0.0006531481742858887,
          0.000601006954908371,
          0.000600839614868164,
          0.0006075417995452881,
          0.0005757700800895691,
          0.0005842374563217163,
          0.0005737523436546326,
          0.0006227904558181763,
          0.0006034137904644012,
          0.0005840267837047577,
          0.0005854974091053009,
          0.0005894406735897065,
          0.0005791182518005371,
          0.0005731668472290039,
          0.0005992937684059143,
          0.0006083163917064667,
          0.0005722872912883759,
          0.000569824367761612,
          0.000586149662733078,
          0.0005978150665760041,
          0.0005682929158210754,
          0.0005722476243972778,
          0.0005750739276409149,
          0.0005983659923076629,
          0.0005545325577259064,
          0.0005816875994205475,
          0.0005882803201675415,
          0.0005711070001125335,
          0.0005794581472873688,
          0.0005655557215213776,
          0.0005810009241104126,
          0.0005740801393985749,
          0.0005877261459827423,
          0.0005768049657344818,
          0.0005927200019359589,
          0.0005819806158542633,
          0.0005708613693714142,
          0.0005575502216815948,
          0.000565266638994217,
          0.000571811854839325,
          0.0005559373795986176,
          0.0005627765059471131,
          0.0005692957937717438,
          0.0005666733980178833,
          0.000572824090719223,
          0.0005751771032810212,
          0.0005648327469825745,
          0.000572955071926117,
          0.0005745654702186585,
          0.0005809029638767242,
          0.0005716679990291595,
          0.0005845900774002075,
          0.0005782018899917603,
          0.0005839471220970154,
          0.0005738091468811035,
          0.0005780559182167053,
          0.0005673867464065552
         ]
        },
        {
         "marker": {
          "maxdisplayed": 10
         },
         "mode": "lines+markers",
         "name": "Trial18",
         "type": "scatter",
         "x": [
          0,
          1,
          2,
          3,
          4,
          5,
          6,
          7,
          8,
          9,
          10,
          11,
          12,
          13,
          14,
          15,
          16,
          17,
          18,
          19,
          20,
          21,
          22,
          23,
          24,
          25,
          26,
          27,
          28,
          29
         ],
         "y": [
          0.0008643794357776641,
          0.0007850875854492188,
          0.0007420577704906464,
          0.0006390999257564544,
          0.0006280574798583985,
          0.000611661285161972,
          0.0005968603491783142,
          0.0005920343101024628,
          0.0005862763226032258,
          0.0005933462679386139,
          0.0005868975520133972,
          0.0006425422728061676,
          0.0005564852654933929,
          0.0005669058859348298,
          0.0005859749019145966,
          0.0005702691078186035,
          0.0005857172012329101,
          0.0005613886713981629,
          0.0005651163756847381,
          0.0005748541355133056,
          0.0005688450634479523,
          0.0005704000890254975,
          0.0005577968657016754,
          0.0005635607540607452,
          0.0005554291009902954,
          0.0005499022603034973,
          0.0005421503782272339,
          0.00055202916264534,
          0.0005410209596157074,
          0.0005508765280246734
         ]
        },
        {
         "marker": {
          "maxdisplayed": 10
         },
         "mode": "lines+markers",
         "name": "Trial19",
         "type": "scatter",
         "x": [
          0,
          1
         ],
         "y": [
          0.0009918934404850007,
          0.0009503089785575867
         ]
        },
        {
         "marker": {
          "maxdisplayed": 10
         },
         "mode": "lines+markers",
         "name": "Trial20",
         "type": "scatter",
         "x": [
          0
         ],
         "y": [
          0.008259909927845002
         ]
        },
        {
         "marker": {
          "maxdisplayed": 10
         },
         "mode": "lines+markers",
         "name": "Trial21",
         "type": "scatter",
         "x": [
          0,
          1,
          2,
          3,
          4,
          5,
          6,
          7,
          8,
          9,
          10,
          11,
          12,
          13,
          14,
          15,
          16,
          17,
          18,
          19,
          20,
          21,
          22,
          23,
          24,
          25,
          26,
          27,
          28,
          29,
          30,
          31,
          32,
          33,
          34,
          35,
          36,
          37,
          38,
          39,
          40,
          41,
          42,
          43,
          44,
          45,
          46,
          47,
          48,
          49
         ],
         "y": [
          0.0008873211443424225,
          0.000831674188375473,
          0.0007213618159294128,
          0.0006421093344688416,
          0.0006266983151435852,
          0.0006335175931453705,
          0.0006136406064033509,
          0.0005910808444023133,
          0.000588272601366043,
          0.0005582575798034668,
          0.0005848477482795715,
          0.0005701822638511658,
          0.0005728406012058258,
          0.0005760296285152436,
          0.0005863761007785797,
          0.0005689628720283508,
          0.0005601844489574432,
          0.0005752750039100647,
          0.0005696586966514588,
          0.0005775749683380127,
          0.0005862700045108795,
          0.000557885229587555,
          0.0005681300461292267,
          0.0005567542314529419,
          0.0005658026039600373,
          0.0005643299818038941,
          0.0005607896149158477,
          0.0005536872744560242,
          0.000571811854839325,
          0.0005550437271595001,
          0.0005651714801788331,
          0.0005576728582382202,
          0.0005523854494094849,
          0.0005540551841259003,
          0.0005564842224121093,
          0.0005543943345546722,
          0.000576574981212616,
          0.0005632364749908448,
          0.0005652706921100616,
          0.0005657625794410706,
          0.000570127785205841,
          0.0005747934281826019,
          0.0005840946137905121,
          0.000577509731054306,
          0.0005622180700302124,
          0.0005587832033634185,
          0.0005713745951652527,
          0.0005712366998195649,
          0.000569233775138855,
          0.0005645961165428162
         ]
        },
        {
         "marker": {
          "maxdisplayed": 10
         },
         "mode": "lines+markers",
         "name": "Trial22",
         "type": "scatter",
         "x": [
          0
         ],
         "y": [
          0.0025147457122802735
         ]
        },
        {
         "marker": {
          "maxdisplayed": 10
         },
         "mode": "lines+markers",
         "name": "Trial23",
         "type": "scatter",
         "x": [
          0,
          1,
          2,
          3,
          4,
          5,
          6,
          7,
          8,
          9,
          10,
          11,
          12,
          13,
          14,
          15,
          16,
          17,
          18,
          19,
          20,
          21,
          22,
          23,
          24,
          25,
          26,
          27,
          28,
          29,
          30,
          31,
          32,
          33,
          34,
          35,
          36,
          37,
          38,
          39,
          40,
          41,
          42,
          43,
          44,
          45,
          46,
          47,
          48,
          49
         ],
         "y": [
          0.000986030101776123,
          0.0009058219492435455,
          0.0008108344674110413,
          0.000741211324930191,
          0.0006768134236335754,
          0.0006330561339855194,
          0.0006074788272380829,
          0.0006139590740203857,
          0.0006098005473613739,
          0.00059089994430542,
          0.0005677204132080078,
          0.0005970539152622223,
          0.000594638854265213,
          0.0005890310704708099,
          0.0005867117047309875,
          0.0005842468440532684,
          0.0005758252143859864,
          0.000591064453125,
          0.0005648644864559173,
          0.000556832879781723,
          0.0005837170481681824,
          0.0005668615400791168,
          0.0005628585815429688,
          0.0005562508702278137,
          0.0005673897862434387,
          0.0005964273512363434,
          0.0005742809474468231,
          0.0005826289057731628,
          0.0005863411724567414,
          0.0005768320560455323,
          0.0005838766992092133,
          0.0005666418373584748,
          0.000571073055267334,
          0.0005704224705696106,
          0.000575382113456726,
          0.0005509507358074188,
          0.0005542279183864593,
          0.0005741506218910217,
          0.0005749585926532745,
          0.0005622155070304871,
          0.0005595377385616303,
          0.0005595505833625793,
          0.0005694862008094788,
          0.000575874537229538,
          0.0005604940056800843,
          0.0005691653788089752,
          0.0005605901181697845,
          0.0005743824541568756,
          0.000579606980085373,
          0.0005657172203063965
         ]
        },
        {
         "marker": {
          "maxdisplayed": 10
         },
         "mode": "lines+markers",
         "name": "Trial24",
         "type": "scatter",
         "x": [
          0
         ],
         "y": [
          0.0010598278045654296
         ]
        },
        {
         "marker": {
          "maxdisplayed": 10
         },
         "mode": "lines+markers",
         "name": "Trial25",
         "type": "scatter",
         "x": [
          0,
          1,
          2,
          3,
          4,
          5,
          6,
          7,
          8,
          9,
          10,
          11,
          12,
          13,
          14,
          15,
          16,
          17,
          18,
          19,
          20,
          21,
          22,
          23,
          24,
          25,
          26,
          27,
          28,
          29,
          30,
          31,
          32,
          33,
          34,
          35,
          36,
          37,
          38,
          39,
          40,
          41,
          42,
          43,
          44,
          45,
          46,
          47,
          48,
          49,
          50,
          51,
          52,
          53,
          54,
          55,
          56,
          57,
          58,
          59
         ],
         "y": [
          0.0009142110049724578,
          0.00080337855219841,
          0.0007380656003952026,
          0.0006600114405155182,
          0.0006543242931365967,
          0.0006112438142299652,
          0.000594403862953186,
          0.0005668976306915283,
          0.0006243451535701751,
          0.0006059840321540833,
          0.0005723432004451752,
          0.0005723802447319031,
          0.0005770259499549865,
          0.0005724743008613586,
          0.0005689636766910553,
          0.0005651382803916931,
          0.0005818071961402893,
          0.00055594602227211,
          0.0005638395845890045,
          0.0005689401030540466,
          0.000579140305519104,
          0.000564586102962494,
          0.0005685745179653168,
          0.0005731519758701325,
          0.0005623448491096497,
          0.000563608705997467,
          0.0005559453666210175,
          0.0005665373504161835,
          0.0005682118833065032,
          0.0005503291487693787,
          0.000545905590057373,
          0.0005549859404563904,
          0.0005446023344993591,
          0.0005493147969245911,
          0.0005385510623455048,
          0.0005506400465965271,
          0.0005474476814270019,
          0.0005479275286197663,
          0.0005513855218887329,
          0.0005473663806915283,
          0.0005515525341033935,
          0.0005454502403736115,
          0.0005440674722194672,
          0.000547041118144989,
          0.0005469621419906616,
          0.0005521239042282105,
          0.0005508234798908233,
          0.0005418177247047424,
          0.0005431103408336639,
          0.000556029200553894,
          0.0005350863933563233,
          0.0005459109544754028,
          0.000562774658203125,
          0.0005449263155460357,
          0.0005517373085021973,
          0.000534878671169281,
          0.0005494161546230317,
          0.0005573956370353699,
          0.000543753296136856,
          0.000562461107969284
         ]
        },
        {
         "marker": {
          "maxdisplayed": 10
         },
         "mode": "lines+markers",
         "name": "Trial26",
         "type": "scatter",
         "x": [
          0,
          1,
          2,
          3,
          4,
          5,
          6,
          7,
          8,
          9,
          10,
          11,
          12,
          13,
          14,
          15,
          16,
          17,
          18,
          19,
          20,
          21,
          22,
          23,
          24,
          25,
          26,
          27,
          28,
          29,
          30,
          31,
          32,
          33,
          34,
          35,
          36,
          37,
          38,
          39,
          40,
          41,
          42,
          43,
          44,
          45,
          46,
          47,
          48,
          49,
          50,
          51,
          52,
          53,
          54,
          55,
          56,
          57,
          58,
          59
         ],
         "y": [
          0.0007840519547462464,
          0.000713470458984375,
          0.0006222380697727204,
          0.0006126191020011902,
          0.0006209687292575836,
          0.0006089615225791931,
          0.0005874398052692413,
          0.0005822842717170716,
          0.0005835044085979462,
          0.0007294516861438751,
          0.000580551952123642,
          0.0005765509307384491,
          0.0005664697289466858,
          0.0005761183798313141,
          0.0005661588609218597,
          0.0005654538571834564,
          0.0005773293972015381,
          0.0005700252056121826,
          0.0005592211484909058,
          0.0005835727453231812,
          0.0005750856697559356,
          0.000564719557762146,
          0.0006118110418319703,
          0.0005800981521606446,
          0.0005558465719223023,
          0.0005578708350658417,
          0.0005546428859233856,
          0.0005820351243019104,
          0.0005528399646282196,
          0.0005496097505092621,
          0.0005824330449104309,
          0.0005618301928043365,
          0.0005580674111843109,
          0.0005516142547130584,
          0.000591288298368454,
          0.0005623248517513276,
          0.0005607222616672516,
          0.0005651248395442962,
          0.0005646306276321411,
          0.0005518289804458618,
          0.0005546974837779999,
          0.000550113171339035,
          0.0005379358232021332,
          0.0005401169955730438,
          0.0005436118841171265,
          0.0005410303473472595,
          0.000539113610982895,
          0.000546785295009613,
          0.0005438652038574219,
          0.0005464732646942138,
          0.000543365240097046,
          0.0005420640110969544,
          0.0005396258533000946,
          0.0005461775660514832,
          0.0005407559871673584,
          0.0005399475395679474,
          0.0005549923181533814,
          0.0005481060743331909,
          0.0005454064607620239,
          0.0005423714816570282
         ]
        },
        {
         "marker": {
          "maxdisplayed": 10
         },
         "mode": "lines+markers",
         "name": "Trial27",
         "type": "scatter",
         "x": [
          0,
          1,
          2,
          3,
          4,
          5,
          6,
          7,
          8,
          9,
          10,
          11,
          12,
          13,
          14,
          15,
          16,
          17,
          18,
          19,
          20,
          21,
          22,
          23,
          24,
          25,
          26,
          27,
          28,
          29,
          30,
          31,
          32,
          33,
          34,
          35,
          36,
          37,
          38,
          39,
          40,
          41,
          42,
          43,
          44,
          45,
          46,
          47,
          48,
          49,
          50,
          51,
          52,
          53,
          54,
          55,
          56,
          57,
          58,
          59
         ],
         "y": [
          0.0008330050408840179,
          0.0006894760131835937,
          0.0006464447975158691,
          0.0006347867250442505,
          0.0006095514595508575,
          0.0006014585494995117,
          0.0005867781341075898,
          0.0005869340002536774,
          0.0005882630050182342,
          0.0005822066366672516,
          0.0005710401833057404,
          0.0005834293067455292,
          0.0005888458788394928,
          0.0005761899352073669,
          0.000562326043844223,
          0.0005888356864452362,
          0.0005630614161491394,
          0.0005595397651195526,
          0.0005566049516201019,
          0.0005741667449474335,
          0.000592411607503891,
          0.0005797319114208222,
          0.0006026701331138611,
          0.0005644104778766633,
          0.0005514482855796814,
          0.0005543720722198486,
          0.0005457402765750885,
          0.0005827679336071014,
          0.0005747309327125549,
          0.0005553762316703796,
          0.0005464270114898681,
          0.0005516991019248963,
          0.0005674837827682496,
          0.0005571416914463043,
          0.0005566799938678741,
          0.0005431042313575745,
          0.0005510331690311432,
          0.0005670812129974365,
          0.000552937388420105,
          0.0005549021661281586,
          0.0005530848205089569,
          0.0005712940096855164,
          0.0005520590245723724,
          0.0005759383141994476,
          0.0005476973950862884,
          0.0005771203637123108,
          0.0005599928498268127,
          0.0005516042113304138,
          0.0005521237552165985,
          0.000538690447807312,
          0.0005406103730201721,
          0.0005515583455562591,
          0.0005417368710041046,
          0.0005543810129165649,
          0.0005529091656208038,
          0.0005454239547252655,
          0.0005489960610866547,
          0.000547000378370285,
          0.0005524365305900574,
          0.0005442708432674408
         ]
        },
        {
         "marker": {
          "maxdisplayed": 10
         },
         "mode": "lines+markers",
         "name": "Trial28",
         "type": "scatter",
         "x": [
          0
         ],
         "y": [
          0.003425576776266098
         ]
        },
        {
         "marker": {
          "maxdisplayed": 10
         },
         "mode": "lines+markers",
         "name": "Trial29",
         "type": "scatter",
         "x": [
          0
         ],
         "y": [
          0.0021454694271087647
         ]
        },
        {
         "marker": {
          "maxdisplayed": 10
         },
         "mode": "lines+markers",
         "name": "Trial30",
         "type": "scatter",
         "x": [
          0
         ],
         "y": [
          0.0010013986229896546
         ]
        },
        {
         "marker": {
          "maxdisplayed": 10
         },
         "mode": "lines+markers",
         "name": "Trial31",
         "type": "scatter",
         "x": [
          0
         ],
         "y": [
          0.0025155640840530393
         ]
        },
        {
         "marker": {
          "maxdisplayed": 10
         },
         "mode": "lines+markers",
         "name": "Trial32",
         "type": "scatter",
         "x": [
          0,
          1
         ],
         "y": [
          0.0009733244180679322,
          0.000951639860868454
         ]
        },
        {
         "marker": {
          "maxdisplayed": 10
         },
         "mode": "lines+markers",
         "name": "Trial33",
         "type": "scatter",
         "x": [
          0
         ],
         "y": [
          0.0025155640840530393
         ]
        },
        {
         "marker": {
          "maxdisplayed": 10
         },
         "mode": "lines+markers",
         "name": "Trial34",
         "type": "scatter",
         "x": [
          0
         ],
         "y": [
          0.00570604145526886
         ]
        },
        {
         "marker": {
          "maxdisplayed": 10
         },
         "mode": "lines+markers",
         "name": "Trial35",
         "type": "scatter",
         "x": [
          0
         ],
         "y": [
          0.0025155640840530393
         ]
        },
        {
         "marker": {
          "maxdisplayed": 10
         },
         "mode": "lines+markers",
         "name": "Trial36",
         "type": "scatter",
         "x": [
          0
         ],
         "y": [
          0.00797490218281746
         ]
        },
        {
         "marker": {
          "maxdisplayed": 10
         },
         "mode": "lines+markers",
         "name": "Trial37",
         "type": "scatter",
         "x": [
          0
         ],
         "y": [
          0.001935383141040802
         ]
        },
        {
         "marker": {
          "maxdisplayed": 10
         },
         "mode": "lines+markers",
         "name": "Trial38",
         "type": "scatter",
         "x": [
          0
         ],
         "y": [
          0.0009967170655727387
         ]
        },
        {
         "marker": {
          "maxdisplayed": 10
         },
         "mode": "lines+markers",
         "name": "Trial39",
         "type": "scatter",
         "x": [
          0
         ],
         "y": [
          0.005803847670555115
         ]
        },
        {
         "marker": {
          "maxdisplayed": 10
         },
         "mode": "lines+markers",
         "name": "Trial40",
         "type": "scatter",
         "x": [
          0
         ],
         "y": [
          0.010056788921356202
         ]
        },
        {
         "marker": {
          "maxdisplayed": 10
         },
         "mode": "lines+markers",
         "name": "Trial41",
         "type": "scatter",
         "x": [
          0,
          1,
          2,
          3,
          4,
          5,
          6,
          7,
          8,
          9,
          10,
          11,
          12,
          13,
          14,
          15,
          16,
          17,
          18,
          19,
          20,
          21,
          22,
          23,
          24,
          25,
          26,
          27,
          28,
          29,
          30,
          31,
          32,
          33,
          34,
          35,
          36,
          37,
          38,
          39,
          40,
          41,
          42,
          43,
          44,
          45,
          46,
          47,
          48,
          49,
          50,
          51,
          52,
          53,
          54,
          55,
          56,
          57,
          58,
          59
         ],
         "y": [
          0.0009170994162559509,
          0.000782755583524704,
          0.0007427472770214081,
          0.0006889421343803406,
          0.0006480024456977844,
          0.0006001625061035157,
          0.0005910401344299316,
          0.0005888930559158326,
          0.0005926825404167175,
          0.0006013790369033814,
          0.0005862868130207062,
          0.0005771547853946685,
          0.0005773371756076813,
          0.0005761467814445495,
          0.0005722132921218872,
          0.0005798282623291016,
          0.0005650033950805664,
          0.0005736649036407471,
          0.0005470302700996399,
          0.0005679506659507751,
          0.0005765239894390107,
          0.0005729239583015442,
          0.0005597605705261231,
          0.000572240948677063,
          0.0006012901961803437,
          0.0005676506161689758,
          0.0005641010701656342,
          0.0005576367974281311,
          0.0005664664506912231,
          0.0005440861582756043,
          0.0005851576030254364,
          0.0005952280461788178,
          0.0005718213319778442,
          0.0005682255923748017,
          0.0005373261570930481,
          0.0005587340891361237,
          0.0005590458512306213,
          0.0005590431094169617,
          0.0005599262714385987,
          0.0005634154081344604,
          0.0005636714696884155,
          0.0005573812425136566,
          0.0005654861330986023,
          0.000578195720911026,
          0.0005387113392353057,
          0.000562167763710022,
          0.0005447220802307129,
          0.0005476211905479431,
          0.0005493578612804413,
          0.0005499552190303803,
          0.0005491457283496857,
          0.000539199560880661,
          0.0005487263798713684,
          0.0005534397661685944,
          0.0005508685111999512,
          0.0005459056794643402,
          0.000552940309047699,
          0.0005379438102245331,
          0.0005480436086654663,
          0.0005511947572231292
         ]
        },
        {
         "marker": {
          "maxdisplayed": 10
         },
         "mode": "lines+markers",
         "name": "Trial42",
         "type": "scatter",
         "x": [
          0,
          1,
          2,
          3,
          4,
          5,
          6,
          7,
          8,
          9,
          10,
          11,
          12,
          13,
          14,
          15,
          16,
          17,
          18,
          19,
          20,
          21,
          22,
          23,
          24,
          25,
          26,
          27,
          28,
          29,
          30,
          31,
          32,
          33,
          34,
          35,
          36,
          37,
          38,
          39,
          40,
          41,
          42,
          43,
          44,
          45,
          46,
          47,
          48,
          49,
          50,
          51,
          52,
          53,
          54,
          55,
          56,
          57,
          58,
          59
         ],
         "y": [
          0.000957781195640564,
          0.0008635220229625702,
          0.0007911151349544526,
          0.0006980222165584565,
          0.0006634138226509094,
          0.0006374917328357696,
          0.0006033721864223481,
          0.0006069839894771576,
          0.0006126573979854583,
          0.0005944103598594665,
          0.000612769603729248,
          0.0005791124701499939,
          0.0005661538541316986,
          0.0005911754667758942,
          0.0006078861057758332,
          0.0006057607531547546,
          0.0006141816675662994,
          0.000565751850605011,
          0.0005721185505390168,
          0.000585502952337265,
          0.0005784179866313935,
          0.000586850106716156,
          0.0005624924302101136,
          0.0005806786715984345,
          0.0005782665908336639,
          0.0005593435764312744,
          0.0005633941292762756,
          0.0005608872175216675,
          0.0005693477690219879,
          0.0005607014894485474,
          0.000586806058883667,
          0.0005659969151020051,
          0.0005647227764129639,
          0.0005996435284614563,
          0.000589383453130722,
          0.0005495803356170654,
          0.0005567428171634674,
          0.0005523753464221954,
          0.0005558182299137116,
          0.0005615856647491455,
          0.0005563269555568695,
          0.0005660764575004578,
          0.0005613978505134582,
          0.0005556460320949554,
          0.0005712513327598572,
          0.000566923052072525,
          0.0005627530515193939,
          0.0005595175623893738,
          0.0005613476932048798,
          0.0005555337369441986,
          0.0005609837770462036,
          0.0005524007380008697,
          0.0005493333637714386,
          0.0005488849580287934,
          0.0005586878657341004,
          0.0005542868077754974,
          0.0005522056519985199,
          0.0005581130683422089,
          0.0005646514594554901,
          0.0005466530621051789
         ]
        },
        {
         "marker": {
          "maxdisplayed": 10
         },
         "mode": "lines+markers",
         "name": "Trial43",
         "type": "scatter",
         "x": [
          0,
          1,
          2,
          3,
          4,
          5,
          6,
          7,
          8,
          9,
          10,
          11,
          12,
          13,
          14,
          15,
          16,
          17,
          18,
          19,
          20,
          21,
          22,
          23,
          24,
          25,
          26,
          27,
          28,
          29,
          30,
          31,
          32,
          33,
          34,
          35,
          36,
          37,
          38,
          39,
          40,
          41,
          42,
          43,
          44,
          45,
          46,
          47,
          48,
          49,
          50,
          51,
          52,
          53,
          54,
          55,
          56,
          57,
          58,
          59
         ],
         "y": [
          0.0009645643532276153,
          0.0008117921054363251,
          0.0007022859752178192,
          0.0006705882251262664,
          0.0006487279832363129,
          0.0006206275224685669,
          0.0005856997072696686,
          0.0005789043009281159,
          0.0005725738704204559,
          0.0005765068531036377,
          0.000575883150100708,
          0.0005753525495529175,
          0.0005741769969463349,
          0.0005742176473140716,
          0.0005780909955501556,
          0.0005729084014892579,
          0.0005686976611614228,
          0.0005776567459106445,
          0.0005681770443916321,
          0.0005806105434894562,
          0.0005669401586055755,
          0.0005737062692642212,
          0.0005655805766582489,
          0.0005684693157672882,
          0.0005569853186607361,
          0.0005777802169322967,
          0.0005723203718662261,
          0.0005623198449611664,
          0.0005875164568424225,
          0.0005602536797523498,
          0.0005522249639034272,
          0.000566884458065033,
          0.0005556570291519165,
          0.0005659025311470032,
          0.0005646048188209533,
          0.0005798302292823791,
          0.0005542279183864593,
          0.0005616194605827332,
          0.0005642499923706055,
          0.0005697333216667176,
          0.0005607570707798004,
          0.0005825131535530091,
          0.0005580871999263763,
          0.0005605091750621795,
          0.0005520590543746948,
          0.0005512160360813141,
          0.0005615806579589844,
          0.0005627819001674652,
          0.0005469269752502442,
          0.0005570598244667054,
          0.0005582784712314606,
          0.0005533338189125061,
          0.0005580521523952484,
          0.0005671182274818421,
          0.0005674187541007996,
          0.0005515283644199372,
          0.0005621397793292999,
          0.0005623217225074768,
          0.0005530922710895538,
          0.0005606178343296051
         ]
        },
        {
         "marker": {
          "maxdisplayed": 10
         },
         "mode": "lines+markers",
         "name": "Trial44",
         "type": "scatter",
         "x": [
          0,
          1,
          2,
          3,
          4,
          5,
          6
         ],
         "y": [
          0.0008442111015319825,
          0.0007847351133823395,
          0.000742553174495697,
          0.0006815983057022095,
          0.0007010582983493805,
          0.0006622182428836823,
          0.0007008130252361298
         ]
        },
        {
         "marker": {
          "maxdisplayed": 10
         },
         "mode": "lines+markers",
         "name": "Trial45",
         "type": "scatter",
         "x": [
          0,
          1,
          2,
          3,
          4,
          5,
          6,
          7,
          8,
          9,
          10,
          11,
          12,
          13,
          14,
          15,
          16,
          17,
          18,
          19,
          20,
          21,
          22,
          23,
          24,
          25,
          26,
          27,
          28,
          29,
          30,
          31,
          32,
          33,
          34,
          35,
          36,
          37,
          38,
          39,
          40,
          41,
          42,
          43,
          44,
          45,
          46,
          47,
          48,
          49,
          50,
          51,
          52,
          53,
          54,
          55,
          56,
          57,
          58,
          59,
          60,
          61,
          62,
          63,
          64,
          65,
          66,
          67,
          68,
          69,
          70,
          71,
          72,
          73,
          74,
          75,
          76,
          77,
          78,
          79,
          80,
          81,
          82,
          83,
          84,
          85,
          86,
          87,
          88,
          89,
          90,
          91,
          92,
          93,
          94,
          95,
          96,
          97,
          98,
          99
         ],
         "y": [
          0.0007897762954235077,
          0.0006905554533004761,
          0.0006365415453910828,
          0.0006053832471370697,
          0.0005949529707431794,
          0.0006006855070590973,
          0.0005773007869720459,
          0.0005910078883171082,
          0.0005971679389476776,
          0.0005731692314147949,
          0.0005669311285018921,
          0.0005949008464813233,
          0.0005967160761356354,
          0.0005803954601287842,
          0.0005941341519355774,
          0.0005662123560905457,
          0.0005555923879146576,
          0.0005675596594810486,
          0.0005732786357402802,
          0.0005521060824394226,
          0.000572321742773056,
          0.00055017951130867,
          0.0005656054615974426,
          0.0005683964192867279,
          0.0005625413358211518,
          0.0005588364899158477,
          0.0005827593505382538,
          0.000570208191871643,
          0.0005749415755271912,
          0.000563728004693985,
          0.000561278909444809,
          0.0005704716145992279,
          0.0005624614655971527,
          0.0005426726639270783,
          0.0005356209576129913,
          0.0005370164215564727,
          0.0005374050736427307,
          0.0005437487363815308,
          0.0005462055504322052,
          0.0005440850257873535,
          0.0005417461693286896,
          0.0005379964113235474,
          0.0005392358303070068,
          0.0005364499390125275,
          0.0005363152325153351,
          0.0005403270721435546,
          0.0005477943420410156,
          0.0005453664064407348,
          0.0005382803678512573,
          0.0005375564098358155,
          0.000541701078414917,
          0.0005364076793193817,
          0.0005434916317462921,
          0.0005406277179718017,
          0.0005413334369659423,
          0.0005418567359447479,
          0.0005375033617019653,
          0.0005421053469181061,
          0.0005399282276630402,
          0.0005406855940818787,
          0.0005367291569709778,
          0.0005483086109161377,
          0.0005399217903614044,
          0.0005362448692321777,
          0.0005306051969528198,
          0.0005323916077613831,
          0.0005403059720993042,
          0.000541041761636734,
          0.0005426010191440583,
          0.0005442579686641693,
          0.000546460896730423,
          0.0005442850589752197,
          0.0005422037839889526,
          0.0005379075109958649,
          0.0005376116335391998,
          0.0005367578566074371,
          0.0005395835340023041,
          0.0005389135777950286,
          0.0005371235907077789,
          0.0005508023202419281,
          0.0005386842489242553,
          0.0005378323495388031,
          0.000536281019449234,
          0.0005381889343261719,
          0.0005447837710380554,
          0.0005390131473541259,
          0.0005404216647148133,
          0.0005377126932144165,
          0.0005354381203651428,
          0.0005399611592292786,
          0.0005361270904541015,
          0.0005400524735450744,
          0.0005330495238304138,
          0.000546106368303299,
          0.0005448861718177796,
          0.0005422068536281585,
          0.0005390112698078156,
          0.0005381958484649658,
          0.0005435462892055511,
          0.0005366033911705017
         ]
        },
        {
         "marker": {
          "maxdisplayed": 10
         },
         "mode": "lines+markers",
         "name": "Trial46",
         "type": "scatter",
         "x": [
          0,
          1,
          2,
          3,
          4,
          5,
          6,
          7,
          8,
          9,
          10,
          11,
          12,
          13,
          14,
          15,
          16,
          17,
          18,
          19,
          20,
          21,
          22,
          23,
          24,
          25,
          26,
          27,
          28,
          29,
          30,
          31,
          32,
          33,
          34,
          35,
          36,
          37,
          38,
          39,
          40,
          41,
          42,
          43,
          44,
          45,
          46,
          47,
          48,
          49,
          50,
          51
         ],
         "y": [
          0.0008127326965332031,
          0.0006991509795188904,
          0.0006437622606754303,
          0.0005857604146003723,
          0.0005771710574626923,
          0.0005870908796787262,
          0.0006152815818786621,
          0.0006065392494201661,
          0.0005853759050369262,
          0.0005862365067005157,
          0.0005987566411495208,
          0.0005680871903896332,
          0.0005927777290344238,
          0.0005978395938873291,
          0.0005625683963298798,
          0.0005729346573352814,
          0.0005676181018352508,
          0.0005732406377792358,
          0.0005559788048267364,
          0.0006178962290287018,
          0.0005540902018547058,
          0.0005774584710597992,
          0.000575367271900177,
          0.0005740933418273926,
          0.0005725107789039612,
          0.0005728824436664581,
          0.0006144616901874542,
          0.000561101645231247,
          0.0005801545083522797,
          0.0006188026666641235,
          0.0005832883417606354,
          0.0005871098935604095,
          0.0005671363174915314,
          0.0005722821950912475,
          0.000563885122537613,
          0.0005674889385700226,
          0.000568579375743866,
          0.0005678917467594147,
          0.0005730525851249695,
          0.0005824866890907287,
          0.0005789455771446228,
          0.000575316846370697,
          0.0005797821879386901,
          0.0005807250142097473,
          0.0005752763748168945,
          0.0005826611518859864,
          0.0005791831910610199,
          0.0005782677531242371,
          0.0005841136872768402,
          0.0005671247243881225,
          0.0005707807242870331,
          0.0005800886750221252
         ]
        },
        {
         "marker": {
          "maxdisplayed": 10
         },
         "mode": "lines+markers",
         "name": "Trial47",
         "type": "scatter",
         "x": [
          0
         ],
         "y": [
          0.0050293128490448
         ]
        },
        {
         "marker": {
          "maxdisplayed": 10
         },
         "mode": "lines+markers",
         "name": "Trial48",
         "type": "scatter",
         "x": [
          0
         ],
         "y": [
          0.0011095362305641174
         ]
        },
        {
         "marker": {
          "maxdisplayed": 10
         },
         "mode": "lines+markers",
         "name": "Trial49",
         "type": "scatter",
         "x": [
          0,
          1
         ],
         "y": [
          0.0009691451787948609,
          0.0009357522428035736
         ]
        },
        {
         "marker": {
          "maxdisplayed": 10
         },
         "mode": "lines+markers",
         "name": "Trial50",
         "type": "scatter",
         "x": [
          0
         ],
         "y": [
          0.02006721568107605
         ]
        },
        {
         "marker": {
          "maxdisplayed": 10
         },
         "mode": "lines+markers",
         "name": "Trial51",
         "type": "scatter",
         "x": [
          0
         ],
         "y": [
          0.0010431787967681884
         ]
        },
        {
         "marker": {
          "maxdisplayed": 10
         },
         "mode": "lines+markers",
         "name": "Trial52",
         "type": "scatter",
         "x": [
          0
         ],
         "y": [
          0.0009800483882427215
         ]
        },
        {
         "marker": {
          "maxdisplayed": 10
         },
         "mode": "lines+markers",
         "name": "Trial53",
         "type": "scatter",
         "x": [
          0,
          1,
          2,
          3,
          4,
          5,
          6,
          7,
          8,
          9,
          10,
          11,
          12,
          13,
          14,
          15,
          16,
          17,
          18,
          19,
          20,
          21,
          22,
          23,
          24,
          25,
          26,
          27,
          28,
          29,
          30,
          31,
          32,
          33,
          34,
          35,
          36,
          37,
          38,
          39,
          40,
          41,
          42,
          43,
          44,
          45,
          46,
          47,
          48,
          49,
          50,
          51,
          52,
          53,
          54,
          55,
          56,
          57,
          58,
          59,
          60,
          61,
          62,
          63,
          64,
          65,
          66,
          67,
          68,
          69,
          70,
          71,
          72,
          73,
          74,
          75,
          76,
          77,
          78,
          79,
          80,
          81,
          82,
          83,
          84,
          85,
          86,
          87,
          88,
          89,
          90,
          91,
          92,
          93,
          94,
          95,
          96,
          97,
          98,
          99
         ],
         "y": [
          0.0008350881338119507,
          0.000702524572610855,
          0.0006263636648654937,
          0.0006098555624485016,
          0.00062118199467659,
          0.0005863332152366639,
          0.0005903440713882446,
          0.0005725621283054352,
          0.0006013154089450836,
          0.0005955036580562592,
          0.0005659264624118805,
          0.0005808010995388031,
          0.000560096561908722,
          0.0005729897320270539,
          0.000557755172252655,
          0.0005554766654968262,
          0.0005679103434085846,
          0.0005790914297103882,
          0.0005734553635120392,
          0.0005622672438621521,
          0.0005771622061729431,
          0.0005897975862026215,
          0.000577886700630188,
          0.0005708664953708648,
          0.000569237232208252,
          0.000541141003370285,
          0.0005840910375118256,
          0.0005971485674381256,
          0.0005886939764022828,
          0.0005734204649925232,
          0.0005797255039215088,
          0.0005718127787113189,
          0.0005731342434883118,
          0.000563572645187378,
          0.0005899344384670258,
          0.0005854871571063995,
          0.0005806363224983215,
          0.000558090627193451,
          0.0005617868602275848,
          0.000569888174533844,
          0.0005705333948135376,
          0.0005718033909797669,
          0.0005866686403751373,
          0.0005770887434482574,
          0.0005874894261360168,
          0.0005883619785308837,
          0.0005813524425029755,
          0.0005849529504776001,
          0.0005777343511581421,
          0.000585212379693985,
          0.0005918053090572357,
          0.0005893795490264892,
          0.0005922272205352784,
          0.0005869429409503937,
          0.0005910415351390838,
          0.0005952942371368408,
          0.0005793133080005645,
          0.0005852887034416198,
          0.0005976428687572479,
          0.000592617392539978,
          0.0005918825566768646,
          0.0005890125036239624,
          0.0005828530490398407,
          0.0005827871263027191,
          0.0005983260273933411,
          0.0005950879156589508,
          0.0005910614430904388,
          0.0005895707309246063,
          0.0005950497686862946,
          0.0005973663628101349,
          0.0005838109850883484,
          0.0005974569320678711,
          0.0005918623507022858,
          0.0005948154032230377,
          0.0005887570381164551,
          0.0005924824476242066,
          0.0005969929695129394,
          0.0005945135056972503,
          0.0006011979281902313,
          0.0005971220135688782,
          0.0005876103639602661,
          0.0005871169567108154,
          0.0005828794836997985,
          0.000593651831150055,
          0.0005891332924365997,
          0.000590609073638916,
          0.0005895079970359802,
          0.0005966727137565613,
          0.0005789250135421753,
          0.000598168432712555,
          0.0005932160317897796,
          0.0005929237008094788,
          0.0005999811589717864,
          0.0005772912800312042,
          0.000588531643152237,
          0.0005911627411842346,
          0.000594116061925888,
          0.0005936872065067291,
          0.000578921526670456,
          0.0005868855714797974
         ]
        },
        {
         "marker": {
          "maxdisplayed": 10
         },
         "mode": "lines+markers",
         "name": "Trial54",
         "type": "scatter",
         "x": [
          0
         ],
         "y": [
          0.001001843273639679
         ]
        },
        {
         "marker": {
          "maxdisplayed": 10
         },
         "mode": "lines+markers",
         "name": "Trial55",
         "type": "scatter",
         "x": [
          0,
          1,
          2,
          3,
          4
         ],
         "y": [
          0.0009130518436431885,
          0.0008498986065387726,
          0.0007702757120132446,
          0.0007126826345920563,
          0.0006882900595664978
         ]
        },
        {
         "marker": {
          "maxdisplayed": 10
         },
         "mode": "lines+markers",
         "name": "Trial56",
         "type": "scatter",
         "x": [
          0
         ],
         "y": [
          0.0025155640840530393
         ]
        },
        {
         "marker": {
          "maxdisplayed": 10
         },
         "mode": "lines+markers",
         "name": "Trial57",
         "type": "scatter",
         "x": [
          0
         ],
         "y": [
          0.0017541736364364625
         ]
        },
        {
         "marker": {
          "maxdisplayed": 10
         },
         "mode": "lines+markers",
         "name": "Trial58",
         "type": "scatter",
         "x": [
          0
         ],
         "y": [
          0.003216463416814804
         ]
        },
        {
         "marker": {
          "maxdisplayed": 10
         },
         "mode": "lines+markers",
         "name": "Trial59",
         "type": "scatter",
         "x": [
          0
         ],
         "y": [
          0.0015058733820915223
         ]
        },
        {
         "marker": {
          "maxdisplayed": 10
         },
         "mode": "lines+markers",
         "name": "Trial60",
         "type": "scatter",
         "x": [
          0
         ],
         "y": [
          0.0010176413655281066
         ]
        },
        {
         "marker": {
          "maxdisplayed": 10
         },
         "mode": "lines+markers",
         "name": "Trial61",
         "type": "scatter",
         "x": [
          0
         ],
         "y": [
          0.0010900061130523682
         ]
        },
        {
         "marker": {
          "maxdisplayed": 10
         },
         "mode": "lines+markers",
         "name": "Trial62",
         "type": "scatter",
         "x": [
          0
         ],
         "y": [
          0.0009989280104637146
         ]
        },
        {
         "marker": {
          "maxdisplayed": 10
         },
         "mode": "lines+markers",
         "name": "Trial63",
         "type": "scatter",
         "x": [
          0,
          1,
          2,
          3,
          4,
          5,
          6,
          7,
          8,
          9,
          10,
          11,
          12,
          13,
          14,
          15,
          16,
          17,
          18,
          19,
          20,
          21,
          22,
          23,
          24,
          25,
          26,
          27,
          28,
          29,
          30,
          31,
          32,
          33,
          34,
          35,
          36,
          37,
          38,
          39,
          40,
          41,
          42,
          43,
          44,
          45,
          46,
          47,
          48,
          49,
          50,
          51,
          52,
          53,
          54,
          55,
          56,
          57,
          58,
          59
         ],
         "y": [
          0.000887668788433075,
          0.0008254653215408325,
          0.0007252016961574554,
          0.0006931371986865998,
          0.0006398983895778656,
          0.0005985279977321625,
          0.0006024014055728913,
          0.0005904974639415741,
          0.0005748099386692047,
          0.0005797143876552582,
          0.000580993115901947,
          0.0005917482078075409,
          0.000563355952501297,
          0.0005627329647541047,
          0.0006195942163467408,
          0.0005659732818603516,
          0.0005708684623241425,
          0.0005628102719783783,
          0.0005800667107105255,
          0.0005834641754627228,
          0.0005792641639709473,
          0.0005718156695365906,
          0.0005662247538566589,
          0.0005733578205108643,
          0.0005797353088855743,
          0.0005544013082981109,
          0.0005464802384376526,
          0.0005417871177196503,
          0.0005590800940990448,
          0.0005547508001327515,
          0.000552025556564331,
          0.000547353446483612,
          0.0005507111847400665,
          0.000558126449584961,
          0.0005471081137657165,
          0.0005316208899021149,
          0.0005513061285018921,
          0.0005580896437168122,
          0.0005523461997509003,
          0.0005559148490428924,
          0.0005599409341812134,
          0.0005667487382888794,
          0.0005639849901199341,
          0.0005565952956676484,
          0.000563022643327713,
          0.0005618845224380493,
          0.0005624679028987885,
          0.0005485818982124328,
          0.00054821115732193,
          0.0005529823005199433,
          0.0005485541820526123,
          0.0005587014853954315,
          0.0005572295486927033,
          0.0005551567375659943,
          0.0005543306171894073,
          0.0005556049048900605,
          0.00056075981259346,
          0.0005536520481109619,
          0.0005508464574813843,
          0.0005483960807323455
         ]
        },
        {
         "marker": {
          "maxdisplayed": 10
         },
         "mode": "lines+markers",
         "name": "Trial64",
         "type": "scatter",
         "x": [
          0,
          1,
          2,
          3,
          4,
          5,
          6
         ],
         "y": [
          0.0008724970519542694,
          0.0007654831707477569,
          0.0006973938941955566,
          0.0006489996016025543,
          0.0006203548610210418,
          0.0006124673187732696,
          0.0006192082762718201
         ]
        },
        {
         "marker": {
          "maxdisplayed": 10
         },
         "mode": "lines+markers",
         "name": "Trial65",
         "type": "scatter",
         "x": [
          0,
          1,
          2
         ],
         "y": [
          0.000942389577627182,
          0.0008151533603668213,
          0.0007970908582210541
         ]
        },
        {
         "marker": {
          "maxdisplayed": 10
         },
         "mode": "lines+markers",
         "name": "Trial66",
         "type": "scatter",
         "x": [
          0
         ],
         "y": [
          0.0012216561436653138
         ]
        },
        {
         "marker": {
          "maxdisplayed": 10
         },
         "mode": "lines+markers",
         "name": "Trial67",
         "type": "scatter",
         "x": [
          0
         ],
         "y": [
          0.0010347643494606018
         ]
        },
        {
         "marker": {
          "maxdisplayed": 10
         },
         "mode": "lines+markers",
         "name": "Trial68",
         "type": "scatter",
         "x": [
          0
         ],
         "y": [
          0.0010537962317466736
         ]
        },
        {
         "marker": {
          "maxdisplayed": 10
         },
         "mode": "lines+markers",
         "name": "Trial69",
         "type": "scatter",
         "x": [
          0
         ],
         "y": [
          0.00334243580698967
         ]
        },
        {
         "marker": {
          "maxdisplayed": 10
         },
         "mode": "lines+markers",
         "name": "Trial70",
         "type": "scatter",
         "x": [
          0
         ],
         "y": [
          0.0025155640840530393
         ]
        },
        {
         "marker": {
          "maxdisplayed": 10
         },
         "mode": "lines+markers",
         "name": "Trial71",
         "type": "scatter",
         "x": [
          0
         ],
         "y": [
          0.000962766021490097
         ]
        },
        {
         "marker": {
          "maxdisplayed": 10
         },
         "mode": "lines+markers",
         "name": "Trial72",
         "type": "scatter",
         "x": [
          0
         ],
         "y": [
          0.0009771123230457306
         ]
        },
        {
         "marker": {
          "maxdisplayed": 10
         },
         "mode": "lines+markers",
         "name": "Trial73",
         "type": "scatter",
         "x": [
          0
         ],
         "y": [
          0.0025155640840530393
         ]
        },
        {
         "marker": {
          "maxdisplayed": 10
         },
         "mode": "lines+markers",
         "name": "Trial74",
         "type": "scatter",
         "x": [
          0
         ],
         "y": [
          0.0011158179640769958
         ]
        },
        {
         "marker": {
          "maxdisplayed": 10
         },
         "mode": "lines+markers",
         "name": "Trial75",
         "type": "scatter",
         "x": [
          0,
          1,
          2,
          3,
          4,
          5,
          6,
          7,
          8,
          9,
          10,
          11,
          12,
          13,
          14,
          15,
          16,
          17,
          18,
          19,
          20,
          21,
          22,
          23,
          24,
          25,
          26,
          27,
          28,
          29,
          30,
          31,
          32,
          33,
          34,
          35,
          36,
          37,
          38,
          39,
          40,
          41,
          42,
          43,
          44,
          45,
          46,
          47,
          48,
          49,
          50,
          51,
          52,
          53,
          54,
          55,
          56,
          57,
          58,
          59,
          60,
          61,
          62,
          63,
          64,
          65,
          66,
          67,
          68,
          69
         ],
         "y": [
          0.0008713818192481995,
          0.0007633084654808045,
          0.0006846047639846802,
          0.0006714975237846375,
          0.0006261115670204162,
          0.0005933331847190857,
          0.0006197991967201232,
          0.0006088314056396484,
          0.0006185669600963593,
          0.0006034209430217743,
          0.0005954217612743378,
          0.0005843315720558167,
          0.0005856319367885589,
          0.0005780403614044189,
          0.0005900719165802001,
          0.0005871799886226655,
          0.0005756074488162995,
          0.0005474982857704162,
          0.0005547146499156951,
          0.0005589069128036499,
          0.0005784836113452911,
          0.0005622600018978119,
          0.0005559042394161224,
          0.0005697880387306214,
          0.0005640705227851867,
          0.000573802500963211,
          0.0005610296130180359,
          0.0005573926866054535,
          0.0005661458373069764,
          0.00055026113986969,
          0.0005581852793693543,
          0.0005521229803562164,
          0.0005422963201999664,
          0.0005540775656700135,
          0.00054506054520607,
          0.0005543516576290131,
          0.0005440148711204529,
          0.0005423586666584015,
          0.0005564726889133453,
          0.0005400795042514801,
          0.0005441067814826965,
          0.0005464319884777069,
          0.0005522757470607757,
          0.0005452636778354644,
          0.0005473624467849732,
          0.0005631217062473297,
          0.0005552923381328583,
          0.0005562953650951385,
          0.0005425471365451813,
          0.0005582033097743988,
          0.0005501605272293091,
          0.0005740961730480194,
          0.0005321871638298035,
          0.0005367629826068878,
          0.000552202045917511,
          0.0005383227467536927,
          0.0005456661283969879,
          0.0005628303587436676,
          0.0005494455099105835,
          0.0005454136729240417,
          0.000557348757982254,
          0.0005554990768432617,
          0.0005423842668533325,
          0.0005505953133106232,
          0.0005449202060699463,
          0.0005501156747341156,
          0.0005498908758163453,
          0.0005474070608615876,
          0.0005404035449028015,
          0.0005509268343448639
         ]
        },
        {
         "marker": {
          "maxdisplayed": 10
         },
         "mode": "lines+markers",
         "name": "Trial76",
         "type": "scatter",
         "x": [
          0
         ],
         "y": [
          0.00536807581782341
         ]
        },
        {
         "marker": {
          "maxdisplayed": 10
         },
         "mode": "lines+markers",
         "name": "Trial77",
         "type": "scatter",
         "x": [
          0,
          1,
          2,
          3,
          4,
          5,
          6,
          7,
          8,
          9,
          10,
          11,
          12,
          13,
          14,
          15,
          16,
          17,
          18,
          19,
          20,
          21,
          22,
          23,
          24,
          25,
          26,
          27,
          28,
          29,
          30,
          31,
          32,
          33,
          34,
          35,
          36,
          37,
          38,
          39,
          40,
          41,
          42,
          43,
          44,
          45,
          46,
          47,
          48,
          49,
          50,
          51,
          52,
          53,
          54,
          55,
          56,
          57,
          58,
          59,
          60,
          61,
          62,
          63,
          64,
          65,
          66,
          67,
          68,
          69
         ],
         "y": [
          0.0009569560587406158,
          0.0007567483782768249,
          0.0007091419398784637,
          0.0006646072864532471,
          0.000655740886926651,
          0.000606087327003479,
          0.000580676406621933,
          0.0005927115976810455,
          0.0006058584153652191,
          0.0006222544312477112,
          0.0005999126136302948,
          0.0005922824442386627,
          0.0005642021894454956,
          0.0005922239720821381,
          0.0005825661420822143,
          0.000564082533121109,
          0.0005794496536254883,
          0.000552166610956192,
          0.0005720795691013336,
          0.0005639991164207458,
          0.0005763465762138367,
          0.0005612039864063263,
          0.0005814702212810516,
          0.0005599364936351776,
          0.0005745335817337036,
          0.0005825992524623871,
          0.0005557136237621307,
          0.0005606442987918853,
          0.0005858852565288543,
          0.0005570295155048371,
          0.0005474871397018432,
          0.0005609326958656311,
          0.0005641640424728394,
          0.00054763925075531,
          0.0005674616396427154,
          0.0005583529770374298,
          0.0005562390983104706,
          0.0005595248937606812,
          0.0005548135936260224,
          0.0005596956610679627,
          0.0005636105835437775,
          0.0005529122352600097,
          0.0005613641440868378,
          0.0005660825669765473,
          0.0005541782677173614,
          0.0005442788302898407,
          0.0005634391903877259,
          0.0005649859309196472,
          0.0005541568696498871,
          0.0005562314093112945,
          0.0005590744316577911,
          0.0005540950000286103,
          0.0005618957281112671,
          0.0005705898702144623,
          0.0005479170382022857,
          0.0005611445307731628,
          0.000555744081735611,
          0.0005589118897914887,
          0.0005466599464416504,
          0.0005457181334495544,
          0.0005595695972442627,
          0.0005565880835056305,
          0.000554510235786438,
          0.0005540407001972199,
          0.0005475015342235565,
          0.0005678147673606873,
          0.0005507307648658752,
          0.0005570867955684662,
          0.0005551546216011048,
          0.0005531335473060607
         ]
        },
        {
         "marker": {
          "maxdisplayed": 10
         },
         "mode": "lines+markers",
         "name": "Trial78",
         "type": "scatter",
         "x": [
          0
         ],
         "y": [
          0.0015246765017509461
         ]
        },
        {
         "marker": {
          "maxdisplayed": 10
         },
         "mode": "lines+markers",
         "name": "Trial79",
         "type": "scatter",
         "x": [
          0
         ],
         "y": [
          0.0017477776706218719
         ]
        }
       ],
       "layout": {
        "showlegend": false,
        "template": {
         "data": {
          "bar": [
           {
            "error_x": {
             "color": "#2a3f5f"
            },
            "error_y": {
             "color": "#2a3f5f"
            },
            "marker": {
             "line": {
              "color": "#E5ECF6",
              "width": 0.5
             },
             "pattern": {
              "fillmode": "overlay",
              "size": 10,
              "solidity": 0.2
             }
            },
            "type": "bar"
           }
          ],
          "barpolar": [
           {
            "marker": {
             "line": {
              "color": "#E5ECF6",
              "width": 0.5
             },
             "pattern": {
              "fillmode": "overlay",
              "size": 10,
              "solidity": 0.2
             }
            },
            "type": "barpolar"
           }
          ],
          "carpet": [
           {
            "aaxis": {
             "endlinecolor": "#2a3f5f",
             "gridcolor": "white",
             "linecolor": "white",
             "minorgridcolor": "white",
             "startlinecolor": "#2a3f5f"
            },
            "baxis": {
             "endlinecolor": "#2a3f5f",
             "gridcolor": "white",
             "linecolor": "white",
             "minorgridcolor": "white",
             "startlinecolor": "#2a3f5f"
            },
            "type": "carpet"
           }
          ],
          "choropleth": [
           {
            "colorbar": {
             "outlinewidth": 0,
             "ticks": ""
            },
            "type": "choropleth"
           }
          ],
          "contour": [
           {
            "colorbar": {
             "outlinewidth": 0,
             "ticks": ""
            },
            "colorscale": [
             [
              0,
              "#0d0887"
             ],
             [
              0.1111111111111111,
              "#46039f"
             ],
             [
              0.2222222222222222,
              "#7201a8"
             ],
             [
              0.3333333333333333,
              "#9c179e"
             ],
             [
              0.4444444444444444,
              "#bd3786"
             ],
             [
              0.5555555555555556,
              "#d8576b"
             ],
             [
              0.6666666666666666,
              "#ed7953"
             ],
             [
              0.7777777777777778,
              "#fb9f3a"
             ],
             [
              0.8888888888888888,
              "#fdca26"
             ],
             [
              1,
              "#f0f921"
             ]
            ],
            "type": "contour"
           }
          ],
          "contourcarpet": [
           {
            "colorbar": {
             "outlinewidth": 0,
             "ticks": ""
            },
            "type": "contourcarpet"
           }
          ],
          "heatmap": [
           {
            "colorbar": {
             "outlinewidth": 0,
             "ticks": ""
            },
            "colorscale": [
             [
              0,
              "#0d0887"
             ],
             [
              0.1111111111111111,
              "#46039f"
             ],
             [
              0.2222222222222222,
              "#7201a8"
             ],
             [
              0.3333333333333333,
              "#9c179e"
             ],
             [
              0.4444444444444444,
              "#bd3786"
             ],
             [
              0.5555555555555556,
              "#d8576b"
             ],
             [
              0.6666666666666666,
              "#ed7953"
             ],
             [
              0.7777777777777778,
              "#fb9f3a"
             ],
             [
              0.8888888888888888,
              "#fdca26"
             ],
             [
              1,
              "#f0f921"
             ]
            ],
            "type": "heatmap"
           }
          ],
          "heatmapgl": [
           {
            "colorbar": {
             "outlinewidth": 0,
             "ticks": ""
            },
            "colorscale": [
             [
              0,
              "#0d0887"
             ],
             [
              0.1111111111111111,
              "#46039f"
             ],
             [
              0.2222222222222222,
              "#7201a8"
             ],
             [
              0.3333333333333333,
              "#9c179e"
             ],
             [
              0.4444444444444444,
              "#bd3786"
             ],
             [
              0.5555555555555556,
              "#d8576b"
             ],
             [
              0.6666666666666666,
              "#ed7953"
             ],
             [
              0.7777777777777778,
              "#fb9f3a"
             ],
             [
              0.8888888888888888,
              "#fdca26"
             ],
             [
              1,
              "#f0f921"
             ]
            ],
            "type": "heatmapgl"
           }
          ],
          "histogram": [
           {
            "marker": {
             "pattern": {
              "fillmode": "overlay",
              "size": 10,
              "solidity": 0.2
             }
            },
            "type": "histogram"
           }
          ],
          "histogram2d": [
           {
            "colorbar": {
             "outlinewidth": 0,
             "ticks": ""
            },
            "colorscale": [
             [
              0,
              "#0d0887"
             ],
             [
              0.1111111111111111,
              "#46039f"
             ],
             [
              0.2222222222222222,
              "#7201a8"
             ],
             [
              0.3333333333333333,
              "#9c179e"
             ],
             [
              0.4444444444444444,
              "#bd3786"
             ],
             [
              0.5555555555555556,
              "#d8576b"
             ],
             [
              0.6666666666666666,
              "#ed7953"
             ],
             [
              0.7777777777777778,
              "#fb9f3a"
             ],
             [
              0.8888888888888888,
              "#fdca26"
             ],
             [
              1,
              "#f0f921"
             ]
            ],
            "type": "histogram2d"
           }
          ],
          "histogram2dcontour": [
           {
            "colorbar": {
             "outlinewidth": 0,
             "ticks": ""
            },
            "colorscale": [
             [
              0,
              "#0d0887"
             ],
             [
              0.1111111111111111,
              "#46039f"
             ],
             [
              0.2222222222222222,
              "#7201a8"
             ],
             [
              0.3333333333333333,
              "#9c179e"
             ],
             [
              0.4444444444444444,
              "#bd3786"
             ],
             [
              0.5555555555555556,
              "#d8576b"
             ],
             [
              0.6666666666666666,
              "#ed7953"
             ],
             [
              0.7777777777777778,
              "#fb9f3a"
             ],
             [
              0.8888888888888888,
              "#fdca26"
             ],
             [
              1,
              "#f0f921"
             ]
            ],
            "type": "histogram2dcontour"
           }
          ],
          "mesh3d": [
           {
            "colorbar": {
             "outlinewidth": 0,
             "ticks": ""
            },
            "type": "mesh3d"
           }
          ],
          "parcoords": [
           {
            "line": {
             "colorbar": {
              "outlinewidth": 0,
              "ticks": ""
             }
            },
            "type": "parcoords"
           }
          ],
          "pie": [
           {
            "automargin": true,
            "type": "pie"
           }
          ],
          "scatter": [
           {
            "marker": {
             "colorbar": {
              "outlinewidth": 0,
              "ticks": ""
             }
            },
            "type": "scatter"
           }
          ],
          "scatter3d": [
           {
            "line": {
             "colorbar": {
              "outlinewidth": 0,
              "ticks": ""
             }
            },
            "marker": {
             "colorbar": {
              "outlinewidth": 0,
              "ticks": ""
             }
            },
            "type": "scatter3d"
           }
          ],
          "scattercarpet": [
           {
            "marker": {
             "colorbar": {
              "outlinewidth": 0,
              "ticks": ""
             }
            },
            "type": "scattercarpet"
           }
          ],
          "scattergeo": [
           {
            "marker": {
             "colorbar": {
              "outlinewidth": 0,
              "ticks": ""
             }
            },
            "type": "scattergeo"
           }
          ],
          "scattergl": [
           {
            "marker": {
             "colorbar": {
              "outlinewidth": 0,
              "ticks": ""
             }
            },
            "type": "scattergl"
           }
          ],
          "scattermapbox": [
           {
            "marker": {
             "colorbar": {
              "outlinewidth": 0,
              "ticks": ""
             }
            },
            "type": "scattermapbox"
           }
          ],
          "scatterpolar": [
           {
            "marker": {
             "colorbar": {
              "outlinewidth": 0,
              "ticks": ""
             }
            },
            "type": "scatterpolar"
           }
          ],
          "scatterpolargl": [
           {
            "marker": {
             "colorbar": {
              "outlinewidth": 0,
              "ticks": ""
             }
            },
            "type": "scatterpolargl"
           }
          ],
          "scatterternary": [
           {
            "marker": {
             "colorbar": {
              "outlinewidth": 0,
              "ticks": ""
             }
            },
            "type": "scatterternary"
           }
          ],
          "surface": [
           {
            "colorbar": {
             "outlinewidth": 0,
             "ticks": ""
            },
            "colorscale": [
             [
              0,
              "#0d0887"
             ],
             [
              0.1111111111111111,
              "#46039f"
             ],
             [
              0.2222222222222222,
              "#7201a8"
             ],
             [
              0.3333333333333333,
              "#9c179e"
             ],
             [
              0.4444444444444444,
              "#bd3786"
             ],
             [
              0.5555555555555556,
              "#d8576b"
             ],
             [
              0.6666666666666666,
              "#ed7953"
             ],
             [
              0.7777777777777778,
              "#fb9f3a"
             ],
             [
              0.8888888888888888,
              "#fdca26"
             ],
             [
              1,
              "#f0f921"
             ]
            ],
            "type": "surface"
           }
          ],
          "table": [
           {
            "cells": {
             "fill": {
              "color": "#EBF0F8"
             },
             "line": {
              "color": "white"
             }
            },
            "header": {
             "fill": {
              "color": "#C8D4E3"
             },
             "line": {
              "color": "white"
             }
            },
            "type": "table"
           }
          ]
         },
         "layout": {
          "annotationdefaults": {
           "arrowcolor": "#2a3f5f",
           "arrowhead": 0,
           "arrowwidth": 1
          },
          "autotypenumbers": "strict",
          "coloraxis": {
           "colorbar": {
            "outlinewidth": 0,
            "ticks": ""
           }
          },
          "colorscale": {
           "diverging": [
            [
             0,
             "#8e0152"
            ],
            [
             0.1,
             "#c51b7d"
            ],
            [
             0.2,
             "#de77ae"
            ],
            [
             0.3,
             "#f1b6da"
            ],
            [
             0.4,
             "#fde0ef"
            ],
            [
             0.5,
             "#f7f7f7"
            ],
            [
             0.6,
             "#e6f5d0"
            ],
            [
             0.7,
             "#b8e186"
            ],
            [
             0.8,
             "#7fbc41"
            ],
            [
             0.9,
             "#4d9221"
            ],
            [
             1,
             "#276419"
            ]
           ],
           "sequential": [
            [
             0,
             "#0d0887"
            ],
            [
             0.1111111111111111,
             "#46039f"
            ],
            [
             0.2222222222222222,
             "#7201a8"
            ],
            [
             0.3333333333333333,
             "#9c179e"
            ],
            [
             0.4444444444444444,
             "#bd3786"
            ],
            [
             0.5555555555555556,
             "#d8576b"
            ],
            [
             0.6666666666666666,
             "#ed7953"
            ],
            [
             0.7777777777777778,
             "#fb9f3a"
            ],
            [
             0.8888888888888888,
             "#fdca26"
            ],
            [
             1,
             "#f0f921"
            ]
           ],
           "sequentialminus": [
            [
             0,
             "#0d0887"
            ],
            [
             0.1111111111111111,
             "#46039f"
            ],
            [
             0.2222222222222222,
             "#7201a8"
            ],
            [
             0.3333333333333333,
             "#9c179e"
            ],
            [
             0.4444444444444444,
             "#bd3786"
            ],
            [
             0.5555555555555556,
             "#d8576b"
            ],
            [
             0.6666666666666666,
             "#ed7953"
            ],
            [
             0.7777777777777778,
             "#fb9f3a"
            ],
            [
             0.8888888888888888,
             "#fdca26"
            ],
            [
             1,
             "#f0f921"
            ]
           ]
          },
          "colorway": [
           "#636efa",
           "#EF553B",
           "#00cc96",
           "#ab63fa",
           "#FFA15A",
           "#19d3f3",
           "#FF6692",
           "#B6E880",
           "#FF97FF",
           "#FECB52"
          ],
          "font": {
           "color": "#2a3f5f"
          },
          "geo": {
           "bgcolor": "white",
           "lakecolor": "white",
           "landcolor": "#E5ECF6",
           "showlakes": true,
           "showland": true,
           "subunitcolor": "white"
          },
          "hoverlabel": {
           "align": "left"
          },
          "hovermode": "closest",
          "mapbox": {
           "style": "light"
          },
          "paper_bgcolor": "white",
          "plot_bgcolor": "#E5ECF6",
          "polar": {
           "angularaxis": {
            "gridcolor": "white",
            "linecolor": "white",
            "ticks": ""
           },
           "bgcolor": "#E5ECF6",
           "radialaxis": {
            "gridcolor": "white",
            "linecolor": "white",
            "ticks": ""
           }
          },
          "scene": {
           "xaxis": {
            "backgroundcolor": "#E5ECF6",
            "gridcolor": "white",
            "gridwidth": 2,
            "linecolor": "white",
            "showbackground": true,
            "ticks": "",
            "zerolinecolor": "white"
           },
           "yaxis": {
            "backgroundcolor": "#E5ECF6",
            "gridcolor": "white",
            "gridwidth": 2,
            "linecolor": "white",
            "showbackground": true,
            "ticks": "",
            "zerolinecolor": "white"
           },
           "zaxis": {
            "backgroundcolor": "#E5ECF6",
            "gridcolor": "white",
            "gridwidth": 2,
            "linecolor": "white",
            "showbackground": true,
            "ticks": "",
            "zerolinecolor": "white"
           }
          },
          "shapedefaults": {
           "line": {
            "color": "#2a3f5f"
           }
          },
          "ternary": {
           "aaxis": {
            "gridcolor": "white",
            "linecolor": "white",
            "ticks": ""
           },
           "baxis": {
            "gridcolor": "white",
            "linecolor": "white",
            "ticks": ""
           },
           "bgcolor": "#E5ECF6",
           "caxis": {
            "gridcolor": "white",
            "linecolor": "white",
            "ticks": ""
           }
          },
          "title": {
           "x": 0.05
          },
          "xaxis": {
           "automargin": true,
           "gridcolor": "white",
           "linecolor": "white",
           "ticks": "",
           "title": {
            "standoff": 15
           },
           "zerolinecolor": "white",
           "zerolinewidth": 2
          },
          "yaxis": {
           "automargin": true,
           "gridcolor": "white",
           "linecolor": "white",
           "ticks": "",
           "title": {
            "standoff": 15
           },
           "zerolinecolor": "white",
           "zerolinewidth": 2
          }
         }
        },
        "title": {
         "text": "Intermediate Values Plot"
        },
        "xaxis": {
         "title": {
          "text": "Step"
         }
        },
        "yaxis": {
         "title": {
          "text": "Intermediate Value"
         }
        }
       }
      }
     },
     "metadata": {},
     "output_type": "display_data"
    }
   ],
   "source": [
    "optuna.visualization.plot_intermediate_values(study)"
   ]
  },
  {
   "cell_type": "code",
   "execution_count": 204,
   "metadata": {},
   "outputs": [
    {
     "name": "stdout",
     "output_type": "stream",
     "text": [
      "0.0005564707517623902\n"
     ]
    }
   ],
   "source": [
    "n_layers = study.best_trial.params[\"n_layers\"]\n",
    "layers = []\n",
    "\n",
    "in_features = X_train.shape[1]\n",
    "\n",
    "out_features = study.best_trial.params[\"n_units_l-1\"]\n",
    "\n",
    "dropout_1 = study.best_trial.params['dropout1']\n",
    "dropout_2 = study.best_trial.params['dropout2']\n",
    "\n",
    "layers.append(nn.Linear(in_features, out_features))\n",
    "\n",
    "in_features = out_features\n",
    "\n",
    "for i in range(n_layers):\n",
    "    out_features = study.best_trial.params[\"n_units_l{}\".format(i)]\n",
    "    \n",
    "    layers.append(Block(in_features, out_features, dropout_1, dropout_2, i != n_layers - 1))\n",
    "    in_features = out_features\n",
    "    \n",
    "layers.append(nn.Linear(in_features, 1))\n",
    "layers.append(nn.ReLU())\n",
    "\n",
    "model = nn.Sequential(*layers)\n",
    "\n",
    "\n",
    "rmse = train_and_evaluate(study.best_trial.params, model)\n",
    "\n",
    "train, val = Dataset(X_train, y_train), Dataset(X_test, y_test)\n",
    "\n",
    "val_dataloader = torch.utils.data.DataLoader(val, batch_size=study.best_trial.params['batch_size'])\n",
    "\n",
    "use_cuda = torch.cuda.is_available()\n",
    "device = torch.device(\"cuda\" if use_cuda else \"cpu\")\n",
    "\n",
    "result = []\n",
    "\n",
    "total_rmse_val = 0\n",
    "\n",
    "for val_input, val_label in val_dataloader:\n",
    "\n",
    "    val_label = val_label.to(device)\n",
    "    val_input = val_input.to(device)\n",
    "\n",
    "    output = model(val_input.float())\n",
    "\n",
    "    result.append(output.cpu().detach().numpy())\n",
    "\n",
    "    rmse =  mean_squared_error(val_label.cpu(), output.cpu().detach().numpy(), squared=False)\n",
    "    total_rmse_val += rmse\n",
    "\n",
    "rmse = total_rmse_val/len(y_test)\n",
    "\n",
    "print(rmse)\n",
    "\n",
    "y_res = np.concatenate(result)"
   ]
  },
  {
   "cell_type": "code",
   "execution_count": 205,
   "metadata": {},
   "outputs": [],
   "source": [
    "y_res_denormalized = scaler_y.inverse_transform(y_res)\n",
    "y_test_denormalized = scaler_y.inverse_transform(y_test.detach().numpy())"
   ]
  },
  {
   "cell_type": "code",
   "execution_count": 206,
   "metadata": {},
   "outputs": [
    {
     "data": {
      "text/plain": [
       "132.00104"
      ]
     },
     "execution_count": 206,
     "metadata": {},
     "output_type": "execute_result"
    }
   ],
   "source": [
    "mean_squared_error(y_res_denormalized, y_test_denormalized, squared=False)"
   ]
  },
  {
   "cell_type": "code",
   "execution_count": null,
   "metadata": {},
   "outputs": [],
   "source": []
  }
 ],
 "metadata": {
  "kernelspec": {
   "display_name": "Python 3",
   "language": "python",
   "name": "python3"
  },
  "language_info": {
   "codemirror_mode": {
    "name": "ipython",
    "version": 3
   },
   "file_extension": ".py",
   "mimetype": "text/x-python",
   "name": "python",
   "nbconvert_exporter": "python",
   "pygments_lexer": "ipython3",
   "version": "3.9.10"
  },
  "orig_nbformat": 4
 },
 "nbformat": 4,
 "nbformat_minor": 2
}
